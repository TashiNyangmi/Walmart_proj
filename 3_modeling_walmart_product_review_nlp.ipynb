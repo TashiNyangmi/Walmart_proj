{
 "cells": [
  {
   "cell_type": "markdown",
   "metadata": {},
   "source": [
    "# <u>Walmart Product Review Analysis <u/>"
   ]
  },
  {
   "cell_type": "markdown",
   "metadata": {},
   "source": [
    "### Goal\n",
    "This analysis will look at Walmart clothing reviews to find key features that predict whether a customer will recommend an item or not. This investigation will be conducted using [Natural Language Processing](https://en.wikipedia.org/wiki/Natural_language_processing) packages and libraries. The features that guide the predictions can then used to guide Walmart's online and/or in-store marketing/product campaigns. \n",
    "### Notebook\n",
    "Notebook ```2_walmart_product_review_nlp``` has cleaned the text and generated additional features. This notebook is for modeling determine the validity of the dataset and potentially extract features to explain why items are recommended or not recommended. "
   ]
  },
  {
   "cell_type": "code",
   "execution_count": 1,
   "metadata": {},
   "outputs": [],
   "source": [
    "# Data Cleaning and analysis packages\n",
    "import pandas as pd\n",
    "import numpy as np\n",
    "\n",
    "\n",
    "# NLP packages\n",
    "import gensim\n",
    "from nltk.corpus import stopwords\n",
    "from sklearn.feature_extraction.text import TfidfVectorizer \n",
    "from sklearn.feature_extraction.text import CountVectorizer\n",
    "\n",
    "# Sats and Modeling packages\n",
    "from sklearn import metrics\n",
    "from scipy import stats\n",
    "from sklearn.metrics import accuracy_score, classification_report, f1_score\n",
    "from sklearn.metrics import plot_confusion_matrix, confusion_matrix, roc_curve\n",
    "from sklearn.model_selection import train_test_split, GridSearchCV\n",
    "from sklearn.naive_bayes import BernoulliNB\n",
    "from sklearn.ensemble import RandomForestClassifier, VotingClassifier\n",
    "from sklearn.linear_model import LogisticRegression\n",
    "\n",
    "\n",
    "# Visualization packages\n",
    "from wordcloud import WordCloud\n",
    "import seaborn as sns\n",
    "import matplotlib.pyplot as plt\n",
    "%matplotlib inline\n",
    "sns.set(style=\"dark\")\n",
    "sns.set(style=\"whitegrid\", color_codes=True)\n",
    "\n",
    "import pickle\n",
    "import warnings\n",
    "warnings.filterwarnings(\"ignore\") \n",
    "\n",
    "\n",
    "pd.set_option('display.max_columns', 300)\n",
    "pd.set_option('display.max_rows', 200)"
   ]
  },
  {
   "cell_type": "code",
   "execution_count": 2,
   "metadata": {},
   "outputs": [],
   "source": [
    "filename = \"data/modeling_df.pkl\""
   ]
  },
  {
   "cell_type": "code",
   "execution_count": 3,
   "metadata": {},
   "outputs": [],
   "source": [
    "infile = open(filename,\"rb\")\n",
    "df = pickle.load(infile)\n",
    "infile.close()"
   ]
  },
  {
   "cell_type": "code",
   "execution_count": 4,
   "metadata": {},
   "outputs": [
    {
     "data": {
      "text/html": [
       "<div>\n",
       "<style scoped>\n",
       "    .dataframe tbody tr th:only-of-type {\n",
       "        vertical-align: middle;\n",
       "    }\n",
       "\n",
       "    .dataframe tbody tr th {\n",
       "        vertical-align: top;\n",
       "    }\n",
       "\n",
       "    .dataframe thead th {\n",
       "        text-align: right;\n",
       "    }\n",
       "</style>\n",
       "<table border=\"1\" class=\"dataframe\">\n",
       "  <thead>\n",
       "    <tr style=\"text-align: right;\">\n",
       "      <th></th>\n",
       "      <th>item_name</th>\n",
       "      <th>price</th>\n",
       "      <th>overall_rating</th>\n",
       "      <th>num_rating</th>\n",
       "      <th>recommend</th>\n",
       "      <th>rev_title</th>\n",
       "      <th>review_text</th>\n",
       "      <th>section</th>\n",
       "      <th>target</th>\n",
       "      <th>rating_bin</th>\n",
       "      <th>clean_rev_title</th>\n",
       "      <th>clean_review_text</th>\n",
       "      <th>tokenized</th>\n",
       "      <th>rem_stop</th>\n",
       "      <th>lemma_words</th>\n",
       "      <th>delisted</th>\n",
       "      <th>girls'</th>\n",
       "      <th>men's</th>\n",
       "      <th>women's</th>\n",
       "      <th>topic0</th>\n",
       "      <th>topic1</th>\n",
       "      <th>topic2</th>\n",
       "      <th>topic3</th>\n",
       "      <th>topic4</th>\n",
       "      <th>topic5</th>\n",
       "      <th>topic6</th>\n",
       "      <th>topic7</th>\n",
       "      <th>topic8</th>\n",
       "      <th>topic9</th>\n",
       "    </tr>\n",
       "  </thead>\n",
       "  <tbody>\n",
       "    <tr>\n",
       "      <th>0</th>\n",
       "      <td>Wrangler Men's Unlined Shirt Jacket</td>\n",
       "      <td>12.0</td>\n",
       "      <td>4.0</td>\n",
       "      <td>7.0</td>\n",
       "      <td>80.0</td>\n",
       "      <td>['Texas winter ready!']</td>\n",
       "      <td>['I bought this last year and am going to buy ...</td>\n",
       "      <td>men's clothing</td>\n",
       "      <td>0</td>\n",
       "      <td>1</td>\n",
       "      <td>texas winter ready</td>\n",
       "      <td>i bought this last year and am going to buy an...</td>\n",
       "      <td>[i, bought, this, last, year, and, am, going, ...</td>\n",
       "      <td>[bought, last, year, going, buy, another, frid...</td>\n",
       "      <td>[bought, last, year, going, buy, another, frid...</td>\n",
       "      <td>bought, last, year, going, buy, another, frida...</td>\n",
       "      <td>0.0</td>\n",
       "      <td>1.0</td>\n",
       "      <td>0.0</td>\n",
       "      <td>0.011115</td>\n",
       "      <td>0.011115</td>\n",
       "      <td>0.011115</td>\n",
       "      <td>0.122070</td>\n",
       "      <td>0.011115</td>\n",
       "      <td>0.011115</td>\n",
       "      <td>0.789009</td>\n",
       "      <td>0.011115</td>\n",
       "      <td>0.011115</td>\n",
       "      <td>0.011115</td>\n",
       "    </tr>\n",
       "    <tr>\n",
       "      <th>1</th>\n",
       "      <td>Wrangler Men's Relaxed Fit Jeans</td>\n",
       "      <td>12.0</td>\n",
       "      <td>4.5</td>\n",
       "      <td>5840.0</td>\n",
       "      <td>90.0</td>\n",
       "      <td>['Wrangler is the best.', 'My Favorite Jeans',...</td>\n",
       "      <td>['I like wrangler, the pants is exactly for my...</td>\n",
       "      <td>men's clothing</td>\n",
       "      <td>1</td>\n",
       "      <td>1</td>\n",
       "      <td>wrangler is the best my favorite jeans extreme...</td>\n",
       "      <td>i like wrangler the pants is exactly for my bo...</td>\n",
       "      <td>[i, like, wrangler, the, pants, is, exactly, f...</td>\n",
       "      <td>[like, wrangler, pants, exactly, body, also, g...</td>\n",
       "      <td>[like, wrangler, pant, exactly, body, also, go...</td>\n",
       "      <td>like, wrangler, pant, exactly, body, also, goo...</td>\n",
       "      <td>0.0</td>\n",
       "      <td>1.0</td>\n",
       "      <td>0.0</td>\n",
       "      <td>0.000000</td>\n",
       "      <td>0.000000</td>\n",
       "      <td>0.000000</td>\n",
       "      <td>0.010731</td>\n",
       "      <td>0.000000</td>\n",
       "      <td>0.000000</td>\n",
       "      <td>0.987497</td>\n",
       "      <td>0.000000</td>\n",
       "      <td>0.000000</td>\n",
       "      <td>0.000000</td>\n",
       "    </tr>\n",
       "  </tbody>\n",
       "</table>\n",
       "</div>"
      ],
      "text/plain": [
       "                             item_name  price  overall_rating  num_rating  \\\n",
       "0  Wrangler Men's Unlined Shirt Jacket   12.0             4.0         7.0   \n",
       "1     Wrangler Men's Relaxed Fit Jeans   12.0             4.5      5840.0   \n",
       "\n",
       "   recommend                                          rev_title  \\\n",
       "0       80.0                            ['Texas winter ready!']   \n",
       "1       90.0  ['Wrangler is the best.', 'My Favorite Jeans',...   \n",
       "\n",
       "                                         review_text         section  target  \\\n",
       "0  ['I bought this last year and am going to buy ...  men's clothing       0   \n",
       "1  ['I like wrangler, the pants is exactly for my...  men's clothing       1   \n",
       "\n",
       "   rating_bin                                    clean_rev_title  \\\n",
       "0           1                                 texas winter ready   \n",
       "1           1  wrangler is the best my favorite jeans extreme...   \n",
       "\n",
       "                                   clean_review_text  \\\n",
       "0  i bought this last year and am going to buy an...   \n",
       "1  i like wrangler the pants is exactly for my bo...   \n",
       "\n",
       "                                           tokenized  \\\n",
       "0  [i, bought, this, last, year, and, am, going, ...   \n",
       "1  [i, like, wrangler, the, pants, is, exactly, f...   \n",
       "\n",
       "                                            rem_stop  \\\n",
       "0  [bought, last, year, going, buy, another, frid...   \n",
       "1  [like, wrangler, pants, exactly, body, also, g...   \n",
       "\n",
       "                                         lemma_words  \\\n",
       "0  [bought, last, year, going, buy, another, frid...   \n",
       "1  [like, wrangler, pant, exactly, body, also, go...   \n",
       "\n",
       "                                            delisted  girls'  men's  women's  \\\n",
       "0  bought, last, year, going, buy, another, frida...     0.0    1.0      0.0   \n",
       "1  like, wrangler, pant, exactly, body, also, goo...     0.0    1.0      0.0   \n",
       "\n",
       "     topic0    topic1    topic2    topic3    topic4    topic5    topic6  \\\n",
       "0  0.011115  0.011115  0.011115  0.122070  0.011115  0.011115  0.789009   \n",
       "1  0.000000  0.000000  0.000000  0.010731  0.000000  0.000000  0.987497   \n",
       "\n",
       "     topic7    topic8    topic9  \n",
       "0  0.011115  0.011115  0.011115  \n",
       "1  0.000000  0.000000  0.000000  "
      ]
     },
     "execution_count": 4,
     "metadata": {},
     "output_type": "execute_result"
    }
   ],
   "source": [
    "# confirming dataframe is not corrupted\n",
    "df.head(2)"
   ]
  },
  {
   "cell_type": "code",
   "execution_count": 5,
   "metadata": {},
   "outputs": [
    {
     "data": {
      "text/plain": [
       "item_name            0\n",
       "price                0\n",
       "overall_rating       0\n",
       "num_rating           0\n",
       "recommend            0\n",
       "rev_title            0\n",
       "review_text          0\n",
       "section              0\n",
       "target               0\n",
       "rating_bin           0\n",
       "clean_rev_title      0\n",
       "clean_review_text    0\n",
       "tokenized            0\n",
       "rem_stop             0\n",
       "lemma_words          0\n",
       "delisted             0\n",
       "girls'               0\n",
       "men's                0\n",
       "women's              0\n",
       "topic0               0\n",
       "topic1               0\n",
       "topic2               0\n",
       "topic3               0\n",
       "topic4               0\n",
       "topic5               0\n",
       "topic6               0\n",
       "topic7               0\n",
       "topic8               0\n",
       "topic9               0\n",
       "dtype: int64"
      ]
     },
     "execution_count": 5,
     "metadata": {},
     "output_type": "execute_result"
    }
   ],
   "source": [
    "# confirming dataframe has no new null values. \n",
    "df.isna().sum()"
   ]
  },
  {
   "cell_type": "markdown",
   "metadata": {},
   "source": [
    "# Train Test Split\n"
   ]
  },
  {
   "cell_type": "code",
   "execution_count": 6,
   "metadata": {},
   "outputs": [],
   "source": [
    "drop_features = [\"item_name\", \"overall_rating\", \"rating_bin\", \"recommend\", \"rev_title\", \"clean_rev_title\", \n",
    "                 \"clean_review_text\", \"review_text\", \"section\", \"tokenized\", \"rem_stop\", \"lemma_words\", \n",
    "                 \"target\"]"
   ]
  },
  {
   "cell_type": "code",
   "execution_count": 7,
   "metadata": {},
   "outputs": [],
   "source": [
    "X = df.drop(columns = drop_features)\n",
    "y = df[\"target\"].values"
   ]
  },
  {
   "cell_type": "code",
   "execution_count": 8,
   "metadata": {},
   "outputs": [],
   "source": [
    "X_train, X_test, y_train, y_test = train_test_split(X, y, test_size=0.2, random_state=0)"
   ]
  },
  {
   "cell_type": "code",
   "execution_count": 9,
   "metadata": {},
   "outputs": [
    {
     "name": "stdout",
     "output_type": "stream",
     "text": [
      "(919, 16) (919,) (230, 16) (230,)\n"
     ]
    }
   ],
   "source": [
    "print(X_train.shape, y_train.shape, X_test.shape, y_test.shape)"
   ]
  },
  {
   "cell_type": "markdown",
   "metadata": {},
   "source": [
    "# Stopwords"
   ]
  },
  {
   "cell_type": "code",
   "execution_count": 10,
   "metadata": {},
   "outputs": [],
   "source": [
    "# Extracted the stopwords from my preprocessing notebook to be used for the TfidfVectorizer\n",
    "eda_stopwords = [\"nd\", \"de\", \"u\", \"la\", \"tbw\", \"c\", \"v\", \"great\", \"n\", \"wal\", \"wow\",\"hi\", \"hello\", \"nmbc\", \"youll\", \"must\", \"said\", \"either\", \"lol\", 'ill', \"six\", \"goat\", \"thou\", \"un\", \"lb\", \"pair\", \"right\", \"x\", \"xl\", \"one\", \"way\", \"definitely\", \"shirt\", \"jacket\", \"daughter\", \"son\" ]\n",
    "\n",
    "stop_words=list(set(stopwords.words(\"english\")))\n",
    "\n",
    "stop_words.extend(eda_stopwords)"
   ]
  },
  {
   "cell_type": "markdown",
   "metadata": {},
   "source": [
    "# CountVectorizer"
   ]
  },
  {
   "cell_type": "markdown",
   "metadata": {},
   "source": [
    "I ran a CountVectorizer to experiment and TFIDF performed better. However, if you would like to try, you can uncomment the cell below and run it. But please comment out the TfidfVectorizer cell. "
   ]
  },
  {
   "cell_type": "code",
   "execution_count": 15,
   "metadata": {},
   "outputs": [],
   "source": [
    "# # CountVec\n",
    "# countvec = CountVectorizer(stop_words = stop_words, analyzer=\"word\", ngram_range=(1,2), max_features=5000)\n",
    "# train_vec = countvec.fit_transform(X_train.delisted.values).toarray()\n",
    "# test_vec = countvec.fit_transform(X_test.delisted.values).toarray()\n",
    "\n",
    "\n",
    "# count_train = pd.DataFrame(train_vec, columns = countvec.get_feature_names())\n",
    "# count_test = pd.DataFrame(test_vec, columns = countvec.get_feature_names())\n",
    "\n",
    "# print(f\"X train shape: {X_train.shape}, Count train shape: {count_train.shape}\") \n",
    "# print(\"-\"*20)\n",
    "# print(f\"X test shape: {X_test.shape}, Count test shape: {count_test.shape}\")\n",
    "\n",
    "# # resetting index to concatenate with tfidf. Resetting index will not affect the dataset. \n",
    "# X_train.reset_index(drop=True, inplace=True)\n",
    "# X_test.reset_index(drop=True, inplace=True)\n",
    "\n",
    "# frame1 = [X_train, count_train]\n",
    "# frame2 = [X_test, count_test]\n",
    "\n",
    "# X_train = pd.concat(frame1, axis=1)\n",
    "# X_test = pd.concat(frame2, axis=1)"
   ]
  },
  {
   "cell_type": "markdown",
   "metadata": {},
   "source": [
    "# TfidfVectorizer"
   ]
  },
  {
   "cell_type": "markdown",
   "metadata": {},
   "source": [
    "The reason for doing TfidfVectorizer after Train-Test Split is to prevent data leakage. "
   ]
  },
  {
   "cell_type": "code",
   "execution_count": 20,
   "metadata": {},
   "outputs": [
    {
     "data": {
      "text/html": [
       "<div>\n",
       "<style scoped>\n",
       "    .dataframe tbody tr th:only-of-type {\n",
       "        vertical-align: middle;\n",
       "    }\n",
       "\n",
       "    .dataframe tbody tr th {\n",
       "        vertical-align: top;\n",
       "    }\n",
       "\n",
       "    .dataframe thead th {\n",
       "        text-align: right;\n",
       "    }\n",
       "</style>\n",
       "<table border=\"1\" class=\"dataframe\">\n",
       "  <thead>\n",
       "    <tr style=\"text-align: right;\">\n",
       "      <th></th>\n",
       "      <th>price</th>\n",
       "      <th>num_rating</th>\n",
       "      <th>delisted</th>\n",
       "      <th>girls'</th>\n",
       "      <th>men's</th>\n",
       "      <th>women's</th>\n",
       "      <th>topic0</th>\n",
       "      <th>topic1</th>\n",
       "      <th>topic2</th>\n",
       "      <th>topic3</th>\n",
       "      <th>topic4</th>\n",
       "      <th>topic5</th>\n",
       "      <th>topic6</th>\n",
       "      <th>topic7</th>\n",
       "      <th>topic8</th>\n",
       "      <th>topic9</th>\n",
       "      <th>able</th>\n",
       "      <th>able wear</th>\n",
       "      <th>absolutely</th>\n",
       "      <th>absolutely adorable</th>\n",
       "      <th>absolutely love</th>\n",
       "      <th>absolutely loved</th>\n",
       "      <th>acceptable</th>\n",
       "      <th>accessory</th>\n",
       "      <th>according</th>\n",
       "      <th>accurate</th>\n",
       "      <th>across</th>\n",
       "      <th>active</th>\n",
       "      <th>activity</th>\n",
       "      <th>actual</th>\n",
       "      <th>actually</th>\n",
       "      <th>actually fit</th>\n",
       "      <th>add</th>\n",
       "      <th>added</th>\n",
       "      <th>addition</th>\n",
       "      <th>adjust</th>\n",
       "      <th>adjustable</th>\n",
       "      <th>adjustable waist</th>\n",
       "      <th>adorable</th>\n",
       "      <th>adult</th>\n",
       "      <th>advertised</th>\n",
       "      <th>affordable</th>\n",
       "      <th>age</th>\n",
       "      <th>ago</th>\n",
       "      <th>air</th>\n",
       "      <th>air dry</th>\n",
       "      <th>allow</th>\n",
       "      <th>almost</th>\n",
       "      <th>almost like</th>\n",
       "      <th>alone</th>\n",
       "      <th>along</th>\n",
       "      <th>already</th>\n",
       "      <th>also</th>\n",
       "      <th>also comfortable</th>\n",
       "      <th>also like</th>\n",
       "      <th>also love</th>\n",
       "      <th>although</th>\n",
       "      <th>always</th>\n",
       "      <th>always fit</th>\n",
       "      <th>amazing</th>\n",
       "      <th>amount</th>\n",
       "      <th>ankle</th>\n",
       "      <th>annoying</th>\n",
       "      <th>another</th>\n",
       "      <th>anymore</th>\n",
       "      <th>anyone</th>\n",
       "      <th>anything</th>\n",
       "      <th>anyway</th>\n",
       "      <th>anywhere</th>\n",
       "      <th>apart</th>\n",
       "      <th>appearance</th>\n",
       "      <th>appears</th>\n",
       "      <th>appreciate</th>\n",
       "      <th>appropriate</th>\n",
       "      <th>area</th>\n",
       "      <th>arm</th>\n",
       "      <th>armpit</th>\n",
       "      <th>around</th>\n",
       "      <th>around ankle</th>\n",
       "      <th>around house</th>\n",
       "      <th>arrived</th>\n",
       "      <th>arrived quickly</th>\n",
       "      <th>athletic</th>\n",
       "      <th>athletic workout</th>\n",
       "      <th>attractive</th>\n",
       "      <th>available</th>\n",
       "      <th>average</th>\n",
       "      <th>away</th>\n",
       "      <th>awesome</th>\n",
       "      <th>awful</th>\n",
       "      <th>awkward</th>\n",
       "      <th>baby</th>\n",
       "      <th>back</th>\n",
       "      <th>back pocket</th>\n",
       "      <th>back school</th>\n",
       "      <th>bad</th>\n",
       "      <th>bag</th>\n",
       "      <th>baggy</th>\n",
       "      <th>ball</th>\n",
       "      <th>band</th>\n",
       "      <th>band size</th>\n",
       "      <th>bar</th>\n",
       "      <th>barely</th>\n",
       "      <th>bargain</th>\n",
       "      <th>based</th>\n",
       "      <th>baselayer</th>\n",
       "      <th>baselayer cool</th>\n",
       "      <th>basic</th>\n",
       "      <th>basically</th>\n",
       "      <th>batch</th>\n",
       "      <th>bathrobe</th>\n",
       "      <th>battery</th>\n",
       "      <th>bc</th>\n",
       "      <th>beat</th>\n",
       "      <th>beat price</th>\n",
       "      <th>beautiful</th>\n",
       "      <th>beautiful color</th>\n",
       "      <th>beautiful dress</th>\n",
       "      <th>beautifully</th>\n",
       "      <th>become</th>\n",
       "      <th>bed</th>\n",
       "      <th>behind</th>\n",
       "      <th>believe</th>\n",
       "      <th>belly</th>\n",
       "      <th>belt</th>\n",
       "      <th>bend</th>\n",
       "      <th>bending</th>\n",
       "      <th>best</th>\n",
       "      <th>best fitting</th>\n",
       "      <th>best part</th>\n",
       "      <th>best thing</th>\n",
       "      <th>better</th>\n",
       "      <th>better expected</th>\n",
       "      <th>better fit</th>\n",
       "      <th>beware</th>\n",
       "      <th>beyond</th>\n",
       "      <th>bib</th>\n",
       "      <th>big</th>\n",
       "      <th>big deal</th>\n",
       "      <th>big enough</th>\n",
       "      <th>big size</th>\n",
       "      <th>big wear</th>\n",
       "      <th>bigger</th>\n",
       "      <th>bigger size</th>\n",
       "      <th>biggest</th>\n",
       "      <th>bikini</th>\n",
       "      <th>bill</th>\n",
       "      <th>birthday</th>\n",
       "      <th>bit</th>\n",
       "      <th>bit big</th>\n",
       "      <th>...</th>\n",
       "      <th>washed well</th>\n",
       "      <th>washed yet</th>\n",
       "      <th>washer</th>\n",
       "      <th>washing</th>\n",
       "      <th>washing machine</th>\n",
       "      <th>waste</th>\n",
       "      <th>waste money</th>\n",
       "      <th>watch</th>\n",
       "      <th>water</th>\n",
       "      <th>water resistant</th>\n",
       "      <th>wear</th>\n",
       "      <th>wear also</th>\n",
       "      <th>wear anything</th>\n",
       "      <th>wear around</th>\n",
       "      <th>wear bra</th>\n",
       "      <th>wear day</th>\n",
       "      <th>wear dress</th>\n",
       "      <th>wear fit</th>\n",
       "      <th>wear get</th>\n",
       "      <th>wear large</th>\n",
       "      <th>wear love</th>\n",
       "      <th>wear medium</th>\n",
       "      <th>wear ordered</th>\n",
       "      <th>wear pant</th>\n",
       "      <th>wear school</th>\n",
       "      <th>wear size</th>\n",
       "      <th>wear skirt</th>\n",
       "      <th>wear wear</th>\n",
       "      <th>wear well</th>\n",
       "      <th>wear work</th>\n",
       "      <th>wear would</th>\n",
       "      <th>wearable</th>\n",
       "      <th>wearing</th>\n",
       "      <th>wearing bra</th>\n",
       "      <th>weather</th>\n",
       "      <th>website</th>\n",
       "      <th>week</th>\n",
       "      <th>weekend</th>\n",
       "      <th>weigh</th>\n",
       "      <th>weight</th>\n",
       "      <th>weight fabric</th>\n",
       "      <th>weird</th>\n",
       "      <th>well</th>\n",
       "      <th>well comfortable</th>\n",
       "      <th>well constructed</th>\n",
       "      <th>well done</th>\n",
       "      <th>well fit</th>\n",
       "      <th>well good</th>\n",
       "      <th>well like</th>\n",
       "      <th>well look</th>\n",
       "      <th>well love</th>\n",
       "      <th>well made</th>\n",
       "      <th>well nice</th>\n",
       "      <th>well worth</th>\n",
       "      <th>went</th>\n",
       "      <th>went back</th>\n",
       "      <th>went size</th>\n",
       "      <th>wet</th>\n",
       "      <th>whatever</th>\n",
       "      <th>white</th>\n",
       "      <th>whole</th>\n",
       "      <th>wide</th>\n",
       "      <th>wider</th>\n",
       "      <th>width</th>\n",
       "      <th>win</th>\n",
       "      <th>wind</th>\n",
       "      <th>winter</th>\n",
       "      <th>winter coat</th>\n",
       "      <th>winter month</th>\n",
       "      <th>wire</th>\n",
       "      <th>wish</th>\n",
       "      <th>wish color</th>\n",
       "      <th>wish could</th>\n",
       "      <th>wish would</th>\n",
       "      <th>within</th>\n",
       "      <th>without</th>\n",
       "      <th>woman</th>\n",
       "      <th>wonder</th>\n",
       "      <th>wonder long</th>\n",
       "      <th>wonder nation</th>\n",
       "      <th>wonderful</th>\n",
       "      <th>wonderfully</th>\n",
       "      <th>wont</th>\n",
       "      <th>word</th>\n",
       "      <th>wore</th>\n",
       "      <th>work</th>\n",
       "      <th>work well</th>\n",
       "      <th>worked</th>\n",
       "      <th>working</th>\n",
       "      <th>workout</th>\n",
       "      <th>workout running</th>\n",
       "      <th>worn</th>\n",
       "      <th>worried</th>\n",
       "      <th>worst</th>\n",
       "      <th>worth</th>\n",
       "      <th>worth money</th>\n",
       "      <th>worth price</th>\n",
       "      <th>would</th>\n",
       "      <th>would buy</th>\n",
       "      <th>would fit</th>\n",
       "      <th>would get</th>\n",
       "      <th>would go</th>\n",
       "      <th>would like</th>\n",
       "      <th>would look</th>\n",
       "      <th>would love</th>\n",
       "      <th>would make</th>\n",
       "      <th>would never</th>\n",
       "      <th>would nice</th>\n",
       "      <th>would order</th>\n",
       "      <th>would probably</th>\n",
       "      <th>would purchase</th>\n",
       "      <th>would recommend</th>\n",
       "      <th>would say</th>\n",
       "      <th>would suggest</th>\n",
       "      <th>would tight</th>\n",
       "      <th>would wear</th>\n",
       "      <th>wouldnt</th>\n",
       "      <th>wrangler</th>\n",
       "      <th>wrangler jean</th>\n",
       "      <th>wrap</th>\n",
       "      <th>wrap around</th>\n",
       "      <th>wrap dress</th>\n",
       "      <th>wrinkle</th>\n",
       "      <th>wrinkled</th>\n",
       "      <th>wrist</th>\n",
       "      <th>write</th>\n",
       "      <th>writing</th>\n",
       "      <th>wrong</th>\n",
       "      <th>wrong size</th>\n",
       "      <th>wrote</th>\n",
       "      <th>xa</th>\n",
       "      <th>xxl</th>\n",
       "      <th>yard</th>\n",
       "      <th>yeah</th>\n",
       "      <th>year</th>\n",
       "      <th>year ago</th>\n",
       "      <th>year always</th>\n",
       "      <th>year love</th>\n",
       "      <th>year old</th>\n",
       "      <th>yellow</th>\n",
       "      <th>yes</th>\n",
       "      <th>yesterday</th>\n",
       "      <th>yet</th>\n",
       "      <th>yo</th>\n",
       "      <th>younger</th>\n",
       "      <th>yr</th>\n",
       "      <th>yr old</th>\n",
       "      <th>zero</th>\n",
       "      <th>zip</th>\n",
       "      <th>zipper</th>\n",
       "    </tr>\n",
       "  </thead>\n",
       "  <tbody>\n",
       "    <tr>\n",
       "      <th>0</th>\n",
       "      <td>11.94</td>\n",
       "      <td>13.0</td>\n",
       "      <td>thick, material, quality, product, great, pric...</td>\n",
       "      <td>1.0</td>\n",
       "      <td>0.0</td>\n",
       "      <td>0.0</td>\n",
       "      <td>0.0</td>\n",
       "      <td>0.0</td>\n",
       "      <td>0.000000</td>\n",
       "      <td>0.0</td>\n",
       "      <td>0.0</td>\n",
       "      <td>0.0</td>\n",
       "      <td>0.976310</td>\n",
       "      <td>0.0</td>\n",
       "      <td>0.0</td>\n",
       "      <td>0.0</td>\n",
       "      <td>0.0</td>\n",
       "      <td>0.0</td>\n",
       "      <td>0.0</td>\n",
       "      <td>0.0</td>\n",
       "      <td>0.0</td>\n",
       "      <td>0.157222</td>\n",
       "      <td>0.0</td>\n",
       "      <td>0.0</td>\n",
       "      <td>0.0</td>\n",
       "      <td>0.0</td>\n",
       "      <td>0.090021</td>\n",
       "      <td>0.0</td>\n",
       "      <td>0.0</td>\n",
       "      <td>0.0</td>\n",
       "      <td>0.0</td>\n",
       "      <td>0.0</td>\n",
       "      <td>0.0</td>\n",
       "      <td>0.0</td>\n",
       "      <td>0.000000</td>\n",
       "      <td>0.0</td>\n",
       "      <td>0.0</td>\n",
       "      <td>0.0</td>\n",
       "      <td>0.0</td>\n",
       "      <td>0.0</td>\n",
       "      <td>0.0</td>\n",
       "      <td>0.0</td>\n",
       "      <td>0.0</td>\n",
       "      <td>0.0</td>\n",
       "      <td>0.0</td>\n",
       "      <td>0.0</td>\n",
       "      <td>0.0</td>\n",
       "      <td>0.0</td>\n",
       "      <td>0.0</td>\n",
       "      <td>0.000000</td>\n",
       "      <td>0.062148</td>\n",
       "      <td>0.144774</td>\n",
       "      <td>0.0</td>\n",
       "      <td>0.0</td>\n",
       "      <td>0.0</td>\n",
       "      <td>0.0</td>\n",
       "      <td>0.0</td>\n",
       "      <td>0.0</td>\n",
       "      <td>0.0</td>\n",
       "      <td>0.0</td>\n",
       "      <td>0.0</td>\n",
       "      <td>0.0</td>\n",
       "      <td>0.0</td>\n",
       "      <td>0.0</td>\n",
       "      <td>0.0</td>\n",
       "      <td>0.0</td>\n",
       "      <td>0.0</td>\n",
       "      <td>0.0</td>\n",
       "      <td>0.0</td>\n",
       "      <td>0.0</td>\n",
       "      <td>0.0</td>\n",
       "      <td>0.0</td>\n",
       "      <td>0.0</td>\n",
       "      <td>0.0</td>\n",
       "      <td>0.0</td>\n",
       "      <td>0.0</td>\n",
       "      <td>0.0</td>\n",
       "      <td>0.0</td>\n",
       "      <td>0.0</td>\n",
       "      <td>0.0</td>\n",
       "      <td>0.0</td>\n",
       "      <td>0.0</td>\n",
       "      <td>0.0</td>\n",
       "      <td>0.0</td>\n",
       "      <td>0.0</td>\n",
       "      <td>0.0</td>\n",
       "      <td>0.0</td>\n",
       "      <td>0.0</td>\n",
       "      <td>0.0</td>\n",
       "      <td>0.0</td>\n",
       "      <td>0.0</td>\n",
       "      <td>0.0</td>\n",
       "      <td>0.0</td>\n",
       "      <td>0.0</td>\n",
       "      <td>0.0</td>\n",
       "      <td>0.0</td>\n",
       "      <td>0.0</td>\n",
       "      <td>0.0</td>\n",
       "      <td>0.0</td>\n",
       "      <td>0.0</td>\n",
       "      <td>0.0</td>\n",
       "      <td>0.0</td>\n",
       "      <td>0.0</td>\n",
       "      <td>0.0</td>\n",
       "      <td>0.0</td>\n",
       "      <td>0.0</td>\n",
       "      <td>0.0</td>\n",
       "      <td>0.0</td>\n",
       "      <td>0.0</td>\n",
       "      <td>0.0</td>\n",
       "      <td>0.0</td>\n",
       "      <td>0.0</td>\n",
       "      <td>0.0</td>\n",
       "      <td>0.0</td>\n",
       "      <td>0.0</td>\n",
       "      <td>0.0</td>\n",
       "      <td>0.0</td>\n",
       "      <td>0.0</td>\n",
       "      <td>0.0</td>\n",
       "      <td>0.0</td>\n",
       "      <td>0.0</td>\n",
       "      <td>0.0</td>\n",
       "      <td>0.0</td>\n",
       "      <td>0.0</td>\n",
       "      <td>0.0</td>\n",
       "      <td>0.0</td>\n",
       "      <td>0.0</td>\n",
       "      <td>0.0</td>\n",
       "      <td>0.0</td>\n",
       "      <td>0.0</td>\n",
       "      <td>0.0</td>\n",
       "      <td>0.000000</td>\n",
       "      <td>0.0</td>\n",
       "      <td>0.0</td>\n",
       "      <td>0.0</td>\n",
       "      <td>0.093428</td>\n",
       "      <td>0.0</td>\n",
       "      <td>0.0</td>\n",
       "      <td>0.0</td>\n",
       "      <td>0.0</td>\n",
       "      <td>0.0</td>\n",
       "      <td>0.0</td>\n",
       "      <td>0.071828</td>\n",
       "      <td>0.0</td>\n",
       "      <td>0.0</td>\n",
       "      <td>0.0</td>\n",
       "      <td>0.0</td>\n",
       "      <td>0.0</td>\n",
       "      <td>0.0</td>\n",
       "      <td>0.0</td>\n",
       "      <td>...</td>\n",
       "      <td>0.0</td>\n",
       "      <td>0.0</td>\n",
       "      <td>0.0</td>\n",
       "      <td>0.0</td>\n",
       "      <td>0.0</td>\n",
       "      <td>0.0</td>\n",
       "      <td>0.0</td>\n",
       "      <td>0.0</td>\n",
       "      <td>0.0</td>\n",
       "      <td>0.0</td>\n",
       "      <td>0.0</td>\n",
       "      <td>0.0</td>\n",
       "      <td>0.0</td>\n",
       "      <td>0.0</td>\n",
       "      <td>0.0</td>\n",
       "      <td>0.0</td>\n",
       "      <td>0.0</td>\n",
       "      <td>0.0</td>\n",
       "      <td>0.0</td>\n",
       "      <td>0.0</td>\n",
       "      <td>0.0</td>\n",
       "      <td>0.0</td>\n",
       "      <td>0.00000</td>\n",
       "      <td>0.0</td>\n",
       "      <td>0.0</td>\n",
       "      <td>0.0</td>\n",
       "      <td>0.0</td>\n",
       "      <td>0.0</td>\n",
       "      <td>0.0</td>\n",
       "      <td>0.0</td>\n",
       "      <td>0.0</td>\n",
       "      <td>0.0</td>\n",
       "      <td>0.0</td>\n",
       "      <td>0.0</td>\n",
       "      <td>0.0</td>\n",
       "      <td>0.0</td>\n",
       "      <td>0.0</td>\n",
       "      <td>0.0</td>\n",
       "      <td>0.0</td>\n",
       "      <td>0.0</td>\n",
       "      <td>0.0</td>\n",
       "      <td>0.0</td>\n",
       "      <td>0.0</td>\n",
       "      <td>0.0</td>\n",
       "      <td>0.0</td>\n",
       "      <td>0.0</td>\n",
       "      <td>0.0</td>\n",
       "      <td>0.0</td>\n",
       "      <td>0.0</td>\n",
       "      <td>0.0</td>\n",
       "      <td>0.0</td>\n",
       "      <td>0.000000</td>\n",
       "      <td>0.0</td>\n",
       "      <td>0.0</td>\n",
       "      <td>0.0</td>\n",
       "      <td>0.0</td>\n",
       "      <td>0.0</td>\n",
       "      <td>0.0</td>\n",
       "      <td>0.0</td>\n",
       "      <td>0.0</td>\n",
       "      <td>0.0</td>\n",
       "      <td>0.0</td>\n",
       "      <td>0.0</td>\n",
       "      <td>0.0</td>\n",
       "      <td>0.0</td>\n",
       "      <td>0.0</td>\n",
       "      <td>0.0</td>\n",
       "      <td>0.0</td>\n",
       "      <td>0.0</td>\n",
       "      <td>0.0</td>\n",
       "      <td>0.0</td>\n",
       "      <td>0.0</td>\n",
       "      <td>0.0</td>\n",
       "      <td>0.0</td>\n",
       "      <td>0.0</td>\n",
       "      <td>0.0</td>\n",
       "      <td>0.0</td>\n",
       "      <td>0.0</td>\n",
       "      <td>0.0</td>\n",
       "      <td>0.0</td>\n",
       "      <td>0.0</td>\n",
       "      <td>0.0</td>\n",
       "      <td>0.0</td>\n",
       "      <td>0.0</td>\n",
       "      <td>0.0</td>\n",
       "      <td>0.0</td>\n",
       "      <td>0.0</td>\n",
       "      <td>0.0</td>\n",
       "      <td>0.0</td>\n",
       "      <td>0.0</td>\n",
       "      <td>0.0</td>\n",
       "      <td>0.0</td>\n",
       "      <td>0.0</td>\n",
       "      <td>0.0</td>\n",
       "      <td>0.0</td>\n",
       "      <td>0.0</td>\n",
       "      <td>0.0</td>\n",
       "      <td>0.0</td>\n",
       "      <td>0.0</td>\n",
       "      <td>0.0</td>\n",
       "      <td>0.0</td>\n",
       "      <td>0.0</td>\n",
       "      <td>0.0</td>\n",
       "      <td>0.0</td>\n",
       "      <td>0.0</td>\n",
       "      <td>0.0</td>\n",
       "      <td>0.0</td>\n",
       "      <td>0.0</td>\n",
       "      <td>0.0</td>\n",
       "      <td>0.0</td>\n",
       "      <td>0.0</td>\n",
       "      <td>0.0</td>\n",
       "      <td>0.0</td>\n",
       "      <td>0.0</td>\n",
       "      <td>0.0</td>\n",
       "      <td>0.0</td>\n",
       "      <td>0.0</td>\n",
       "      <td>0.0</td>\n",
       "      <td>0.0</td>\n",
       "      <td>0.0</td>\n",
       "      <td>0.0</td>\n",
       "      <td>0.0</td>\n",
       "      <td>0.0</td>\n",
       "      <td>0.0</td>\n",
       "      <td>0.0</td>\n",
       "      <td>0.0</td>\n",
       "      <td>0.0</td>\n",
       "      <td>0.0</td>\n",
       "      <td>0.0</td>\n",
       "      <td>0.0</td>\n",
       "      <td>0.0</td>\n",
       "      <td>0.0</td>\n",
       "      <td>0.0</td>\n",
       "      <td>0.0</td>\n",
       "      <td>0.0</td>\n",
       "      <td>0.0</td>\n",
       "      <td>0.0</td>\n",
       "      <td>0.0</td>\n",
       "      <td>0.0</td>\n",
       "      <td>0.0</td>\n",
       "      <td>0.0</td>\n",
       "      <td>0.0</td>\n",
       "      <td>0.0</td>\n",
       "      <td>0.0</td>\n",
       "      <td>0.0</td>\n",
       "      <td>0.0</td>\n",
       "      <td>0.0</td>\n",
       "      <td>0.0</td>\n",
       "      <td>0.0</td>\n",
       "      <td>0.0</td>\n",
       "    </tr>\n",
       "    <tr>\n",
       "      <th>1</th>\n",
       "      <td>10.00</td>\n",
       "      <td>3.0</td>\n",
       "      <td>hoodie, little, thinner, side, daughter, love,...</td>\n",
       "      <td>1.0</td>\n",
       "      <td>0.0</td>\n",
       "      <td>0.0</td>\n",
       "      <td>0.0</td>\n",
       "      <td>0.0</td>\n",
       "      <td>0.052284</td>\n",
       "      <td>0.0</td>\n",
       "      <td>0.0</td>\n",
       "      <td>0.0</td>\n",
       "      <td>0.909611</td>\n",
       "      <td>0.0</td>\n",
       "      <td>0.0</td>\n",
       "      <td>0.0</td>\n",
       "      <td>0.0</td>\n",
       "      <td>0.0</td>\n",
       "      <td>0.0</td>\n",
       "      <td>0.0</td>\n",
       "      <td>0.0</td>\n",
       "      <td>0.000000</td>\n",
       "      <td>0.0</td>\n",
       "      <td>0.0</td>\n",
       "      <td>0.0</td>\n",
       "      <td>0.0</td>\n",
       "      <td>0.000000</td>\n",
       "      <td>0.0</td>\n",
       "      <td>0.0</td>\n",
       "      <td>0.0</td>\n",
       "      <td>0.0</td>\n",
       "      <td>0.0</td>\n",
       "      <td>0.0</td>\n",
       "      <td>0.0</td>\n",
       "      <td>0.206726</td>\n",
       "      <td>0.0</td>\n",
       "      <td>0.0</td>\n",
       "      <td>0.0</td>\n",
       "      <td>0.0</td>\n",
       "      <td>0.0</td>\n",
       "      <td>0.0</td>\n",
       "      <td>0.0</td>\n",
       "      <td>0.0</td>\n",
       "      <td>0.0</td>\n",
       "      <td>0.0</td>\n",
       "      <td>0.0</td>\n",
       "      <td>0.0</td>\n",
       "      <td>0.0</td>\n",
       "      <td>0.0</td>\n",
       "      <td>0.170903</td>\n",
       "      <td>0.000000</td>\n",
       "      <td>0.000000</td>\n",
       "      <td>0.0</td>\n",
       "      <td>0.0</td>\n",
       "      <td>0.0</td>\n",
       "      <td>0.0</td>\n",
       "      <td>0.0</td>\n",
       "      <td>0.0</td>\n",
       "      <td>0.0</td>\n",
       "      <td>0.0</td>\n",
       "      <td>0.0</td>\n",
       "      <td>0.0</td>\n",
       "      <td>0.0</td>\n",
       "      <td>0.0</td>\n",
       "      <td>0.0</td>\n",
       "      <td>0.0</td>\n",
       "      <td>0.0</td>\n",
       "      <td>0.0</td>\n",
       "      <td>0.0</td>\n",
       "      <td>0.0</td>\n",
       "      <td>0.0</td>\n",
       "      <td>0.0</td>\n",
       "      <td>0.0</td>\n",
       "      <td>0.0</td>\n",
       "      <td>0.0</td>\n",
       "      <td>0.0</td>\n",
       "      <td>0.0</td>\n",
       "      <td>0.0</td>\n",
       "      <td>0.0</td>\n",
       "      <td>0.0</td>\n",
       "      <td>0.0</td>\n",
       "      <td>0.0</td>\n",
       "      <td>0.0</td>\n",
       "      <td>0.0</td>\n",
       "      <td>0.0</td>\n",
       "      <td>0.0</td>\n",
       "      <td>0.0</td>\n",
       "      <td>0.0</td>\n",
       "      <td>0.0</td>\n",
       "      <td>0.0</td>\n",
       "      <td>0.0</td>\n",
       "      <td>0.0</td>\n",
       "      <td>0.0</td>\n",
       "      <td>0.0</td>\n",
       "      <td>0.0</td>\n",
       "      <td>0.0</td>\n",
       "      <td>0.0</td>\n",
       "      <td>0.0</td>\n",
       "      <td>0.0</td>\n",
       "      <td>0.0</td>\n",
       "      <td>0.0</td>\n",
       "      <td>0.0</td>\n",
       "      <td>0.0</td>\n",
       "      <td>0.0</td>\n",
       "      <td>0.0</td>\n",
       "      <td>0.0</td>\n",
       "      <td>0.0</td>\n",
       "      <td>0.0</td>\n",
       "      <td>0.0</td>\n",
       "      <td>0.0</td>\n",
       "      <td>0.0</td>\n",
       "      <td>0.0</td>\n",
       "      <td>0.0</td>\n",
       "      <td>0.0</td>\n",
       "      <td>0.0</td>\n",
       "      <td>0.0</td>\n",
       "      <td>0.0</td>\n",
       "      <td>0.0</td>\n",
       "      <td>0.0</td>\n",
       "      <td>0.0</td>\n",
       "      <td>0.0</td>\n",
       "      <td>0.0</td>\n",
       "      <td>0.0</td>\n",
       "      <td>0.0</td>\n",
       "      <td>0.0</td>\n",
       "      <td>0.0</td>\n",
       "      <td>0.0</td>\n",
       "      <td>0.0</td>\n",
       "      <td>0.0</td>\n",
       "      <td>0.0</td>\n",
       "      <td>0.0</td>\n",
       "      <td>0.110677</td>\n",
       "      <td>0.0</td>\n",
       "      <td>0.0</td>\n",
       "      <td>0.0</td>\n",
       "      <td>0.000000</td>\n",
       "      <td>0.0</td>\n",
       "      <td>0.0</td>\n",
       "      <td>0.0</td>\n",
       "      <td>0.0</td>\n",
       "      <td>0.0</td>\n",
       "      <td>0.0</td>\n",
       "      <td>0.000000</td>\n",
       "      <td>0.0</td>\n",
       "      <td>0.0</td>\n",
       "      <td>0.0</td>\n",
       "      <td>0.0</td>\n",
       "      <td>0.0</td>\n",
       "      <td>0.0</td>\n",
       "      <td>0.0</td>\n",
       "      <td>...</td>\n",
       "      <td>0.0</td>\n",
       "      <td>0.0</td>\n",
       "      <td>0.0</td>\n",
       "      <td>0.0</td>\n",
       "      <td>0.0</td>\n",
       "      <td>0.0</td>\n",
       "      <td>0.0</td>\n",
       "      <td>0.0</td>\n",
       "      <td>0.0</td>\n",
       "      <td>0.0</td>\n",
       "      <td>0.0</td>\n",
       "      <td>0.0</td>\n",
       "      <td>0.0</td>\n",
       "      <td>0.0</td>\n",
       "      <td>0.0</td>\n",
       "      <td>0.0</td>\n",
       "      <td>0.0</td>\n",
       "      <td>0.0</td>\n",
       "      <td>0.0</td>\n",
       "      <td>0.0</td>\n",
       "      <td>0.0</td>\n",
       "      <td>0.0</td>\n",
       "      <td>0.08633</td>\n",
       "      <td>0.0</td>\n",
       "      <td>0.0</td>\n",
       "      <td>0.0</td>\n",
       "      <td>0.0</td>\n",
       "      <td>0.0</td>\n",
       "      <td>0.0</td>\n",
       "      <td>0.0</td>\n",
       "      <td>0.0</td>\n",
       "      <td>0.0</td>\n",
       "      <td>0.0</td>\n",
       "      <td>0.0</td>\n",
       "      <td>0.0</td>\n",
       "      <td>0.0</td>\n",
       "      <td>0.0</td>\n",
       "      <td>0.0</td>\n",
       "      <td>0.0</td>\n",
       "      <td>0.0</td>\n",
       "      <td>0.0</td>\n",
       "      <td>0.0</td>\n",
       "      <td>0.0</td>\n",
       "      <td>0.0</td>\n",
       "      <td>0.0</td>\n",
       "      <td>0.0</td>\n",
       "      <td>0.0</td>\n",
       "      <td>0.0</td>\n",
       "      <td>0.0</td>\n",
       "      <td>0.0</td>\n",
       "      <td>0.0</td>\n",
       "      <td>0.085611</td>\n",
       "      <td>0.0</td>\n",
       "      <td>0.0</td>\n",
       "      <td>0.0</td>\n",
       "      <td>0.0</td>\n",
       "      <td>0.0</td>\n",
       "      <td>0.0</td>\n",
       "      <td>0.0</td>\n",
       "      <td>0.0</td>\n",
       "      <td>0.0</td>\n",
       "      <td>0.0</td>\n",
       "      <td>0.0</td>\n",
       "      <td>0.0</td>\n",
       "      <td>0.0</td>\n",
       "      <td>0.0</td>\n",
       "      <td>0.0</td>\n",
       "      <td>0.0</td>\n",
       "      <td>0.0</td>\n",
       "      <td>0.0</td>\n",
       "      <td>0.0</td>\n",
       "      <td>0.0</td>\n",
       "      <td>0.0</td>\n",
       "      <td>0.0</td>\n",
       "      <td>0.0</td>\n",
       "      <td>0.0</td>\n",
       "      <td>0.0</td>\n",
       "      <td>0.0</td>\n",
       "      <td>0.0</td>\n",
       "      <td>0.0</td>\n",
       "      <td>0.0</td>\n",
       "      <td>0.0</td>\n",
       "      <td>0.0</td>\n",
       "      <td>0.0</td>\n",
       "      <td>0.0</td>\n",
       "      <td>0.0</td>\n",
       "      <td>0.0</td>\n",
       "      <td>0.0</td>\n",
       "      <td>0.0</td>\n",
       "      <td>0.0</td>\n",
       "      <td>0.0</td>\n",
       "      <td>0.0</td>\n",
       "      <td>0.0</td>\n",
       "      <td>0.0</td>\n",
       "      <td>0.0</td>\n",
       "      <td>0.0</td>\n",
       "      <td>0.0</td>\n",
       "      <td>0.0</td>\n",
       "      <td>0.0</td>\n",
       "      <td>0.0</td>\n",
       "      <td>0.0</td>\n",
       "      <td>0.0</td>\n",
       "      <td>0.0</td>\n",
       "      <td>0.0</td>\n",
       "      <td>0.0</td>\n",
       "      <td>0.0</td>\n",
       "      <td>0.0</td>\n",
       "      <td>0.0</td>\n",
       "      <td>0.0</td>\n",
       "      <td>0.0</td>\n",
       "      <td>0.0</td>\n",
       "      <td>0.0</td>\n",
       "      <td>0.0</td>\n",
       "      <td>0.0</td>\n",
       "      <td>0.0</td>\n",
       "      <td>0.0</td>\n",
       "      <td>0.0</td>\n",
       "      <td>0.0</td>\n",
       "      <td>0.0</td>\n",
       "      <td>0.0</td>\n",
       "      <td>0.0</td>\n",
       "      <td>0.0</td>\n",
       "      <td>0.0</td>\n",
       "      <td>0.0</td>\n",
       "      <td>0.0</td>\n",
       "      <td>0.0</td>\n",
       "      <td>0.0</td>\n",
       "      <td>0.0</td>\n",
       "      <td>0.0</td>\n",
       "      <td>0.0</td>\n",
       "      <td>0.0</td>\n",
       "      <td>0.0</td>\n",
       "      <td>0.0</td>\n",
       "      <td>0.0</td>\n",
       "      <td>0.0</td>\n",
       "      <td>0.0</td>\n",
       "      <td>0.0</td>\n",
       "      <td>0.0</td>\n",
       "      <td>0.0</td>\n",
       "      <td>0.0</td>\n",
       "      <td>0.0</td>\n",
       "      <td>0.0</td>\n",
       "      <td>0.0</td>\n",
       "      <td>0.0</td>\n",
       "      <td>0.0</td>\n",
       "      <td>0.0</td>\n",
       "      <td>0.0</td>\n",
       "      <td>0.0</td>\n",
       "      <td>0.0</td>\n",
       "      <td>0.0</td>\n",
       "    </tr>\n",
       "  </tbody>\n",
       "</table>\n",
       "<p>2 rows × 2016 columns</p>\n",
       "</div>"
      ],
      "text/plain": [
       "   price  num_rating                                           delisted  \\\n",
       "0  11.94        13.0  thick, material, quality, product, great, pric...   \n",
       "1  10.00         3.0  hoodie, little, thinner, side, daughter, love,...   \n",
       "\n",
       "   girls'  men's  women's  topic0  topic1    topic2  topic3  topic4  topic5  \\\n",
       "0     1.0    0.0      0.0     0.0     0.0  0.000000     0.0     0.0     0.0   \n",
       "1     1.0    0.0      0.0     0.0     0.0  0.052284     0.0     0.0     0.0   \n",
       "\n",
       "     topic6  topic7  topic8  topic9  able  able wear  absolutely  \\\n",
       "0  0.976310     0.0     0.0     0.0   0.0        0.0         0.0   \n",
       "1  0.909611     0.0     0.0     0.0   0.0        0.0         0.0   \n",
       "\n",
       "   absolutely adorable  absolutely love  absolutely loved  acceptable  \\\n",
       "0                  0.0              0.0          0.157222         0.0   \n",
       "1                  0.0              0.0          0.000000         0.0   \n",
       "\n",
       "   accessory  according  accurate    across  active  activity  actual  \\\n",
       "0        0.0        0.0       0.0  0.090021     0.0       0.0     0.0   \n",
       "1        0.0        0.0       0.0  0.000000     0.0       0.0     0.0   \n",
       "\n",
       "   actually  actually fit  add  added  addition  adjust  adjustable  \\\n",
       "0       0.0           0.0  0.0    0.0  0.000000     0.0         0.0   \n",
       "1       0.0           0.0  0.0    0.0  0.206726     0.0         0.0   \n",
       "\n",
       "   adjustable waist  adorable  adult  advertised  affordable  age  ago  air  \\\n",
       "0               0.0       0.0    0.0         0.0         0.0  0.0  0.0  0.0   \n",
       "1               0.0       0.0    0.0         0.0         0.0  0.0  0.0  0.0   \n",
       "\n",
       "   air dry  allow  almost  almost like     alone     along   already  also  \\\n",
       "0      0.0    0.0     0.0          0.0  0.000000  0.062148  0.144774   0.0   \n",
       "1      0.0    0.0     0.0          0.0  0.170903  0.000000  0.000000   0.0   \n",
       "\n",
       "   also comfortable  also like  also love  although  always  always fit  \\\n",
       "0               0.0        0.0        0.0       0.0     0.0         0.0   \n",
       "1               0.0        0.0        0.0       0.0     0.0         0.0   \n",
       "\n",
       "   amazing  amount  ankle  annoying  another  anymore  anyone  anything  \\\n",
       "0      0.0     0.0    0.0       0.0      0.0      0.0     0.0       0.0   \n",
       "1      0.0     0.0    0.0       0.0      0.0      0.0     0.0       0.0   \n",
       "\n",
       "   anyway  anywhere  apart  appearance  appears  appreciate  appropriate  \\\n",
       "0     0.0       0.0    0.0         0.0      0.0         0.0          0.0   \n",
       "1     0.0       0.0    0.0         0.0      0.0         0.0          0.0   \n",
       "\n",
       "   area  arm  armpit  around  around ankle  around house  arrived  \\\n",
       "0   0.0  0.0     0.0     0.0           0.0           0.0      0.0   \n",
       "1   0.0  0.0     0.0     0.0           0.0           0.0      0.0   \n",
       "\n",
       "   arrived quickly  athletic  athletic workout  attractive  available  \\\n",
       "0              0.0       0.0               0.0         0.0        0.0   \n",
       "1              0.0       0.0               0.0         0.0        0.0   \n",
       "\n",
       "   average  away  awesome  awful  awkward  baby  back  back pocket  \\\n",
       "0      0.0   0.0      0.0    0.0      0.0   0.0   0.0          0.0   \n",
       "1      0.0   0.0      0.0    0.0      0.0   0.0   0.0          0.0   \n",
       "\n",
       "   back school  bad  bag  baggy  ball  band  band size  bar  barely  bargain  \\\n",
       "0          0.0  0.0  0.0    0.0   0.0   0.0        0.0  0.0     0.0      0.0   \n",
       "1          0.0  0.0  0.0    0.0   0.0   0.0        0.0  0.0     0.0      0.0   \n",
       "\n",
       "   based  baselayer  baselayer cool  basic  basically  batch  bathrobe  \\\n",
       "0    0.0        0.0             0.0    0.0        0.0    0.0       0.0   \n",
       "1    0.0        0.0             0.0    0.0        0.0    0.0       0.0   \n",
       "\n",
       "   battery   bc  beat  beat price  beautiful  beautiful color  \\\n",
       "0      0.0  0.0   0.0         0.0        0.0              0.0   \n",
       "1      0.0  0.0   0.0         0.0        0.0              0.0   \n",
       "\n",
       "   beautiful dress  beautifully  become  bed  behind  believe  belly  belt  \\\n",
       "0              0.0          0.0     0.0  0.0     0.0      0.0    0.0   0.0   \n",
       "1              0.0          0.0     0.0  0.0     0.0      0.0    0.0   0.0   \n",
       "\n",
       "   bend  bending  best  best fitting  best part  best thing    better  \\\n",
       "0   0.0      0.0   0.0           0.0        0.0         0.0  0.000000   \n",
       "1   0.0      0.0   0.0           0.0        0.0         0.0  0.110677   \n",
       "\n",
       "   better expected  better fit  beware    beyond  bib  big  big deal  \\\n",
       "0              0.0         0.0     0.0  0.093428  0.0  0.0       0.0   \n",
       "1              0.0         0.0     0.0  0.000000  0.0  0.0       0.0   \n",
       "\n",
       "   big enough  big size  big wear    bigger  bigger size  biggest  bikini  \\\n",
       "0         0.0       0.0       0.0  0.071828          0.0      0.0     0.0   \n",
       "1         0.0       0.0       0.0  0.000000          0.0      0.0     0.0   \n",
       "\n",
       "   bill  birthday  bit  bit big  ...  washed well  washed yet  washer  \\\n",
       "0   0.0       0.0  0.0      0.0  ...          0.0         0.0     0.0   \n",
       "1   0.0       0.0  0.0      0.0  ...          0.0         0.0     0.0   \n",
       "\n",
       "   washing  washing machine  waste  waste money  watch  water  \\\n",
       "0      0.0              0.0    0.0          0.0    0.0    0.0   \n",
       "1      0.0              0.0    0.0          0.0    0.0    0.0   \n",
       "\n",
       "   water resistant  wear  wear also  wear anything  wear around  wear bra  \\\n",
       "0              0.0   0.0        0.0            0.0          0.0       0.0   \n",
       "1              0.0   0.0        0.0            0.0          0.0       0.0   \n",
       "\n",
       "   wear day  wear dress  wear fit  wear get  wear large  wear love  \\\n",
       "0       0.0         0.0       0.0       0.0         0.0        0.0   \n",
       "1       0.0         0.0       0.0       0.0         0.0        0.0   \n",
       "\n",
       "   wear medium  wear ordered  wear pant  wear school  wear size  wear skirt  \\\n",
       "0          0.0       0.00000        0.0          0.0        0.0         0.0   \n",
       "1          0.0       0.08633        0.0          0.0        0.0         0.0   \n",
       "\n",
       "   wear wear  wear well  wear work  wear would  wearable  wearing  \\\n",
       "0        0.0        0.0        0.0         0.0       0.0      0.0   \n",
       "1        0.0        0.0        0.0         0.0       0.0      0.0   \n",
       "\n",
       "   wearing bra  weather  website  week  weekend  weigh  weight  weight fabric  \\\n",
       "0          0.0      0.0      0.0   0.0      0.0    0.0     0.0            0.0   \n",
       "1          0.0      0.0      0.0   0.0      0.0    0.0     0.0            0.0   \n",
       "\n",
       "   weird  well  well comfortable  well constructed  well done  well fit  \\\n",
       "0    0.0   0.0               0.0               0.0        0.0       0.0   \n",
       "1    0.0   0.0               0.0               0.0        0.0       0.0   \n",
       "\n",
       "   well good  well like  well look  well love  well made  well nice  \\\n",
       "0        0.0        0.0        0.0        0.0   0.000000        0.0   \n",
       "1        0.0        0.0        0.0        0.0   0.085611        0.0   \n",
       "\n",
       "   well worth  went  went back  went size  wet  whatever  white  whole  wide  \\\n",
       "0         0.0   0.0        0.0        0.0  0.0       0.0    0.0    0.0   0.0   \n",
       "1         0.0   0.0        0.0        0.0  0.0       0.0    0.0    0.0   0.0   \n",
       "\n",
       "   wider  width  win  wind  winter  winter coat  winter month  wire  wish  \\\n",
       "0    0.0    0.0  0.0   0.0     0.0          0.0           0.0   0.0   0.0   \n",
       "1    0.0    0.0  0.0   0.0     0.0          0.0           0.0   0.0   0.0   \n",
       "\n",
       "   wish color  wish could  wish would  within  without  woman  wonder  \\\n",
       "0         0.0         0.0         0.0     0.0      0.0    0.0     0.0   \n",
       "1         0.0         0.0         0.0     0.0      0.0    0.0     0.0   \n",
       "\n",
       "   wonder long  wonder nation  wonderful  wonderfully  wont  word  wore  work  \\\n",
       "0          0.0            0.0        0.0          0.0   0.0   0.0   0.0   0.0   \n",
       "1          0.0            0.0        0.0          0.0   0.0   0.0   0.0   0.0   \n",
       "\n",
       "   work well  worked  working  workout  workout running  worn  worried  worst  \\\n",
       "0        0.0     0.0      0.0      0.0              0.0   0.0      0.0    0.0   \n",
       "1        0.0     0.0      0.0      0.0              0.0   0.0      0.0    0.0   \n",
       "\n",
       "   worth  worth money  worth price  would  would buy  would fit  would get  \\\n",
       "0    0.0          0.0          0.0    0.0        0.0        0.0        0.0   \n",
       "1    0.0          0.0          0.0    0.0        0.0        0.0        0.0   \n",
       "\n",
       "   would go  would like  would look  would love  would make  would never  \\\n",
       "0       0.0         0.0         0.0         0.0         0.0          0.0   \n",
       "1       0.0         0.0         0.0         0.0         0.0          0.0   \n",
       "\n",
       "   would nice  would order  would probably  would purchase  would recommend  \\\n",
       "0         0.0          0.0             0.0             0.0              0.0   \n",
       "1         0.0          0.0             0.0             0.0              0.0   \n",
       "\n",
       "   would say  would suggest  would tight  would wear  wouldnt  wrangler  \\\n",
       "0        0.0            0.0          0.0         0.0      0.0       0.0   \n",
       "1        0.0            0.0          0.0         0.0      0.0       0.0   \n",
       "\n",
       "   wrangler jean  wrap  wrap around  wrap dress  wrinkle  wrinkled  wrist  \\\n",
       "0            0.0   0.0          0.0         0.0      0.0       0.0    0.0   \n",
       "1            0.0   0.0          0.0         0.0      0.0       0.0    0.0   \n",
       "\n",
       "   write  writing  wrong  wrong size  wrote   xa  xxl  yard  yeah  year  \\\n",
       "0    0.0      0.0    0.0         0.0    0.0  0.0  0.0   0.0   0.0   0.0   \n",
       "1    0.0      0.0    0.0         0.0    0.0  0.0  0.0   0.0   0.0   0.0   \n",
       "\n",
       "   year ago  year always  year love  year old  yellow  yes  yesterday  yet  \\\n",
       "0       0.0          0.0        0.0       0.0     0.0  0.0        0.0  0.0   \n",
       "1       0.0          0.0        0.0       0.0     0.0  0.0        0.0  0.0   \n",
       "\n",
       "    yo  younger   yr  yr old  zero  zip  zipper  \n",
       "0  0.0      0.0  0.0     0.0   0.0  0.0     0.0  \n",
       "1  0.0      0.0  0.0     0.0   0.0  0.0     0.0  \n",
       "\n",
       "[2 rows x 2016 columns]"
      ]
     },
     "execution_count": 20,
     "metadata": {},
     "output_type": "execute_result"
    }
   ],
   "source": [
    "tfidfvec = TfidfVectorizer(stop_words = stop_words, ngram_range = (1,2), max_features=2000, use_idf=True)  \n",
    "\n",
    "train_vec = tfidfvec.fit_transform(X_train.delisted.values).toarray()\n",
    "test_vec = tfidfvec.fit_transform(X_test.delisted.values).toarray()\n",
    "\n",
    "tfidf_train = pd.DataFrame(train_vec, columns = tfidfvec.get_feature_names())\n",
    "tfidf_test = pd.DataFrame(test_vec, columns = tfidfvec.get_feature_names())\n",
    "\n",
    "print(f\"X train shape: {X_train.shape}, Tfidf train shape: {tfidf_train.shape}\") \n",
    "print(\"-\"*20)\n",
    "print(f\"X test shape: {X_test.shape}, Tfidf test shape: {tfidf_test.shape}\")\n",
    "\n",
    "# resetting index to concatenate with tfidf. Resetting index will not affect the dataset. \n",
    "X_train.reset_index(drop=True, inplace=True)\n",
    "X_test.reset_index(drop=True, inplace=True)\n",
    "\n",
    "frame1 = [X_train, tfidf_train]\n",
    "frame2 = [X_test, tfidf_test]\n",
    "\n",
    "X_train = pd.concat(frame1, axis=1)\n",
    "X_test = pd.concat(frame2, axis=1)\n",
    "\n",
    "X_train.head(2)"
   ]
  },
  {
   "cell_type": "code",
   "execution_count": 21,
   "metadata": {},
   "outputs": [],
   "source": [
    "# Dropping \"delisted\" from both Train and Test because these have already been Vectorized. \n",
    "X_train.drop(columns = [\"delisted\"], inplace = True)\n",
    "X_test.drop(columns = \"delisted\", inplace=True)"
   ]
  },
  {
   "cell_type": "markdown",
   "metadata": {},
   "source": [
    "# Logistic Regression"
   ]
  },
  {
   "cell_type": "code",
   "execution_count": 22,
   "metadata": {},
   "outputs": [
    {
     "data": {
      "text/plain": [
       "LogisticRegression(n_jobs=-1, random_state=0)"
      ]
     },
     "execution_count": 22,
     "metadata": {},
     "output_type": "execute_result"
    }
   ],
   "source": [
    "from sklearn.feature_selection import RFE\n",
    "from sklearn.linear_model import LogisticRegression\n",
    "logreg_clf = LogisticRegression(penalty = \"l2\", random_state = 0,n_jobs=-1)\n",
    "logreg_clf.fit(X_train, y_train)"
   ]
  },
  {
   "cell_type": "code",
   "execution_count": 23,
   "metadata": {},
   "outputs": [
    {
     "name": "stdout",
     "output_type": "stream",
     "text": [
      "F1 score is: 0.8228882833787466\n"
     ]
    }
   ],
   "source": [
    "y_pred_lr = logreg_clf.predict(X_test)\n",
    "print(\"F1 score is:\", metrics.f1_score(y_test, y_pred_lr))"
   ]
  },
  {
   "cell_type": "markdown",
   "metadata": {},
   "source": [
    "# Bernoulli Naive Bayes\n"
   ]
  },
  {
   "cell_type": "code",
   "execution_count": 24,
   "metadata": {},
   "outputs": [
    {
     "data": {
      "text/plain": [
       "BernoulliNB(alpha=0.1)"
      ]
     },
     "execution_count": 24,
     "metadata": {},
     "output_type": "execute_result"
    }
   ],
   "source": [
    "B_nb = BernoulliNB(alpha=0.1)\n",
    "B_nb.fit(X_train, y_train)"
   ]
  },
  {
   "cell_type": "code",
   "execution_count": 25,
   "metadata": {
    "scrolled": true
   },
   "outputs": [
    {
     "name": "stdout",
     "output_type": "stream",
     "text": [
      "F1 score is: 0.8284960422163589\n"
     ]
    }
   ],
   "source": [
    "y_pred_Bnb = B_nb.predict(X_test)\n",
    "print(\"F1 score is:\", metrics.f1_score(y_test, y_pred_Bnb))"
   ]
  },
  {
   "cell_type": "markdown",
   "metadata": {},
   "source": [
    "# SVC Radial Basis Function Test"
   ]
  },
  {
   "cell_type": "code",
   "execution_count": 26,
   "metadata": {},
   "outputs": [],
   "source": [
    "from sklearn.svm import SVC"
   ]
  },
  {
   "cell_type": "code",
   "execution_count": 27,
   "metadata": {},
   "outputs": [
    {
     "data": {
      "text/plain": [
       "SVC(class_weight='balanced', probability=True)"
      ]
     },
     "execution_count": 27,
     "metadata": {},
     "output_type": "execute_result"
    }
   ],
   "source": [
    "clf_rbf = SVC(kernel='rbf', class_weight=\"balanced\", probability=True)\n",
    "clf_rbf.fit(X_train, y_train)"
   ]
  },
  {
   "cell_type": "code",
   "execution_count": 28,
   "metadata": {
    "scrolled": true
   },
   "outputs": [
    {
     "name": "stdout",
     "output_type": "stream",
     "text": [
      "F1 score is: 0.8088642659279778\n"
     ]
    }
   ],
   "source": [
    "y_pred_rbf = clf_rbf.predict(X_test)\n",
    "print(\"F1 score is:\", metrics.f1_score(y_test, y_pred_rbf))"
   ]
  },
  {
   "cell_type": "markdown",
   "metadata": {},
   "source": [
    "# Random Forest Classifier"
   ]
  },
  {
   "cell_type": "code",
   "execution_count": 29,
   "metadata": {},
   "outputs": [],
   "source": [
    "rfc_classifier = RandomForestClassifier(n_estimators = 300, criterion = \"entropy\", random_state = 0, class_weight=\"balanced\")"
   ]
  },
  {
   "cell_type": "code",
   "execution_count": 30,
   "metadata": {},
   "outputs": [
    {
     "name": "stdout",
     "output_type": "stream",
     "text": [
      "F1 score is: 0.8256410256410256\n"
     ]
    }
   ],
   "source": [
    "rfc_classifier.fit(X_train, y_train)\n",
    "y_pred_RF = rfc_classifier.predict(X_test)\n",
    "print(\"F1 score is:\", metrics.f1_score(y_test, y_pred_RF))"
   ]
  },
  {
   "cell_type": "code",
   "execution_count": 68,
   "metadata": {},
   "outputs": [
    {
     "name": "stdout",
     "output_type": "stream",
     "text": [
      "Logistic Regression F1 score is: 0.8228882833787466\n",
      "Bernoulli F1 score is: 0.8284960422163589\n",
      "SVC RBF F1 score is: 0.8088642659279778\n",
      "Random Forest F1 score is: 0.8256410256410256\n"
     ]
    }
   ],
   "source": [
    "# Logistic Regression:\n",
    "print(\"Logistic Regression F1 score is:\", metrics.f1_score(y_test, y_pred_lr))\n",
    "# Bernoulli NB\n",
    "print(\"Bernoulli F1 score is:\", metrics.f1_score(y_test, y_pred_Bnb))\n",
    "# SVC- Radial Basis Funciton\n",
    "print(\"SVC RBF F1 score is:\", metrics.f1_score(y_test, y_pred_rbf))\n",
    "# Random Forest\n",
    "print(\"Random Forest F1 score is:\", metrics.f1_score(y_test, y_pred_RF))"
   ]
  },
  {
   "cell_type": "markdown",
   "metadata": {},
   "source": [
    "The top three models that performed the best are RandomForest, Bernoulli Naive Bayes and Logistic Regression. I will use the GridSearch with Logistic Regression and RandomForest to see what the best parameters are and how the score changes. "
   ]
  },
  {
   "cell_type": "markdown",
   "metadata": {},
   "source": [
    "# GridSearchCV with Random Forest Classifier"
   ]
  },
  {
   "cell_type": "code",
   "execution_count": 33,
   "metadata": {},
   "outputs": [
    {
     "name": "stdout",
     "output_type": "stream",
     "text": [
      "Fitting 5 folds for each of 486 candidates, totalling 2430 fits\n"
     ]
    },
    {
     "name": "stderr",
     "output_type": "stream",
     "text": [
      "[Parallel(n_jobs=-1)]: Using backend LokyBackend with 8 concurrent workers.\n",
      "[Parallel(n_jobs=-1)]: Done  25 tasks      | elapsed:    6.2s\n",
      "[Parallel(n_jobs=-1)]: Done 146 tasks      | elapsed:   27.6s\n",
      "[Parallel(n_jobs=-1)]: Done 349 tasks      | elapsed:  1.1min\n",
      "[Parallel(n_jobs=-1)]: Done 632 tasks      | elapsed:  2.1min\n",
      "[Parallel(n_jobs=-1)]: Done 997 tasks      | elapsed:  3.5min\n",
      "[Parallel(n_jobs=-1)]: Done 1442 tasks      | elapsed:  5.2min\n",
      "[Parallel(n_jobs=-1)]: Done 1969 tasks      | elapsed:  7.4min\n",
      "[Parallel(n_jobs=-1)]: Done 2430 out of 2430 | elapsed:  9.3min finished\n",
      "[Parallel(n_jobs=-1)]: Using backend ThreadingBackend with 8 concurrent workers.\n",
      "[Parallel(n_jobs=-1)]: Done  34 tasks      | elapsed:    0.1s\n",
      "[Parallel(n_jobs=-1)]: Done 184 tasks      | elapsed:    0.3s\n",
      "[Parallel(n_jobs=-1)]: Done 300 out of 300 | elapsed:    0.4s finished\n"
     ]
    },
    {
     "data": {
      "text/plain": [
       "GridSearchCV(cv=5,\n",
       "             estimator=RandomForestClassifier(class_weight='balanced',\n",
       "                                              criterion='entropy',\n",
       "                                              n_estimators=300, n_jobs=-1,\n",
       "                                              random_state=0, verbose=1),\n",
       "             n_jobs=-1,\n",
       "             param_grid={'max_depth': range(1, 10),\n",
       "                         'max_leaf_nodes': range(5, 11),\n",
       "                         'min_samples_leaf': range(1, 10)},\n",
       "             scoring='f1', verbose=2)"
      ]
     },
     "execution_count": 33,
     "metadata": {},
     "output_type": "execute_result"
    }
   ],
   "source": [
    "rfc = RandomForestClassifier(n_estimators = 300, criterion = \"entropy\",\n",
    "                             random_state = 0, verbose=1, n_jobs=-1, class_weight=\"balanced\")\n",
    "\n",
    "param_dict={'min_samples_leaf':range(1,10,1), 'max_depth': range(1,10,1), \"max_leaf_nodes\":range(5,11,1)}\n",
    "\n",
    "grid_tree = GridSearchCV(rfc, param_dict, cv=5, scoring=\"f1\", verbose=2, n_jobs=-1)\n",
    "grid_tree.fit(X_train, y_train)"
   ]
  },
  {
   "cell_type": "code",
   "execution_count": 69,
   "metadata": {},
   "outputs": [
    {
     "name": "stderr",
     "output_type": "stream",
     "text": [
      "[Parallel(n_jobs=8)]: Using backend ThreadingBackend with 8 concurrent workers.\n",
      "[Parallel(n_jobs=8)]: Done  34 tasks      | elapsed:    0.3s\n",
      "[Parallel(n_jobs=8)]: Done 184 tasks      | elapsed:    0.3s\n",
      "[Parallel(n_jobs=8)]: Done 300 out of 300 | elapsed:    0.3s finished\n"
     ]
    },
    {
     "name": "stdout",
     "output_type": "stream",
     "text": [
      "F1 score is: 0.8033240997229917\n",
      "------------------------------------------------------------\n",
      "{'max_depth': 4, 'max_leaf_nodes': 8, 'min_samples_leaf': 1}\n",
      "------------------------------------------------------------\n",
      "RandomForestClassifier(class_weight='balanced', criterion='entropy',\n",
      "                       max_depth=4, max_leaf_nodes=8, n_estimators=300,\n",
      "                       n_jobs=-1, random_state=0, verbose=1)\n",
      "------------------------------------------------------------\n",
      "[0.0056275  0.00364922 0.         ... 0.0006092  0.         0.        ]\n"
     ]
    }
   ],
   "source": [
    "grid_tree_pred = grid_tree.predict(X_test)\n",
    "print(\"F1 score is:\", metrics.f1_score(y_test, grid_tree_pred))\n",
    "print(\"-\"*60)\n",
    "print(grid_tree.best_params_)\n",
    "print(\"-\"*60)\n",
    "print(grid_tree.best_estimator_)\n",
    "print(\"-\"*60)\n",
    "print(grid_tree.best_estimator_.feature_importances_)"
   ]
  },
  {
   "cell_type": "markdown",
   "metadata": {},
   "source": [
    "Interesting! RandomForest performed better than GridSearchCV with RandomForest. I will extract the feature importance from this to see how it comapres with Logistic Regression coefficients. "
   ]
  },
  {
   "cell_type": "markdown",
   "metadata": {},
   "source": [
    "# GridSearchCV with Logistic Regression"
   ]
  },
  {
   "cell_type": "code",
   "execution_count": 36,
   "metadata": {},
   "outputs": [],
   "source": [
    "logreg = LogisticRegression(random_state = 0, n_jobs=-1, verbose=2)\n",
    "log_dict = {'tol': [8,9,10,11,12], 'C': [1,5], 'penalty': [\"l1\", \"l2\"]}"
   ]
  },
  {
   "cell_type": "code",
   "execution_count": 37,
   "metadata": {},
   "outputs": [
    {
     "name": "stdout",
     "output_type": "stream",
     "text": [
      "Fitting 5 folds for each of 20 candidates, totalling 100 fits\n"
     ]
    },
    {
     "name": "stderr",
     "output_type": "stream",
     "text": [
      "[Parallel(n_jobs=-1)]: Using backend LokyBackend with 8 concurrent workers.\n",
      "[Parallel(n_jobs=-1)]: Done  34 tasks      | elapsed:    3.3s\n",
      "[Parallel(n_jobs=-1)]: Done  85 out of 100 | elapsed:    7.2s remaining:    1.3s\n",
      "[Parallel(n_jobs=-1)]: Done 100 out of 100 | elapsed:    8.6s finished\n",
      "[Parallel(n_jobs=-1)]: Using backend LokyBackend with 8 concurrent workers.\n",
      "[Parallel(n_jobs=-1)]: Done   1 out of   1 | elapsed:    1.6s finished\n"
     ]
    },
    {
     "data": {
      "text/plain": [
       "GridSearchCV(cv=5,\n",
       "             estimator=LogisticRegression(n_jobs=-1, random_state=0, verbose=2),\n",
       "             n_jobs=-1,\n",
       "             param_grid={'C': [1, 5], 'penalty': ['l1', 'l2'],\n",
       "                         'tol': [8, 9, 10, 11, 12]},\n",
       "             scoring='f1', verbose=2)"
      ]
     },
     "execution_count": 37,
     "metadata": {},
     "output_type": "execute_result"
    }
   ],
   "source": [
    "grid_log = GridSearchCV(logreg, log_dict, cv=5, scoring=\"f1\", verbose=2, n_jobs=-1)\n",
    "grid_log.fit(X_train, y_train)\n",
    "#rfc.fit(X_train_tfidf, y_train_tfidf)"
   ]
  },
  {
   "cell_type": "code",
   "execution_count": 38,
   "metadata": {},
   "outputs": [
    {
     "name": "stdout",
     "output_type": "stream",
     "text": [
      "F1 score is: 0.8228882833787466\n"
     ]
    }
   ],
   "source": [
    "grid_log_pred = grid_log.predict(X_test)\n",
    "print(\"F1 score is:\", metrics.f1_score(y_test, grid_log_pred))"
   ]
  },
  {
   "cell_type": "code",
   "execution_count": 39,
   "metadata": {},
   "outputs": [
    {
     "name": "stdout",
     "output_type": "stream",
     "text": [
      "{'C': 1, 'penalty': 'l2', 'tol': 8}\n",
      "------------------------------------------------------------\n",
      "LogisticRegression(C=1, n_jobs=-1, random_state=0, tol=8, verbose=2)\n",
      "------------------------------------------------------------\n"
     ]
    }
   ],
   "source": [
    "print(grid_log.best_params_)\n",
    "print(\"-\"*60)\n",
    "print(grid_log.best_estimator_)\n",
    "print(\"-\"*60)"
   ]
  },
  {
   "cell_type": "code",
   "execution_count": 67,
   "metadata": {},
   "outputs": [
    {
     "name": "stdout",
     "output_type": "stream",
     "text": [
      "GridSearchCV w/ Random Forest F1 score is: 0.8033240997229917\n",
      "GridSearchCV w/ Logistic Regression F1 score is: 0.8228882833787466\n"
     ]
    }
   ],
   "source": [
    "# Grid Search - Random Forest\n",
    "print(\"GridSearchCV w/ Random Forest F1 score is:\", metrics.f1_score(y_test, grid_tree_pred))\n",
    "# Grid Search - Logistic Regression\n",
    "print(\"GridSearchCV w/ Logistic Regression F1 score is:\", metrics.f1_score(y_test, grid_log_pred))"
   ]
  },
  {
   "cell_type": "markdown",
   "metadata": {},
   "source": [
    "# Overall Scores using TFIDF"
   ]
  },
  {
   "cell_type": "code",
   "execution_count": 41,
   "metadata": {},
   "outputs": [
    {
     "data": {
      "image/png": "[encoded data removed]",
      "text/plain": [
       "<Figure size 864x576 with 1 Axes>"
      ]
     },
     "metadata": {
      "needs_background": "light"
     },
     "output_type": "display_data"
    }
   ],
   "source": [
    "from matplotlib.ticker import FormatStrFormatter\n",
    "fig, ax = plt.subplots(figsize=(12,8))\n",
    "x = [\"Logistic\", \"Bernoulli\", \"SVC RBF\", \"RandomForest\", \"GSRF\", \"GSLR\"]\n",
    "y = [metrics.f1_score(y_test, y_pred_lr), metrics.f1_score(y_test, y_pred_Bnb), \n",
    "     metrics.f1_score(y_test, y_pred_rbf),\n",
    "     metrics.f1_score(y_test, y_pred_RF), metrics.f1_score(y_test, grid_tree_pred),\n",
    "     metrics.f1_score(y_test, grid_log_pred)]\n",
    "sns.barplot(x=x, y=y)\n",
    "ax.yaxis.set_major_formatter(FormatStrFormatter('%.2f'))\n",
    "plt.ylabel(\"F1 Score\", fontsize=15)\n",
    "plt.xlabel(\"Classifier\", fontsize=15)\n",
    "plt.title(\"F1 Score per Classifier\", fontsize=25)\n",
    "plt.savefig(\"images/f1score\");"
   ]
  },
  {
   "cell_type": "markdown",
   "metadata": {},
   "source": [
    "The Logistic Regression and GridSearch with Logistic Regression provides the same score. \n",
    "Second place with a very thin difference is Random Forest. Surprisingly, the GridSearch with Random Forest resulted in a worse score than a regualr Random Forest. "
   ]
  },
  {
   "cell_type": "markdown",
   "metadata": {},
   "source": [
    "# Feature Importances"
   ]
  },
  {
   "cell_type": "markdown",
   "metadata": {},
   "source": [
    "### Feature Importance from Logistic Regression"
   ]
  },
  {
   "cell_type": "code",
   "execution_count": 42,
   "metadata": {},
   "outputs": [],
   "source": [
    "def get_coef_name(fit_model, df):\n",
    "    temp = (list(zip(fit_model.coef_[0], df.columns)))\n",
    "    return sorted(temp,key = lambda x: x[0], reverse=True)"
   ]
  },
  {
   "cell_type": "code",
   "execution_count": 43,
   "metadata": {},
   "outputs": [],
   "source": [
    "log_reg_coef=pd.DataFrame(get_coef_name(logreg_clf, X_train), columns = [\"coefficient\", \"feature\"])"
   ]
  },
  {
   "cell_type": "code",
   "execution_count": 44,
   "metadata": {},
   "outputs": [],
   "source": [
    "# top 5 (positive) and Bottom 5 (negative) gives you the 5 most positve and 5 most negative values. \n",
    "top5_coef = pd.concat([log_reg_coef.head(8),log_reg_coef.tail(8)])"
   ]
  },
  {
   "cell_type": "code",
   "execution_count": 45,
   "metadata": {},
   "outputs": [
    {
     "data": {
      "image/png": "[encoded data removed]",
      "text/plain": [
       "<Figure size 1296x576 with 1 Axes>"
      ]
     },
     "metadata": {
      "needs_background": "light"
     },
     "output_type": "display_data"
    }
   ],
   "source": [
    "fig, ax = plt.subplots(figsize = (18,8))\n",
    "sns.barplot(x = top5_coef.feature, y=top5_coef.coefficient)\n",
    "plt.title(\"Top and Bottom Features\", fontsize=35)\n",
    "plt.xlabel(\"Features\", fontsize=25)\n",
    "plt.xticks(rotation=15)\n",
    "ax.tick_params(axis='both', which='major', labelsize=15)\n",
    "plt.ylabel(\"Log(odds)\", fontsize=30)\n",
    "plt.savefig(\"images/log_coef_feats\");"
   ]
  },
  {
   "cell_type": "markdown",
   "metadata": {},
   "source": [
    "### Feature Importance from Random Forest"
   ]
  },
  {
   "cell_type": "code",
   "execution_count": 46,
   "metadata": {},
   "outputs": [],
   "source": [
    "def get_feats_name(fit_model, df):\n",
    "    temp = (list(zip(fit_model.best_estimator_.feature_importances_, df.columns)))\n",
    "    return sorted(temp,key = lambda x: x[0], reverse=True)"
   ]
  },
  {
   "cell_type": "code",
   "execution_count": 47,
   "metadata": {},
   "outputs": [],
   "source": [
    "grid_tree_feats=pd.DataFrame(get_feats_name(grid_tree, X_train), columns = [\"importance\", \"feature\"])"
   ]
  },
  {
   "cell_type": "code",
   "execution_count": 48,
   "metadata": {},
   "outputs": [],
   "source": [
    "top_grid_feats =grid_tree_feats.head(12)"
   ]
  },
  {
   "cell_type": "code",
   "execution_count": 49,
   "metadata": {},
   "outputs": [
    {
     "data": {
      "image/png": "[encoded data removed]",
      "text/plain": [
       "<Figure size 1152x576 with 1 Axes>"
      ]
     },
     "metadata": {
      "needs_background": "light"
     },
     "output_type": "display_data"
    }
   ],
   "source": [
    "fig, ax = plt.subplots(figsize = (16,8))\n",
    "sns.barplot(x = top_grid_feats.feature, y=top_grid_feats.importance)\n",
    "plt.title(\"GridSearchCV with RandomForestClassifier\", fontsize=35)\n",
    "plt.xlabel(\"Features\", fontsize=25)\n",
    "ax.tick_params(axis='both', which='major', labelsize=15)\n",
    "plt.ylabel(\"Stats\", fontsize=25)\n",
    "plt.xticks(rotation=15)\n",
    "plt.savefig('images/grid_tree.png');"
   ]
  },
  {
   "cell_type": "markdown",
   "metadata": {},
   "source": [
    "# Post Modeling Study for Feature Importances"
   ]
  },
  {
   "cell_type": "markdown",
   "metadata": {},
   "source": [
    "The Modeling study will consist of checking how these features found by Logistic Regression and GridSearchCV with RandomForest are use in the actual raw review.\n",
    "\n",
    "As part of the MVP Project, this will be the scope of this study for Feature importances. As for the Stretch goal, I would like to dig in deeper and see if these features really do drive recommendation is postive and negative ways. "
   ]
  },
  {
   "cell_type": "code",
   "execution_count": 65,
   "metadata": {
    "scrolled": false
   },
   "outputs": [],
   "source": [
    "#df[df[\"delisted\"].str.contains(\"fit\")]"
   ]
  },
  {
   "cell_type": "code",
   "execution_count": 72,
   "metadata": {},
   "outputs": [],
   "source": [
    "#df.iloc[1124].review_text"
   ]
  },
  {
   "cell_type": "markdown",
   "metadata": {},
   "source": [
    "# Conclusion"
   ]
  },
  {
   "cell_type": "markdown",
   "metadata": {},
   "source": [
    "My models produced a decent F1 score and the features extracted from the Logistic Regression and GridSearchCV with RandomForest Classifier support each other. \n",
    "\n",
    "Therefore, my recommendation to Walmart marketing team would be to promote items that are true to size. If items fit well, then it is often recommended. Additionally, a proper fit is also \"comfortable\" and my analysis found that \"comfort\" drives recommendation.  Whereas, Customer's having to return products due to sizing issues seem to push items to being non-recommended. \n",
    "\n",
    "One way to tackle this would to be do additional research and tests on the partner brands to see how ture to size their products are. \n",
    "\n",
    "Additionally, it seems like quality control needs to be addressed. \n",
    "\n",
    "* \"When we opened the vacuum sealed packaging that this Mario suit came in, we were completely overwhelmed by a smell of mold and mildew.\"\n",
    "* \"First, the sweater came smelling really bad like vinegar. Worst of all, the design came off after just one wash!\"\n",
    "\n",
    "Walmart partners with brands, large and small, and sells their items online. However, when items are received by the customers in bad condition, Walmart receives the blame causing their public image to be degraded. \n"
   ]
  },
  {
   "cell_type": "markdown",
   "metadata": {},
   "source": [
    "## Next Steps\n"
   ]
  },
  {
   "cell_type": "markdown",
   "metadata": {},
   "source": [
    "During this analysis, I discovered that Brand's would get compared to each other in the reviews. I found multiple instances wherer this occurs but I could only find one again to demostrate as example: An inner wear item, Disney Junior Toddler Girls Sofia the First, was compared to Fruit of The Loom.\n"
   ]
  },
  {
   "cell_type": "markdown",
   "metadata": {},
   "source": [
    "* \"Seams are starting to unravel after first use. Spend the extra money on Hanes brand or Fruit of a Loom..so disappointed...\""
   ]
  },
  {
   "cell_type": "markdown",
   "metadata": {},
   "source": [
    "Another place I would like to spend more time is exploring whether lemmatize or stemming should even be considered. For instance, \"Slip\" was lemmatized from Slippers, slippery, slips, slipping. Slip was being refered correctly at itmes, where customers were talking about how the elastic does not perform well and causes the pants to slip and the item was not recommended. And other times, it was lemmatized from slippers\n"
   ]
  },
  {
   "cell_type": "markdown",
   "metadata": {},
   "source": [
    "* \"Hubby also claims they slip down easily if not tied tightly.\"\n",
    "\n",
    "* \"I sadly had to return my ballet slipper because I ordered the wrong size.\""
   ]
  },
  {
   "cell_type": "markdown",
   "metadata": {},
   "source": [
    "# For further clarification or inquiries:\n",
    "For further clarificaiton or inquiries you can email: ```dorjeys3@gmail.com``` with your questions.\n",
    "You can also find me [here](https://www.linkedin.com/in/dorjey-sherpa-45501814a/) on LinkedIn"
   ]
  },
  {
   "cell_type": "code",
   "execution_count": null,
   "metadata": {},
   "outputs": [],
   "source": []
  }
 ],
 "metadata": {
  "kernelspec": {
   "display_name": "Learn-env",
   "language": "python",
   "name": "learn-env"
  },
  "language_info": {
   "codemirror_mode": {
    "name": "ipython",
    "version": 3
   },
   "file_extension": ".py",
   "mimetype": "text/x-python",
   "name": "python",
   "nbconvert_exporter": "python",
   "pygments_lexer": "ipython3",
   "version": "3.6.9"
  }
 },
 "nbformat": 4,
 "nbformat_minor": 4
}
