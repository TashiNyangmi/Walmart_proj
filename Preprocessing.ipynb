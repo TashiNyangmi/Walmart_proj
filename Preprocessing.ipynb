{
 "cells": [
  {
   "cell_type": "code",
   "execution_count": 18,
   "metadata": {},
   "outputs": [],
   "source": [
    "\n",
    "import pandas as pd\n",
    "import numpy as np\n",
    "import seaborn as sns\n",
    "import matplotlib.pyplot as plt\n",
    "%matplotlib inline\n",
    "\n",
    "import re\n",
    "import nltk\n",
    "from sklearn.feature_extraction.text import CountVectorizer\n",
    "from sklearn.feature_extraction.text import TfidfVectorizer \n",
    "from nltk.probability import FreqDist\n",
    "from nltk.corpus import stopwords\n",
    "\n",
    "\n",
    "from sklearn import metrics\n",
    "from sklearn.metrics import confusion_matrix\n",
    "from sklearn.metrics import accuracy_score, classification_report\n",
    "from sklearn.metrics import f1_score\n",
    "\n",
    "\n",
    "from sklearn.model_selection import train_test_split\n",
    "from sklearn.naive_bayes import MultinomialNB\n",
    "from sklearn.ensemble import RandomForestClassifier\n",
    "\n",
    "\n",
    "\n",
    "import warnings\n",
    "warnings.filterwarnings(\"ignore\") \n",
    "\n",
    "\n",
    "pd.set_option('display.max_columns', 300)\n",
    "pd.set_option('display.max_rows', 200)\n"
   ]
  },
  {
   "cell_type": "code",
   "execution_count": 2,
   "metadata": {},
   "outputs": [],
   "source": [
    "clean_df = pd.read_csv(\"data/clean_df.csv\", index_col = 0)"
   ]
  },
  {
   "cell_type": "code",
   "execution_count": 3,
   "metadata": {
    "scrolled": true
   },
   "outputs": [
    {
     "data": {
      "text/html": [
       "<div>\n",
       "<style scoped>\n",
       "    .dataframe tbody tr th:only-of-type {\n",
       "        vertical-align: middle;\n",
       "    }\n",
       "\n",
       "    .dataframe tbody tr th {\n",
       "        vertical-align: top;\n",
       "    }\n",
       "\n",
       "    .dataframe thead th {\n",
       "        text-align: right;\n",
       "    }\n",
       "</style>\n",
       "<table border=\"1\" class=\"dataframe\">\n",
       "  <thead>\n",
       "    <tr style=\"text-align: right;\">\n",
       "      <th></th>\n",
       "      <th>item_name</th>\n",
       "      <th>price</th>\n",
       "      <th>overall_rating</th>\n",
       "      <th>num_rating</th>\n",
       "      <th>rev_title</th>\n",
       "      <th>review_text</th>\n",
       "      <th>section</th>\n",
       "      <th>target</th>\n",
       "    </tr>\n",
       "  </thead>\n",
       "  <tbody>\n",
       "    <tr>\n",
       "      <th>0</th>\n",
       "      <td>Wrangler Men's Unlined Shirt Jacket</td>\n",
       "      <td>12.0</td>\n",
       "      <td>4.0</td>\n",
       "      <td>7.0</td>\n",
       "      <td>['Texas winter ready!']</td>\n",
       "      <td>['I bought this last year and am going to buy ...</td>\n",
       "      <td>men's clothing</td>\n",
       "      <td>0</td>\n",
       "    </tr>\n",
       "    <tr>\n",
       "      <th>1</th>\n",
       "      <td>Wrangler Men's Relaxed Fit Jeans</td>\n",
       "      <td>12.0</td>\n",
       "      <td>4.5</td>\n",
       "      <td>5840.0</td>\n",
       "      <td>['Wrangler is the best.', 'My Favorite Jeans',...</td>\n",
       "      <td>['I like wrangler, the pants is exactly for my...</td>\n",
       "      <td>men's clothing</td>\n",
       "      <td>0</td>\n",
       "    </tr>\n",
       "    <tr>\n",
       "      <th>2</th>\n",
       "      <td>Wrangler Big Men's Relaxed Fit Jean</td>\n",
       "      <td>15.0</td>\n",
       "      <td>4.3</td>\n",
       "      <td>3257.0</td>\n",
       "      <td>['Jeans That Fit Just Right', 'Great jeans wou...</td>\n",
       "      <td>[\"If you like Big Men's style wearing jeans th...</td>\n",
       "      <td>men's clothing</td>\n",
       "      <td>0</td>\n",
       "    </tr>\n",
       "    <tr>\n",
       "      <th>3</th>\n",
       "      <td>Wrangler Men's 5 Star Regular Fit Jean with Flex</td>\n",
       "      <td>12.0</td>\n",
       "      <td>4.5</td>\n",
       "      <td>259.0</td>\n",
       "      <td>['Committed buyer', 'More Comfortable than Swe...</td>\n",
       "      <td>['My husband loves these jeans and goes throug...</td>\n",
       "      <td>men's clothing</td>\n",
       "      <td>0</td>\n",
       "    </tr>\n",
       "    <tr>\n",
       "      <th>4</th>\n",
       "      <td>Wrangler Men's and Big Men's 5 Star Relaxed Fi...</td>\n",
       "      <td>15.0</td>\n",
       "      <td>4.6</td>\n",
       "      <td>1490.0</td>\n",
       "      <td>['Saved money and faster delivery that Amazon'...</td>\n",
       "      <td>['Fit well Great price same jeans I was buying...</td>\n",
       "      <td>men's clothing</td>\n",
       "      <td>0</td>\n",
       "    </tr>\n",
       "    <tr>\n",
       "      <th>5</th>\n",
       "      <td>Champion Men's Powerblend Fleece Pullover Hoodie</td>\n",
       "      <td>22.0</td>\n",
       "      <td>4.6</td>\n",
       "      <td>1247.0</td>\n",
       "      <td>['Perfect!', 'Comfy Time', '2020 tie dye trend...</td>\n",
       "      <td>['They were exactly what I was searching for! ...</td>\n",
       "      <td>men's clothing</td>\n",
       "      <td>1</td>\n",
       "    </tr>\n",
       "    <tr>\n",
       "      <th>6</th>\n",
       "      <td>Fruit of the Loom Men's Core Waffle Thermal Top</td>\n",
       "      <td>5.0</td>\n",
       "      <td>3.3</td>\n",
       "      <td>9.0</td>\n",
       "      <td>['Love them', 'Love them - definitely a classi...</td>\n",
       "      <td>['These are very cozy! Body pair for me and my...</td>\n",
       "      <td>men's clothing</td>\n",
       "      <td>1</td>\n",
       "    </tr>\n",
       "    <tr>\n",
       "      <th>7</th>\n",
       "      <td>Champion Men's Powerblend Graphic Crew</td>\n",
       "      <td>22.5</td>\n",
       "      <td>4.7</td>\n",
       "      <td>377.0</td>\n",
       "      <td>['Great sweater and price!', 'A good purchase'...</td>\n",
       "      <td>['I bought 2 of these for $19 each were anothe...</td>\n",
       "      <td>men's clothing</td>\n",
       "      <td>0</td>\n",
       "    </tr>\n",
       "    <tr>\n",
       "      <th>8</th>\n",
       "      <td>Free Assembly Men's Two-Pocket Flannel Shirt</td>\n",
       "      <td>18.0</td>\n",
       "      <td>4.9</td>\n",
       "      <td>22.0</td>\n",
       "      <td>['Washes well.  Soft.  Good value.', 'Super su...</td>\n",
       "      <td>['My husband also likes this shirt. I washed a...</td>\n",
       "      <td>men's clothing</td>\n",
       "      <td>1</td>\n",
       "    </tr>\n",
       "    <tr>\n",
       "      <th>9</th>\n",
       "      <td>Lee Men’s Big &amp; Tall Regular Fit Jeans</td>\n",
       "      <td>24.9</td>\n",
       "      <td>4.4</td>\n",
       "      <td>913.0</td>\n",
       "      <td>['Great jeans', 'From 501s to Lee Jeans. Best ...</td>\n",
       "      <td>['I have bought Lee jeans for several years. T...</td>\n",
       "      <td>men's clothing</td>\n",
       "      <td>0</td>\n",
       "    </tr>\n",
       "  </tbody>\n",
       "</table>\n",
       "</div>"
      ],
      "text/plain": [
       "                                           item_name  price  overall_rating  \\\n",
       "0                Wrangler Men's Unlined Shirt Jacket   12.0             4.0   \n",
       "1                   Wrangler Men's Relaxed Fit Jeans   12.0             4.5   \n",
       "2                Wrangler Big Men's Relaxed Fit Jean   15.0             4.3   \n",
       "3   Wrangler Men's 5 Star Regular Fit Jean with Flex   12.0             4.5   \n",
       "4  Wrangler Men's and Big Men's 5 Star Relaxed Fi...   15.0             4.6   \n",
       "5   Champion Men's Powerblend Fleece Pullover Hoodie   22.0             4.6   \n",
       "6    Fruit of the Loom Men's Core Waffle Thermal Top    5.0             3.3   \n",
       "7             Champion Men's Powerblend Graphic Crew   22.5             4.7   \n",
       "8       Free Assembly Men's Two-Pocket Flannel Shirt   18.0             4.9   \n",
       "9             Lee Men’s Big & Tall Regular Fit Jeans   24.9             4.4   \n",
       "\n",
       "   num_rating                                          rev_title  \\\n",
       "0         7.0                            ['Texas winter ready!']   \n",
       "1      5840.0  ['Wrangler is the best.', 'My Favorite Jeans',...   \n",
       "2      3257.0  ['Jeans That Fit Just Right', 'Great jeans wou...   \n",
       "3       259.0  ['Committed buyer', 'More Comfortable than Swe...   \n",
       "4      1490.0  ['Saved money and faster delivery that Amazon'...   \n",
       "5      1247.0  ['Perfect!', 'Comfy Time', '2020 tie dye trend...   \n",
       "6         9.0  ['Love them', 'Love them - definitely a classi...   \n",
       "7       377.0  ['Great sweater and price!', 'A good purchase'...   \n",
       "8        22.0  ['Washes well.  Soft.  Good value.', 'Super su...   \n",
       "9       913.0  ['Great jeans', 'From 501s to Lee Jeans. Best ...   \n",
       "\n",
       "                                         review_text         section  target  \n",
       "0  ['I bought this last year and am going to buy ...  men's clothing       0  \n",
       "1  ['I like wrangler, the pants is exactly for my...  men's clothing       0  \n",
       "2  [\"If you like Big Men's style wearing jeans th...  men's clothing       0  \n",
       "3  ['My husband loves these jeans and goes throug...  men's clothing       0  \n",
       "4  ['Fit well Great price same jeans I was buying...  men's clothing       0  \n",
       "5  ['They were exactly what I was searching for! ...  men's clothing       1  \n",
       "6  ['These are very cozy! Body pair for me and my...  men's clothing       1  \n",
       "7  ['I bought 2 of these for $19 each were anothe...  men's clothing       0  \n",
       "8  ['My husband also likes this shirt. I washed a...  men's clothing       1  \n",
       "9  ['I have bought Lee jeans for several years. T...  men's clothing       0  "
      ]
     },
     "execution_count": 3,
     "metadata": {},
     "output_type": "execute_result"
    }
   ],
   "source": [
    "clean_df.head(10)"
   ]
  },
  {
   "cell_type": "code",
   "execution_count": 4,
   "metadata": {},
   "outputs": [
    {
     "data": {
      "text/plain": [
       "'[\\'Saved money and faster delivery that Amazon\\', \\'Very comfortable jeans\\', \\'Great fit - not too baggy, not too skinny!\\', \\'Very durable\\', \\'Pockets are ripped on everyone about eight months\\', \"Wrangler men\\'s relaxed fit jeans\", \\'Tight in thigh, lighter color in front not solid\\', \\'Ripped within the first week.\\', \\'Poor Quality\\', \\'Mis-manufactured on purpose...STUPID\\', \\'Bad quality control.\\', \\'Wrangler jeans. Still the best.\\', \\'Not What I Wanted\\', \\'NOT A FAN\\', \\'Solid. Replaced all my old jeans with these.\\', \\'These are ok\\', \\'Good fit\\', \\'Practical and comfortable at a great price.\\', \"Wrangler doesn\\'t miss\", \\'How they fit\\']'"
      ]
     },
     "execution_count": 4,
     "metadata": {},
     "output_type": "execute_result"
    }
   ],
   "source": [
    "clean_df.rev_title[4]"
   ]
  },
  {
   "cell_type": "code",
   "execution_count": 17,
   "metadata": {},
   "outputs": [
    {
     "data": {
      "text/plain": [
       "'Saved money and faster delivery that Amazon Very comfortable jeans Great fit not too baggy not too skinny Very durable Pockets are ripped on everyone about eight months Wrangler men s relaxed fit jeans Tight in thigh lighter color in front not solid Ripped within the first week Poor Quality Mis manufactured on purpose STUPID Bad quality control Wrangler jeans Still the best Not What I Wanted NOT A FAN Solid Replaced all my old jeans with these These are ok Good fit Practical and comfortable at a great price Wrangler doesn t miss How they fit'"
      ]
     },
     "execution_count": 17,
     "metadata": {},
     "output_type": "execute_result"
    }
   ],
   "source": [
    "\n",
    "x = '[\\'Saved money and faster delivery that Amazon\\', \\'Very comfortable jeans\\', \\'Great fit - not too baggy, not too skinny!\\', \\'Very durable\\', \\'Pockets are ripped on everyone about eight months\\', \"Wrangler men\\'s relaxed fit jeans\", \\'Tight in thigh, lighter color in front not solid\\', \\'Ripped within the first week.\\', \\'Poor Quality\\', \\'Mis-manufactured on purpose...STUPID\\', \\'Bad quality control.\\', \\'Wrangler jeans. Still the best.\\', \\'Not What I Wanted\\', \\'NOT A FAN\\', \\'Solid. Replaced all my old jeans with these.\\', \\'These are ok\\', \\'Good fit\\', \\'Practical and comfortable at a great price.\\', \"Wrangler doesn\\'t miss\", \\'How they fit\\']'\n",
    "' '.join(re.sub(\"([^0-9A-Za-z])\",\" \",x).split())"
   ]
  },
  {
   "cell_type": "code",
   "execution_count": 6,
   "metadata": {},
   "outputs": [],
   "source": [
    "## all funcitons live in the scripts folder\n",
    "def clean_text(text):\n",
    "    text.replace(\"\\\\n\",\" \")\n",
    "    text =  ' '.join(re.sub(\"([^0-9A-Za-z])\",\" \",text).split())\n",
    "    return text.lower()"
   ]
  },
  {
   "cell_type": "code",
   "execution_count": 7,
   "metadata": {},
   "outputs": [],
   "source": [
    "clean_df[\"rev_title\"] = clean_df.rev_title.apply(clean_text)"
   ]
  },
  {
   "cell_type": "markdown",
   "metadata": {},
   "source": [
    "### Now cleaning review_text column"
   ]
  },
  {
   "cell_type": "code",
   "execution_count": 8,
   "metadata": {},
   "outputs": [],
   "source": [
    "clean_df[\"review_text\"] = clean_df[\"review_text\"].apply(clean_text)"
   ]
  },
  {
   "cell_type": "code",
   "execution_count": 10,
   "metadata": {},
   "outputs": [
    {
     "data": {
      "text/plain": [
       "'my husband also likes this shirt i washed and put in dryer before wearing came out almost free of wrinkles no shrinking that he noticed nice soft plaid need more colors the material is super soft and comfortable and the shirt has a good weight to it if i compared it to paper this is the card stock quality got for my husband and he loves it and wears it all the time now great fit soft well made he loves the blue these shirts are a very good quality fits great happily surprised by the high quality of the fabric and make of this shirt soft perfect fit and nice weight perfect for fall and winter super comfy high quality looks great will be ordering more of these shirts great quality fit and design nice quality thick and warm what i thought was a light weight flannel shirt for florida weather i received a thick and heavy flannel jacket a better description is necessary ordered a couple of free assembly flannels and am really pleased with what i received for the price point the design sense is spot on and the quality is excellent jumping online to order the cropped bootcut jeans my husband loves this shirt nquality made ntrue to size ndoes it come in more colors'"
      ]
     },
     "execution_count": 10,
     "metadata": {},
     "output_type": "execute_result"
    }
   ],
   "source": [
    "clean_df.review_text[8]"
   ]
  },
  {
   "cell_type": "code",
   "execution_count": 11,
   "metadata": {},
   "outputs": [
    {
     "data": {
      "text/html": [
       "<div>\n",
       "<style scoped>\n",
       "    .dataframe tbody tr th:only-of-type {\n",
       "        vertical-align: middle;\n",
       "    }\n",
       "\n",
       "    .dataframe tbody tr th {\n",
       "        vertical-align: top;\n",
       "    }\n",
       "\n",
       "    .dataframe thead th {\n",
       "        text-align: right;\n",
       "    }\n",
       "</style>\n",
       "<table border=\"1\" class=\"dataframe\">\n",
       "  <thead>\n",
       "    <tr style=\"text-align: right;\">\n",
       "      <th></th>\n",
       "      <th>item_name</th>\n",
       "      <th>price</th>\n",
       "      <th>overall_rating</th>\n",
       "      <th>num_rating</th>\n",
       "      <th>rev_title</th>\n",
       "      <th>review_text</th>\n",
       "      <th>section</th>\n",
       "      <th>target</th>\n",
       "    </tr>\n",
       "  </thead>\n",
       "  <tbody>\n",
       "    <tr>\n",
       "      <th>0</th>\n",
       "      <td>Wrangler Men's Unlined Shirt Jacket</td>\n",
       "      <td>12.0</td>\n",
       "      <td>4.0</td>\n",
       "      <td>7.0</td>\n",
       "      <td>texas winter ready</td>\n",
       "      <td>i bought this last year and am going to buy an...</td>\n",
       "      <td>men's clothing</td>\n",
       "      <td>0</td>\n",
       "    </tr>\n",
       "    <tr>\n",
       "      <th>1</th>\n",
       "      <td>Wrangler Men's Relaxed Fit Jeans</td>\n",
       "      <td>12.0</td>\n",
       "      <td>4.5</td>\n",
       "      <td>5840.0</td>\n",
       "      <td>wrangler is the best my favorite jeans extreme...</td>\n",
       "      <td>i like wrangler the pants is exactly for my bo...</td>\n",
       "      <td>men's clothing</td>\n",
       "      <td>0</td>\n",
       "    </tr>\n",
       "    <tr>\n",
       "      <th>2</th>\n",
       "      <td>Wrangler Big Men's Relaxed Fit Jean</td>\n",
       "      <td>15.0</td>\n",
       "      <td>4.3</td>\n",
       "      <td>3257.0</td>\n",
       "      <td>jeans that fit just right great jeans would bu...</td>\n",
       "      <td>if you like big men s style wearing jeans thes...</td>\n",
       "      <td>men's clothing</td>\n",
       "      <td>0</td>\n",
       "    </tr>\n",
       "    <tr>\n",
       "      <th>3</th>\n",
       "      <td>Wrangler Men's 5 Star Regular Fit Jean with Flex</td>\n",
       "      <td>12.0</td>\n",
       "      <td>4.5</td>\n",
       "      <td>259.0</td>\n",
       "      <td>committed buyer more comfortable than sweatpan...</td>\n",
       "      <td>my husband loves these jeans and goes through ...</td>\n",
       "      <td>men's clothing</td>\n",
       "      <td>0</td>\n",
       "    </tr>\n",
       "    <tr>\n",
       "      <th>4</th>\n",
       "      <td>Wrangler Men's and Big Men's 5 Star Relaxed Fi...</td>\n",
       "      <td>15.0</td>\n",
       "      <td>4.6</td>\n",
       "      <td>1490.0</td>\n",
       "      <td>saved money and faster delivery that amazon ve...</td>\n",
       "      <td>fit well great price same jeans i was buying o...</td>\n",
       "      <td>men's clothing</td>\n",
       "      <td>0</td>\n",
       "    </tr>\n",
       "    <tr>\n",
       "      <th>5</th>\n",
       "      <td>Champion Men's Powerblend Fleece Pullover Hoodie</td>\n",
       "      <td>22.0</td>\n",
       "      <td>4.6</td>\n",
       "      <td>1247.0</td>\n",
       "      <td>perfect comfy time 2020 tie dye trend online o...</td>\n",
       "      <td>they were exactly what i was searching for nic...</td>\n",
       "      <td>men's clothing</td>\n",
       "      <td>1</td>\n",
       "    </tr>\n",
       "  </tbody>\n",
       "</table>\n",
       "</div>"
      ],
      "text/plain": [
       "                                           item_name  price  overall_rating  \\\n",
       "0                Wrangler Men's Unlined Shirt Jacket   12.0             4.0   \n",
       "1                   Wrangler Men's Relaxed Fit Jeans   12.0             4.5   \n",
       "2                Wrangler Big Men's Relaxed Fit Jean   15.0             4.3   \n",
       "3   Wrangler Men's 5 Star Regular Fit Jean with Flex   12.0             4.5   \n",
       "4  Wrangler Men's and Big Men's 5 Star Relaxed Fi...   15.0             4.6   \n",
       "5   Champion Men's Powerblend Fleece Pullover Hoodie   22.0             4.6   \n",
       "\n",
       "   num_rating                                          rev_title  \\\n",
       "0         7.0                                 texas winter ready   \n",
       "1      5840.0  wrangler is the best my favorite jeans extreme...   \n",
       "2      3257.0  jeans that fit just right great jeans would bu...   \n",
       "3       259.0  committed buyer more comfortable than sweatpan...   \n",
       "4      1490.0  saved money and faster delivery that amazon ve...   \n",
       "5      1247.0  perfect comfy time 2020 tie dye trend online o...   \n",
       "\n",
       "                                         review_text         section  target  \n",
       "0  i bought this last year and am going to buy an...  men's clothing       0  \n",
       "1  i like wrangler the pants is exactly for my bo...  men's clothing       0  \n",
       "2  if you like big men s style wearing jeans thes...  men's clothing       0  \n",
       "3  my husband loves these jeans and goes through ...  men's clothing       0  \n",
       "4  fit well great price same jeans i was buying o...  men's clothing       0  \n",
       "5  they were exactly what i was searching for nic...  men's clothing       1  "
      ]
     },
     "execution_count": 11,
     "metadata": {},
     "output_type": "execute_result"
    }
   ],
   "source": [
    "clean_df.head(6)"
   ]
  },
  {
   "cell_type": "code",
   "execution_count": null,
   "metadata": {},
   "outputs": [],
   "source": []
  },
  {
   "cell_type": "code",
   "execution_count": null,
   "metadata": {},
   "outputs": [],
   "source": [
    "def lemmatize_text(text):\n",
    "     return [lemmatizer.lemmatize(word.replace(\" \", \"\")) for word in tokenizer.tokenize(text)]"
   ]
  },
  {
   "cell_type": "code",
   "execution_count": null,
   "metadata": {},
   "outputs": [],
   "source": []
  },
  {
   "cell_type": "code",
   "execution_count": null,
   "metadata": {},
   "outputs": [],
   "source": []
  },
  {
   "cell_type": "code",
   "execution_count": null,
   "metadata": {},
   "outputs": [],
   "source": []
  },
  {
   "cell_type": "code",
   "execution_count": 12,
   "metadata": {},
   "outputs": [],
   "source": [
    "clean_df.to_csv(\"full_clean_df.csv\")"
   ]
  }
 ],
 "metadata": {
  "kernelspec": {
   "display_name": "Learn-env",
   "language": "python",
   "name": "learn-env"
  },
  "language_info": {
   "codemirror_mode": {
    "name": "ipython",
    "version": 3
   },
   "file_extension": ".py",
   "mimetype": "text/x-python",
   "name": "python",
   "nbconvert_exporter": "python",
   "pygments_lexer": "ipython3",
   "version": "3.6.9"
  }
 },
 "nbformat": 4,
 "nbformat_minor": 4
}
