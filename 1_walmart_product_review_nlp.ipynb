{
 "cells": [
  {
   "cell_type": "markdown",
   "metadata": {},
   "source": [
    "# <u>Walmart Product Review Analysis <u/>"
   ]
  },
  {
   "cell_type": "markdown",
   "metadata": {},
   "source": [
    "## Business Motivation\n",
    "\n",
    "2020 has been a hectic year but it has shown the importance of technology across all sectors. One of the major sectors being retail. \n",
    "\"Save Money, Live Better\" is Walmart's motto and philosophy and inorder for Walmart to live by their slogan, they need to be able to get the \"best\" items out for their customers based on the customer's want and need, both in store and online. \n",
    "\n",
    "Walmart is known for being the [King of retail stores](https://www.pioneeringminds.com/walmart/) but this is taking the physical stores into account. Since 2017, Walmart has made strong initiative to strengthen their online presence. Amidst the pandemic, Walmart saw a [74% increase in online sales in the first quarter](https://www.supermarketnews.com/retail-financial/walmart-sees-q1-us-comps-jump-10-online-sales-soar-74) as people worked from home and required goods to be delivered due to limited access to physical locations. \n",
    "\n",
    "However, currently, Walmart's online market promotes clothing products by price range and brand. Within these subcategory, itesm are displayed by \"clerance\", \"best seller\" and then the new and regular items. \n",
    "\n",
    "Clerance are the items on sale - \"save money, live better\" - this makes sense. The \"new\" and regualr items are the rest of the goods that Walmart carries - this also makes sense. \n",
    "\n",
    "However, most of the \"best seller\" items that I found, had very few people rateings on them and some did not even contain any text reviews. Walmart might have generated these \"best seller\" items from their sales data but for an online space, where customers cannot touch or feel the products, its really important to get feedback from other purchasers. So recommending products based on purely sales records does not help in the online space.\n",
    "\n",
    "Now if Walmart were able to analyze customer's reviews and promote goods based on customer's \"recommended\" score and descriptive keywords, Walmart's marketing team would then be better able to market products that resonates with more customers.\n",
    "\n",
    "\n",
    "### Goal\n",
    "This analysis will look at Walmart clothing reviews to find key features that predict whether a customer will recommend an item or not. The features that guide the predictions can then used to guide Walmart's online and/or in-store marketing/product campaigns. This investigation will be conducted using [Natural Language Processing](https://en.wikipedia.org/wiki/Natural_language_processing) packages and libraries. "
   ]
  },
  {
   "cell_type": "markdown",
   "metadata": {},
   "source": [
    "# Data"
   ]
  },
  {
   "cell_type": "markdown",
   "metadata": {},
   "source": [
    "Data was scraped directly from the Walmart webpage. The notebooks for scraping can be found in the [Walmart Scraper](https://github.com/dorjeys3/Walmart_proj/tree/master/Walmart_scraper) folder. \n",
    "### Notebook\n",
    "This notebook's sole purpose is to remove noise and clean the continuous variables such as: \"price\", \"overall_rating\", \"num_rating\" and \"recommended\""
   ]
  },
  {
   "cell_type": "markdown",
   "metadata": {},
   "source": [
    "### Import libraries"
   ]
  },
  {
   "cell_type": "code",
   "execution_count": 1,
   "metadata": {},
   "outputs": [],
   "source": [
    "import pandas as pd\n",
    "import numpy as np\n",
    "# necessary for data visualizations \n",
    "import seaborn as sns\n",
    "import matplotlib.pyplot as plt\n",
    "%matplotlib inline\n",
    "\n",
    "import warnings\n",
    "warnings.filterwarnings(\"ignore\") \n",
    "\n",
    "\n",
    "pd.set_option('display.max_columns', 300)\n",
    "pd.set_option('display.max_rows', 200)\n"
   ]
  },
  {
   "cell_type": "markdown",
   "metadata": {},
   "source": [
    "### Import scraped dataframes"
   ]
  },
  {
   "cell_type": "code",
   "execution_count": 2,
   "metadata": {},
   "outputs": [],
   "source": [
    "mens_df = pd.read_csv(\"data/item_review/walmart_reviews.csv\")\n",
    "womens_df = pd.read_csv(\"data/item_review/walmart_womens_reviews.csv\")\n",
    "boys_df = pd.read_csv(\"data/item_review/walmart_boys_clothing_reviews.csv\")\n",
    "girls_df = pd.read_csv(\"data/item_review/walmart_girls_clothing_reviews.csv\")"
   ]
  },
  {
   "cell_type": "code",
   "execution_count": 3,
   "metadata": {},
   "outputs": [],
   "source": [
    "# dropping all duplicates and \"Unnamed: 0\" columns and adding a section feature\n",
    "womens_df.drop(columns=[\"Unnamed: 0\"], inplace = True)\n",
    "womens_df.drop_duplicates(subset=\"item_name\", inplace=True)\n",
    "womens_df[\"section\"] = \"women's clothing\"\n",
    "\n",
    "mens_df.drop(columns=[\"Unnamed: 0\"], inplace = True)\n",
    "mens_df.drop_duplicates(subset=\"item_name\", inplace=True)\n",
    "mens_df[\"section\"] = \"men's clothing\"\n",
    "\n",
    "boys_df.drop(columns=[\"Unnamed: 0\"], inplace = True)\n",
    "boys_df.drop_duplicates(subset=\"item_name\", inplace=True)\n",
    "boys_df[\"section\"] = \"boy's clothing\"\n",
    "\n",
    "girls_df.drop(columns=[\"Unnamed: 0\"], inplace = True)\n",
    "girls_df.drop_duplicates(subset=\"item_name\", inplace=True)\n",
    "girls_df[\"section\"]=\"girl's clothing\""
   ]
  },
  {
   "cell_type": "code",
   "execution_count": 4,
   "metadata": {},
   "outputs": [],
   "source": [
    "# print(mens_df.shape)\n",
    "# print(womens_df.shape)\n",
    "# print(boys_df.shape)\n",
    "# print(girls_df.shape)"
   ]
  },
  {
   "cell_type": "markdown",
   "metadata": {},
   "source": [
    "There are 308 men's clothing, 471 women's clothing, 154 boys' clothing and 292 girls' clothing. Resulting in 1,225 observations. "
   ]
  },
  {
   "cell_type": "markdown",
   "metadata": {},
   "source": [
    "# Concatenating the different files into one dataframe"
   ]
  },
  {
   "cell_type": "code",
   "execution_count": 5,
   "metadata": {},
   "outputs": [],
   "source": [
    "frames = [mens_df, womens_df, boys_df, girls_df]\n",
    "# I will be working with cleaning_df going forward in this notebook\n",
    "cleaning_df = pd.concat(frames, ignore_index=True)"
   ]
  },
  {
   "cell_type": "code",
   "execution_count": 6,
   "metadata": {
    "scrolled": true
   },
   "outputs": [
    {
     "data": {
      "text/plain": [
       "(1225, 10)"
      ]
     },
     "execution_count": 6,
     "metadata": {},
     "output_type": "execute_result"
    }
   ],
   "source": [
    "# confirming the number of observations\n",
    "cleaning_df.shape"
   ]
  },
  {
   "cell_type": "code",
   "execution_count": 7,
   "metadata": {},
   "outputs": [],
   "source": [
    "# #saving the newly made dataframe. \n",
    "# cleaning_df.to_csv(\"data/cleaning_df.csv\")"
   ]
  },
  {
   "cell_type": "markdown",
   "metadata": {
    "scrolled": true
   },
   "source": [
    "Things to check: \n",
    "- If overall rating = NaN, then 0. \n",
    "- If recommened = NaN, then 0. \n",
    "- But check the num_rating condition first. This would mean that not enough people have given the item a review. "
   ]
  },
  {
   "cell_type": "code",
   "execution_count": 8,
   "metadata": {},
   "outputs": [
    {
     "data": {
      "text/html": [
       "<div>\n",
       "<style scoped>\n",
       "    .dataframe tbody tr th:only-of-type {\n",
       "        vertical-align: middle;\n",
       "    }\n",
       "\n",
       "    .dataframe tbody tr th {\n",
       "        vertical-align: top;\n",
       "    }\n",
       "\n",
       "    .dataframe thead th {\n",
       "        text-align: right;\n",
       "    }\n",
       "</style>\n",
       "<table border=\"1\" class=\"dataframe\">\n",
       "  <thead>\n",
       "    <tr style=\"text-align: right;\">\n",
       "      <th></th>\n",
       "      <th>item_name</th>\n",
       "      <th>price</th>\n",
       "      <th>overall_rating</th>\n",
       "      <th>num_rating</th>\n",
       "      <th>recommend</th>\n",
       "      <th>rev_title</th>\n",
       "      <th>rev_date</th>\n",
       "      <th>review_text</th>\n",
       "      <th>rating_stars</th>\n",
       "      <th>section</th>\n",
       "    </tr>\n",
       "  </thead>\n",
       "  <tbody>\n",
       "  </tbody>\n",
       "</table>\n",
       "</div>"
      ],
      "text/plain": [
       "Empty DataFrame\n",
       "Columns: [item_name, price, overall_rating, num_rating, recommend, rev_title, rev_date, review_text, rating_stars, section]\n",
       "Index: []"
      ]
     },
     "execution_count": 8,
     "metadata": {},
     "output_type": "execute_result"
    }
   ],
   "source": [
    "cleaning_df[cleaning_df.num_rating==0]"
   ]
  },
  {
   "cell_type": "code",
   "execution_count": 9,
   "metadata": {
    "scrolled": true
   },
   "outputs": [
    {
     "data": {
      "text/plain": [
       "'[\\'They were exactly what I was searching for! Nice, thick material and definitely worth the price. Ive seen the exact same ones in other stores for $50-$60. I did the next day shipping because I needed them for a camping trip two days after I ordered and still had to iron on the vinyl. It delivered right on time which I was nervous about.\\', \\'I actually did not expect this hoodie to be this comfortable and warm. I bought the purple hoodie and i thought it was going to be a light purple, but im still happy with this color\\', \\'I got these sweatshirts in white for my boyfriend and I to tie dye using two shades of blue Ritt Dye. The fabric held the color BEAUTIFULLY and out horsies turned out so dreamy!! 100% recommend. Super soft inside and a medium weight.\\', \\'Great quality and despite the pandemic it came on time! [This review was collected as part of a promotion.]\\', \"I am a HUGE fan of the Powerblend Hoodie! I have several, and I love the softness, comfort, and quality of the materials and workmanship. I\\'m a female with an athletic, tall build, so the men\\'s small fits me better than the women\\'s version. It is my favorite hoodie - you\\'ve spoiled me!\", \\'I love the gold color. Its bold and noticeable. The quality and size are true to description.\\', \\'It’s a little thin, it’s not as bulky as some of the other sweatshirts. I got this for my boyfriend and hopefully he likes it.\\', \\'Very comfortable, launders well. Just a good basic sweatshirt hoodie. I ordered 4, the sizing was a little inconsistent on one of them but still wearable.\\', \"It\\'s a bit too bigger than you think\", \\'That hoodie makes me look like idiot. Will never buy this brand again.\\', \\'The hoodie is great quality and well made. It came pretty small compared to other hoodies so it is pretty tight.\\', \"The material is very warm and comfortable. I\\'m pretty small so I had to go for an xs. The xs fit me well if you like your sweaters not sticked to your body this might be the perfect one for you. I might buy this same style but a different color. Overall, great sweater to buy.\", \\'Great material and very good for every situation, sports, casual. [This review was collected as part of a promotion.]\\', \\'Ok first I want to say I like the look of this pullover.  It does however fir small. I ordered a small and it was too tight, I exchanged for a medium and it fit the same, come to find out they were both a medium so when I exchanged it I thought I was exchanging the small for the medium. So bottom line is going by the size chart I was supposed to need the small but even a medium was too small. So if you purchase this you may want to get two sizes bigger to get the fit you need.\\', \\'Great hoodie that is very comfortable and very soft on the inside and the hood strings on the end had nice metal \"aglets\" (learned that one from Phineas and Ferb), on the end instead of the plastic heat shrink that always comes off or apart after a bunch of washes.\\', \"doesn\\'t come in navy blue and is cut a bit smaller than older champions, but still a good sweatshirt\", \\'Great, normal comfortable hoodie for everyday use. Work, exercise, just a hoodie to keep on hand, amazing quality.\\', \"This hoodie has really nice quality and fits me very well except for the sleeve cuffs, I will have to get them sewn to better fit my wrists. This product does run large but I went with my usual medium and it\\'s fine.\", \\'Fit very well, i got one for my boyfriend and i and he loved it.\\', \\'I ordered a medium and Im a little over 6 foot so I was worried how it would fit my arms but this hoodie is perfect. I love that it tapers through the arm to the wrist like how joggers get slimmer towards the ankles. I bought this hoodie to wear at work since its starting to get colder but I might order another one. I didnt think I could love a hoodie so much\\']'"
      ]
     },
     "execution_count": 9,
     "metadata": {},
     "output_type": "execute_result"
    }
   ],
   "source": [
    "cleaning_df.review_text[6]"
   ]
  },
  {
   "cell_type": "code",
   "execution_count": 10,
   "metadata": {},
   "outputs": [
    {
     "data": {
      "text/plain": [
       "'April 8, 2020'"
      ]
     },
     "execution_count": 10,
     "metadata": {},
     "output_type": "execute_result"
    }
   ],
   "source": [
    "cleaning_df.rev_date[500]"
   ]
  },
  {
   "cell_type": "code",
   "execution_count": 11,
   "metadata": {},
   "outputs": [
    {
     "data": {
      "text/plain": [
       "'456 ratings'"
      ]
     },
     "execution_count": 11,
     "metadata": {},
     "output_type": "execute_result"
    }
   ],
   "source": [
    "cleaning_df.num_rating[500]"
   ]
  },
  {
   "cell_type": "code",
   "execution_count": 12,
   "metadata": {},
   "outputs": [
    {
     "data": {
      "text/plain": [
       "'$8.24 $ 8 . 24 $8.24 $ 8 . 24'"
      ]
     },
     "execution_count": 12,
     "metadata": {},
     "output_type": "execute_result"
    }
   ],
   "source": [
    "cleaning_df.price[500]"
   ]
  },
  {
   "cell_type": "code",
   "execution_count": 13,
   "metadata": {},
   "outputs": [
    {
     "data": {
      "text/plain": [
       "item_name           2\n",
       "price               2\n",
       "overall_rating    108\n",
       "num_rating          0\n",
       "recommend         108\n",
       "rev_title         121\n",
       "rev_date            2\n",
       "review_text        76\n",
       "rating_stars        2\n",
       "section             0\n",
       "dtype: int64"
      ]
     },
     "execution_count": 13,
     "metadata": {},
     "output_type": "execute_result"
    }
   ],
   "source": [
    "cleaning_df.isnull().sum()"
   ]
  },
  {
   "cell_type": "markdown",
   "metadata": {},
   "source": [
    "## Null values\n",
    "There are null values in all features, except num_rating and section. \n",
    "- \"Rev_date\" is not a helpful column, so will drop that column entirely. \n",
    "- In order to declare which items will do well and wont, I will need name of the item. Thus I will drop the two items\n",
    "- I will need to look more into \"overall_rating\" and \"recommend\"\n",
    "- rating starts will probably changed to 0. but will need to look more into it.\n",
    "\n",
    "Regarding the text, the EDA will be done in the next notebook. \n",
    "- Where there is no \"rev_title\", I will add \"No Title\". This is only for EDA purpose. \n",
    "- I will need to look more closly into the review_text before dropping any rows. \n",
    " "
   ]
  },
  {
   "cell_type": "code",
   "execution_count": 14,
   "metadata": {},
   "outputs": [
    {
     "data": {
      "text/plain": [
       "item_name           0\n",
       "price               0\n",
       "overall_rating    106\n",
       "num_rating          0\n",
       "recommend         106\n",
       "rev_title         119\n",
       "review_text        74\n",
       "rating_stars        0\n",
       "section             0\n",
       "dtype: int64"
      ]
     },
     "execution_count": 14,
     "metadata": {},
     "output_type": "execute_result"
    }
   ],
   "source": [
    "# droppping rev_date as mentioned above\n",
    "cleaning_df.drop(columns = \"rev_date\", inplace = True)\n",
    "# droppping item_name as mentioned above\n",
    "cleaning_df.dropna(subset=[\"item_name\"], axis = 0, how=\"any\", inplace=True)\n",
    "# confirming the rev_date column and null values from item_name were dropped. \n",
    "cleaning_df.isnull().sum()"
   ]
  },
  {
   "cell_type": "code",
   "execution_count": 15,
   "metadata": {},
   "outputs": [
    {
     "name": "stdout",
     "output_type": "stream",
     "text": [
      "<class 'pandas.core.frame.DataFrame'>\n",
      "Int64Index: 1223 entries, 0 to 1224\n",
      "Data columns (total 9 columns):\n",
      " #   Column          Non-Null Count  Dtype  \n",
      "---  ------          --------------  -----  \n",
      " 0   item_name       1223 non-null   object \n",
      " 1   price           1223 non-null   object \n",
      " 2   overall_rating  1223 non-null   float64\n",
      " 3   num_rating      1223 non-null   object \n",
      " 4   recommend       1117 non-null   object \n",
      " 5   rev_title       1104 non-null   object \n",
      " 6   review_text     1149 non-null   object \n",
      " 7   rating_stars    1223 non-null   object \n",
      " 8   section         1223 non-null   object \n",
      "dtypes: float64(1), object(8)\n",
      "memory usage: 95.5+ KB\n"
     ]
    }
   ],
   "source": [
    "# filling null values in overall rating to 0. \n",
    "cleaning_df[\"overall_rating\"] = cleaning_df[\"overall_rating\"].fillna(0)\n",
    "# confirming the replacement of null values in overall rating\n",
    "cleaning_df.info()"
   ]
  },
  {
   "cell_type": "code",
   "execution_count": 16,
   "metadata": {},
   "outputs": [],
   "source": [
    "# if recommended score is null, then it is replcaed by a 0. I did not want to interject my own bias by scoring the item. \n",
    "cleaning_df[\"recommend\"].fillna(0, inplace = True)\n",
    "# if review_title is null, then it is replcaed by a \"No title\". I did not want to interject my own bias.\n",
    "cleaning_df[\"rev_title\"].fillna(\"No Title\", inplace = True)"
   ]
  },
  {
   "cell_type": "code",
   "execution_count": 17,
   "metadata": {},
   "outputs": [
    {
     "data": {
      "text/plain": [
       "item_name          0\n",
       "price              0\n",
       "overall_rating     0\n",
       "num_rating         0\n",
       "recommend          0\n",
       "rev_title          0\n",
       "review_text       74\n",
       "rating_stars       0\n",
       "section            0\n",
       "dtype: int64"
      ]
     },
     "execution_count": 17,
     "metadata": {},
     "output_type": "execute_result"
    }
   ],
   "source": [
    "cleaning_df.isna().sum()"
   ]
  },
  {
   "cell_type": "markdown",
   "metadata": {},
   "source": [
    "Now that all null values have been addressed, we can proceed to cleaning and removing all noise from the continuous variables. "
   ]
  },
  {
   "cell_type": "markdown",
   "metadata": {},
   "source": [
    "### Noise Cleaning\n",
    "All the contineous values have a lot of noise. The end goal will be to: \n",
    "- remove $ sign from \"price\" and only have 1 of 4 price\n",
    "- remove the trailing \"ratings\" from \"num_ratings\" column\n",
    "- remove the percentage sign from \"recommend\" column "
   ]
  },
  {
   "cell_type": "markdown",
   "metadata": {},
   "source": [
    "## Cleaning price and ratings column "
   ]
  },
  {
   "cell_type": "code",
   "execution_count": 18,
   "metadata": {},
   "outputs": [],
   "source": [
    "# function lives in the scripts folder\n",
    "def convertor(x):\n",
    "    '''Converts string to a list and returns index 0'''\n",
    "    #used to clean raw price column and num_rating column\n",
    "    x = list(x.split(\" \"))\n",
    "    return x[0]\n"
   ]
  },
  {
   "cell_type": "code",
   "execution_count": 19,
   "metadata": {},
   "outputs": [],
   "source": [
    "cleaning_df[\"price\"] = cleaning_df[\"price\"].apply(convertor)\n",
    "cleaning_df[\"num_rating\"] = cleaning_df[\"num_rating\"].apply(convertor)"
   ]
  },
  {
   "cell_type": "code",
   "execution_count": 20,
   "metadata": {},
   "outputs": [],
   "source": [
    "def remove_dollar(x):\n",
    "    x = list(x.split(\"$\"))\n",
    "    return x[1]"
   ]
  },
  {
   "cell_type": "code",
   "execution_count": 21,
   "metadata": {},
   "outputs": [],
   "source": [
    "cleaning_df[\"price\"]= cleaning_df[\"price\"].apply(remove_dollar)"
   ]
  },
  {
   "cell_type": "code",
   "execution_count": 22,
   "metadata": {},
   "outputs": [
    {
     "data": {
      "text/html": [
       "<div>\n",
       "<style scoped>\n",
       "    .dataframe tbody tr th:only-of-type {\n",
       "        vertical-align: middle;\n",
       "    }\n",
       "\n",
       "    .dataframe tbody tr th {\n",
       "        vertical-align: top;\n",
       "    }\n",
       "\n",
       "    .dataframe thead th {\n",
       "        text-align: right;\n",
       "    }\n",
       "</style>\n",
       "<table border=\"1\" class=\"dataframe\">\n",
       "  <thead>\n",
       "    <tr style=\"text-align: right;\">\n",
       "      <th></th>\n",
       "      <th>item_name</th>\n",
       "      <th>price</th>\n",
       "      <th>overall_rating</th>\n",
       "      <th>num_rating</th>\n",
       "      <th>recommend</th>\n",
       "      <th>rev_title</th>\n",
       "      <th>review_text</th>\n",
       "      <th>rating_stars</th>\n",
       "      <th>section</th>\n",
       "    </tr>\n",
       "  </thead>\n",
       "  <tbody>\n",
       "    <tr>\n",
       "      <th>0</th>\n",
       "      <td>Wrangler Men's Unlined Shirt Jacket</td>\n",
       "      <td>12.00</td>\n",
       "      <td>4.0</td>\n",
       "      <td>7</td>\n",
       "      <td>80%</td>\n",
       "      <td>['Texas winter ready!']</td>\n",
       "      <td>['I bought this last year and am going to buy ...</td>\n",
       "      <td>['Average Rating: ( 5.0 ) out of 5 stars 7 rat...</td>\n",
       "      <td>men's clothing</td>\n",
       "    </tr>\n",
       "    <tr>\n",
       "      <th>1</th>\n",
       "      <td>Wrangler Men's Relaxed Fit Jeans</td>\n",
       "      <td>12.00</td>\n",
       "      <td>4.5</td>\n",
       "      <td>5840</td>\n",
       "      <td>90%</td>\n",
       "      <td>['Wrangler is the best.', 'My Favorite Jeans',...</td>\n",
       "      <td>['I like wrangler, the pants is exactly for my...</td>\n",
       "      <td>['Average Rating: ( 5.0 ) out of 5 stars 5840 ...</td>\n",
       "      <td>men's clothing</td>\n",
       "    </tr>\n",
       "    <tr>\n",
       "      <th>2</th>\n",
       "      <td>Wrangler Big Men's Relaxed Fit Jean</td>\n",
       "      <td>15.00</td>\n",
       "      <td>4.3</td>\n",
       "      <td>3257</td>\n",
       "      <td>88%</td>\n",
       "      <td>['Jeans That Fit Just Right', 'Great jeans wou...</td>\n",
       "      <td>[\"If you like Big Men's style wearing jeans th...</td>\n",
       "      <td>['Average Rating: ( 5.0 ) out of 5 stars 3257 ...</td>\n",
       "      <td>men's clothing</td>\n",
       "    </tr>\n",
       "    <tr>\n",
       "      <th>3</th>\n",
       "      <td>Wrangler Men's 5 Star Regular Fit Jean with Flex</td>\n",
       "      <td>12.00</td>\n",
       "      <td>4.5</td>\n",
       "      <td>259</td>\n",
       "      <td>91%</td>\n",
       "      <td>['Committed buyer', 'More Comfortable than Swe...</td>\n",
       "      <td>['My husband loves these jeans and goes throug...</td>\n",
       "      <td>['Average Rating: ( 5.0 ) out of 5 stars 259 r...</td>\n",
       "      <td>men's clothing</td>\n",
       "    </tr>\n",
       "    <tr>\n",
       "      <th>4</th>\n",
       "      <td>Wrangler Men's and Big Men's 5 Star Relaxed Fi...</td>\n",
       "      <td>15.00</td>\n",
       "      <td>4.6</td>\n",
       "      <td>1490</td>\n",
       "      <td>91%</td>\n",
       "      <td>['Saved money and faster delivery that Amazon'...</td>\n",
       "      <td>['Fit well Great price same jeans I was buying...</td>\n",
       "      <td>['Average Rating: ( 5.0 ) out of 5 stars 1490 ...</td>\n",
       "      <td>men's clothing</td>\n",
       "    </tr>\n",
       "    <tr>\n",
       "      <th>...</th>\n",
       "      <td>...</td>\n",
       "      <td>...</td>\n",
       "      <td>...</td>\n",
       "      <td>...</td>\n",
       "      <td>...</td>\n",
       "      <td>...</td>\n",
       "      <td>...</td>\n",
       "      <td>...</td>\n",
       "      <td>...</td>\n",
       "    </tr>\n",
       "    <tr>\n",
       "      <th>1220</th>\n",
       "      <td>dELiA*s Girls Pajama Set, 2-Piece, Sizes 7-16</td>\n",
       "      <td>17.60</td>\n",
       "      <td>4.4</td>\n",
       "      <td>8</td>\n",
       "      <td>75%</td>\n",
       "      <td>No Title</td>\n",
       "      <td>[\"This was very small. The 14-16 was way too l...</td>\n",
       "      <td>['Average Rating: ( 3.0 ) out of 5 stars 8 rat...</td>\n",
       "      <td>girl's clothing</td>\n",
       "    </tr>\n",
       "    <tr>\n",
       "      <th>1221</th>\n",
       "      <td>Toddler Kids Baby Girls Outfit Floral Top Blou...</td>\n",
       "      <td>15.99</td>\n",
       "      <td>2.5</td>\n",
       "      <td>6</td>\n",
       "      <td>40%</td>\n",
       "      <td>['go up a size']</td>\n",
       "      <td>['make sure to go up a size. shirt runs small ...</td>\n",
       "      <td>['Average Rating: ( 3.0 ) out of 5 stars 6 rat...</td>\n",
       "      <td>girl's clothing</td>\n",
       "    </tr>\n",
       "    <tr>\n",
       "      <th>1222</th>\n",
       "      <td>Child of Mine by Carter's Baby &amp; Toddler Girls...</td>\n",
       "      <td>12.94</td>\n",
       "      <td>4.8</td>\n",
       "      <td>6</td>\n",
       "      <td>100%</td>\n",
       "      <td>['I Wish It Came in Adult Sizes', 'Very Cute',...</td>\n",
       "      <td>['This is the cutest outfit! The top is a litt...</td>\n",
       "      <td>['Average Rating: ( 5.0 ) out of 5 stars 6 rat...</td>\n",
       "      <td>girl's clothing</td>\n",
       "    </tr>\n",
       "    <tr>\n",
       "      <th>1223</th>\n",
       "      <td>Wonder Nation Girls Plush Full-Zip Jacket with...</td>\n",
       "      <td>12.00</td>\n",
       "      <td>4.4</td>\n",
       "      <td>28</td>\n",
       "      <td>90%</td>\n",
       "      <td>['Nice plush jacket', 'Fluffy hoodie', 'So sof...</td>\n",
       "      <td>['A nice plush jacket for a young girl. It is ...</td>\n",
       "      <td>['Average Rating: ( 5.0 ) out of 5 stars 28 ra...</td>\n",
       "      <td>girl's clothing</td>\n",
       "    </tr>\n",
       "    <tr>\n",
       "      <th>1224</th>\n",
       "      <td>Wonder Nation Girls Long Sleeve Tie-Dye Waffle...</td>\n",
       "      <td>7.98</td>\n",
       "      <td>4.8</td>\n",
       "      <td>18</td>\n",
       "      <td>100%</td>\n",
       "      <td>['Very soft', 'Cute', 'Great tie dye', 'Therma...</td>\n",
       "      <td>['Very cute. The tye dye color is awesome. Siz...</td>\n",
       "      <td>['Average Rating: ( 5.0 ) out of 5 stars 18 ra...</td>\n",
       "      <td>girl's clothing</td>\n",
       "    </tr>\n",
       "  </tbody>\n",
       "</table>\n",
       "<p>1223 rows × 9 columns</p>\n",
       "</div>"
      ],
      "text/plain": [
       "                                              item_name  price  \\\n",
       "0                   Wrangler Men's Unlined Shirt Jacket  12.00   \n",
       "1                      Wrangler Men's Relaxed Fit Jeans  12.00   \n",
       "2                   Wrangler Big Men's Relaxed Fit Jean  15.00   \n",
       "3      Wrangler Men's 5 Star Regular Fit Jean with Flex  12.00   \n",
       "4     Wrangler Men's and Big Men's 5 Star Relaxed Fi...  15.00   \n",
       "...                                                 ...    ...   \n",
       "1220      dELiA*s Girls Pajama Set, 2-Piece, Sizes 7-16  17.60   \n",
       "1221  Toddler Kids Baby Girls Outfit Floral Top Blou...  15.99   \n",
       "1222  Child of Mine by Carter's Baby & Toddler Girls...  12.94   \n",
       "1223  Wonder Nation Girls Plush Full-Zip Jacket with...  12.00   \n",
       "1224  Wonder Nation Girls Long Sleeve Tie-Dye Waffle...   7.98   \n",
       "\n",
       "      overall_rating num_rating recommend  \\\n",
       "0                4.0          7       80%   \n",
       "1                4.5       5840       90%   \n",
       "2                4.3       3257       88%   \n",
       "3                4.5        259       91%   \n",
       "4                4.6       1490       91%   \n",
       "...              ...        ...       ...   \n",
       "1220             4.4          8       75%   \n",
       "1221             2.5          6       40%   \n",
       "1222             4.8          6      100%   \n",
       "1223             4.4         28       90%   \n",
       "1224             4.8         18      100%   \n",
       "\n",
       "                                              rev_title  \\\n",
       "0                               ['Texas winter ready!']   \n",
       "1     ['Wrangler is the best.', 'My Favorite Jeans',...   \n",
       "2     ['Jeans That Fit Just Right', 'Great jeans wou...   \n",
       "3     ['Committed buyer', 'More Comfortable than Swe...   \n",
       "4     ['Saved money and faster delivery that Amazon'...   \n",
       "...                                                 ...   \n",
       "1220                                           No Title   \n",
       "1221                                   ['go up a size']   \n",
       "1222  ['I Wish It Came in Adult Sizes', 'Very Cute',...   \n",
       "1223  ['Nice plush jacket', 'Fluffy hoodie', 'So sof...   \n",
       "1224  ['Very soft', 'Cute', 'Great tie dye', 'Therma...   \n",
       "\n",
       "                                            review_text  \\\n",
       "0     ['I bought this last year and am going to buy ...   \n",
       "1     ['I like wrangler, the pants is exactly for my...   \n",
       "2     [\"If you like Big Men's style wearing jeans th...   \n",
       "3     ['My husband loves these jeans and goes throug...   \n",
       "4     ['Fit well Great price same jeans I was buying...   \n",
       "...                                                 ...   \n",
       "1220  [\"This was very small. The 14-16 was way too l...   \n",
       "1221  ['make sure to go up a size. shirt runs small ...   \n",
       "1222  ['This is the cutest outfit! The top is a litt...   \n",
       "1223  ['A nice plush jacket for a young girl. It is ...   \n",
       "1224  ['Very cute. The tye dye color is awesome. Siz...   \n",
       "\n",
       "                                           rating_stars          section  \n",
       "0     ['Average Rating: ( 5.0 ) out of 5 stars 7 rat...   men's clothing  \n",
       "1     ['Average Rating: ( 5.0 ) out of 5 stars 5840 ...   men's clothing  \n",
       "2     ['Average Rating: ( 5.0 ) out of 5 stars 3257 ...   men's clothing  \n",
       "3     ['Average Rating: ( 5.0 ) out of 5 stars 259 r...   men's clothing  \n",
       "4     ['Average Rating: ( 5.0 ) out of 5 stars 1490 ...   men's clothing  \n",
       "...                                                 ...              ...  \n",
       "1220  ['Average Rating: ( 3.0 ) out of 5 stars 8 rat...  girl's clothing  \n",
       "1221  ['Average Rating: ( 3.0 ) out of 5 stars 6 rat...  girl's clothing  \n",
       "1222  ['Average Rating: ( 5.0 ) out of 5 stars 6 rat...  girl's clothing  \n",
       "1223  ['Average Rating: ( 5.0 ) out of 5 stars 28 ra...  girl's clothing  \n",
       "1224  ['Average Rating: ( 5.0 ) out of 5 stars 18 ra...  girl's clothing  \n",
       "\n",
       "[1223 rows x 9 columns]"
      ]
     },
     "execution_count": 22,
     "metadata": {},
     "output_type": "execute_result"
    }
   ],
   "source": [
    "#confirming that the functions work and data is clean. \n",
    "cleaning_df"
   ]
  },
  {
   "cell_type": "code",
   "execution_count": 23,
   "metadata": {},
   "outputs": [],
   "source": [
    "cleaning_df[\"num_rating\"]=cleaning_df[\"num_rating\"].astype(\"float64\")\n",
    "cleaning_df[\"price\"]=cleaning_df[\"price\"].astype(\"float64\")\n",
    "cleaning_df[\"recommend\"]=cleaning_df[\"recommend\"].astype(\"string\")"
   ]
  },
  {
   "cell_type": "code",
   "execution_count": 25,
   "metadata": {},
   "outputs": [],
   "source": [
    "# function lives in the scripts folder\n",
    "def remove_perc(x):\n",
    "    x = list(x.split(\"%\"))\n",
    "    return x[0]\n",
    "\n",
    "cleaning_df[\"recommend\"]= cleaning_df[\"recommend\"].apply(remove_perc)"
   ]
  },
  {
   "cell_type": "code",
   "execution_count": 26,
   "metadata": {},
   "outputs": [
    {
     "data": {
      "text/html": [
       "<div>\n",
       "<style scoped>\n",
       "    .dataframe tbody tr th:only-of-type {\n",
       "        vertical-align: middle;\n",
       "    }\n",
       "\n",
       "    .dataframe tbody tr th {\n",
       "        vertical-align: top;\n",
       "    }\n",
       "\n",
       "    .dataframe thead th {\n",
       "        text-align: right;\n",
       "    }\n",
       "</style>\n",
       "<table border=\"1\" class=\"dataframe\">\n",
       "  <thead>\n",
       "    <tr style=\"text-align: right;\">\n",
       "      <th></th>\n",
       "      <th>item_name</th>\n",
       "      <th>price</th>\n",
       "      <th>overall_rating</th>\n",
       "      <th>num_rating</th>\n",
       "      <th>recommend</th>\n",
       "      <th>rev_title</th>\n",
       "      <th>review_text</th>\n",
       "      <th>rating_stars</th>\n",
       "      <th>section</th>\n",
       "    </tr>\n",
       "  </thead>\n",
       "  <tbody>\n",
       "    <tr>\n",
       "      <th>0</th>\n",
       "      <td>Wrangler Men's Unlined Shirt Jacket</td>\n",
       "      <td>12.0</td>\n",
       "      <td>4.0</td>\n",
       "      <td>7.0</td>\n",
       "      <td>80</td>\n",
       "      <td>['Texas winter ready!']</td>\n",
       "      <td>['I bought this last year and am going to buy ...</td>\n",
       "      <td>['Average Rating: ( 5.0 ) out of 5 stars 7 rat...</td>\n",
       "      <td>men's clothing</td>\n",
       "    </tr>\n",
       "    <tr>\n",
       "      <th>1</th>\n",
       "      <td>Wrangler Men's Relaxed Fit Jeans</td>\n",
       "      <td>12.0</td>\n",
       "      <td>4.5</td>\n",
       "      <td>5840.0</td>\n",
       "      <td>90</td>\n",
       "      <td>['Wrangler is the best.', 'My Favorite Jeans',...</td>\n",
       "      <td>['I like wrangler, the pants is exactly for my...</td>\n",
       "      <td>['Average Rating: ( 5.0 ) out of 5 stars 5840 ...</td>\n",
       "      <td>men's clothing</td>\n",
       "    </tr>\n",
       "    <tr>\n",
       "      <th>2</th>\n",
       "      <td>Wrangler Big Men's Relaxed Fit Jean</td>\n",
       "      <td>15.0</td>\n",
       "      <td>4.3</td>\n",
       "      <td>3257.0</td>\n",
       "      <td>88</td>\n",
       "      <td>['Jeans That Fit Just Right', 'Great jeans wou...</td>\n",
       "      <td>[\"If you like Big Men's style wearing jeans th...</td>\n",
       "      <td>['Average Rating: ( 5.0 ) out of 5 stars 3257 ...</td>\n",
       "      <td>men's clothing</td>\n",
       "    </tr>\n",
       "    <tr>\n",
       "      <th>3</th>\n",
       "      <td>Wrangler Men's 5 Star Regular Fit Jean with Flex</td>\n",
       "      <td>12.0</td>\n",
       "      <td>4.5</td>\n",
       "      <td>259.0</td>\n",
       "      <td>91</td>\n",
       "      <td>['Committed buyer', 'More Comfortable than Swe...</td>\n",
       "      <td>['My husband loves these jeans and goes throug...</td>\n",
       "      <td>['Average Rating: ( 5.0 ) out of 5 stars 259 r...</td>\n",
       "      <td>men's clothing</td>\n",
       "    </tr>\n",
       "    <tr>\n",
       "      <th>4</th>\n",
       "      <td>Wrangler Men's and Big Men's 5 Star Relaxed Fi...</td>\n",
       "      <td>15.0</td>\n",
       "      <td>4.6</td>\n",
       "      <td>1490.0</td>\n",
       "      <td>91</td>\n",
       "      <td>['Saved money and faster delivery that Amazon'...</td>\n",
       "      <td>['Fit well Great price same jeans I was buying...</td>\n",
       "      <td>['Average Rating: ( 5.0 ) out of 5 stars 1490 ...</td>\n",
       "      <td>men's clothing</td>\n",
       "    </tr>\n",
       "  </tbody>\n",
       "</table>\n",
       "</div>"
      ],
      "text/plain": [
       "                                           item_name  price  overall_rating  \\\n",
       "0                Wrangler Men's Unlined Shirt Jacket   12.0             4.0   \n",
       "1                   Wrangler Men's Relaxed Fit Jeans   12.0             4.5   \n",
       "2                Wrangler Big Men's Relaxed Fit Jean   15.0             4.3   \n",
       "3   Wrangler Men's 5 Star Regular Fit Jean with Flex   12.0             4.5   \n",
       "4  Wrangler Men's and Big Men's 5 Star Relaxed Fi...   15.0             4.6   \n",
       "\n",
       "   num_rating recommend                                          rev_title  \\\n",
       "0         7.0        80                            ['Texas winter ready!']   \n",
       "1      5840.0        90  ['Wrangler is the best.', 'My Favorite Jeans',...   \n",
       "2      3257.0        88  ['Jeans That Fit Just Right', 'Great jeans wou...   \n",
       "3       259.0        91  ['Committed buyer', 'More Comfortable than Swe...   \n",
       "4      1490.0        91  ['Saved money and faster delivery that Amazon'...   \n",
       "\n",
       "                                         review_text  \\\n",
       "0  ['I bought this last year and am going to buy ...   \n",
       "1  ['I like wrangler, the pants is exactly for my...   \n",
       "2  [\"If you like Big Men's style wearing jeans th...   \n",
       "3  ['My husband loves these jeans and goes throug...   \n",
       "4  ['Fit well Great price same jeans I was buying...   \n",
       "\n",
       "                                        rating_stars         section  \n",
       "0  ['Average Rating: ( 5.0 ) out of 5 stars 7 rat...  men's clothing  \n",
       "1  ['Average Rating: ( 5.0 ) out of 5 stars 5840 ...  men's clothing  \n",
       "2  ['Average Rating: ( 5.0 ) out of 5 stars 3257 ...  men's clothing  \n",
       "3  ['Average Rating: ( 5.0 ) out of 5 stars 259 r...  men's clothing  \n",
       "4  ['Average Rating: ( 5.0 ) out of 5 stars 1490 ...  men's clothing  "
      ]
     },
     "execution_count": 26,
     "metadata": {},
     "output_type": "execute_result"
    }
   ],
   "source": [
    "cleaning_df.head()"
   ]
  },
  {
   "cell_type": "markdown",
   "metadata": {},
   "source": [
    "#### Taking a closer inspection at \"rating_stars\" column"
   ]
  },
  {
   "cell_type": "code",
   "execution_count": 27,
   "metadata": {
    "scrolled": true
   },
   "outputs": [
    {
     "data": {
      "text/plain": [
       "\"['Average Rating: ( 5.0 ) out of 5 stars 7 ratings , based on 7 reviews', 'Average Rating: ( 5.0 ) out of 5 stars 7 ratings , based on 7 reviews', 'Average Rating: ( 5.0 ) out of 5 stars 7 ratings , based on 7 reviews', 'Average Rating: ( 5.0 ) out of 5 stars 7 ratings , based on 7 reviews', 'Average Rating: ( 5.0 ) out of 5 stars 7 ratings , based on 7 reviews', 'Average Rating: ( 2.0 ) out of 5 stars 7 ratings , based on 7 reviews', 'Average Rating: ( 1.0 ) out of 5 stars 7 ratings , based on 7 reviews']\""
      ]
     },
     "execution_count": 27,
     "metadata": {},
     "output_type": "execute_result"
    }
   ],
   "source": [
    "cleaning_df.rating_stars[0]"
   ]
  },
  {
   "cell_type": "markdown",
   "metadata": {},
   "source": [
    "#### I think it makes sense to remove the entire ratings column since we already have an overall raiting of the item."
   ]
  },
  {
   "cell_type": "code",
   "execution_count": 28,
   "metadata": {},
   "outputs": [],
   "source": [
    "cleaning_df.drop(columns=\"rating_stars\", inplace = True)"
   ]
  },
  {
   "cell_type": "markdown",
   "metadata": {},
   "source": [
    "## Closer inspection into the null values in review_text column. "
   ]
  },
  {
   "cell_type": "code",
   "execution_count": 29,
   "metadata": {},
   "outputs": [],
   "source": [
    "nan_rows = cleaning_df[cleaning_df[\"review_text\"].isnull()]"
   ]
  },
  {
   "cell_type": "code",
   "execution_count": 30,
   "metadata": {
    "scrolled": false
   },
   "outputs": [
    {
     "data": {
      "image/png": "[encoded data removed]",
      "text/plain": [
       "<Figure size 720x504 with 1 Axes>"
      ]
     },
     "metadata": {
      "needs_background": "light"
     },
     "output_type": "display_data"
    }
   ],
   "source": [
    "x = nan_rows.section.value_counts()\n",
    "fig,ax = plt.subplots(figsize = (10,7))\n",
    "plt.bar(x=x.index, height=x.values, color = [\"RoyalBlue\"])\n",
    "plt.title(\"Items with No reviews\", fontsize = 25)\n",
    "plt.xlabel(\"Section\", fontsize = 15)\n",
    "plt.ylabel(\"Number of items\", fontsize = 15)\n",
    "plt.savefig(\"images/items_no_reviews\");"
   ]
  },
  {
   "cell_type": "markdown",
   "metadata": {},
   "source": [
    "- These are all the observations that have a rating score but no reviews. \n",
    "- Women's clothing group has the most items/observations and also the least amount of non-reviewd items. \n",
    "- Surprisingly, men's clothing and girls' clothing have a large amount of observations without reviews. \n",
    " I will be dropping the null values in review_text. If I fill in the null values, it will cause bias and/or add unnecessary data. "
   ]
  },
  {
   "cell_type": "code",
   "execution_count": 31,
   "metadata": {},
   "outputs": [],
   "source": [
    "cleaning_df.dropna(subset=[\"review_text\"], inplace = True)"
   ]
  },
  {
   "cell_type": "code",
   "execution_count": 32,
   "metadata": {},
   "outputs": [],
   "source": [
    "# converting the continuous values to float type. \n",
    "cleaning_df[\"num_rating\"]=cleaning_df[\"num_rating\"].astype(\"float64\")\n",
    "cleaning_df[\"recommend\"]=cleaning_df[\"recommend\"].astype(\"float64\")"
   ]
  },
  {
   "cell_type": "code",
   "execution_count": 33,
   "metadata": {},
   "outputs": [
    {
     "name": "stdout",
     "output_type": "stream",
     "text": [
      "<class 'pandas.core.frame.DataFrame'>\n",
      "Int64Index: 1149 entries, 0 to 1224\n",
      "Data columns (total 8 columns):\n",
      " #   Column          Non-Null Count  Dtype  \n",
      "---  ------          --------------  -----  \n",
      " 0   item_name       1149 non-null   object \n",
      " 1   price           1149 non-null   float64\n",
      " 2   overall_rating  1149 non-null   float64\n",
      " 3   num_rating      1149 non-null   float64\n",
      " 4   recommend       1149 non-null   float64\n",
      " 5   rev_title       1149 non-null   object \n",
      " 6   review_text     1149 non-null   object \n",
      " 7   section         1149 non-null   object \n",
      "dtypes: float64(4), object(4)\n",
      "memory usage: 80.8+ KB\n"
     ]
    }
   ],
   "source": [
    "#confirming float type\n",
    "cleaning_df.info()"
   ]
  },
  {
   "cell_type": "code",
   "execution_count": 34,
   "metadata": {},
   "outputs": [
    {
     "data": {
      "text/html": [
       "<div>\n",
       "<style scoped>\n",
       "    .dataframe tbody tr th:only-of-type {\n",
       "        vertical-align: middle;\n",
       "    }\n",
       "\n",
       "    .dataframe tbody tr th {\n",
       "        vertical-align: top;\n",
       "    }\n",
       "\n",
       "    .dataframe thead th {\n",
       "        text-align: right;\n",
       "    }\n",
       "</style>\n",
       "<table border=\"1\" class=\"dataframe\">\n",
       "  <thead>\n",
       "    <tr style=\"text-align: right;\">\n",
       "      <th></th>\n",
       "      <th>item_name</th>\n",
       "      <th>price</th>\n",
       "      <th>overall_rating</th>\n",
       "      <th>num_rating</th>\n",
       "      <th>recommend</th>\n",
       "      <th>rev_title</th>\n",
       "      <th>review_text</th>\n",
       "      <th>section</th>\n",
       "    </tr>\n",
       "  </thead>\n",
       "  <tbody>\n",
       "    <tr>\n",
       "      <th>0</th>\n",
       "      <td>Wrangler Men's Unlined Shirt Jacket</td>\n",
       "      <td>12.0</td>\n",
       "      <td>4.0</td>\n",
       "      <td>7.0</td>\n",
       "      <td>80.0</td>\n",
       "      <td>['Texas winter ready!']</td>\n",
       "      <td>['I bought this last year and am going to buy ...</td>\n",
       "      <td>men's clothing</td>\n",
       "    </tr>\n",
       "    <tr>\n",
       "      <th>1</th>\n",
       "      <td>Wrangler Men's Relaxed Fit Jeans</td>\n",
       "      <td>12.0</td>\n",
       "      <td>4.5</td>\n",
       "      <td>5840.0</td>\n",
       "      <td>90.0</td>\n",
       "      <td>['Wrangler is the best.', 'My Favorite Jeans',...</td>\n",
       "      <td>['I like wrangler, the pants is exactly for my...</td>\n",
       "      <td>men's clothing</td>\n",
       "    </tr>\n",
       "  </tbody>\n",
       "</table>\n",
       "</div>"
      ],
      "text/plain": [
       "                             item_name  price  overall_rating  num_rating  \\\n",
       "0  Wrangler Men's Unlined Shirt Jacket   12.0             4.0         7.0   \n",
       "1     Wrangler Men's Relaxed Fit Jeans   12.0             4.5      5840.0   \n",
       "\n",
       "   recommend                                          rev_title  \\\n",
       "0       80.0                            ['Texas winter ready!']   \n",
       "1       90.0  ['Wrangler is the best.', 'My Favorite Jeans',...   \n",
       "\n",
       "                                         review_text         section  \n",
       "0  ['I bought this last year and am going to buy ...  men's clothing  \n",
       "1  ['I like wrangler, the pants is exactly for my...  men's clothing  "
      ]
     },
     "execution_count": 34,
     "metadata": {},
     "output_type": "execute_result"
    }
   ],
   "source": [
    "# confirming all continuous variables look clean.\n",
    "cleaning_df.head(2)"
   ]
  },
  {
   "cell_type": "code",
   "execution_count": 35,
   "metadata": {},
   "outputs": [
    {
     "data": {
      "image/png": "[encoded data removed]",
      "text/plain": [
       "<Figure size 720x720 with 20 Axes>"
      ]
     },
     "metadata": {
      "needs_background": "light"
     },
     "output_type": "display_data"
    }
   ],
   "source": [
    "#pairplot to study the relationship between the continuous variables\n",
    "sns.pairplot(cleaning_df);"
   ]
  },
  {
   "cell_type": "code",
   "execution_count": 36,
   "metadata": {},
   "outputs": [
    {
     "data": {
      "image/png": "[encoded data removed]",
      "text/plain": [
       "<Figure size 720x504 with 1 Axes>"
      ]
     },
     "metadata": {
      "needs_background": "light"
     },
     "output_type": "display_data"
    }
   ],
   "source": [
    "fig,ax = plt.subplots(figsize = (10,7))\n",
    "sns.distplot(cleaning_df[\"recommend\"])\n",
    "plt.title(\"Distribution of Recommended Scores\", fontsize = 25)\n",
    "plt.xlabel(\"Recommended Score\", fontsize = 15)\n",
    "plt.ylabel(\"Count (normalized)\", fontsize = 15)\n",
    "plt.savefig(\"images/recommended_dist\");"
   ]
  },
  {
   "cell_type": "markdown",
   "metadata": {},
   "source": [
    "Based on some preliminary text analysis and Walmart online market browsing, items recommended over 85% tend to have more positive than items below 85%. Therefore, I will create a hard split on 85 as **not recommended (0)** and **recommended (1)**"
   ]
  },
  {
   "cell_type": "code",
   "execution_count": 37,
   "metadata": {},
   "outputs": [],
   "source": [
    "#0 - not recommended\n",
    "#1 - recommended\n",
    "target = []\n",
    "for x in cleaning_df[\"recommend\"]:\n",
    "    if x >= 85:\n",
    "        target.append(1)\n",
    "    else:\n",
    "        target.append(0)\n",
    "        "
   ]
  },
  {
   "cell_type": "code",
   "execution_count": 38,
   "metadata": {},
   "outputs": [],
   "source": [
    "cleaning_df[\"target\"] = target"
   ]
  },
  {
   "cell_type": "code",
   "execution_count": 39,
   "metadata": {},
   "outputs": [
    {
     "data": {
      "text/plain": [
       "1    804\n",
       "0    345\n",
       "Name: target, dtype: int64"
      ]
     },
     "execution_count": 39,
     "metadata": {},
     "output_type": "execute_result"
    }
   ],
   "source": [
    "cleaning_df[\"target\"].value_counts()"
   ]
  },
  {
   "cell_type": "code",
   "execution_count": 40,
   "metadata": {
    "scrolled": false
   },
   "outputs": [
    {
     "data": {
      "image/png": "[encoded data removed]",
      "text/plain": [
       "<Figure size 720x504 with 1 Axes>"
      ]
     },
     "metadata": {
      "needs_background": "light"
     },
     "output_type": "display_data"
    }
   ],
   "source": [
    "fig,ax = plt.subplots(figsize = (10,7))\n",
    "sns.countplot(x=cleaning_df[\"target\"])\n",
    "plt.title(\"Distribution of the Target\", fontsize = 25)\n",
    "plt.xlabel(\"Target\", fontsize = 15)\n",
    "plt.ylabel(\"Count\", fontsize = 15);\n",
    "ax.set_xticklabels(['Not Recommended', 'Recommended'])\n",
    "plt.savefig(\"images/target.png\");"
   ]
  },
  {
   "cell_type": "markdown",
   "metadata": {},
   "source": [
    "- There is a class imbalance in my target group. \n",
    "- The \"recommended\" group is greater than 2 times the size of \"not recommended\". \n",
    "- I will need to consider how to deal with that before I beging modeling. "
   ]
  },
  {
   "cell_type": "code",
   "execution_count": 41,
   "metadata": {},
   "outputs": [],
   "source": [
    "# resetting index just to refraim the dataset since we removed all the \"No review\" group.  \n",
    "cleaning_df.reset_index(drop = True, inplace=True)"
   ]
  },
  {
   "cell_type": "code",
   "execution_count": 42,
   "metadata": {
    "scrolled": true
   },
   "outputs": [
    {
     "data": {
      "text/html": [
       "<div>\n",
       "<style scoped>\n",
       "    .dataframe tbody tr th:only-of-type {\n",
       "        vertical-align: middle;\n",
       "    }\n",
       "\n",
       "    .dataframe tbody tr th {\n",
       "        vertical-align: top;\n",
       "    }\n",
       "\n",
       "    .dataframe thead th {\n",
       "        text-align: right;\n",
       "    }\n",
       "</style>\n",
       "<table border=\"1\" class=\"dataframe\">\n",
       "  <thead>\n",
       "    <tr style=\"text-align: right;\">\n",
       "      <th></th>\n",
       "      <th>item_name</th>\n",
       "      <th>price</th>\n",
       "      <th>overall_rating</th>\n",
       "      <th>num_rating</th>\n",
       "      <th>recommend</th>\n",
       "      <th>rev_title</th>\n",
       "      <th>review_text</th>\n",
       "      <th>section</th>\n",
       "      <th>target</th>\n",
       "    </tr>\n",
       "  </thead>\n",
       "  <tbody>\n",
       "    <tr>\n",
       "      <th>0</th>\n",
       "      <td>Wrangler Men's Unlined Shirt Jacket</td>\n",
       "      <td>12.0</td>\n",
       "      <td>4.0</td>\n",
       "      <td>7.0</td>\n",
       "      <td>80.0</td>\n",
       "      <td>['Texas winter ready!']</td>\n",
       "      <td>['I bought this last year and am going to buy ...</td>\n",
       "      <td>men's clothing</td>\n",
       "      <td>0</td>\n",
       "    </tr>\n",
       "    <tr>\n",
       "      <th>1</th>\n",
       "      <td>Wrangler Men's Relaxed Fit Jeans</td>\n",
       "      <td>12.0</td>\n",
       "      <td>4.5</td>\n",
       "      <td>5840.0</td>\n",
       "      <td>90.0</td>\n",
       "      <td>['Wrangler is the best.', 'My Favorite Jeans',...</td>\n",
       "      <td>['I like wrangler, the pants is exactly for my...</td>\n",
       "      <td>men's clothing</td>\n",
       "      <td>1</td>\n",
       "    </tr>\n",
       "    <tr>\n",
       "      <th>2</th>\n",
       "      <td>Wrangler Big Men's Relaxed Fit Jean</td>\n",
       "      <td>15.0</td>\n",
       "      <td>4.3</td>\n",
       "      <td>3257.0</td>\n",
       "      <td>88.0</td>\n",
       "      <td>['Jeans That Fit Just Right', 'Great jeans wou...</td>\n",
       "      <td>[\"If you like Big Men's style wearing jeans th...</td>\n",
       "      <td>men's clothing</td>\n",
       "      <td>1</td>\n",
       "    </tr>\n",
       "    <tr>\n",
       "      <th>3</th>\n",
       "      <td>Wrangler Men's 5 Star Regular Fit Jean with Flex</td>\n",
       "      <td>12.0</td>\n",
       "      <td>4.5</td>\n",
       "      <td>259.0</td>\n",
       "      <td>91.0</td>\n",
       "      <td>['Committed buyer', 'More Comfortable than Swe...</td>\n",
       "      <td>['My husband loves these jeans and goes throug...</td>\n",
       "      <td>men's clothing</td>\n",
       "      <td>1</td>\n",
       "    </tr>\n",
       "    <tr>\n",
       "      <th>4</th>\n",
       "      <td>Wrangler Men's and Big Men's 5 Star Relaxed Fi...</td>\n",
       "      <td>15.0</td>\n",
       "      <td>4.6</td>\n",
       "      <td>1490.0</td>\n",
       "      <td>91.0</td>\n",
       "      <td>['Saved money and faster delivery that Amazon'...</td>\n",
       "      <td>['Fit well Great price same jeans I was buying...</td>\n",
       "      <td>men's clothing</td>\n",
       "      <td>1</td>\n",
       "    </tr>\n",
       "    <tr>\n",
       "      <th>5</th>\n",
       "      <td>Champion Men's Powerblend Fleece Pullover Hoodie</td>\n",
       "      <td>22.0</td>\n",
       "      <td>4.6</td>\n",
       "      <td>1247.0</td>\n",
       "      <td>95.0</td>\n",
       "      <td>['Perfect!', 'Comfy Time', '2020 tie dye trend...</td>\n",
       "      <td>['They were exactly what I was searching for! ...</td>\n",
       "      <td>men's clothing</td>\n",
       "      <td>1</td>\n",
       "    </tr>\n",
       "    <tr>\n",
       "      <th>6</th>\n",
       "      <td>Fruit of the Loom Men's Core Waffle Thermal Top</td>\n",
       "      <td>5.0</td>\n",
       "      <td>3.3</td>\n",
       "      <td>9.0</td>\n",
       "      <td>100.0</td>\n",
       "      <td>['Love them', 'Love them - definitely a classi...</td>\n",
       "      <td>['These are very cozy! Body pair for me and my...</td>\n",
       "      <td>men's clothing</td>\n",
       "      <td>1</td>\n",
       "    </tr>\n",
       "  </tbody>\n",
       "</table>\n",
       "</div>"
      ],
      "text/plain": [
       "                                           item_name  price  overall_rating  \\\n",
       "0                Wrangler Men's Unlined Shirt Jacket   12.0             4.0   \n",
       "1                   Wrangler Men's Relaxed Fit Jeans   12.0             4.5   \n",
       "2                Wrangler Big Men's Relaxed Fit Jean   15.0             4.3   \n",
       "3   Wrangler Men's 5 Star Regular Fit Jean with Flex   12.0             4.5   \n",
       "4  Wrangler Men's and Big Men's 5 Star Relaxed Fi...   15.0             4.6   \n",
       "5   Champion Men's Powerblend Fleece Pullover Hoodie   22.0             4.6   \n",
       "6    Fruit of the Loom Men's Core Waffle Thermal Top    5.0             3.3   \n",
       "\n",
       "   num_rating  recommend                                          rev_title  \\\n",
       "0         7.0       80.0                            ['Texas winter ready!']   \n",
       "1      5840.0       90.0  ['Wrangler is the best.', 'My Favorite Jeans',...   \n",
       "2      3257.0       88.0  ['Jeans That Fit Just Right', 'Great jeans wou...   \n",
       "3       259.0       91.0  ['Committed buyer', 'More Comfortable than Swe...   \n",
       "4      1490.0       91.0  ['Saved money and faster delivery that Amazon'...   \n",
       "5      1247.0       95.0  ['Perfect!', 'Comfy Time', '2020 tie dye trend...   \n",
       "6         9.0      100.0  ['Love them', 'Love them - definitely a classi...   \n",
       "\n",
       "                                         review_text         section  target  \n",
       "0  ['I bought this last year and am going to buy ...  men's clothing       0  \n",
       "1  ['I like wrangler, the pants is exactly for my...  men's clothing       1  \n",
       "2  [\"If you like Big Men's style wearing jeans th...  men's clothing       1  \n",
       "3  ['My husband loves these jeans and goes throug...  men's clothing       1  \n",
       "4  ['Fit well Great price same jeans I was buying...  men's clothing       1  \n",
       "5  ['They were exactly what I was searching for! ...  men's clothing       1  \n",
       "6  ['These are very cozy! Body pair for me and my...  men's clothing       1  "
      ]
     },
     "execution_count": 42,
     "metadata": {},
     "output_type": "execute_result"
    }
   ],
   "source": [
    "#confirming the index has been reset \n",
    "cleaning_df.head(7)"
   ]
  },
  {
   "cell_type": "code",
   "execution_count": 43,
   "metadata": {},
   "outputs": [
    {
     "data": {
      "image/png": "[encoded data removed]",
      "text/plain": [
       "<Figure size 1008x432 with 1 Axes>"
      ]
     },
     "metadata": {
      "needs_background": "light"
     },
     "output_type": "display_data"
    }
   ],
   "source": [
    "fig, ax = plt.subplots(figsize=(14,6))\n",
    "sns.countplot(x=cleaning_df[\"overall_rating\"])\n",
    "plt.title(\"Overall Rating Distribution\", fontsize = 25)\n",
    "plt.xlabel(\"Rating Score\", fontsize = 15)\n",
    "plt.ylabel(\"Total Counts\", fontsize = 15)\n",
    "plt.savefig(\"images/overall_rating\");"
   ]
  },
  {
   "cell_type": "markdown",
   "metadata": {},
   "source": [
    "Since majority of the rating score lies between 4 - 5, it would be better if I classified the rating scores into categories. There will be three categories:\n",
    "- under 4.0 rating\n",
    "- 4.0-4.5 (exclusive)\n",
    "- 4.5-5.0. "
   ]
  },
  {
   "cell_type": "code",
   "execution_count": 44,
   "metadata": {},
   "outputs": [],
   "source": [
    "rating_bin = []\n",
    "for x in cleaning_df[\"overall_rating\"]:\n",
    "    if x < 4:\n",
    "        rating_bin.append(0)\n",
    "    elif x >4.5:\n",
    "        rating_bin.append(2)\n",
    "    else:\n",
    "        rating_bin.append(1)\n",
    "        \n",
    "cleaning_df[\"rating_bin\"] = rating_bin"
   ]
  },
  {
   "cell_type": "code",
   "execution_count": null,
   "metadata": {},
   "outputs": [],
   "source": []
  },
  {
   "cell_type": "code",
   "execution_count": 45,
   "metadata": {},
   "outputs": [
    {
     "data": {
      "image/png": "[encoded data removed]",
      "text/plain": [
       "<Figure size 1008x576 with 1 Axes>"
      ]
     },
     "metadata": {
      "needs_background": "light"
     },
     "output_type": "display_data"
    }
   ],
   "source": [
    "fig, ax = plt.subplots(figsize=(14,8))\n",
    "fig = sns.countplot(x=cleaning_df[\"rating_bin\"])\n",
    "plt.title(\"Total Counts of Reviews by Rating Bins\", fontsize=25)\n",
    "plt.ylabel(\"Total Counts\", fontsize=15)\n",
    "plt.xlabel(\"Rating Bins (by stars)\", fontsize=15)\n",
    "fig.set_xticklabels([\"Under 4.0\", \"4.0 - 4.5\", \"4.5+\"], fontsize = 10)\n",
    "plt.savefig(\"images/rating_bins.png\");"
   ]
  },
  {
   "cell_type": "markdown",
   "metadata": {},
   "source": [
    "I would say this binning method is fairly balanced and reflects the datatset well since most products do not get low ratings. \n",
    "\n",
    "Let's see if there are any correlations between the continuous variables. "
   ]
  },
  {
   "cell_type": "code",
   "execution_count": 46,
   "metadata": {},
   "outputs": [
    {
     "data": {
      "text/html": [
       "<div>\n",
       "<style scoped>\n",
       "    .dataframe tbody tr th:only-of-type {\n",
       "        vertical-align: middle;\n",
       "    }\n",
       "\n",
       "    .dataframe tbody tr th {\n",
       "        vertical-align: top;\n",
       "    }\n",
       "\n",
       "    .dataframe thead th {\n",
       "        text-align: right;\n",
       "    }\n",
       "</style>\n",
       "<table border=\"1\" class=\"dataframe\">\n",
       "  <thead>\n",
       "    <tr style=\"text-align: right;\">\n",
       "      <th></th>\n",
       "      <th>price</th>\n",
       "      <th>overall_rating</th>\n",
       "      <th>num_rating</th>\n",
       "      <th>recommend</th>\n",
       "      <th>target</th>\n",
       "      <th>rating_bin</th>\n",
       "    </tr>\n",
       "  </thead>\n",
       "  <tbody>\n",
       "    <tr>\n",
       "      <th>price</th>\n",
       "      <td>1.000000</td>\n",
       "      <td>-0.164895</td>\n",
       "      <td>0.021887</td>\n",
       "      <td>-0.285743</td>\n",
       "      <td>-0.136719</td>\n",
       "      <td>-0.049332</td>\n",
       "    </tr>\n",
       "    <tr>\n",
       "      <th>overall_rating</th>\n",
       "      <td>-0.164895</td>\n",
       "      <td>1.000000</td>\n",
       "      <td>0.004300</td>\n",
       "      <td>0.838985</td>\n",
       "      <td>0.592065</td>\n",
       "      <td>0.734498</td>\n",
       "    </tr>\n",
       "    <tr>\n",
       "      <th>num_rating</th>\n",
       "      <td>0.021887</td>\n",
       "      <td>0.004300</td>\n",
       "      <td>1.000000</td>\n",
       "      <td>-0.030223</td>\n",
       "      <td>-0.053819</td>\n",
       "      <td>-0.037716</td>\n",
       "    </tr>\n",
       "    <tr>\n",
       "      <th>recommend</th>\n",
       "      <td>-0.285743</td>\n",
       "      <td>0.838985</td>\n",
       "      <td>-0.030223</td>\n",
       "      <td>1.000000</td>\n",
       "      <td>0.754454</td>\n",
       "      <td>0.585927</td>\n",
       "    </tr>\n",
       "    <tr>\n",
       "      <th>target</th>\n",
       "      <td>-0.136719</td>\n",
       "      <td>0.592065</td>\n",
       "      <td>-0.053819</td>\n",
       "      <td>0.754454</td>\n",
       "      <td>1.000000</td>\n",
       "      <td>0.611855</td>\n",
       "    </tr>\n",
       "    <tr>\n",
       "      <th>rating_bin</th>\n",
       "      <td>-0.049332</td>\n",
       "      <td>0.734498</td>\n",
       "      <td>-0.037716</td>\n",
       "      <td>0.585927</td>\n",
       "      <td>0.611855</td>\n",
       "      <td>1.000000</td>\n",
       "    </tr>\n",
       "  </tbody>\n",
       "</table>\n",
       "</div>"
      ],
      "text/plain": [
       "                   price  overall_rating  num_rating  recommend    target  \\\n",
       "price           1.000000       -0.164895    0.021887  -0.285743 -0.136719   \n",
       "overall_rating -0.164895        1.000000    0.004300   0.838985  0.592065   \n",
       "num_rating      0.021887        0.004300    1.000000  -0.030223 -0.053819   \n",
       "recommend      -0.285743        0.838985   -0.030223   1.000000  0.754454   \n",
       "target         -0.136719        0.592065   -0.053819   0.754454  1.000000   \n",
       "rating_bin     -0.049332        0.734498   -0.037716   0.585927  0.611855   \n",
       "\n",
       "                rating_bin  \n",
       "price            -0.049332  \n",
       "overall_rating    0.734498  \n",
       "num_rating       -0.037716  \n",
       "recommend         0.585927  \n",
       "target            0.611855  \n",
       "rating_bin        1.000000  "
      ]
     },
     "execution_count": 46,
     "metadata": {},
     "output_type": "execute_result"
    }
   ],
   "source": [
    "cleaning_df.corr()"
   ]
  },
  {
   "cell_type": "code",
   "execution_count": 47,
   "metadata": {},
   "outputs": [
    {
     "data": {
      "image/png": "[encoded data removed]",
      "text/plain": [
       "<Figure size 432x288 with 2 Axes>"
      ]
     },
     "metadata": {
      "needs_background": "light"
     },
     "output_type": "display_data"
    }
   ],
   "source": [
    "#creating a heatmap\n",
    "corr=cleaning_df.corr()\n",
    "sns.heatmap(corr, cmap='RdBu', vmin=-1,vmax=1);"
   ]
  },
  {
   "cell_type": "markdown",
   "metadata": {},
   "source": [
    "The heatmap shows that there are no correlation between price and other continuous features. Walmart is known for their low prices, so it would be interesting to see how the price is spread between the two target variables. \n",
    "\n",
    "However, the strongest correlation is between overall_rating and recommended score. I am interested in seeing the spread across the four sections that I scraped. "
   ]
  },
  {
   "cell_type": "code",
   "execution_count": 48,
   "metadata": {},
   "outputs": [
    {
     "data": {
      "image/png": "[encoded data removed]",
      "text/plain": [
       "<Figure size 1008x432 with 1 Axes>"
      ]
     },
     "metadata": {
      "needs_background": "light"
     },
     "output_type": "display_data"
    }
   ],
   "source": [
    "fig, ax = plt.subplots(figsize=(14,6))\n",
    "ax = sns.violinplot(x=cleaning_df[\"target\"], y=cleaning_df[\"price\"])\n",
    "plt.title(\"Price range in Target Bins\", fontsize=25)\n",
    "plt.xlabel(\"Target Bins\", fontsize=15)\n",
    "plt.ylabel(\"Price\", fontsize=15);\n",
    "ax.set_yticklabels(ax.get_yticks(), size=12)\n",
    "ax.set_xticklabels([\"Non Recommended\", \"Recommended\"], size=12)\n",
    "plt.savefig(\"images/price_rec.png\");"
   ]
  },
  {
   "cell_type": "markdown",
   "metadata": {},
   "source": [
    "Interestingly, Walmart does have items over \\\\$100.00 but it is no surprise that it is not a recommended item. Most of the recommended item are in the \\\\$15-$20 range. This shows that Walmart does live by their slogan, \"Save money, Live better\". "
   ]
  },
  {
   "cell_type": "code",
   "execution_count": 49,
   "metadata": {},
   "outputs": [
    {
     "data": {
      "image/png": "[encoded data removed]",
      "text/plain": [
       "<Figure size 864x432 with 1 Axes>"
      ]
     },
     "metadata": {
      "needs_background": "light"
     },
     "output_type": "display_data"
    }
   ],
   "source": [
    "fig, ax= plt.subplots(figsize=(12,6))\n",
    "sns.barplot(x=\"section\", y=\"overall_rating\", hue=\"target\", data=cleaning_df)\n",
    "plt.title(\"Overall Rating of items by Section\", fontsize = 25)\n",
    "plt.xlabel(\"Section\", fontsize=15)\n",
    "plt.ylabel(\"Overall Rating Score\")\n",
    "L=plt.legend(bbox_to_anchor=(1, 1))\n",
    "L.get_texts()[0].set_text('Not Recommended')\n",
    "L.get_texts()[1].set_text('Recommended')\n",
    "plt.savefig('images/rating_section_target');"
   ]
  },
  {
   "cell_type": "markdown",
   "metadata": {},
   "source": [
    "- As illustrated by the the heatmap, as overall rating score incresaes, so does the chance of item being recommended. This seems like logic, but this means that the binning of the recommended score works. \n",
    "- During the scraping, I did notice that women's clothing tend to have more reviews and the sentiment is generally positive for an item. However, due to one or two features of a product, the items would not be recommeneded. This is something I will need to look more into in the next notebook"
   ]
  },
  {
   "cell_type": "code",
   "execution_count": 50,
   "metadata": {},
   "outputs": [
    {
     "data": {
      "text/plain": [
       "(1149, 10)"
      ]
     },
     "execution_count": 50,
     "metadata": {},
     "output_type": "execute_result"
    }
   ],
   "source": [
    "#confirming the overall shape\n",
    "cleaning_df.shape"
   ]
  },
  {
   "cell_type": "code",
   "execution_count": 51,
   "metadata": {},
   "outputs": [],
   "source": [
    "# saving the cleaned dataframe as clean_df for preprocessing in the next notebook\n",
    "cleaning_df.to_csv(\"data/clean_df.csv\")"
   ]
  }
 ],
 "metadata": {
  "kernelspec": {
   "display_name": "Learn-env",
   "language": "python",
   "name": "learn-env"
  },
  "language_info": {
   "codemirror_mode": {
    "name": "ipython",
    "version": 3
   },
   "file_extension": ".py",
   "mimetype": "text/x-python",
   "name": "python",
   "nbconvert_exporter": "python",
   "pygments_lexer": "ipython3",
   "version": "3.6.9"
  }
 },
 "nbformat": 4,
 "nbformat_minor": 4
}
