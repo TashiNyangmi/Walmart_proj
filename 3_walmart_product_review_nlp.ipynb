{
 "cells": [
  {
   "cell_type": "markdown",
   "metadata": {},
   "source": [
    "#  <center> Walmart Product Review Analysis </center>"
   ]
  },
  {
   "cell_type": "markdown",
   "metadata": {},
   "source": [
    "### Goal\n",
    "Cuurrently, Walmart's online market promotes clothing products by price range and brand. I do not believe they have a way to analyze customer's reviews and promote items based on customer's \"Recommended\" score.    \n",
    "\n",
    "This analysis will look at Walmart clothing reviews to find key features that predict whether a customer will recommend an item or not. This investigation will be conducted using [Natural Language Processing](https://en.wikipedia.org/wiki/Natural_language_processing) packages and libraries. The features that guide the predictions can then used to guide Walmart's online and/or in-store marketing/product campaigns. "
   ]
  },
  {
   "cell_type": "code",
   "execution_count": 166,
   "metadata": {},
   "outputs": [],
   "source": [
    "# Data Cleaning and analysis packages\n",
    "import pandas as pd\n",
    "import numpy as np\n",
    "\n",
    "\n",
    "# NLP packages\n",
    "import gensim\n",
    "from nltk.corpus import stopwords\n",
    "from sklearn.feature_extraction.text import TfidfVectorizer \n",
    "from sklearn.feature_extraction.text import CountVectorizer\n",
    "\n",
    "# Sats and Modeling packages\n",
    "from sklearn import metrics\n",
    "from scipy import stats\n",
    "from sklearn.metrics import accuracy_score, classification_report, f1_score, confusion_matrix, roc_curve\n",
    "from sklearn.model_selection import train_test_split, GridSearchCV\n",
    "from sklearn.naive_bayes import BernoulliNB\n",
    "from sklearn.ensemble import RandomForestClassifier, VotingClassifier\n",
    "from sklearn.linear_model import LogisticRegression\n",
    "\n",
    "\n",
    "# Visualization packages\n",
    "from wordcloud import WordCloud\n",
    "import seaborn as sns\n",
    "import matplotlib.pyplot as plt\n",
    "%matplotlib inline\n",
    "sns.set(style=\"dark\")\n",
    "sns.set(style=\"whitegrid\", color_codes=True)\n",
    "\n",
    "import pickle\n",
    "import warnings\n",
    "warnings.filterwarnings(\"ignore\") \n",
    "\n",
    "\n",
    "pd.set_option('display.max_columns', 300)\n",
    "pd.set_option('display.max_rows', 200)"
   ]
  },
  {
   "cell_type": "code",
   "execution_count": 74,
   "metadata": {},
   "outputs": [],
   "source": [
    "filename = \"data/modeling_df.pkl\""
   ]
  },
  {
   "cell_type": "code",
   "execution_count": 75,
   "metadata": {},
   "outputs": [],
   "source": [
    "infile = open(filename,\"rb\")\n",
    "df = pickle.load(infile)\n",
    "infile.close()"
   ]
  },
  {
   "cell_type": "code",
   "execution_count": 76,
   "metadata": {},
   "outputs": [
    {
     "data": {
      "text/html": [
       "<div>\n",
       "<style scoped>\n",
       "    .dataframe tbody tr th:only-of-type {\n",
       "        vertical-align: middle;\n",
       "    }\n",
       "\n",
       "    .dataframe tbody tr th {\n",
       "        vertical-align: top;\n",
       "    }\n",
       "\n",
       "    .dataframe thead th {\n",
       "        text-align: right;\n",
       "    }\n",
       "</style>\n",
       "<table border=\"1\" class=\"dataframe\">\n",
       "  <thead>\n",
       "    <tr style=\"text-align: right;\">\n",
       "      <th></th>\n",
       "      <th>item_name</th>\n",
       "      <th>price</th>\n",
       "      <th>overall_rating</th>\n",
       "      <th>num_rating</th>\n",
       "      <th>recommend</th>\n",
       "      <th>rev_title</th>\n",
       "      <th>review_text</th>\n",
       "      <th>section</th>\n",
       "      <th>target</th>\n",
       "      <th>rating_bin</th>\n",
       "      <th>clean_rev_title</th>\n",
       "      <th>clean_review_text</th>\n",
       "      <th>tokenized</th>\n",
       "      <th>rem_stop</th>\n",
       "      <th>lemma_words</th>\n",
       "      <th>delisted</th>\n",
       "      <th>girls'</th>\n",
       "      <th>men's</th>\n",
       "      <th>women's</th>\n",
       "      <th>topic0</th>\n",
       "      <th>topic1</th>\n",
       "      <th>topic2</th>\n",
       "      <th>topic3</th>\n",
       "      <th>topic4</th>\n",
       "      <th>topic5</th>\n",
       "      <th>topic6</th>\n",
       "      <th>topic7</th>\n",
       "      <th>topic8</th>\n",
       "      <th>topic9</th>\n",
       "    </tr>\n",
       "  </thead>\n",
       "  <tbody>\n",
       "    <tr>\n",
       "      <th>0</th>\n",
       "      <td>Wrangler Men's Unlined Shirt Jacket</td>\n",
       "      <td>12.0</td>\n",
       "      <td>4.0</td>\n",
       "      <td>7.0</td>\n",
       "      <td>80.0</td>\n",
       "      <td>['Texas winter ready!']</td>\n",
       "      <td>['I bought this last year and am going to buy ...</td>\n",
       "      <td>men's clothing</td>\n",
       "      <td>0</td>\n",
       "      <td>1</td>\n",
       "      <td>texas winter ready</td>\n",
       "      <td>i bought this last year and am going to buy an...</td>\n",
       "      <td>[i, bought, this, last, year, and, am, going, ...</td>\n",
       "      <td>[bought, last, year, going, buy, another, frid...</td>\n",
       "      <td>[bought, last, year, going, buy, another, frid...</td>\n",
       "      <td>bought, last, year, going, buy, another, frida...</td>\n",
       "      <td>0.0</td>\n",
       "      <td>1.0</td>\n",
       "      <td>0.0</td>\n",
       "      <td>0.011114</td>\n",
       "      <td>0.011114</td>\n",
       "      <td>0.011114</td>\n",
       "      <td>0.899972</td>\n",
       "      <td>0.011114</td>\n",
       "      <td>0.011114</td>\n",
       "      <td>0.011114</td>\n",
       "      <td>0.011114</td>\n",
       "      <td>0.011114</td>\n",
       "      <td>0.011114</td>\n",
       "    </tr>\n",
       "    <tr>\n",
       "      <th>1</th>\n",
       "      <td>Wrangler Men's Relaxed Fit Jeans</td>\n",
       "      <td>12.0</td>\n",
       "      <td>4.5</td>\n",
       "      <td>5840.0</td>\n",
       "      <td>90.0</td>\n",
       "      <td>['Wrangler is the best.', 'My Favorite Jeans',...</td>\n",
       "      <td>['I like wrangler, the pants is exactly for my...</td>\n",
       "      <td>men's clothing</td>\n",
       "      <td>1</td>\n",
       "      <td>1</td>\n",
       "      <td>wrangler is the best my favorite jeans extreme...</td>\n",
       "      <td>i like wrangler the pants is exactly for my bo...</td>\n",
       "      <td>[i, like, wrangler, the, pants, is, exactly, f...</td>\n",
       "      <td>[like, wrangler, pants, exactly, body, also, g...</td>\n",
       "      <td>[like, wrangler, pant, exactly, body, also, go...</td>\n",
       "      <td>like, wrangler, pant, exactly, body, also, goo...</td>\n",
       "      <td>0.0</td>\n",
       "      <td>1.0</td>\n",
       "      <td>0.0</td>\n",
       "      <td>0.000000</td>\n",
       "      <td>0.000000</td>\n",
       "      <td>0.000000</td>\n",
       "      <td>0.998047</td>\n",
       "      <td>0.000000</td>\n",
       "      <td>0.000000</td>\n",
       "      <td>0.000000</td>\n",
       "      <td>0.000000</td>\n",
       "      <td>0.000000</td>\n",
       "      <td>0.000000</td>\n",
       "    </tr>\n",
       "  </tbody>\n",
       "</table>\n",
       "</div>"
      ],
      "text/plain": [
       "                             item_name  price  overall_rating  num_rating  \\\n",
       "0  Wrangler Men's Unlined Shirt Jacket   12.0             4.0         7.0   \n",
       "1     Wrangler Men's Relaxed Fit Jeans   12.0             4.5      5840.0   \n",
       "\n",
       "   recommend                                          rev_title  \\\n",
       "0       80.0                            ['Texas winter ready!']   \n",
       "1       90.0  ['Wrangler is the best.', 'My Favorite Jeans',...   \n",
       "\n",
       "                                         review_text         section  target  \\\n",
       "0  ['I bought this last year and am going to buy ...  men's clothing       0   \n",
       "1  ['I like wrangler, the pants is exactly for my...  men's clothing       1   \n",
       "\n",
       "   rating_bin                                    clean_rev_title  \\\n",
       "0           1                                 texas winter ready   \n",
       "1           1  wrangler is the best my favorite jeans extreme...   \n",
       "\n",
       "                                   clean_review_text  \\\n",
       "0  i bought this last year and am going to buy an...   \n",
       "1  i like wrangler the pants is exactly for my bo...   \n",
       "\n",
       "                                           tokenized  \\\n",
       "0  [i, bought, this, last, year, and, am, going, ...   \n",
       "1  [i, like, wrangler, the, pants, is, exactly, f...   \n",
       "\n",
       "                                            rem_stop  \\\n",
       "0  [bought, last, year, going, buy, another, frid...   \n",
       "1  [like, wrangler, pants, exactly, body, also, g...   \n",
       "\n",
       "                                         lemma_words  \\\n",
       "0  [bought, last, year, going, buy, another, frid...   \n",
       "1  [like, wrangler, pant, exactly, body, also, go...   \n",
       "\n",
       "                                            delisted  girls'  men's  women's  \\\n",
       "0  bought, last, year, going, buy, another, frida...     0.0    1.0      0.0   \n",
       "1  like, wrangler, pant, exactly, body, also, goo...     0.0    1.0      0.0   \n",
       "\n",
       "     topic0    topic1    topic2    topic3    topic4    topic5    topic6  \\\n",
       "0  0.011114  0.011114  0.011114  0.899972  0.011114  0.011114  0.011114   \n",
       "1  0.000000  0.000000  0.000000  0.998047  0.000000  0.000000  0.000000   \n",
       "\n",
       "     topic7    topic8    topic9  \n",
       "0  0.011114  0.011114  0.011114  \n",
       "1  0.000000  0.000000  0.000000  "
      ]
     },
     "execution_count": 76,
     "metadata": {},
     "output_type": "execute_result"
    }
   ],
   "source": [
    "df.head(2)"
   ]
  },
  {
   "cell_type": "code",
   "execution_count": 77,
   "metadata": {},
   "outputs": [
    {
     "data": {
      "text/plain": [
       "item_name            0\n",
       "price                0\n",
       "overall_rating       0\n",
       "num_rating           0\n",
       "recommend            0\n",
       "rev_title            0\n",
       "review_text          0\n",
       "section              0\n",
       "target               0\n",
       "rating_bin           0\n",
       "clean_rev_title      0\n",
       "clean_review_text    0\n",
       "tokenized            0\n",
       "rem_stop             0\n",
       "lemma_words          0\n",
       "delisted             0\n",
       "girls'               0\n",
       "men's                0\n",
       "women's              0\n",
       "topic0               0\n",
       "topic1               0\n",
       "topic2               0\n",
       "topic3               0\n",
       "topic4               0\n",
       "topic5               0\n",
       "topic6               0\n",
       "topic7               0\n",
       "topic8               0\n",
       "topic9               0\n",
       "dtype: int64"
      ]
     },
     "execution_count": 77,
     "metadata": {},
     "output_type": "execute_result"
    }
   ],
   "source": [
    "df.isna().sum()"
   ]
  },
  {
   "cell_type": "markdown",
   "metadata": {},
   "source": [
    "# Train Test Split\n"
   ]
  },
  {
   "cell_type": "code",
   "execution_count": 78,
   "metadata": {},
   "outputs": [],
   "source": [
    "drop_features = [\"item_name\", \"overall_rating\", \"rating_bin\", \"recommend\", \"rev_title\", \"clean_rev_title\", \n",
    "                 \"clean_review_text\", \"review_text\", \"section\", \"tokenized\", \"rem_stop\", \"lemma_words\", \n",
    "                 \"target\"]"
   ]
  },
  {
   "cell_type": "code",
   "execution_count": 79,
   "metadata": {},
   "outputs": [],
   "source": [
    "X = df.drop(columns = drop_features)\n",
    "y = df[\"target\"].values"
   ]
  },
  {
   "cell_type": "code",
   "execution_count": 80,
   "metadata": {},
   "outputs": [],
   "source": [
    "X_train, X_test, y_train, y_test = train_test_split(X, y, test_size=0.2, random_state=0)"
   ]
  },
  {
   "cell_type": "code",
   "execution_count": 81,
   "metadata": {},
   "outputs": [
    {
     "name": "stdout",
     "output_type": "stream",
     "text": [
      "(919, 16) (919,) (230, 16) (230,)\n"
     ]
    }
   ],
   "source": [
    "print(X_train.shape, y_train.shape, X_test.shape, y_test.shape)"
   ]
  },
  {
   "cell_type": "markdown",
   "metadata": {},
   "source": [
    "# Stopwords"
   ]
  },
  {
   "cell_type": "code",
   "execution_count": 82,
   "metadata": {},
   "outputs": [],
   "source": [
    "# Extracted the stopwords from my preprocessing notebook to be used for the TfidfVectorizer\n",
    "eda_stopwords = [\"nd\", \"de\", \"u\", \"la\", \"tbw\", \"c\", \"v\", \"great\", \"n\", \"wal\", \"wow\",\"hi\", \"hello\", \"nmbc\", \"youll\", \"must\", \"said\", \"either\", \"lol\", 'ill', \"six\", \"goat\", \"thou\", \"un\", \"lb\", \"pair\", \"right\", \"x\", \"xl\", \"one\", \"way\", \"definitely\", \"shirt\", \"jacket\", \"daughter\", \"son\" ]\n",
    "\n",
    "stop_words=list(set(stopwords.words(\"english\")))\n",
    "\n",
    "stop_words.extend(eda_stopwords)"
   ]
  },
  {
   "cell_type": "markdown",
   "metadata": {},
   "source": [
    "# CountVectorizer"
   ]
  },
  {
   "cell_type": "code",
   "execution_count": 83,
   "metadata": {},
   "outputs": [],
   "source": [
    "# # CountVec\n",
    "# countvec = CountVectorizer(stop_words = stop_words, analyzer=\"word\", ngram_range=(1,2), max_features=5000)\n",
    "# train_vec = countvec.fit_transform(X_train.delisted.values).toarray()\n",
    "# test_vec = countvec.fit_transform(X_test.delisted.values).toarray()\n",
    "\n",
    "\n",
    "# count_train = pd.DataFrame(train_vec, columns = countvec.get_feature_names())\n",
    "# count_test = pd.DataFrame(test_vec, columns = countvec.get_feature_names())"
   ]
  },
  {
   "cell_type": "code",
   "execution_count": 84,
   "metadata": {},
   "outputs": [],
   "source": [
    "# print(f\"X train shape: {X_train.shape}, Count train shape: {count_train.shape}\") \n",
    "# print(\"-\"*20)\n",
    "# print(f\"X test shape: {X_test.shape}, Count test shape: {count_test.shape}\")"
   ]
  },
  {
   "cell_type": "code",
   "execution_count": 85,
   "metadata": {},
   "outputs": [],
   "source": [
    "# # resetting index to concatenate with tfidf. Resetting index will not affect the dataset. \n",
    "# X_train.reset_index(drop=True, inplace=True)\n",
    "# X_test.reset_index(drop=True, inplace=True)"
   ]
  },
  {
   "cell_type": "code",
   "execution_count": 86,
   "metadata": {},
   "outputs": [],
   "source": [
    "# frame1 = [X_train, count_train]\n",
    "# frame2 = [X_test, count_test]"
   ]
  },
  {
   "cell_type": "code",
   "execution_count": 87,
   "metadata": {},
   "outputs": [],
   "source": [
    "# X_train = pd.concat(frame1, axis=1)\n",
    "# X_test = pd.concat(frame2, axis=1)"
   ]
  },
  {
   "cell_type": "markdown",
   "metadata": {},
   "source": [
    "# TfidfVectorizer"
   ]
  },
  {
   "cell_type": "code",
   "execution_count": 88,
   "metadata": {},
   "outputs": [],
   "source": [
    "tfidfvec = TfidfVectorizer(stop_words = stop_words, ngram_range = (1,2), max_features=2000, use_idf=True)  \n",
    "\n",
    "\n",
    "train_vec = tfidfvec.fit_transform(X_train.delisted.values).toarray()\n",
    "test_vec = tfidfvec.fit_transform(X_test.delisted.values).toarray()\n",
    "\n",
    "\n",
    "\n",
    "tfidf_train = pd.DataFrame(train_vec, columns = tfidfvec.get_feature_names())\n",
    "tfidf_test = pd.DataFrame(test_vec, columns = tfidfvec.get_feature_names())"
   ]
  },
  {
   "cell_type": "code",
   "execution_count": 89,
   "metadata": {},
   "outputs": [
    {
     "name": "stdout",
     "output_type": "stream",
     "text": [
      "X train shape: (919, 16), Tfidf train shape: (919, 2000)\n",
      "--------------------\n",
      "X test shape: (230, 16), Tfidf test shape: (230, 2000)\n"
     ]
    }
   ],
   "source": [
    "print(f\"X train shape: {X_train.shape}, Tfidf train shape: {tfidf_train.shape}\") \n",
    "print(\"-\"*20)\n",
    "print(f\"X test shape: {X_test.shape}, Tfidf test shape: {tfidf_test.shape}\")"
   ]
  },
  {
   "cell_type": "code",
   "execution_count": 90,
   "metadata": {},
   "outputs": [],
   "source": [
    "# resetting index to concatenate with tfidf. Resetting index will not affect the dataset. \n",
    "X_train.reset_index(drop=True, inplace=True)\n",
    "X_test.reset_index(drop=True, inplace=True)"
   ]
  },
  {
   "cell_type": "code",
   "execution_count": 91,
   "metadata": {},
   "outputs": [],
   "source": [
    "frame1 = [X_train, tfidf_train]\n",
    "frame2 = [X_test, tfidf_test]\n",
    "\n",
    "X_train = pd.concat(frame1, axis=1)\n",
    "X_test = pd.concat(frame2, axis=1)"
   ]
  },
  {
   "cell_type": "code",
   "execution_count": 92,
   "metadata": {},
   "outputs": [
    {
     "data": {
      "text/html": [
       "<div>\n",
       "<style scoped>\n",
       "    .dataframe tbody tr th:only-of-type {\n",
       "        vertical-align: middle;\n",
       "    }\n",
       "\n",
       "    .dataframe tbody tr th {\n",
       "        vertical-align: top;\n",
       "    }\n",
       "\n",
       "    .dataframe thead th {\n",
       "        text-align: right;\n",
       "    }\n",
       "</style>\n",
       "<table border=\"1\" class=\"dataframe\">\n",
       "  <thead>\n",
       "    <tr style=\"text-align: right;\">\n",
       "      <th></th>\n",
       "      <th>price</th>\n",
       "      <th>num_rating</th>\n",
       "      <th>delisted</th>\n",
       "      <th>girls'</th>\n",
       "      <th>men's</th>\n",
       "      <th>women's</th>\n",
       "      <th>topic0</th>\n",
       "      <th>topic1</th>\n",
       "      <th>topic2</th>\n",
       "      <th>topic3</th>\n",
       "      <th>topic4</th>\n",
       "      <th>topic5</th>\n",
       "      <th>topic6</th>\n",
       "      <th>topic7</th>\n",
       "      <th>topic8</th>\n",
       "      <th>topic9</th>\n",
       "      <th>able</th>\n",
       "      <th>able wear</th>\n",
       "      <th>absolutely</th>\n",
       "      <th>absolutely adorable</th>\n",
       "      <th>absolutely love</th>\n",
       "      <th>absolutely loved</th>\n",
       "      <th>acceptable</th>\n",
       "      <th>accessory</th>\n",
       "      <th>according</th>\n",
       "      <th>accurate</th>\n",
       "      <th>across</th>\n",
       "      <th>active</th>\n",
       "      <th>activity</th>\n",
       "      <th>actual</th>\n",
       "      <th>actually</th>\n",
       "      <th>add</th>\n",
       "      <th>added</th>\n",
       "      <th>addition</th>\n",
       "      <th>adjust</th>\n",
       "      <th>adjustable</th>\n",
       "      <th>adjustable waist</th>\n",
       "      <th>adorable</th>\n",
       "      <th>adult</th>\n",
       "      <th>advertised</th>\n",
       "      <th>affordable</th>\n",
       "      <th>age</th>\n",
       "      <th>ago</th>\n",
       "      <th>air</th>\n",
       "      <th>air dry</th>\n",
       "      <th>allow</th>\n",
       "      <th>almost</th>\n",
       "      <th>almost like</th>\n",
       "      <th>alone</th>\n",
       "      <th>along</th>\n",
       "      <th>already</th>\n",
       "      <th>also</th>\n",
       "      <th>also comfortable</th>\n",
       "      <th>also like</th>\n",
       "      <th>also love</th>\n",
       "      <th>also ordered</th>\n",
       "      <th>also run</th>\n",
       "      <th>also soft</th>\n",
       "      <th>although</th>\n",
       "      <th>always</th>\n",
       "      <th>always worn</th>\n",
       "      <th>amazing</th>\n",
       "      <th>american</th>\n",
       "      <th>amount</th>\n",
       "      <th>amount stretch</th>\n",
       "      <th>ankle</th>\n",
       "      <th>annoying</th>\n",
       "      <th>another</th>\n",
       "      <th>another brand</th>\n",
       "      <th>another different</th>\n",
       "      <th>anymore</th>\n",
       "      <th>anyone</th>\n",
       "      <th>anything</th>\n",
       "      <th>anything like</th>\n",
       "      <th>anyway</th>\n",
       "      <th>anywhere</th>\n",
       "      <th>apart</th>\n",
       "      <th>appear</th>\n",
       "      <th>appearance</th>\n",
       "      <th>appears</th>\n",
       "      <th>appreciate</th>\n",
       "      <th>appropriate</th>\n",
       "      <th>aqua</th>\n",
       "      <th>area</th>\n",
       "      <th>arm</th>\n",
       "      <th>armhole</th>\n",
       "      <th>armpit</th>\n",
       "      <th>around</th>\n",
       "      <th>around ankle</th>\n",
       "      <th>around house</th>\n",
       "      <th>arrive</th>\n",
       "      <th>arrived</th>\n",
       "      <th>arrived quickly</th>\n",
       "      <th>ask</th>\n",
       "      <th>asked</th>\n",
       "      <th>aspect</th>\n",
       "      <th>athletic</th>\n",
       "      <th>athletic workout</th>\n",
       "      <th>attractive</th>\n",
       "      <th>available</th>\n",
       "      <th>average</th>\n",
       "      <th>avia</th>\n",
       "      <th>away</th>\n",
       "      <th>awesome</th>\n",
       "      <th>awful</th>\n",
       "      <th>awkward</th>\n",
       "      <th>baby</th>\n",
       "      <th>back</th>\n",
       "      <th>back pocket</th>\n",
       "      <th>back school</th>\n",
       "      <th>bad</th>\n",
       "      <th>bag</th>\n",
       "      <th>baggy</th>\n",
       "      <th>ball</th>\n",
       "      <th>band</th>\n",
       "      <th>bar</th>\n",
       "      <th>barely</th>\n",
       "      <th>bargain</th>\n",
       "      <th>based</th>\n",
       "      <th>baselayer</th>\n",
       "      <th>baselayer cool</th>\n",
       "      <th>basic</th>\n",
       "      <th>basically</th>\n",
       "      <th>batch</th>\n",
       "      <th>bathrobe</th>\n",
       "      <th>battery</th>\n",
       "      <th>bc</th>\n",
       "      <th>beat</th>\n",
       "      <th>beat price</th>\n",
       "      <th>beautiful</th>\n",
       "      <th>beautiful dress</th>\n",
       "      <th>beautifully</th>\n",
       "      <th>become</th>\n",
       "      <th>bed</th>\n",
       "      <th>behind</th>\n",
       "      <th>believe</th>\n",
       "      <th>belly</th>\n",
       "      <th>belt</th>\n",
       "      <th>bend</th>\n",
       "      <th>bending</th>\n",
       "      <th>best</th>\n",
       "      <th>best fitting</th>\n",
       "      <th>best part</th>\n",
       "      <th>best thing</th>\n",
       "      <th>better</th>\n",
       "      <th>better expected</th>\n",
       "      <th>beware</th>\n",
       "      <th>beyond</th>\n",
       "      <th>bib</th>\n",
       "      <th>big</th>\n",
       "      <th>...</th>\n",
       "      <th>washer</th>\n",
       "      <th>washing</th>\n",
       "      <th>washing machine</th>\n",
       "      <th>waste</th>\n",
       "      <th>waste money</th>\n",
       "      <th>watch</th>\n",
       "      <th>water</th>\n",
       "      <th>water resistant</th>\n",
       "      <th>wear</th>\n",
       "      <th>wear also</th>\n",
       "      <th>wear anything</th>\n",
       "      <th>wear around</th>\n",
       "      <th>wear bra</th>\n",
       "      <th>wear day</th>\n",
       "      <th>wear dress</th>\n",
       "      <th>wear get</th>\n",
       "      <th>wear large</th>\n",
       "      <th>wear love</th>\n",
       "      <th>wear medium</th>\n",
       "      <th>wear ordered</th>\n",
       "      <th>wear pant</th>\n",
       "      <th>wear school</th>\n",
       "      <th>wear shoe</th>\n",
       "      <th>wear skirt</th>\n",
       "      <th>wear time</th>\n",
       "      <th>wear wear</th>\n",
       "      <th>wear well</th>\n",
       "      <th>wear work</th>\n",
       "      <th>wear would</th>\n",
       "      <th>wearable</th>\n",
       "      <th>wearing</th>\n",
       "      <th>wearing bra</th>\n",
       "      <th>weather</th>\n",
       "      <th>website</th>\n",
       "      <th>week</th>\n",
       "      <th>weekend</th>\n",
       "      <th>weigh</th>\n",
       "      <th>weight</th>\n",
       "      <th>weight fabric</th>\n",
       "      <th>weird</th>\n",
       "      <th>well</th>\n",
       "      <th>well comfortable</th>\n",
       "      <th>well constructed</th>\n",
       "      <th>well done</th>\n",
       "      <th>well good</th>\n",
       "      <th>well like</th>\n",
       "      <th>well look</th>\n",
       "      <th>well love</th>\n",
       "      <th>well made</th>\n",
       "      <th>well nice</th>\n",
       "      <th>well perfect</th>\n",
       "      <th>well true</th>\n",
       "      <th>well worth</th>\n",
       "      <th>went</th>\n",
       "      <th>went back</th>\n",
       "      <th>wet</th>\n",
       "      <th>whatever</th>\n",
       "      <th>white</th>\n",
       "      <th>whole</th>\n",
       "      <th>wide</th>\n",
       "      <th>wider</th>\n",
       "      <th>width</th>\n",
       "      <th>wife</th>\n",
       "      <th>win</th>\n",
       "      <th>wind</th>\n",
       "      <th>winter</th>\n",
       "      <th>winter coat</th>\n",
       "      <th>winter month</th>\n",
       "      <th>wire</th>\n",
       "      <th>wish</th>\n",
       "      <th>wish color</th>\n",
       "      <th>wish could</th>\n",
       "      <th>wish would</th>\n",
       "      <th>within</th>\n",
       "      <th>without</th>\n",
       "      <th>woman</th>\n",
       "      <th>wonder</th>\n",
       "      <th>wonder long</th>\n",
       "      <th>wonder nation</th>\n",
       "      <th>wonderful</th>\n",
       "      <th>wonderfully</th>\n",
       "      <th>wont</th>\n",
       "      <th>word</th>\n",
       "      <th>wore</th>\n",
       "      <th>work</th>\n",
       "      <th>work well</th>\n",
       "      <th>worked</th>\n",
       "      <th>working</th>\n",
       "      <th>workout</th>\n",
       "      <th>workout running</th>\n",
       "      <th>world</th>\n",
       "      <th>worn</th>\n",
       "      <th>worried</th>\n",
       "      <th>worst</th>\n",
       "      <th>worth</th>\n",
       "      <th>worth money</th>\n",
       "      <th>worth price</th>\n",
       "      <th>would</th>\n",
       "      <th>would big</th>\n",
       "      <th>would buy</th>\n",
       "      <th>would even</th>\n",
       "      <th>would get</th>\n",
       "      <th>would go</th>\n",
       "      <th>would like</th>\n",
       "      <th>would look</th>\n",
       "      <th>would love</th>\n",
       "      <th>would make</th>\n",
       "      <th>would never</th>\n",
       "      <th>would nice</th>\n",
       "      <th>would order</th>\n",
       "      <th>would probably</th>\n",
       "      <th>would purchase</th>\n",
       "      <th>would recommend</th>\n",
       "      <th>would say</th>\n",
       "      <th>would suggest</th>\n",
       "      <th>would tight</th>\n",
       "      <th>would wear</th>\n",
       "      <th>wouldnt</th>\n",
       "      <th>wrangler</th>\n",
       "      <th>wrangler jean</th>\n",
       "      <th>wrap</th>\n",
       "      <th>wrap around</th>\n",
       "      <th>wrap dress</th>\n",
       "      <th>wrinkle</th>\n",
       "      <th>wrinkled</th>\n",
       "      <th>wrist</th>\n",
       "      <th>write</th>\n",
       "      <th>writing</th>\n",
       "      <th>wrong</th>\n",
       "      <th>wrote</th>\n",
       "      <th>xa</th>\n",
       "      <th>xxl</th>\n",
       "      <th>yard</th>\n",
       "      <th>yeah</th>\n",
       "      <th>year</th>\n",
       "      <th>year ago</th>\n",
       "      <th>year always</th>\n",
       "      <th>year love</th>\n",
       "      <th>year old</th>\n",
       "      <th>yellow</th>\n",
       "      <th>yes</th>\n",
       "      <th>yesterday</th>\n",
       "      <th>yet</th>\n",
       "      <th>yo</th>\n",
       "      <th>younger</th>\n",
       "      <th>yr</th>\n",
       "      <th>yr old</th>\n",
       "      <th>zero</th>\n",
       "      <th>zip</th>\n",
       "      <th>zipper</th>\n",
       "    </tr>\n",
       "  </thead>\n",
       "  <tbody>\n",
       "    <tr>\n",
       "      <th>0</th>\n",
       "      <td>11.94</td>\n",
       "      <td>13.0</td>\n",
       "      <td>thick, material, quality, product, price, good...</td>\n",
       "      <td>1.0</td>\n",
       "      <td>0.0</td>\n",
       "      <td>0.0</td>\n",
       "      <td>0.0</td>\n",
       "      <td>0.0</td>\n",
       "      <td>0.0</td>\n",
       "      <td>0.976918</td>\n",
       "      <td>0.0</td>\n",
       "      <td>0.0</td>\n",
       "      <td>0.0</td>\n",
       "      <td>0.0</td>\n",
       "      <td>0.0</td>\n",
       "      <td>0.0</td>\n",
       "      <td>0.0</td>\n",
       "      <td>0.0</td>\n",
       "      <td>0.0</td>\n",
       "      <td>0.0</td>\n",
       "      <td>0.0</td>\n",
       "      <td>0.0</td>\n",
       "      <td>0.160937</td>\n",
       "      <td>0.0</td>\n",
       "      <td>0.0</td>\n",
       "      <td>0.0</td>\n",
       "      <td>0.0</td>\n",
       "      <td>0.092148</td>\n",
       "      <td>0.0</td>\n",
       "      <td>0.0</td>\n",
       "      <td>0.0</td>\n",
       "      <td>0.0</td>\n",
       "      <td>0.0</td>\n",
       "      <td>0.0</td>\n",
       "      <td>0.0</td>\n",
       "      <td>0.000000</td>\n",
       "      <td>0.0</td>\n",
       "      <td>0.0</td>\n",
       "      <td>0.0</td>\n",
       "      <td>0.0</td>\n",
       "      <td>0.0</td>\n",
       "      <td>0.0</td>\n",
       "      <td>0.0</td>\n",
       "      <td>0.0</td>\n",
       "      <td>0.0</td>\n",
       "      <td>0.0</td>\n",
       "      <td>0.0</td>\n",
       "      <td>0.0</td>\n",
       "      <td>0.0</td>\n",
       "      <td>0.0</td>\n",
       "      <td>0.000000</td>\n",
       "      <td>0.063616</td>\n",
       "      <td>0.147237</td>\n",
       "      <td>0.0</td>\n",
       "      <td>0.0</td>\n",
       "      <td>0.0</td>\n",
       "      <td>0.0</td>\n",
       "      <td>0.0</td>\n",
       "      <td>0.0</td>\n",
       "      <td>0.0</td>\n",
       "      <td>0.0</td>\n",
       "      <td>0.0</td>\n",
       "      <td>0.0</td>\n",
       "      <td>0.0</td>\n",
       "      <td>0.0</td>\n",
       "      <td>0.0</td>\n",
       "      <td>0.0</td>\n",
       "      <td>0.0</td>\n",
       "      <td>0.0</td>\n",
       "      <td>0.0</td>\n",
       "      <td>0.0</td>\n",
       "      <td>0.0</td>\n",
       "      <td>0.0</td>\n",
       "      <td>0.0</td>\n",
       "      <td>0.0</td>\n",
       "      <td>0.0</td>\n",
       "      <td>0.0</td>\n",
       "      <td>0.0</td>\n",
       "      <td>0.0</td>\n",
       "      <td>0.0</td>\n",
       "      <td>0.0</td>\n",
       "      <td>0.0</td>\n",
       "      <td>0.0</td>\n",
       "      <td>0.0</td>\n",
       "      <td>0.0</td>\n",
       "      <td>0.0</td>\n",
       "      <td>0.0</td>\n",
       "      <td>0.0</td>\n",
       "      <td>0.0</td>\n",
       "      <td>0.0</td>\n",
       "      <td>0.0</td>\n",
       "      <td>0.0</td>\n",
       "      <td>0.0</td>\n",
       "      <td>0.0</td>\n",
       "      <td>0.0</td>\n",
       "      <td>0.0</td>\n",
       "      <td>0.0</td>\n",
       "      <td>0.0</td>\n",
       "      <td>0.0</td>\n",
       "      <td>0.0</td>\n",
       "      <td>0.0</td>\n",
       "      <td>0.0</td>\n",
       "      <td>0.0</td>\n",
       "      <td>0.0</td>\n",
       "      <td>0.0</td>\n",
       "      <td>0.0</td>\n",
       "      <td>0.0</td>\n",
       "      <td>0.0</td>\n",
       "      <td>0.0</td>\n",
       "      <td>0.0</td>\n",
       "      <td>0.0</td>\n",
       "      <td>0.0</td>\n",
       "      <td>0.0</td>\n",
       "      <td>0.0</td>\n",
       "      <td>0.0</td>\n",
       "      <td>0.0</td>\n",
       "      <td>0.0</td>\n",
       "      <td>0.0</td>\n",
       "      <td>0.0</td>\n",
       "      <td>0.0</td>\n",
       "      <td>0.0</td>\n",
       "      <td>0.0</td>\n",
       "      <td>0.0</td>\n",
       "      <td>0.0</td>\n",
       "      <td>0.0</td>\n",
       "      <td>0.0</td>\n",
       "      <td>0.0</td>\n",
       "      <td>0.0</td>\n",
       "      <td>0.0</td>\n",
       "      <td>0.0</td>\n",
       "      <td>0.0</td>\n",
       "      <td>0.0</td>\n",
       "      <td>0.0</td>\n",
       "      <td>0.0</td>\n",
       "      <td>0.0</td>\n",
       "      <td>0.0</td>\n",
       "      <td>0.0</td>\n",
       "      <td>0.000000</td>\n",
       "      <td>0.0</td>\n",
       "      <td>0.0</td>\n",
       "      <td>0.095635</td>\n",
       "      <td>0.0</td>\n",
       "      <td>0.0</td>\n",
       "      <td>0.0</td>\n",
       "      <td>0.0</td>\n",
       "      <td>0.0</td>\n",
       "      <td>0.073525</td>\n",
       "      <td>0.0</td>\n",
       "      <td>0.0</td>\n",
       "      <td>0.0</td>\n",
       "      <td>...</td>\n",
       "      <td>0.0</td>\n",
       "      <td>0.0</td>\n",
       "      <td>0.0</td>\n",
       "      <td>0.0</td>\n",
       "      <td>0.0</td>\n",
       "      <td>0.0</td>\n",
       "      <td>0.0</td>\n",
       "      <td>0.0</td>\n",
       "      <td>0.0</td>\n",
       "      <td>0.0</td>\n",
       "      <td>0.0</td>\n",
       "      <td>0.0</td>\n",
       "      <td>0.0</td>\n",
       "      <td>0.0</td>\n",
       "      <td>0.0</td>\n",
       "      <td>0.0</td>\n",
       "      <td>0.0</td>\n",
       "      <td>0.0</td>\n",
       "      <td>0.0</td>\n",
       "      <td>0.000000</td>\n",
       "      <td>0.0</td>\n",
       "      <td>0.0</td>\n",
       "      <td>0.0</td>\n",
       "      <td>0.0</td>\n",
       "      <td>0.0</td>\n",
       "      <td>0.0</td>\n",
       "      <td>0.0</td>\n",
       "      <td>0.0</td>\n",
       "      <td>0.0</td>\n",
       "      <td>0.0</td>\n",
       "      <td>0.0</td>\n",
       "      <td>0.0</td>\n",
       "      <td>0.0</td>\n",
       "      <td>0.0</td>\n",
       "      <td>0.0</td>\n",
       "      <td>0.0</td>\n",
       "      <td>0.0</td>\n",
       "      <td>0.0</td>\n",
       "      <td>0.0</td>\n",
       "      <td>0.0</td>\n",
       "      <td>0.0</td>\n",
       "      <td>0.0</td>\n",
       "      <td>0.0</td>\n",
       "      <td>0.0</td>\n",
       "      <td>0.0</td>\n",
       "      <td>0.0</td>\n",
       "      <td>0.0</td>\n",
       "      <td>0.0</td>\n",
       "      <td>0.0</td>\n",
       "      <td>0.0</td>\n",
       "      <td>0.0</td>\n",
       "      <td>0.00000</td>\n",
       "      <td>0.0</td>\n",
       "      <td>0.0</td>\n",
       "      <td>0.0</td>\n",
       "      <td>0.0</td>\n",
       "      <td>0.0</td>\n",
       "      <td>0.0</td>\n",
       "      <td>0.0</td>\n",
       "      <td>0.0</td>\n",
       "      <td>0.0</td>\n",
       "      <td>0.0</td>\n",
       "      <td>0.0</td>\n",
       "      <td>0.0</td>\n",
       "      <td>0.0</td>\n",
       "      <td>0.0</td>\n",
       "      <td>0.0</td>\n",
       "      <td>0.0</td>\n",
       "      <td>0.0</td>\n",
       "      <td>0.0</td>\n",
       "      <td>0.0</td>\n",
       "      <td>0.0</td>\n",
       "      <td>0.0</td>\n",
       "      <td>0.0</td>\n",
       "      <td>0.0</td>\n",
       "      <td>0.0</td>\n",
       "      <td>0.0</td>\n",
       "      <td>0.0</td>\n",
       "      <td>0.0</td>\n",
       "      <td>0.0</td>\n",
       "      <td>0.0</td>\n",
       "      <td>0.0</td>\n",
       "      <td>0.0</td>\n",
       "      <td>0.0</td>\n",
       "      <td>0.0</td>\n",
       "      <td>0.0</td>\n",
       "      <td>0.0</td>\n",
       "      <td>0.0</td>\n",
       "      <td>0.0</td>\n",
       "      <td>0.0</td>\n",
       "      <td>0.0</td>\n",
       "      <td>0.0</td>\n",
       "      <td>0.0</td>\n",
       "      <td>0.0</td>\n",
       "      <td>0.0</td>\n",
       "      <td>0.0</td>\n",
       "      <td>0.0</td>\n",
       "      <td>0.0</td>\n",
       "      <td>0.0</td>\n",
       "      <td>0.0</td>\n",
       "      <td>0.0</td>\n",
       "      <td>0.0</td>\n",
       "      <td>0.0</td>\n",
       "      <td>0.0</td>\n",
       "      <td>0.0</td>\n",
       "      <td>0.0</td>\n",
       "      <td>0.0</td>\n",
       "      <td>0.0</td>\n",
       "      <td>0.0</td>\n",
       "      <td>0.0</td>\n",
       "      <td>0.0</td>\n",
       "      <td>0.0</td>\n",
       "      <td>0.0</td>\n",
       "      <td>0.0</td>\n",
       "      <td>0.0</td>\n",
       "      <td>0.0</td>\n",
       "      <td>0.0</td>\n",
       "      <td>0.0</td>\n",
       "      <td>0.0</td>\n",
       "      <td>0.0</td>\n",
       "      <td>0.0</td>\n",
       "      <td>0.0</td>\n",
       "      <td>0.0</td>\n",
       "      <td>0.0</td>\n",
       "      <td>0.0</td>\n",
       "      <td>0.0</td>\n",
       "      <td>0.0</td>\n",
       "      <td>0.0</td>\n",
       "      <td>0.0</td>\n",
       "      <td>0.0</td>\n",
       "      <td>0.0</td>\n",
       "      <td>0.0</td>\n",
       "      <td>0.0</td>\n",
       "      <td>0.0</td>\n",
       "      <td>0.0</td>\n",
       "      <td>0.0</td>\n",
       "      <td>0.0</td>\n",
       "      <td>0.0</td>\n",
       "      <td>0.0</td>\n",
       "      <td>0.0</td>\n",
       "      <td>0.0</td>\n",
       "      <td>0.0</td>\n",
       "      <td>0.0</td>\n",
       "      <td>0.0</td>\n",
       "      <td>0.0</td>\n",
       "      <td>0.0</td>\n",
       "      <td>0.0</td>\n",
       "      <td>0.0</td>\n",
       "      <td>0.0</td>\n",
       "      <td>0.0</td>\n",
       "    </tr>\n",
       "    <tr>\n",
       "      <th>1</th>\n",
       "      <td>10.00</td>\n",
       "      <td>3.0</td>\n",
       "      <td>hoodie, little, thinner, side, daughter, love,...</td>\n",
       "      <td>1.0</td>\n",
       "      <td>0.0</td>\n",
       "      <td>0.0</td>\n",
       "      <td>0.0</td>\n",
       "      <td>0.0</td>\n",
       "      <td>0.0</td>\n",
       "      <td>0.957135</td>\n",
       "      <td>0.0</td>\n",
       "      <td>0.0</td>\n",
       "      <td>0.0</td>\n",
       "      <td>0.0</td>\n",
       "      <td>0.0</td>\n",
       "      <td>0.0</td>\n",
       "      <td>0.0</td>\n",
       "      <td>0.0</td>\n",
       "      <td>0.0</td>\n",
       "      <td>0.0</td>\n",
       "      <td>0.0</td>\n",
       "      <td>0.0</td>\n",
       "      <td>0.000000</td>\n",
       "      <td>0.0</td>\n",
       "      <td>0.0</td>\n",
       "      <td>0.0</td>\n",
       "      <td>0.0</td>\n",
       "      <td>0.000000</td>\n",
       "      <td>0.0</td>\n",
       "      <td>0.0</td>\n",
       "      <td>0.0</td>\n",
       "      <td>0.0</td>\n",
       "      <td>0.0</td>\n",
       "      <td>0.0</td>\n",
       "      <td>0.0</td>\n",
       "      <td>0.205928</td>\n",
       "      <td>0.0</td>\n",
       "      <td>0.0</td>\n",
       "      <td>0.0</td>\n",
       "      <td>0.0</td>\n",
       "      <td>0.0</td>\n",
       "      <td>0.0</td>\n",
       "      <td>0.0</td>\n",
       "      <td>0.0</td>\n",
       "      <td>0.0</td>\n",
       "      <td>0.0</td>\n",
       "      <td>0.0</td>\n",
       "      <td>0.0</td>\n",
       "      <td>0.0</td>\n",
       "      <td>0.0</td>\n",
       "      <td>0.170243</td>\n",
       "      <td>0.000000</td>\n",
       "      <td>0.000000</td>\n",
       "      <td>0.0</td>\n",
       "      <td>0.0</td>\n",
       "      <td>0.0</td>\n",
       "      <td>0.0</td>\n",
       "      <td>0.0</td>\n",
       "      <td>0.0</td>\n",
       "      <td>0.0</td>\n",
       "      <td>0.0</td>\n",
       "      <td>0.0</td>\n",
       "      <td>0.0</td>\n",
       "      <td>0.0</td>\n",
       "      <td>0.0</td>\n",
       "      <td>0.0</td>\n",
       "      <td>0.0</td>\n",
       "      <td>0.0</td>\n",
       "      <td>0.0</td>\n",
       "      <td>0.0</td>\n",
       "      <td>0.0</td>\n",
       "      <td>0.0</td>\n",
       "      <td>0.0</td>\n",
       "      <td>0.0</td>\n",
       "      <td>0.0</td>\n",
       "      <td>0.0</td>\n",
       "      <td>0.0</td>\n",
       "      <td>0.0</td>\n",
       "      <td>0.0</td>\n",
       "      <td>0.0</td>\n",
       "      <td>0.0</td>\n",
       "      <td>0.0</td>\n",
       "      <td>0.0</td>\n",
       "      <td>0.0</td>\n",
       "      <td>0.0</td>\n",
       "      <td>0.0</td>\n",
       "      <td>0.0</td>\n",
       "      <td>0.0</td>\n",
       "      <td>0.0</td>\n",
       "      <td>0.0</td>\n",
       "      <td>0.0</td>\n",
       "      <td>0.0</td>\n",
       "      <td>0.0</td>\n",
       "      <td>0.0</td>\n",
       "      <td>0.0</td>\n",
       "      <td>0.0</td>\n",
       "      <td>0.0</td>\n",
       "      <td>0.0</td>\n",
       "      <td>0.0</td>\n",
       "      <td>0.0</td>\n",
       "      <td>0.0</td>\n",
       "      <td>0.0</td>\n",
       "      <td>0.0</td>\n",
       "      <td>0.0</td>\n",
       "      <td>0.0</td>\n",
       "      <td>0.0</td>\n",
       "      <td>0.0</td>\n",
       "      <td>0.0</td>\n",
       "      <td>0.0</td>\n",
       "      <td>0.0</td>\n",
       "      <td>0.0</td>\n",
       "      <td>0.0</td>\n",
       "      <td>0.0</td>\n",
       "      <td>0.0</td>\n",
       "      <td>0.0</td>\n",
       "      <td>0.0</td>\n",
       "      <td>0.0</td>\n",
       "      <td>0.0</td>\n",
       "      <td>0.0</td>\n",
       "      <td>0.0</td>\n",
       "      <td>0.0</td>\n",
       "      <td>0.0</td>\n",
       "      <td>0.0</td>\n",
       "      <td>0.0</td>\n",
       "      <td>0.0</td>\n",
       "      <td>0.0</td>\n",
       "      <td>0.0</td>\n",
       "      <td>0.0</td>\n",
       "      <td>0.0</td>\n",
       "      <td>0.0</td>\n",
       "      <td>0.0</td>\n",
       "      <td>0.0</td>\n",
       "      <td>0.0</td>\n",
       "      <td>0.0</td>\n",
       "      <td>0.0</td>\n",
       "      <td>0.0</td>\n",
       "      <td>0.0</td>\n",
       "      <td>0.110249</td>\n",
       "      <td>0.0</td>\n",
       "      <td>0.0</td>\n",
       "      <td>0.000000</td>\n",
       "      <td>0.0</td>\n",
       "      <td>0.0</td>\n",
       "      <td>0.0</td>\n",
       "      <td>0.0</td>\n",
       "      <td>0.0</td>\n",
       "      <td>0.000000</td>\n",
       "      <td>0.0</td>\n",
       "      <td>0.0</td>\n",
       "      <td>0.0</td>\n",
       "      <td>...</td>\n",
       "      <td>0.0</td>\n",
       "      <td>0.0</td>\n",
       "      <td>0.0</td>\n",
       "      <td>0.0</td>\n",
       "      <td>0.0</td>\n",
       "      <td>0.0</td>\n",
       "      <td>0.0</td>\n",
       "      <td>0.0</td>\n",
       "      <td>0.0</td>\n",
       "      <td>0.0</td>\n",
       "      <td>0.0</td>\n",
       "      <td>0.0</td>\n",
       "      <td>0.0</td>\n",
       "      <td>0.0</td>\n",
       "      <td>0.0</td>\n",
       "      <td>0.0</td>\n",
       "      <td>0.0</td>\n",
       "      <td>0.0</td>\n",
       "      <td>0.0</td>\n",
       "      <td>0.085996</td>\n",
       "      <td>0.0</td>\n",
       "      <td>0.0</td>\n",
       "      <td>0.0</td>\n",
       "      <td>0.0</td>\n",
       "      <td>0.0</td>\n",
       "      <td>0.0</td>\n",
       "      <td>0.0</td>\n",
       "      <td>0.0</td>\n",
       "      <td>0.0</td>\n",
       "      <td>0.0</td>\n",
       "      <td>0.0</td>\n",
       "      <td>0.0</td>\n",
       "      <td>0.0</td>\n",
       "      <td>0.0</td>\n",
       "      <td>0.0</td>\n",
       "      <td>0.0</td>\n",
       "      <td>0.0</td>\n",
       "      <td>0.0</td>\n",
       "      <td>0.0</td>\n",
       "      <td>0.0</td>\n",
       "      <td>0.0</td>\n",
       "      <td>0.0</td>\n",
       "      <td>0.0</td>\n",
       "      <td>0.0</td>\n",
       "      <td>0.0</td>\n",
       "      <td>0.0</td>\n",
       "      <td>0.0</td>\n",
       "      <td>0.0</td>\n",
       "      <td>0.0</td>\n",
       "      <td>0.0</td>\n",
       "      <td>0.0</td>\n",
       "      <td>0.08528</td>\n",
       "      <td>0.0</td>\n",
       "      <td>0.0</td>\n",
       "      <td>0.0</td>\n",
       "      <td>0.0</td>\n",
       "      <td>0.0</td>\n",
       "      <td>0.0</td>\n",
       "      <td>0.0</td>\n",
       "      <td>0.0</td>\n",
       "      <td>0.0</td>\n",
       "      <td>0.0</td>\n",
       "      <td>0.0</td>\n",
       "      <td>0.0</td>\n",
       "      <td>0.0</td>\n",
       "      <td>0.0</td>\n",
       "      <td>0.0</td>\n",
       "      <td>0.0</td>\n",
       "      <td>0.0</td>\n",
       "      <td>0.0</td>\n",
       "      <td>0.0</td>\n",
       "      <td>0.0</td>\n",
       "      <td>0.0</td>\n",
       "      <td>0.0</td>\n",
       "      <td>0.0</td>\n",
       "      <td>0.0</td>\n",
       "      <td>0.0</td>\n",
       "      <td>0.0</td>\n",
       "      <td>0.0</td>\n",
       "      <td>0.0</td>\n",
       "      <td>0.0</td>\n",
       "      <td>0.0</td>\n",
       "      <td>0.0</td>\n",
       "      <td>0.0</td>\n",
       "      <td>0.0</td>\n",
       "      <td>0.0</td>\n",
       "      <td>0.0</td>\n",
       "      <td>0.0</td>\n",
       "      <td>0.0</td>\n",
       "      <td>0.0</td>\n",
       "      <td>0.0</td>\n",
       "      <td>0.0</td>\n",
       "      <td>0.0</td>\n",
       "      <td>0.0</td>\n",
       "      <td>0.0</td>\n",
       "      <td>0.0</td>\n",
       "      <td>0.0</td>\n",
       "      <td>0.0</td>\n",
       "      <td>0.0</td>\n",
       "      <td>0.0</td>\n",
       "      <td>0.0</td>\n",
       "      <td>0.0</td>\n",
       "      <td>0.0</td>\n",
       "      <td>0.0</td>\n",
       "      <td>0.0</td>\n",
       "      <td>0.0</td>\n",
       "      <td>0.0</td>\n",
       "      <td>0.0</td>\n",
       "      <td>0.0</td>\n",
       "      <td>0.0</td>\n",
       "      <td>0.0</td>\n",
       "      <td>0.0</td>\n",
       "      <td>0.0</td>\n",
       "      <td>0.0</td>\n",
       "      <td>0.0</td>\n",
       "      <td>0.0</td>\n",
       "      <td>0.0</td>\n",
       "      <td>0.0</td>\n",
       "      <td>0.0</td>\n",
       "      <td>0.0</td>\n",
       "      <td>0.0</td>\n",
       "      <td>0.0</td>\n",
       "      <td>0.0</td>\n",
       "      <td>0.0</td>\n",
       "      <td>0.0</td>\n",
       "      <td>0.0</td>\n",
       "      <td>0.0</td>\n",
       "      <td>0.0</td>\n",
       "      <td>0.0</td>\n",
       "      <td>0.0</td>\n",
       "      <td>0.0</td>\n",
       "      <td>0.0</td>\n",
       "      <td>0.0</td>\n",
       "      <td>0.0</td>\n",
       "      <td>0.0</td>\n",
       "      <td>0.0</td>\n",
       "      <td>0.0</td>\n",
       "      <td>0.0</td>\n",
       "      <td>0.0</td>\n",
       "      <td>0.0</td>\n",
       "      <td>0.0</td>\n",
       "      <td>0.0</td>\n",
       "      <td>0.0</td>\n",
       "      <td>0.0</td>\n",
       "      <td>0.0</td>\n",
       "      <td>0.0</td>\n",
       "      <td>0.0</td>\n",
       "      <td>0.0</td>\n",
       "      <td>0.0</td>\n",
       "      <td>0.0</td>\n",
       "    </tr>\n",
       "  </tbody>\n",
       "</table>\n",
       "<p>2 rows × 2016 columns</p>\n",
       "</div>"
      ],
      "text/plain": [
       "   price  num_rating                                           delisted  \\\n",
       "0  11.94        13.0  thick, material, quality, product, price, good...   \n",
       "1  10.00         3.0  hoodie, little, thinner, side, daughter, love,...   \n",
       "\n",
       "   girls'  men's  women's  topic0  topic1  topic2    topic3  topic4  topic5  \\\n",
       "0     1.0    0.0      0.0     0.0     0.0     0.0  0.976918     0.0     0.0   \n",
       "1     1.0    0.0      0.0     0.0     0.0     0.0  0.957135     0.0     0.0   \n",
       "\n",
       "   topic6  topic7  topic8  topic9  able  able wear  absolutely  \\\n",
       "0     0.0     0.0     0.0     0.0   0.0        0.0         0.0   \n",
       "1     0.0     0.0     0.0     0.0   0.0        0.0         0.0   \n",
       "\n",
       "   absolutely adorable  absolutely love  absolutely loved  acceptable  \\\n",
       "0                  0.0              0.0               0.0    0.160937   \n",
       "1                  0.0              0.0               0.0    0.000000   \n",
       "\n",
       "   accessory  according  accurate  across    active  activity  actual  \\\n",
       "0        0.0        0.0       0.0     0.0  0.092148       0.0     0.0   \n",
       "1        0.0        0.0       0.0     0.0  0.000000       0.0     0.0   \n",
       "\n",
       "   actually  add  added  addition  adjust  adjustable  adjustable waist  \\\n",
       "0       0.0  0.0    0.0       0.0     0.0    0.000000               0.0   \n",
       "1       0.0  0.0    0.0       0.0     0.0    0.205928               0.0   \n",
       "\n",
       "   adorable  adult  advertised  affordable  age  ago  air  air dry  allow  \\\n",
       "0       0.0    0.0         0.0         0.0  0.0  0.0  0.0      0.0    0.0   \n",
       "1       0.0    0.0         0.0         0.0  0.0  0.0  0.0      0.0    0.0   \n",
       "\n",
       "   almost  almost like  alone  along   already      also  also comfortable  \\\n",
       "0     0.0          0.0    0.0    0.0  0.000000  0.063616          0.147237   \n",
       "1     0.0          0.0    0.0    0.0  0.170243  0.000000          0.000000   \n",
       "\n",
       "   also like  also love  also ordered  also run  also soft  although  always  \\\n",
       "0        0.0        0.0           0.0       0.0        0.0       0.0     0.0   \n",
       "1        0.0        0.0           0.0       0.0        0.0       0.0     0.0   \n",
       "\n",
       "   always worn  amazing  american  amount  amount stretch  ankle  annoying  \\\n",
       "0          0.0      0.0       0.0     0.0             0.0    0.0       0.0   \n",
       "1          0.0      0.0       0.0     0.0             0.0    0.0       0.0   \n",
       "\n",
       "   another  another brand  another different  anymore  anyone  anything  \\\n",
       "0      0.0            0.0                0.0      0.0     0.0       0.0   \n",
       "1      0.0            0.0                0.0      0.0     0.0       0.0   \n",
       "\n",
       "   anything like  anyway  anywhere  apart  appear  appearance  appears  \\\n",
       "0            0.0     0.0       0.0    0.0     0.0         0.0      0.0   \n",
       "1            0.0     0.0       0.0    0.0     0.0         0.0      0.0   \n",
       "\n",
       "   appreciate  appropriate  aqua  area  arm  armhole  armpit  around  \\\n",
       "0         0.0          0.0   0.0   0.0  0.0      0.0     0.0     0.0   \n",
       "1         0.0          0.0   0.0   0.0  0.0      0.0     0.0     0.0   \n",
       "\n",
       "   around ankle  around house  arrive  arrived  arrived quickly  ask  asked  \\\n",
       "0           0.0           0.0     0.0      0.0              0.0  0.0    0.0   \n",
       "1           0.0           0.0     0.0      0.0              0.0  0.0    0.0   \n",
       "\n",
       "   aspect  athletic  athletic workout  attractive  available  average  avia  \\\n",
       "0     0.0       0.0               0.0         0.0        0.0      0.0   0.0   \n",
       "1     0.0       0.0               0.0         0.0        0.0      0.0   0.0   \n",
       "\n",
       "   away  awesome  awful  awkward  baby  back  back pocket  back school  bad  \\\n",
       "0   0.0      0.0    0.0      0.0   0.0   0.0          0.0          0.0  0.0   \n",
       "1   0.0      0.0    0.0      0.0   0.0   0.0          0.0          0.0  0.0   \n",
       "\n",
       "   bag  baggy  ball  band  bar  barely  bargain  based  baselayer  \\\n",
       "0  0.0    0.0   0.0   0.0  0.0     0.0      0.0    0.0        0.0   \n",
       "1  0.0    0.0   0.0   0.0  0.0     0.0      0.0    0.0        0.0   \n",
       "\n",
       "   baselayer cool  basic  basically  batch  bathrobe  battery   bc  beat  \\\n",
       "0             0.0    0.0        0.0    0.0       0.0      0.0  0.0   0.0   \n",
       "1             0.0    0.0        0.0    0.0       0.0      0.0  0.0   0.0   \n",
       "\n",
       "   beat price  beautiful  beautiful dress  beautifully  become  bed  behind  \\\n",
       "0         0.0        0.0              0.0          0.0     0.0  0.0     0.0   \n",
       "1         0.0        0.0              0.0          0.0     0.0  0.0     0.0   \n",
       "\n",
       "   believe  belly      belt  bend  bending      best  best fitting  best part  \\\n",
       "0      0.0    0.0  0.000000   0.0      0.0  0.095635           0.0        0.0   \n",
       "1      0.0    0.0  0.110249   0.0      0.0  0.000000           0.0        0.0   \n",
       "\n",
       "   best thing  better  better expected    beware  beyond  bib  big  ...  \\\n",
       "0         0.0     0.0              0.0  0.073525     0.0  0.0  0.0  ...   \n",
       "1         0.0     0.0              0.0  0.000000     0.0  0.0  0.0  ...   \n",
       "\n",
       "   washer  washing  washing machine  waste  waste money  watch  water  \\\n",
       "0     0.0      0.0              0.0    0.0          0.0    0.0    0.0   \n",
       "1     0.0      0.0              0.0    0.0          0.0    0.0    0.0   \n",
       "\n",
       "   water resistant  wear  wear also  wear anything  wear around  wear bra  \\\n",
       "0              0.0   0.0        0.0            0.0          0.0       0.0   \n",
       "1              0.0   0.0        0.0            0.0          0.0       0.0   \n",
       "\n",
       "   wear day  wear dress  wear get  wear large  wear love  wear medium  \\\n",
       "0       0.0         0.0       0.0         0.0        0.0          0.0   \n",
       "1       0.0         0.0       0.0         0.0        0.0          0.0   \n",
       "\n",
       "   wear ordered  wear pant  wear school  wear shoe  wear skirt  wear time  \\\n",
       "0      0.000000        0.0          0.0        0.0         0.0        0.0   \n",
       "1      0.085996        0.0          0.0        0.0         0.0        0.0   \n",
       "\n",
       "   wear wear  wear well  wear work  wear would  wearable  wearing  \\\n",
       "0        0.0        0.0        0.0         0.0       0.0      0.0   \n",
       "1        0.0        0.0        0.0         0.0       0.0      0.0   \n",
       "\n",
       "   wearing bra  weather  website  week  weekend  weigh  weight  weight fabric  \\\n",
       "0          0.0      0.0      0.0   0.0      0.0    0.0     0.0            0.0   \n",
       "1          0.0      0.0      0.0   0.0      0.0    0.0     0.0            0.0   \n",
       "\n",
       "   weird  well  well comfortable  well constructed  well done  well good  \\\n",
       "0    0.0   0.0               0.0               0.0        0.0        0.0   \n",
       "1    0.0   0.0               0.0               0.0        0.0        0.0   \n",
       "\n",
       "   well like  well look  well love  well made  well nice  well perfect  \\\n",
       "0        0.0        0.0        0.0        0.0        0.0           0.0   \n",
       "1        0.0        0.0        0.0        0.0        0.0           0.0   \n",
       "\n",
       "   well true  well worth  went  went back  wet  whatever  white  whole  wide  \\\n",
       "0    0.00000         0.0   0.0        0.0  0.0       0.0    0.0    0.0   0.0   \n",
       "1    0.08528         0.0   0.0        0.0  0.0       0.0    0.0    0.0   0.0   \n",
       "\n",
       "   wider  width  wife  win  wind  winter  winter coat  winter month  wire  \\\n",
       "0    0.0    0.0   0.0  0.0   0.0     0.0          0.0           0.0   0.0   \n",
       "1    0.0    0.0   0.0  0.0   0.0     0.0          0.0           0.0   0.0   \n",
       "\n",
       "   wish  wish color  wish could  wish would  within  without  woman  wonder  \\\n",
       "0   0.0         0.0         0.0         0.0     0.0      0.0    0.0     0.0   \n",
       "1   0.0         0.0         0.0         0.0     0.0      0.0    0.0     0.0   \n",
       "\n",
       "   wonder long  wonder nation  wonderful  wonderfully  wont  word  wore  work  \\\n",
       "0          0.0            0.0        0.0          0.0   0.0   0.0   0.0   0.0   \n",
       "1          0.0            0.0        0.0          0.0   0.0   0.0   0.0   0.0   \n",
       "\n",
       "   work well  worked  working  workout  workout running  world  worn  worried  \\\n",
       "0        0.0     0.0      0.0      0.0              0.0    0.0   0.0      0.0   \n",
       "1        0.0     0.0      0.0      0.0              0.0    0.0   0.0      0.0   \n",
       "\n",
       "   worst  worth  worth money  worth price  would  would big  would buy  \\\n",
       "0    0.0    0.0          0.0          0.0    0.0        0.0        0.0   \n",
       "1    0.0    0.0          0.0          0.0    0.0        0.0        0.0   \n",
       "\n",
       "   would even  would get  would go  would like  would look  would love  \\\n",
       "0         0.0        0.0       0.0         0.0         0.0         0.0   \n",
       "1         0.0        0.0       0.0         0.0         0.0         0.0   \n",
       "\n",
       "   would make  would never  would nice  would order  would probably  \\\n",
       "0         0.0          0.0         0.0          0.0             0.0   \n",
       "1         0.0          0.0         0.0          0.0             0.0   \n",
       "\n",
       "   would purchase  would recommend  would say  would suggest  would tight  \\\n",
       "0             0.0              0.0        0.0            0.0          0.0   \n",
       "1             0.0              0.0        0.0            0.0          0.0   \n",
       "\n",
       "   would wear  wouldnt  wrangler  wrangler jean  wrap  wrap around  \\\n",
       "0         0.0      0.0       0.0            0.0   0.0          0.0   \n",
       "1         0.0      0.0       0.0            0.0   0.0          0.0   \n",
       "\n",
       "   wrap dress  wrinkle  wrinkled  wrist  write  writing  wrong  wrote   xa  \\\n",
       "0         0.0      0.0       0.0    0.0    0.0      0.0    0.0    0.0  0.0   \n",
       "1         0.0      0.0       0.0    0.0    0.0      0.0    0.0    0.0  0.0   \n",
       "\n",
       "   xxl  yard  yeah  year  year ago  year always  year love  year old  yellow  \\\n",
       "0  0.0   0.0   0.0   0.0       0.0          0.0        0.0       0.0     0.0   \n",
       "1  0.0   0.0   0.0   0.0       0.0          0.0        0.0       0.0     0.0   \n",
       "\n",
       "   yes  yesterday  yet   yo  younger   yr  yr old  zero  zip  zipper  \n",
       "0  0.0        0.0  0.0  0.0      0.0  0.0     0.0   0.0  0.0     0.0  \n",
       "1  0.0        0.0  0.0  0.0      0.0  0.0     0.0   0.0  0.0     0.0  \n",
       "\n",
       "[2 rows x 2016 columns]"
      ]
     },
     "execution_count": 92,
     "metadata": {},
     "output_type": "execute_result"
    }
   ],
   "source": [
    "X_train.head(2)"
   ]
  },
  {
   "cell_type": "code",
   "execution_count": 93,
   "metadata": {},
   "outputs": [],
   "source": [
    "X_train.drop(columns = [\"delisted\"], inplace = True)\n",
    "X_test.drop(columns = \"delisted\", inplace=True)"
   ]
  },
  {
   "cell_type": "markdown",
   "metadata": {},
   "source": [
    "# Logistic Regression"
   ]
  },
  {
   "cell_type": "code",
   "execution_count": 94,
   "metadata": {},
   "outputs": [
    {
     "data": {
      "text/plain": [
       "LogisticRegression(n_jobs=-1, random_state=0)"
      ]
     },
     "execution_count": 94,
     "metadata": {},
     "output_type": "execute_result"
    }
   ],
   "source": [
    "from sklearn.feature_selection import RFE\n",
    "from sklearn.linear_model import LogisticRegression\n",
    "logreg_clf = LogisticRegression(penalty = \"l2\", random_state = 0,n_jobs=-1)\n",
    "logreg_clf.fit(X_train, y_train)"
   ]
  },
  {
   "cell_type": "code",
   "execution_count": 95,
   "metadata": {},
   "outputs": [
    {
     "name": "stdout",
     "output_type": "stream",
     "text": [
      "F1 score is: 0.8272251308900523\n",
      "------------------------------------------------------------\n",
      "              precision    recall  f1-score   support\n",
      "\n",
      "           0       0.55      0.09      0.15        67\n",
      "           1       0.72      0.97      0.83       163\n",
      "\n",
      "    accuracy                           0.71       230\n",
      "   macro avg       0.63      0.53      0.49       230\n",
      "weighted avg       0.67      0.71      0.63       230\n",
      "\n"
     ]
    }
   ],
   "source": [
    "y_pred_lr = logreg_clf.predict(X_test)\n",
    "print(\"F1 score is:\", metrics.f1_score(y_test, y_pred_lr))\n",
    "print(\"-\"*60)                         \n",
    "print(classification_report(y_test, y_pred_lr))"
   ]
  },
  {
   "cell_type": "markdown",
   "metadata": {},
   "source": [
    "# Bernoulli Naive Bayes\n"
   ]
  },
  {
   "cell_type": "code",
   "execution_count": 96,
   "metadata": {},
   "outputs": [
    {
     "data": {
      "text/plain": [
       "BernoulliNB(alpha=0.1)"
      ]
     },
     "execution_count": 96,
     "metadata": {},
     "output_type": "execute_result"
    }
   ],
   "source": [
    "B_nb = BernoulliNB(alpha=0.1)\n",
    "B_nb.fit(X_train, y_train)"
   ]
  },
  {
   "cell_type": "code",
   "execution_count": 98,
   "metadata": {
    "scrolled": true
   },
   "outputs": [
    {
     "name": "stdout",
     "output_type": "stream",
     "text": [
      "F1 score is: 0.783625730994152\n",
      "------------------------------------------------------------\n",
      "              precision    recall  f1-score   support\n",
      "\n",
      "           0       0.43      0.33      0.37        67\n",
      "           1       0.75      0.82      0.78       163\n",
      "\n",
      "    accuracy                           0.68       230\n",
      "   macro avg       0.59      0.58      0.58       230\n",
      "weighted avg       0.66      0.68      0.66       230\n",
      "\n"
     ]
    }
   ],
   "source": [
    "y_pred_Bnb = B_nb.predict(X_test)\n",
    "BNB_cm = confusion_matrix(y_test, y_pred_Bnb)\n",
    "print(\"F1 score is:\", metrics.f1_score(y_test, y_pred_Bnb))\n",
    "print(\"-\"*60)                         \n",
    "print(classification_report(y_test, y_pred_Bnb))"
   ]
  },
  {
   "cell_type": "code",
   "execution_count": null,
   "metadata": {},
   "outputs": [],
   "source": []
  },
  {
   "cell_type": "markdown",
   "metadata": {},
   "source": [
    "# SVM Linear Test"
   ]
  },
  {
   "cell_type": "code",
   "execution_count": 99,
   "metadata": {},
   "outputs": [],
   "source": [
    "from sklearn.svm import SVC"
   ]
  },
  {
   "cell_type": "code",
   "execution_count": 100,
   "metadata": {},
   "outputs": [
    {
     "data": {
      "text/plain": [
       "SVC(class_weight='balanced', kernel='linear')"
      ]
     },
     "execution_count": 100,
     "metadata": {},
     "output_type": "execute_result"
    }
   ],
   "source": [
    "clf = SVC(kernel='linear', class_weight=\"balanced\")\n",
    "clf.fit(X_train, y_train)"
   ]
  },
  {
   "cell_type": "code",
   "execution_count": 101,
   "metadata": {},
   "outputs": [],
   "source": [
    "y_pred = clf.predict(X_test)"
   ]
  },
  {
   "cell_type": "code",
   "execution_count": 102,
   "metadata": {},
   "outputs": [
    {
     "name": "stdout",
     "output_type": "stream",
     "text": [
      "F1 score is: 0.5714285714285715\n",
      "----------------------------------------------------------------------------------------------------\n",
      "              precision    recall  f1-score   support\n",
      "\n",
      "           0       0.35      0.75      0.48        67\n",
      "           1       0.81      0.44      0.57       163\n",
      "\n",
      "    accuracy                           0.53       230\n",
      "   macro avg       0.58      0.59      0.53       230\n",
      "weighted avg       0.68      0.53      0.55       230\n",
      "\n",
      "----------------------------------------------------------------------------------------------------\n",
      "[[50 17]\n",
      " [91 72]]\n"
     ]
    }
   ],
   "source": [
    "print(\"F1 score is:\", metrics.f1_score(y_test, y_pred))\n",
    "print(\"-\"*100)                         \n",
    "print(classification_report(y_test, y_pred))\n",
    "print(\"-\"*100)\n",
    "RFC_cm = confusion_matrix(y_test, y_pred)\n",
    "print(RFC_cm)"
   ]
  },
  {
   "cell_type": "markdown",
   "metadata": {},
   "source": [
    "# SVM Radial Basis Function Test"
   ]
  },
  {
   "cell_type": "code",
   "execution_count": 175,
   "metadata": {},
   "outputs": [
    {
     "data": {
      "text/plain": [
       "SVC(class_weight='balanced', probability=True)"
      ]
     },
     "execution_count": 175,
     "metadata": {},
     "output_type": "execute_result"
    }
   ],
   "source": [
    "clf_rbf = SVC(kernel='rbf', class_weight=\"balanced\", probability=True)\n",
    "clf_rbf.fit(X_train, y_train)"
   ]
  },
  {
   "cell_type": "code",
   "execution_count": 176,
   "metadata": {},
   "outputs": [],
   "source": [
    "y_pred_rbf = clf_rbf.predict(X_test)"
   ]
  },
  {
   "cell_type": "code",
   "execution_count": 177,
   "metadata": {},
   "outputs": [
    {
     "name": "stdout",
     "output_type": "stream",
     "text": [
      "F1 score is: 0.8088642659279778\n",
      "----------------------------------------------------------------------------------------------------\n",
      "              precision    recall  f1-score   support\n",
      "\n",
      "           0       0.47      0.22      0.30        67\n",
      "           1       0.74      0.90      0.81       163\n",
      "\n",
      "    accuracy                           0.70       230\n",
      "   macro avg       0.60      0.56      0.56       230\n",
      "weighted avg       0.66      0.70      0.66       230\n",
      "\n",
      "----------------------------------------------------------------------------------------------------\n",
      "[[ 15  52]\n",
      " [ 17 146]]\n"
     ]
    }
   ],
   "source": [
    "print(\"F1 score is:\", metrics.f1_score(y_test, y_pred_rbf))\n",
    "print(\"-\"*100)                         \n",
    "print(classification_report(y_test, y_pred_rbf))\n",
    "print(\"-\"*100)\n",
    "RFC_cm = confusion_matrix(y_test, y_pred_rbf)\n",
    "print(RFC_cm)"
   ]
  },
  {
   "cell_type": "markdown",
   "metadata": {},
   "source": [
    "# Random Forest Classifier"
   ]
  },
  {
   "cell_type": "code",
   "execution_count": 106,
   "metadata": {},
   "outputs": [],
   "source": [
    "rfc_classifier = RandomForestClassifier(n_estimators = 300, criterion = \"entropy\", random_state = 0)"
   ]
  },
  {
   "cell_type": "code",
   "execution_count": 107,
   "metadata": {},
   "outputs": [
    {
     "name": "stdout",
     "output_type": "stream",
     "text": [
      "F1 score is: 0.8210526315789474\n",
      "----------------------------------------------------------------------------------------------------\n",
      "              precision    recall  f1-score   support\n",
      "\n",
      "           0       0.46      0.09      0.15        67\n",
      "           1       0.72      0.96      0.82       163\n",
      "\n",
      "    accuracy                           0.70       230\n",
      "   macro avg       0.59      0.52      0.49       230\n",
      "weighted avg       0.64      0.70      0.63       230\n",
      "\n",
      "----------------------------------------------------------------------------------------------------\n",
      "[[  6  61]\n",
      " [  7 156]]\n"
     ]
    }
   ],
   "source": [
    "rfc_classifier.fit(X_train, y_train)\n",
    "y_pred_RF = rfc_classifier.predict(X_test)\n",
    "print(\"F1 score is:\", metrics.f1_score(y_test, y_pred_RF))\n",
    "print(\"-\"*100)                         \n",
    "print(classification_report(y_test, y_pred_RF))\n",
    "print(\"-\"*100)\n",
    "RFC_cm = confusion_matrix(y_test, y_pred_RF)\n",
    "print(RFC_cm)"
   ]
  },
  {
   "cell_type": "markdown",
   "metadata": {},
   "source": [
    "# GridSearchCV with Random Forest Classifier"
   ]
  },
  {
   "cell_type": "code",
   "execution_count": 192,
   "metadata": {},
   "outputs": [],
   "source": [
    "rfc = RandomForestClassifier(n_estimators = 300, criterion = \"entropy\",\n",
    "                             random_state = 0, verbose=1, n_jobs=-1)"
   ]
  },
  {
   "cell_type": "code",
   "execution_count": 193,
   "metadata": {},
   "outputs": [],
   "source": [
    "param_dict={'min_samples_leaf':range(1,10,1), 'max_depth': range(1,10,1), \"max_leaf_nodes\":range(5,11,1)}"
   ]
  },
  {
   "cell_type": "code",
   "execution_count": 195,
   "metadata": {},
   "outputs": [
    {
     "name": "stdout",
     "output_type": "stream",
     "text": [
      "Fitting 5 folds for each of 486 candidates, totalling 2430 fits\n"
     ]
    },
    {
     "name": "stderr",
     "output_type": "stream",
     "text": [
      "[Parallel(n_jobs=-1)]: Using backend LokyBackend with 8 concurrent workers.\n",
      "[Parallel(n_jobs=-1)]: Done  25 tasks      | elapsed:    7.3s\n",
      "[Parallel(n_jobs=-1)]: Done 146 tasks      | elapsed:   29.4s\n",
      "[Parallel(n_jobs=-1)]: Done 349 tasks      | elapsed:  1.2min\n",
      "[Parallel(n_jobs=-1)]: Done 632 tasks      | elapsed:  2.2min\n",
      "[Parallel(n_jobs=-1)]: Done 997 tasks      | elapsed:  3.8min\n",
      "[Parallel(n_jobs=-1)]: Done 1442 tasks      | elapsed:  5.8min\n",
      "[Parallel(n_jobs=-1)]: Done 1969 tasks      | elapsed:  8.3min\n",
      "[Parallel(n_jobs=-1)]: Done 2430 out of 2430 | elapsed: 10.5min finished\n",
      "[Parallel(n_jobs=-1)]: Using backend ThreadingBackend with 8 concurrent workers.\n",
      "[Parallel(n_jobs=-1)]: Done  34 tasks      | elapsed:    0.1s\n",
      "[Parallel(n_jobs=-1)]: Done 184 tasks      | elapsed:    0.3s\n",
      "[Parallel(n_jobs=-1)]: Done 300 out of 300 | elapsed:    0.5s finished\n"
     ]
    },
    {
     "data": {
      "text/plain": [
       "GridSearchCV(cv=5,\n",
       "             estimator=RandomForestClassifier(criterion='entropy',\n",
       "                                              n_estimators=300, n_jobs=-1,\n",
       "                                              random_state=0, verbose=1),\n",
       "             n_jobs=-1,\n",
       "             param_grid={'max_depth': range(1, 10),\n",
       "                         'max_leaf_nodes': range(5, 11),\n",
       "                         'min_samples_leaf': range(1, 10)},\n",
       "             scoring='f1', verbose=2)"
      ]
     },
     "execution_count": 195,
     "metadata": {},
     "output_type": "execute_result"
    }
   ],
   "source": [
    "grid_tree = GridSearchCV(rfc, param_dict, cv=5, scoring=\"f1\", verbose=2, n_jobs=-1)\n",
    "grid_tree.fit(X_train, y_train)\n"
   ]
  },
  {
   "cell_type": "code",
   "execution_count": null,
   "metadata": {},
   "outputs": [],
   "source": [
    "grid_tree_pred = grid_tree.predict(X_test)\n",
    "print(\"F1 score is:\", metrics.f1_score(y_test, grid_tree_pred))\n",
    "print(\"-\"*60)                         \n",
    "print(classification_report(y_test, grid_tree_pred))\n",
    "print(\"-\"*100)\n",
    "Grid_cm = confusion_matrix(y_test, grid_tree_pred)\n",
    "print(Grid_cm)"
   ]
  },
  {
   "cell_type": "code",
   "execution_count": null,
   "metadata": {},
   "outputs": [],
   "source": [
    "print(grid_tree.best_params_)\n",
    "print(\"-\"*100)\n",
    "print(grid_tree.best_estimator_)\n",
    "print(\"-\"*100)\n",
    "print(grid_tree.best_estimator_.feature_importances_)"
   ]
  },
  {
   "cell_type": "markdown",
   "metadata": {},
   "source": [
    "# GridSearchCV with Logistic Regression"
   ]
  },
  {
   "cell_type": "code",
   "execution_count": 142,
   "metadata": {},
   "outputs": [],
   "source": [
    "logreg = LogisticRegression(random_state = 0, n_jobs=-1, verbose=2)\n",
    "log_dict = {'tol': [8,9,10,11,12], 'C': [1,5], 'penalty': [\"l1\", \"l2\"]}"
   ]
  },
  {
   "cell_type": "code",
   "execution_count": 143,
   "metadata": {},
   "outputs": [
    {
     "name": "stdout",
     "output_type": "stream",
     "text": [
      "Fitting 5 folds for each of 20 candidates, totalling 100 fits\n"
     ]
    },
    {
     "name": "stderr",
     "output_type": "stream",
     "text": [
      "[Parallel(n_jobs=-1)]: Using backend LokyBackend with 8 concurrent workers.\n",
      "[Parallel(n_jobs=-1)]: Done  34 tasks      | elapsed:    2.8s\n",
      "[Parallel(n_jobs=-1)]: Done  85 out of 100 | elapsed:    6.6s remaining:    1.2s\n",
      "[Parallel(n_jobs=-1)]: Done 100 out of 100 | elapsed:    8.2s finished\n",
      "[Parallel(n_jobs=-1)]: Using backend LokyBackend with 8 concurrent workers.\n",
      "[Parallel(n_jobs=-1)]: Done   1 out of   1 | elapsed:    1.7s finished\n"
     ]
    },
    {
     "data": {
      "text/plain": [
       "GridSearchCV(cv=5,\n",
       "             estimator=LogisticRegression(n_jobs=-1, random_state=0, verbose=2),\n",
       "             n_jobs=-1,\n",
       "             param_grid={'C': [1, 5], 'penalty': ['l1', 'l2'],\n",
       "                         'tol': [8, 9, 10, 11, 12]},\n",
       "             scoring='f1', verbose=2)"
      ]
     },
     "execution_count": 143,
     "metadata": {},
     "output_type": "execute_result"
    }
   ],
   "source": [
    "grid_log = GridSearchCV(logreg, log_dict, cv=5, scoring=\"f1\", verbose=2, n_jobs=-1)\n",
    "\n",
    "\n",
    "grid_log.fit(X_train, y_train)\n",
    "#rfc.fit(X_train_tfidf, y_train_tfidf)"
   ]
  },
  {
   "cell_type": "code",
   "execution_count": 144,
   "metadata": {},
   "outputs": [
    {
     "name": "stdout",
     "output_type": "stream",
     "text": [
      "F1 score is: 0.8272251308900523\n",
      "------------------------------------------------------------\n",
      "              precision    recall  f1-score   support\n",
      "\n",
      "           0       0.55      0.09      0.15        67\n",
      "           1       0.72      0.97      0.83       163\n",
      "\n",
      "    accuracy                           0.71       230\n",
      "   macro avg       0.63      0.53      0.49       230\n",
      "weighted avg       0.67      0.71      0.63       230\n",
      "\n",
      "----------------------------------------------------------------------------------------------------\n",
      "[[  6  61]\n",
      " [  5 158]]\n"
     ]
    }
   ],
   "source": [
    "grid_log_pred = grid_log.predict(X_test)\n",
    "print(\"F1 score is:\", metrics.f1_score(y_test, grid_log_pred))\n",
    "print(\"-\"*60)                         \n",
    "print(classification_report(y_test, grid_log_pred))\n",
    "print(\"-\"*100)\n",
    "Grid_cm = confusion_matrix(y_test, grid_log_pred)\n",
    "print(Grid_cm)"
   ]
  },
  {
   "cell_type": "code",
   "execution_count": 145,
   "metadata": {},
   "outputs": [
    {
     "name": "stdout",
     "output_type": "stream",
     "text": [
      "{'C': 1, 'penalty': 'l2', 'tol': 8}\n",
      "----------------------------------------------------------------------------------------------------\n",
      "LogisticRegression(C=1, n_jobs=-1, random_state=0, tol=8, verbose=2)\n"
     ]
    }
   ],
   "source": [
    "print(grid_log.best_params_)\n",
    "print(\"-\"*100)\n",
    "print(grid_log.best_estimator_)\n"
   ]
  },
  {
   "cell_type": "markdown",
   "metadata": {},
   "source": [
    "# Overall Scores using TFIDF"
   ]
  },
  {
   "cell_type": "code",
   "execution_count": 191,
   "metadata": {},
   "outputs": [
    {
     "name": "stdout",
     "output_type": "stream",
     "text": [
      "Logistic Regression F1 score is: 0.8272251308900523\n",
      "Bernoulli F1 score is: 0.783625730994152\n",
      "Random Forest F1 score is: 0.8210526315789474\n",
      "GridSearchCV w/ Random Forest F1 score is: 0.7810650887573966\n",
      "GridSearchCV w/ Logistic Regression F1 score is: 0.8272251308900523\n"
     ]
    }
   ],
   "source": [
    "# Logistic Regression:\n",
    "print(\"Logistic Regression F1 score is:\", metrics.f1_score(y_test, y_pred_lr))\n",
    "# Multinominal NB\n",
    "print(\"Bernoulli F1 score is:\", metrics.f1_score(y_test, y_pred_Bnb))\n",
    "# Random Forest\n",
    "print(\"Random Forest F1 score is:\", metrics.f1_score(y_test, y_pred_RF))\n",
    "# Grid Search - Random Forest\n",
    "print(\"GridSearchCV w/ Random Forest F1 score is:\", metrics.f1_score(y_test, grid_tree_pred))\n",
    "# Grid Search - Logistic Regression\n",
    "print(\"GridSearchCV w/ Logistic Regression F1 score is:\", metrics.f1_score(y_test, grid_log_pred))"
   ]
  },
  {
   "cell_type": "markdown",
   "metadata": {},
   "source": [
    "The Logistic Regression and GridSearch with Logistic Regression provides the same score. \n",
    "Second place with a very thin difference is Random Forest. Surprisingly, the GridSearch with Random Forest resulted in a worse score than a regualr Random Forest. "
   ]
  },
  {
   "cell_type": "code",
   "execution_count": null,
   "metadata": {},
   "outputs": [],
   "source": []
  },
  {
   "cell_type": "markdown",
   "metadata": {},
   "source": [
    "#created with the following chart with the help of this [stackoverflow post{](https://stackoverflow.com/questions/42894871/how-to-plot-multiple-roc-curves-in-one-plot-with-legend-and-auc-scores-in-python)"
   ]
  },
  {
   "cell_type": "code",
   "execution_count": 189,
   "metadata": {},
   "outputs": [
    {
     "name": "stderr",
     "output_type": "stream",
     "text": [
      "[Parallel(n_jobs=8)]: Using backend ThreadingBackend with 8 concurrent workers.\n",
      "[Parallel(n_jobs=8)]: Done  34 tasks      | elapsed:    0.0s\n",
      "[Parallel(n_jobs=8)]: Done 184 tasks      | elapsed:    0.0s\n",
      "[Parallel(n_jobs=8)]: Done 300 out of 300 | elapsed:    0.0s finished\n"
     ]
    },
    {
     "data": {
      "image/png": "[encoded data removed]",
      "text/plain": [
       "<Figure size 720x576 with 1 Axes>"
      ]
     },
     "metadata": {},
     "output_type": "display_data"
    }
   ],
   "source": [
    "\n",
    "y_pred_prob1 = logreg_clf.predict_proba(X_test)[:,1]\n",
    "fpr1 , tpr1, thresholds1 = roc_curve(y_test, y_pred_lr)\n",
    "\n",
    "y_pred_prob2 = B_nb.predict_proba(X_test)[:,1]\n",
    "fpr2 , tpr2, thresholds2 = roc_curve(y_test, y_pred_Bnb)\n",
    "\n",
    "y_pred_prob3 = clf_rbf.predict_proba(X_test)[:,1]\n",
    "fpr3 , tpr3, thresholds3 = roc_curve(y_test, y_pred_rbf)\n",
    "\n",
    "y_pred_prob4 = rfc_classifier.predict_proba(X_test)[:,1]\n",
    "fpr4 , tpr4, thresholds3 = roc_curve(y_test, y_pred_RF)\n",
    "\n",
    "y_pred_prob5 = grid_tree.predict_proba(X_test)[:,1]\n",
    "fpr5 , tpr5, thresholds4 = roc_curve(y_test, grid_tree_pred)\n",
    "\n",
    "\n",
    "fig, ax = plt.subplots(figsize=(10,8))\n",
    "plt.plot([0,1],[0,1], 'k--')\n",
    "plt.plot(fpr1, tpr1, label= \"Linear\", color=\"blue\")\n",
    "plt.plot(fpr2, tpr2, label= \"Bernoulli NB\", color = \"red\")\n",
    "plt.plot(fpr3, tpr3, label= \"SVM RBF\", color = \"green\")\n",
    "plt.plot(fpr4, tpr4, label= \"Random Forest\", color = \"gold\")\n",
    "plt.plot(fpr5, tpr5, label= \"GridSearch w/ RF\", color = \"black\")\n",
    "plt.xlabel(\"False Positive Rate\", fontsize=15)\n",
    "plt.ylabel(\"True Positive Rate\", fontsize=15)\n",
    "plt.title('Receiver Operating Characteristic', fontsize=25)\n",
    "plt.legend(loc=\"lower right\")\n",
    "plt.savefig(\"images/roc\");"
   ]
  },
  {
   "cell_type": "markdown",
   "metadata": {},
   "source": [
    "# Feature Importances"
   ]
  },
  {
   "cell_type": "markdown",
   "metadata": {},
   "source": [
    "### Feature Importance from Logistic Regression"
   ]
  },
  {
   "cell_type": "code",
   "execution_count": 118,
   "metadata": {},
   "outputs": [
    {
     "name": "stdout",
     "output_type": "stream",
     "text": [
      "[[-1.85042278e-02 -9.15141974e-05 -5.14109165e-01 ... -2.25222131e-01\n",
      "   8.16512750e-02  2.94156384e-01]]\n"
     ]
    }
   ],
   "source": [
    "print(logreg_clf.coef_)"
   ]
  },
  {
   "cell_type": "code",
   "execution_count": 119,
   "metadata": {},
   "outputs": [],
   "source": [
    "def get_coef_name(fit_model, df):\n",
    "    temp = (list(zip(fit_model.coef_[0], df.columns)))\n",
    "    return sorted(temp,key = lambda x: x[0], reverse=True)"
   ]
  },
  {
   "cell_type": "code",
   "execution_count": 120,
   "metadata": {},
   "outputs": [],
   "source": [
    "log_reg_coef=pd.DataFrame(get_coef_name(logreg_clf, X_train), columns = [\"coefficient\", \"feature\"])"
   ]
  },
  {
   "cell_type": "code",
   "execution_count": 121,
   "metadata": {},
   "outputs": [],
   "source": [
    "# top 5 (positive) and Bottom 5 (negative) gives you the 5 most positve and 5 most negative values. \n",
    "top5_coef = pd.concat([log_reg_coef.head(),log_reg_coef.tail()])"
   ]
  },
  {
   "cell_type": "code",
   "execution_count": 190,
   "metadata": {},
   "outputs": [
    {
     "data": {
      "image/png": "[encoded data removed]",
      "text/plain": [
       "<Figure size 864x576 with 1 Axes>"
      ]
     },
     "metadata": {},
     "output_type": "display_data"
    }
   ],
   "source": [
    "fig, ax = plt.subplots(figsize = (12,8))\n",
    "plt.bar(x = top5_coef.feature, height=top5_coef.coefficient)\n",
    "plt.title(\"Top and Bottom 5 features\", fontsize=25)\n",
    "plt.xlabel(\"Features\")\n",
    "plt.ylabel(\"Log(odds)\")\n",
    "plt.savefig(\"images/log_coef_feats\");"
   ]
  },
  {
   "cell_type": "markdown",
   "metadata": {},
   "source": [
    "### Feature Importance from Random Forest"
   ]
  },
  {
   "cell_type": "code",
   "execution_count": 123,
   "metadata": {},
   "outputs": [],
   "source": [
    "def get_feats_name(fit_model, df):\n",
    "    temp = (list(zip(fit_model.best_estimator_.feature_importances_, df.columns)))\n",
    "    return sorted(temp,key = lambda x: x[0], reverse=True)"
   ]
  },
  {
   "cell_type": "code",
   "execution_count": 124,
   "metadata": {},
   "outputs": [],
   "source": [
    "#get_feats_name(grid_tree, X_train)"
   ]
  },
  {
   "cell_type": "code",
   "execution_count": 125,
   "metadata": {},
   "outputs": [],
   "source": [
    "grid_tree_feats=pd.DataFrame(get_feats_name(grid_tree, X_train), columns = [\"importance\", \"feature\"])"
   ]
  },
  {
   "cell_type": "code",
   "execution_count": 126,
   "metadata": {},
   "outputs": [
    {
     "data": {
      "text/html": [
       "<div>\n",
       "<style scoped>\n",
       "    .dataframe tbody tr th:only-of-type {\n",
       "        vertical-align: middle;\n",
       "    }\n",
       "\n",
       "    .dataframe tbody tr th {\n",
       "        vertical-align: top;\n",
       "    }\n",
       "\n",
       "    .dataframe thead th {\n",
       "        text-align: right;\n",
       "    }\n",
       "</style>\n",
       "<table border=\"1\" class=\"dataframe\">\n",
       "  <thead>\n",
       "    <tr style=\"text-align: right;\">\n",
       "      <th></th>\n",
       "      <th>importance</th>\n",
       "      <th>feature</th>\n",
       "    </tr>\n",
       "  </thead>\n",
       "  <tbody>\n",
       "    <tr>\n",
       "      <th>0</th>\n",
       "      <td>0.032215</td>\n",
       "      <td>loom</td>\n",
       "    </tr>\n",
       "    <tr>\n",
       "      <th>1</th>\n",
       "      <td>0.029649</td>\n",
       "      <td>slip</td>\n",
       "    </tr>\n",
       "    <tr>\n",
       "      <th>2</th>\n",
       "      <td>0.017945</td>\n",
       "      <td>chance</td>\n",
       "    </tr>\n",
       "    <tr>\n",
       "      <th>3</th>\n",
       "      <td>0.017457</td>\n",
       "      <td>depending</td>\n",
       "    </tr>\n",
       "    <tr>\n",
       "      <th>4</th>\n",
       "      <td>0.017191</td>\n",
       "      <td>pocket</td>\n",
       "    </tr>\n",
       "    <tr>\n",
       "      <th>5</th>\n",
       "      <td>0.016191</td>\n",
       "      <td>sneaker</td>\n",
       "    </tr>\n",
       "    <tr>\n",
       "      <th>6</th>\n",
       "      <td>0.015940</td>\n",
       "      <td>room grow</td>\n",
       "    </tr>\n",
       "    <tr>\n",
       "      <th>7</th>\n",
       "      <td>0.014145</td>\n",
       "      <td>point</td>\n",
       "    </tr>\n",
       "    <tr>\n",
       "      <th>8</th>\n",
       "      <td>0.013833</td>\n",
       "      <td>champion</td>\n",
       "    </tr>\n",
       "    <tr>\n",
       "      <th>9</th>\n",
       "      <td>0.013244</td>\n",
       "      <td>price point</td>\n",
       "    </tr>\n",
       "    <tr>\n",
       "      <th>10</th>\n",
       "      <td>0.012929</td>\n",
       "      <td>adjustable</td>\n",
       "    </tr>\n",
       "    <tr>\n",
       "      <th>11</th>\n",
       "      <td>0.012364</td>\n",
       "      <td>cause</td>\n",
       "    </tr>\n",
       "    <tr>\n",
       "      <th>12</th>\n",
       "      <td>0.011653</td>\n",
       "      <td>wear get</td>\n",
       "    </tr>\n",
       "    <tr>\n",
       "      <th>13</th>\n",
       "      <td>0.011624</td>\n",
       "      <td>honest</td>\n",
       "    </tr>\n",
       "    <tr>\n",
       "      <th>14</th>\n",
       "      <td>0.010530</td>\n",
       "      <td>wear large</td>\n",
       "    </tr>\n",
       "  </tbody>\n",
       "</table>\n",
       "</div>"
      ],
      "text/plain": [
       "    importance      feature\n",
       "0     0.032215         loom\n",
       "1     0.029649         slip\n",
       "2     0.017945       chance\n",
       "3     0.017457    depending\n",
       "4     0.017191       pocket\n",
       "5     0.016191      sneaker\n",
       "6     0.015940    room grow\n",
       "7     0.014145        point\n",
       "8     0.013833     champion\n",
       "9     0.013244  price point\n",
       "10    0.012929   adjustable\n",
       "11    0.012364        cause\n",
       "12    0.011653     wear get\n",
       "13    0.011624       honest\n",
       "14    0.010530   wear large"
      ]
     },
     "execution_count": 126,
     "metadata": {},
     "output_type": "execute_result"
    }
   ],
   "source": [
    "grid_tree_feats[grid_tree_feats.importance>0.01]"
   ]
  },
  {
   "cell_type": "code",
   "execution_count": 127,
   "metadata": {},
   "outputs": [],
   "source": [
    "top5_feats = pd.concat([grid_tree_feats.head(12)])"
   ]
  },
  {
   "cell_type": "code",
   "execution_count": 128,
   "metadata": {},
   "outputs": [
    {
     "data": {
      "image/png": "[encoded data removed]",
      "text/plain": [
       "<Figure size 1152x576 with 1 Axes>"
      ]
     },
     "metadata": {},
     "output_type": "display_data"
    }
   ],
   "source": [
    "fig, ax = plt.subplots(figsize = (16,8))\n",
    "plt.bar(x = top5_feats.feature, height=top5_feats.importance)\n",
    "plt.title(\"GridSearchCV with RandomForestClassifier\", fontsize=25)\n",
    "plt.xlabel(\"Features\")\n",
    "plt.ylabel(\"Stats\")\n",
    "plt.xticks(rotation=45)\n",
    "plt.savefig();"
   ]
  },
  {
   "cell_type": "code",
   "execution_count": 129,
   "metadata": {},
   "outputs": [],
   "source": [
    "d={'Stats':X.columns,'FI':grid_tree.best_estimator_.feature_importances_}"
   ]
  },
  {
   "cell_type": "code",
   "execution_count": 130,
   "metadata": {},
   "outputs": [
    {
     "data": {
      "text/plain": [
       "<matplotlib.axes._subplots.AxesSubplot at 0x7fc7a78fc940>"
      ]
     },
     "execution_count": 130,
     "metadata": {},
     "output_type": "execute_result"
    },
    {
     "data": {
      "image/png": "[encoded data removed]",
      "text/plain": [
       "<Figure size 432x288 with 1 Axes>"
      ]
     },
     "metadata": {},
     "output_type": "display_data"
    }
   ],
   "source": [
    "data = pd.DataFrame.from_dict(d, orient=\"index\")\n",
    "data = data.transpose()\n",
    "data = data.sort_values(by='FI', ascending=False)\n",
    "data[:20].plot(kind=\"bar\")"
   ]
  },
  {
   "cell_type": "code",
   "execution_count": 131,
   "metadata": {},
   "outputs": [],
   "source": [
    "data.drop(columns=\"Stats\", inplace=True)\n",
    "data.reset_index(inplace=True)\n",
    "data.rename(columns={\"index\":\"Stats\"}, inplace=True)\n",
    "feat_imp=data[:10].sort_values(by='FI', ascending=False)"
   ]
  },
  {
   "cell_type": "code",
   "execution_count": 132,
   "metadata": {},
   "outputs": [
    {
     "data": {
      "text/html": [
       "<div>\n",
       "<style scoped>\n",
       "    .dataframe tbody tr th:only-of-type {\n",
       "        vertical-align: middle;\n",
       "    }\n",
       "\n",
       "    .dataframe tbody tr th {\n",
       "        vertical-align: top;\n",
       "    }\n",
       "\n",
       "    .dataframe thead th {\n",
       "        text-align: right;\n",
       "    }\n",
       "</style>\n",
       "<table border=\"1\" class=\"dataframe\">\n",
       "  <thead>\n",
       "    <tr style=\"text-align: right;\">\n",
       "      <th></th>\n",
       "      <th>Stats</th>\n",
       "      <th>FI</th>\n",
       "    </tr>\n",
       "  </thead>\n",
       "  <tbody>\n",
       "    <tr>\n",
       "      <th>0</th>\n",
       "      <td>933</td>\n",
       "      <td>0.0322153</td>\n",
       "    </tr>\n",
       "    <tr>\n",
       "      <th>1</th>\n",
       "      <td>1545</td>\n",
       "      <td>0.0296495</td>\n",
       "    </tr>\n",
       "    <tr>\n",
       "      <th>2</th>\n",
       "      <td>245</td>\n",
       "      <td>0.0179451</td>\n",
       "    </tr>\n",
       "    <tr>\n",
       "      <th>3</th>\n",
       "      <td>417</td>\n",
       "      <td>0.0174574</td>\n",
       "    </tr>\n",
       "    <tr>\n",
       "      <th>4</th>\n",
       "      <td>1271</td>\n",
       "      <td>0.017191</td>\n",
       "    </tr>\n",
       "    <tr>\n",
       "      <th>5</th>\n",
       "      <td>1566</td>\n",
       "      <td>0.0161911</td>\n",
       "    </tr>\n",
       "    <tr>\n",
       "      <th>6</th>\n",
       "      <td>1416</td>\n",
       "      <td>0.0159399</td>\n",
       "    </tr>\n",
       "    <tr>\n",
       "      <th>7</th>\n",
       "      <td>1272</td>\n",
       "      <td>0.0141448</td>\n",
       "    </tr>\n",
       "    <tr>\n",
       "      <th>8</th>\n",
       "      <td>244</td>\n",
       "      <td>0.0138332</td>\n",
       "    </tr>\n",
       "    <tr>\n",
       "      <th>9</th>\n",
       "      <td>1300</td>\n",
       "      <td>0.0132443</td>\n",
       "    </tr>\n",
       "  </tbody>\n",
       "</table>\n",
       "</div>"
      ],
      "text/plain": [
       "   Stats         FI\n",
       "0    933  0.0322153\n",
       "1   1545  0.0296495\n",
       "2    245  0.0179451\n",
       "3    417  0.0174574\n",
       "4   1271   0.017191\n",
       "5   1566  0.0161911\n",
       "6   1416  0.0159399\n",
       "7   1272  0.0141448\n",
       "8    244  0.0138332\n",
       "9   1300  0.0132443"
      ]
     },
     "execution_count": 132,
     "metadata": {},
     "output_type": "execute_result"
    }
   ],
   "source": [
    "feat_imp"
   ]
  },
  {
   "cell_type": "code",
   "execution_count": 133,
   "metadata": {},
   "outputs": [],
   "source": [
    "dataset = [d.split() for d in df.delisted]\n",
    "vocab = gensim.corpora.Dictionary(dataset)\n"
   ]
  },
  {
   "cell_type": "code",
   "execution_count": 134,
   "metadata": {},
   "outputs": [
    {
     "data": {
      "text/plain": [
       "'complimentary,'"
      ]
     },
     "execution_count": 134,
     "metadata": {},
     "output_type": "execute_result"
    }
   ],
   "source": [
    "vocab[3824]"
   ]
  },
  {
   "cell_type": "code",
   "execution_count": null,
   "metadata": {},
   "outputs": [],
   "source": []
  },
  {
   "cell_type": "code",
   "execution_count": 135,
   "metadata": {},
   "outputs": [
    {
     "data": {
      "text/plain": [
       "<matplotlib.axes._subplots.AxesSubplot at 0x7fc7a811d6a0>"
      ]
     },
     "execution_count": 135,
     "metadata": {},
     "output_type": "execute_result"
    },
    {
     "data": {
      "image/png": "[encoded data removed]",
      "text/plain": [
       "<Figure size 720x576 with 1 Axes>"
      ]
     },
     "metadata": {},
     "output_type": "display_data"
    }
   ],
   "source": [
    "x=feat_imp.Stats.astype(\"str\")\n",
    "y=feat_imp.FI\n",
    "\n",
    "fig, ax = plt.subplots(figsize=(10,8))\n",
    "sns.barplot(x=x, y=y, data = feat_imp)"
   ]
  },
  {
   "cell_type": "code",
   "execution_count": 136,
   "metadata": {},
   "outputs": [
    {
     "data": {
      "image/png": "[encoded data removed]",
      "text/plain": [
       "<Figure size 720x576 with 1 Axes>"
      ]
     },
     "metadata": {},
     "output_type": "display_data"
    }
   ],
   "source": [
    "fig, ax = plt.subplots(figsize=(10,8))\n",
    "plt.bar(x=x, height=y, data = feat_imp)\n",
    "\n",
    "x = ['measurement', 'widen', 'worked', 'four', 'med', 'compensate', 'concerned', 'early', 'flexible', 'complimentary']\n",
    "l = [0, 1, 2, 3, 4, 5, 6, 7, 8, 9, 10]\n",
    "\n",
    "\n",
    "ax.set_xticks(l)\n",
    "ax.set_xticklabels(x)\n",
    "plt.xticks(rotation=25)\n",
    "plt.title(\"Top 10 Feature Importance\", fontsize=26)\n",
    "plt.ylabel(\"Feature Importance Score\", fontsize=15)\n",
    "plt.xlabel(\"Words\", fontsize=15);\n",
    "\n",
    "\n"
   ]
  },
  {
   "cell_type": "markdown",
   "metadata": {},
   "source": [
    "# Post Modeling EDA with Feature Importances"
   ]
  },
  {
   "cell_type": "code",
   "execution_count": 137,
   "metadata": {
    "scrolled": false
   },
   "outputs": [
    {
     "data": {
      "text/plain": [
       "1    6\n",
       "0    2\n",
       "Name: target, dtype: int64"
      ]
     },
     "execution_count": 137,
     "metadata": {},
     "output_type": "execute_result"
    }
   ],
   "source": [
    "df[df[\"clean_review_text\"].str.contains(\"presentable\")].target.value_counts()"
   ]
  },
  {
   "cell_type": "code",
   "execution_count": null,
   "metadata": {},
   "outputs": [],
   "source": []
  },
  {
   "cell_type": "code",
   "execution_count": 138,
   "metadata": {},
   "outputs": [
    {
     "data": {
      "text/plain": [
       "'[\\'Nice quality.  Seems a little small on the sizing.\\', \\'My husband doesn\\\\\\'t usually wear polos but this is one he actually really liked. It fit him perfectly through the shoulders and the shirt was long enough to be tucked in (he\\\\\\'s 6\\\\\\'2\", 205lbs and got an XL). He likes that the collar is a \\\\\\'no flip\\\\\\' style as well. He won\\\\\\'t have to worry about messing with it constantly (one of the main reasons he doesn\\\\\\'t usually wear polos) the fact that it also provides a bit of protection from the sun is an added bonus to it all! [This review was collected as part of a promotion.]\\', \\'Comfortable and Stylish polo for any day wear.  Literal wash, dry and wear.  Beautiful color with nice Izod logo.\\', \\'Classic polo look pairs well with jeans or slacks perfect for golf, shopping or hanging around the house.  Well made shirt with a quality expected from this manufacturer. [This review was collected as part of a promotion.]\\', \\'This was a gift for my boyfriend, who is very pleased with it. I have noticed\\', \"how the Izod shirts hold up, don\\'t shrink and keep their shape and\", \\'color through years of wear and washings. I am certain he will get\\', \\'many years of wear from this new shirt. It fits him very well. [This review was collected as part of a promotion.]\\', \\'This shirt is well made and true to size.  The colors online make the pink look more of a muted color but it’s a little pinker than I had anticipated... I don’t mind it though, still like and would recommend! [This review was collected as part of a promotion.]\\', \\'I love my IZOD Advantage SportFlex Classic-Fit Performance Polo! The shirt is so comfortable. The blend of cotton and polyester is good, making the shirt soft yet durable. The material is \"quick drying\" which means any moisture is pulled to the surface where it can evaporate quickly. The shirt fit as expected. I\\\\\\'m a large man and I got the 2x, my normal size, and it fit perfectly. The collar of the polo was firm so it stayed in place. I would absolutely buy this shirt. [This review was collected as part of a promotion.]\\', \\'My husband is kind of picky when it comes to shirts.  His favorite style of shirts are polo shirts and he has been wearing this IZOD Advantage Performance Short Sleeve Polo and it has become one of his favorites because of the wicking material.  He plays hard and the material makes him feel dry.  Another thing he really likes is the collar stays in place and that is because of the roll resistance feature. I think the embroidered logo on the front of the shirt is stylish and I really like the way my husband looks in this polo too! [This review was collected as part of a promotion.]\\', \\'Izod advantage performance short sleeve polo is  sporty classy and comfortable with the natural stretch fabric. The moisture wicking keeps you dry and feeling cool and the roll resistant color is perfect to stay in place at all times. The UPF - 15 Sun control means no harmful rays and I have never had a shirt with this extra added it is so convenient. Very control for a thick fabric [This review was collected as part of a promotion.]\\', \\'Comfortable, cool, and casual. I really like the style and feel of the shirt. It’s a polo without the prep which is hard to find in this type of shirt. The only thing i don’t like is that is a little too linfband wide at the bottom. Everything else fits great, I’m going to wash and dry it hoping it will shrink a little\\', \\'I’m 5’9 175lbs Size medium [This review was collected as part of a promotion.]\\', \"I wear polos a lot. I find them a nice balance between the comfort of a T-shirt and the \\'\\'formality\\'\\' of a shirt, so they\\'re my way to go for active smart work enviroment.\", \"What I like about this brand is its simplicity and good craftsmanship. The neck doesn\\'t roll up and the materials and finishing are top notch. If you add that to the \\'\\'no fuss\\'\\' design and the nice looking logo you get a great product, that for the price has no rival. I mean it has the same quality of other brands which are 2-3x times the price.\", \"Now what I didn\\'t like: Fitting seems to be on the big side. I usually wear M for tight fit and L for a loose comfort fit. I got this polo on an M, and even though the chest and arms fitting is spot on, it is kind of loose on the belly, and it\\'s also quite long. [This review was collected as part of a promotion.]\", \\'I really like the look and it is very comfortable to wear. The fabric is stretchy so it will not be tight.  It is well tailored and made well. [This review was collected as part of a promotion.]\\', \"Beautiful color and the fit is excellent,it fits just right.I love the vibrant color and the great quality of the material\\'uou can pair it with any color pants. [This review was collected as part of a promotion.]\", \\'I really like my IZOD Advantage SportFlex Classic-Fit Performance Polo. The fit is good nd the shirt is very comfortable. Great for everyday or business casual look. [This review was collected as part of a promotion.]\\', \\'I love this shirt! Great color combination!  Very soft and comfortable. [This review was collected as part of a promotion.]\\', \\'My boyfriend loved it an thought it was very comfertable! [This review was collected as part of a promotion.]\\', \\'While it\\\\\\'s not the nicest fabric in the world (and I seriously question its durability), it\\\\\\'s hard to beat the price for a solid-looking, comfortable polo shirt. It truly does match it\\\\\\'s \"sport\" or \"performance\" label - stretchy fabric, sweat dries quickly from it, the collar stays flat, and the UPF protection is nice. I could do without the someone tacky-looking embroidery on the front breast area, but it\\\\\\'s relatively small and \"non-descript\". [This review was collected as part of a promotion.]\\', \"This shirt has been well used during this summer.  I found the shirt to be a good fit, I was being able to easily move around because of how well the fabric stretched.  Wearing the shirt on hot days hasn\\'t been a problem.  I was able to stay comfortable although it\\'s not the thinnest material the shirt seemed well insulated and protected me from the hot sun. [This review was collected as part of a promotion.]\", \"Got this nice polo shirt a month ago. The  IZOD Advantage SportFlex Classic-Fit Performance Polo is comfortable and will be a polo I keep in my work shirt rotation. I wish the coller didn\\'t crease so easily though. [This review was collected as part of a promotion.]\", \\'I received this item about a month ago and have worn it on several occasions now. I feel not only comfortable, but also stylish. This is a piece of clothing that I can wear for a casual outing, but also look good in. I would definitely suggest this to anyone. [This review was collected as part of a promotion.]\\', \"I received this item free for my honest unbiased review they did not have it in my husband size that I requested so I gave it to my 14 year old son he really likes the shirt He even wears it to school with surprised me. I really like this brand it\\'s a brand that you can trust [This review was collected as part of a promotion.]\"]'"
      ]
     },
     "execution_count": 138,
     "metadata": {},
     "output_type": "execute_result"
    }
   ],
   "source": [
    "df.iloc[57].review_text"
   ]
  },
  {
   "cell_type": "code",
   "execution_count": null,
   "metadata": {},
   "outputs": [],
   "source": []
  },
  {
   "cell_type": "code",
   "execution_count": null,
   "metadata": {},
   "outputs": [],
   "source": []
  },
  {
   "cell_type": "code",
   "execution_count": null,
   "metadata": {},
   "outputs": [],
   "source": []
  }
 ],
 "metadata": {
  "kernelspec": {
   "display_name": "Learn-env",
   "language": "python",
   "name": "learn-env"
  },
  "language_info": {
   "codemirror_mode": {
    "name": "ipython",
    "version": 3
   },
   "file_extension": ".py",
   "mimetype": "text/x-python",
   "name": "python",
   "nbconvert_exporter": "python",
   "pygments_lexer": "ipython3",
   "version": "3.6.9"
  }
 },
 "nbformat": 4,
 "nbformat_minor": 4
}
