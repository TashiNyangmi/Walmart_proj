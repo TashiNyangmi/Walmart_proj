{
 "cells": [
  {
   "cell_type": "markdown",
   "metadata": {},
   "source": [
    "# <u>Walmart Product Review Analysis <u/>"
   ]
  },
  {
   "cell_type": "markdown",
   "metadata": {},
   "source": [
    "### Goal\n",
    "This analysis will look at Walmart clothing reviews to find key features that predict whether a customer will recommend an item or not. This investigation will be conducted using [Natural Language Processing](https://en.wikipedia.org/wiki/Natural_language_processing) packages and libraries. The features that guide the predictions can then used to guide Walmart's online and/or in-store marketing/product campaigns. \n",
    "### Notebook\n",
    "Notebook ```2_walmart_product_review_nlp``` has cleaned the text and generated additional features. This notebook is for modeling determine the validity of the dataset and potentially extract features to explain why items are recommended or not recommended. "
   ]
  },
  {
   "cell_type": "code",
   "execution_count": 1,
   "metadata": {},
   "outputs": [],
   "source": [
    "# Data Cleaning and analysis packages\n",
    "import pandas as pd\n",
    "import numpy as np\n",
    "\n",
    "\n",
    "# NLP packages\n",
    "import gensim\n",
    "from nltk.corpus import stopwords\n",
    "from sklearn.feature_extraction.text import TfidfVectorizer \n",
    "from sklearn.feature_extraction.text import CountVectorizer\n",
    "\n",
    "# Sats and Modeling packages\n",
    "from sklearn import metrics\n",
    "from scipy import stats\n",
    "from sklearn.metrics import accuracy_score, classification_report, f1_score\n",
    "from sklearn.metrics import plot_confusion_matrix, confusion_matrix, roc_curve\n",
    "from sklearn.model_selection import train_test_split, GridSearchCV, cross_val_score\n",
    "from sklearn.naive_bayes import BernoulliNB, MultinomialNB\n",
    "from sklearn.ensemble import RandomForestClassifier\n",
    "from sklearn.linear_model import LogisticRegression\n",
    "from sklearn.dummy import DummyClassifier\n",
    "\n",
    "# Visualization packages\n",
    "from wordcloud import WordCloud\n",
    "import seaborn as sns\n",
    "import matplotlib.pyplot as plt\n",
    "%matplotlib inline\n",
    "\n",
    "\n",
    "import pickle\n",
    "import warnings\n",
    "warnings.filterwarnings(\"ignore\") \n",
    "\n",
    "\n",
    "pd.set_option('display.max_columns', 300)\n",
    "pd.set_option('display.max_rows', 200)"
   ]
  },
  {
   "cell_type": "code",
   "execution_count": 2,
   "metadata": {},
   "outputs": [],
   "source": [
    "filename = \"../data/modeling_df.pkl\""
   ]
  },
  {
   "cell_type": "code",
   "execution_count": 3,
   "metadata": {},
   "outputs": [],
   "source": [
    "infile = open(filename,\"rb\")\n",
    "df = pickle.load(infile)\n",
    "infile.close()"
   ]
  },
  {
   "cell_type": "code",
   "execution_count": 4,
   "metadata": {},
   "outputs": [
    {
     "data": {
      "text/html": [
       "<div>\n",
       "<style scoped>\n",
       "    .dataframe tbody tr th:only-of-type {\n",
       "        vertical-align: middle;\n",
       "    }\n",
       "\n",
       "    .dataframe tbody tr th {\n",
       "        vertical-align: top;\n",
       "    }\n",
       "\n",
       "    .dataframe thead th {\n",
       "        text-align: right;\n",
       "    }\n",
       "</style>\n",
       "<table border=\"1\" class=\"dataframe\">\n",
       "  <thead>\n",
       "    <tr style=\"text-align: right;\">\n",
       "      <th></th>\n",
       "      <th>item_name</th>\n",
       "      <th>price</th>\n",
       "      <th>overall_rating</th>\n",
       "      <th>num_rating</th>\n",
       "      <th>recommend</th>\n",
       "      <th>review_text</th>\n",
       "      <th>section</th>\n",
       "      <th>target</th>\n",
       "      <th>rating_bin</th>\n",
       "      <th>clean_review_text</th>\n",
       "      <th>tokenized</th>\n",
       "      <th>rem_stop</th>\n",
       "      <th>lemma_words</th>\n",
       "      <th>delisted</th>\n",
       "      <th>girls'</th>\n",
       "      <th>men's</th>\n",
       "      <th>women's</th>\n",
       "      <th>topic0</th>\n",
       "      <th>topic1</th>\n",
       "      <th>topic2</th>\n",
       "      <th>topic3</th>\n",
       "      <th>topic4</th>\n",
       "      <th>topic5</th>\n",
       "      <th>topic6</th>\n",
       "      <th>topic7</th>\n",
       "      <th>topic8</th>\n",
       "      <th>topic9</th>\n",
       "    </tr>\n",
       "  </thead>\n",
       "  <tbody>\n",
       "    <tr>\n",
       "      <th>0</th>\n",
       "      <td>Wrangler Men's Unlined Shirt Jacket</td>\n",
       "      <td>12.0</td>\n",
       "      <td>4.0</td>\n",
       "      <td>7.0</td>\n",
       "      <td>80.0</td>\n",
       "      <td>['I bought this last year and am going to buy ...</td>\n",
       "      <td>men's clothing</td>\n",
       "      <td>0</td>\n",
       "      <td>1</td>\n",
       "      <td>i bought this last year and am going to buy an...</td>\n",
       "      <td>[i, bought, this, last, year, and, am, going, ...</td>\n",
       "      <td>[bought, last, year, going, buy, another, frid...</td>\n",
       "      <td>[bought, last, year, going, buy, another, frid...</td>\n",
       "      <td>bought, last, year, going, buy, another, frida...</td>\n",
       "      <td>0.0</td>\n",
       "      <td>1.0</td>\n",
       "      <td>0.0</td>\n",
       "      <td>0.011115</td>\n",
       "      <td>0.011115</td>\n",
       "      <td>0.011115</td>\n",
       "      <td>0.122070</td>\n",
       "      <td>0.011115</td>\n",
       "      <td>0.011115</td>\n",
       "      <td>0.789009</td>\n",
       "      <td>0.011115</td>\n",
       "      <td>0.011115</td>\n",
       "      <td>0.011115</td>\n",
       "    </tr>\n",
       "    <tr>\n",
       "      <th>1</th>\n",
       "      <td>Wrangler Men's Relaxed Fit Jeans</td>\n",
       "      <td>12.0</td>\n",
       "      <td>4.5</td>\n",
       "      <td>5840.0</td>\n",
       "      <td>90.0</td>\n",
       "      <td>['I like wrangler, the pants is exactly for my...</td>\n",
       "      <td>men's clothing</td>\n",
       "      <td>1</td>\n",
       "      <td>1</td>\n",
       "      <td>i like wrangler the pants is exactly for my bo...</td>\n",
       "      <td>[i, like, wrangler, the, pants, is, exactly, f...</td>\n",
       "      <td>[like, wrangler, pants, exactly, body, also, g...</td>\n",
       "      <td>[like, wrangler, pant, exactly, body, also, go...</td>\n",
       "      <td>like, wrangler, pant, exactly, body, also, goo...</td>\n",
       "      <td>0.0</td>\n",
       "      <td>1.0</td>\n",
       "      <td>0.0</td>\n",
       "      <td>0.000000</td>\n",
       "      <td>0.000000</td>\n",
       "      <td>0.000000</td>\n",
       "      <td>0.010731</td>\n",
       "      <td>0.000000</td>\n",
       "      <td>0.000000</td>\n",
       "      <td>0.987497</td>\n",
       "      <td>0.000000</td>\n",
       "      <td>0.000000</td>\n",
       "      <td>0.000000</td>\n",
       "    </tr>\n",
       "  </tbody>\n",
       "</table>\n",
       "</div>"
      ],
      "text/plain": [
       "                             item_name  price  overall_rating  num_rating  \\\n",
       "0  Wrangler Men's Unlined Shirt Jacket   12.0             4.0         7.0   \n",
       "1     Wrangler Men's Relaxed Fit Jeans   12.0             4.5      5840.0   \n",
       "\n",
       "   recommend                                        review_text  \\\n",
       "0       80.0  ['I bought this last year and am going to buy ...   \n",
       "1       90.0  ['I like wrangler, the pants is exactly for my...   \n",
       "\n",
       "          section  target  rating_bin  \\\n",
       "0  men's clothing       0           1   \n",
       "1  men's clothing       1           1   \n",
       "\n",
       "                                   clean_review_text  \\\n",
       "0  i bought this last year and am going to buy an...   \n",
       "1  i like wrangler the pants is exactly for my bo...   \n",
       "\n",
       "                                           tokenized  \\\n",
       "0  [i, bought, this, last, year, and, am, going, ...   \n",
       "1  [i, like, wrangler, the, pants, is, exactly, f...   \n",
       "\n",
       "                                            rem_stop  \\\n",
       "0  [bought, last, year, going, buy, another, frid...   \n",
       "1  [like, wrangler, pants, exactly, body, also, g...   \n",
       "\n",
       "                                         lemma_words  \\\n",
       "0  [bought, last, year, going, buy, another, frid...   \n",
       "1  [like, wrangler, pant, exactly, body, also, go...   \n",
       "\n",
       "                                            delisted  girls'  men's  women's  \\\n",
       "0  bought, last, year, going, buy, another, frida...     0.0    1.0      0.0   \n",
       "1  like, wrangler, pant, exactly, body, also, goo...     0.0    1.0      0.0   \n",
       "\n",
       "     topic0    topic1    topic2    topic3    topic4    topic5    topic6  \\\n",
       "0  0.011115  0.011115  0.011115  0.122070  0.011115  0.011115  0.789009   \n",
       "1  0.000000  0.000000  0.000000  0.010731  0.000000  0.000000  0.987497   \n",
       "\n",
       "     topic7    topic8    topic9  \n",
       "0  0.011115  0.011115  0.011115  \n",
       "1  0.000000  0.000000  0.000000  "
      ]
     },
     "execution_count": 4,
     "metadata": {},
     "output_type": "execute_result"
    }
   ],
   "source": [
    "# confirming dataframe is not corrupted\n",
    "df.head(2)"
   ]
  },
  {
   "cell_type": "code",
   "execution_count": 5,
   "metadata": {},
   "outputs": [
    {
     "data": {
      "text/plain": [
       "item_name            0\n",
       "price                0\n",
       "overall_rating       0\n",
       "num_rating           0\n",
       "recommend            0\n",
       "review_text          0\n",
       "section              0\n",
       "target               0\n",
       "rating_bin           0\n",
       "clean_review_text    0\n",
       "tokenized            0\n",
       "rem_stop             0\n",
       "lemma_words          0\n",
       "delisted             0\n",
       "girls'               0\n",
       "men's                0\n",
       "women's              0\n",
       "topic0               0\n",
       "topic1               0\n",
       "topic2               0\n",
       "topic3               0\n",
       "topic4               0\n",
       "topic5               0\n",
       "topic6               0\n",
       "topic7               0\n",
       "topic8               0\n",
       "topic9               0\n",
       "dtype: int64"
      ]
     },
     "execution_count": 5,
     "metadata": {},
     "output_type": "execute_result"
    }
   ],
   "source": [
    "# confirming dataframe has no new null values. \n",
    "df.isna().sum()"
   ]
  },
  {
   "cell_type": "markdown",
   "metadata": {},
   "source": [
    "Now that we have cleaned the continuous variables, tokenized the raw text, removed stopwords, lemmatized words to their roots and generated LDA Topic scores, we can dive into modeling."
   ]
  },
  {
   "cell_type": "markdown",
   "metadata": {},
   "source": [
    "# Train Test Split"
   ]
  },
  {
   "cell_type": "markdown",
   "metadata": {},
   "source": [
    "Item name, review text, clean review text,  features will be dropped because we cannot run strings in the model. \n",
    "They were generated simply for keeping track of feature engineering.  "
   ]
  },
  {
   "cell_type": "code",
   "execution_count": 6,
   "metadata": {},
   "outputs": [],
   "source": [
    "drop_features = [\"item_name\", \"overall_rating\", \"rating_bin\", \"recommend\",\n",
    "                 \"clean_review_text\", \"review_text\", \"section\", \"tokenized\", \n",
    "                 \"rem_stop\", \"lemma_words\", \"target\"]"
   ]
  },
  {
   "cell_type": "code",
   "execution_count": 7,
   "metadata": {},
   "outputs": [],
   "source": [
    "X = df.drop(columns = drop_features)\n",
    "y = df[\"target\"].values"
   ]
  },
  {
   "cell_type": "code",
   "execution_count": 8,
   "metadata": {},
   "outputs": [],
   "source": [
    "X_train, X_test, y_train, y_test = train_test_split(X, y, test_size=0.2, random_state=0)"
   ]
  },
  {
   "cell_type": "code",
   "execution_count": 9,
   "metadata": {},
   "outputs": [
    {
     "name": "stdout",
     "output_type": "stream",
     "text": [
      "(919, 16) (919,) (230, 16) (230,)\n"
     ]
    }
   ],
   "source": [
    "print(X_train.shape, y_train.shape, X_test.shape, y_test.shape)"
   ]
  },
  {
   "cell_type": "markdown",
   "metadata": {},
   "source": [
    "# Stopwords"
   ]
  },
  {
   "cell_type": "code",
   "execution_count": 10,
   "metadata": {},
   "outputs": [],
   "source": [
    "# Extracted the stopwords from my preprocessing notebook to be used for the TfidfVectorizer\n",
    "eda_stopwords = [\"nd\", \"de\", \"u\", \"la\", \"tbw\", \"c\", \"v\", \"great\", \"n\", \"wal\", \"wow\",\"hi\", \"hello\", \"nmbc\", \"youll\", \"must\", \"said\", \"either\", \"lol\", 'ill', \"six\", \"goat\", \"thou\", \"un\", \"lb\", \"pair\", \"right\", \"x\", \"xl\", \"one\", \"way\", \"definitely\", \"shirt\", \"jacket\", \"jean\", \"daughter\", \"son\" ]\n",
    "\n",
    "stop_words=list(set(stopwords.words(\"english\")))\n",
    "\n",
    "stop_words.extend(eda_stopwords)"
   ]
  },
  {
   "cell_type": "markdown",
   "metadata": {},
   "source": [
    "# CountVectorizer"
   ]
  },
  {
   "cell_type": "markdown",
   "metadata": {},
   "source": [
    "I ran a CountVectorizer to experiment and TFIDF performed better. However, if you would like to try, you can uncomment the cell below and run it. But please comment out the TfidfVectorizer cell. "
   ]
  },
  {
   "cell_type": "code",
   "execution_count": 11,
   "metadata": {},
   "outputs": [],
   "source": [
    "# # CountVec\n",
    "# countvec = CountVectorizer(stop_words = stop_words, analyzer=\"word\", ngram_range=(1,2), max_features=5000)\n",
    "# train_vec = countvec.fit_transform(X_train.delisted.values).toarray()\n",
    "# test_vec = countvec.fit_transform(X_test.delisted.values).toarray()\n",
    "\n",
    "\n",
    "# count_train = pd.DataFrame(train_vec, columns = countvec.get_feature_names())\n",
    "# count_test = pd.DataFrame(test_vec, columns = countvec.get_feature_names())\n",
    "\n",
    "# print(f\"X train shape: {X_train.shape}, Count train shape: {count_train.shape}\") \n",
    "# print(\"-\"*20)\n",
    "# print(f\"X test shape: {X_test.shape}, Count test shape: {count_test.shape}\")\n",
    "\n",
    "# # resetting index to concatenate with tfidf. Resetting index will not affect the dataset. \n",
    "# X_train.reset_index(drop=True, inplace=True)\n",
    "# X_test.reset_index(drop=True, inplace=True)\n",
    "\n",
    "# frame1 = [X_train, count_train]\n",
    "# frame2 = [X_test, count_test]\n",
    "\n",
    "# X_train = pd.concat(frame1, axis=1)\n",
    "# X_test = pd.concat(frame2, axis=1)"
   ]
  },
  {
   "cell_type": "markdown",
   "metadata": {},
   "source": [
    "# TfidfVectorizer"
   ]
  },
  {
   "cell_type": "markdown",
   "metadata": {},
   "source": [
    "The reason for doing TfidfVectorizer after Train-Test Split is to prevent data leakage. "
   ]
  },
  {
   "cell_type": "code",
   "execution_count": 12,
   "metadata": {},
   "outputs": [
    {
     "name": "stdout",
     "output_type": "stream",
     "text": [
      "X train shape: (919, 16), Tfidf train shape: (919, 2000)\n",
      "--------------------\n",
      "X test shape: (230, 16), Tfidf test shape: (230, 2000)\n"
     ]
    },
    {
     "data": {
      "text/html": [
       "<div>\n",
       "<style scoped>\n",
       "    .dataframe tbody tr th:only-of-type {\n",
       "        vertical-align: middle;\n",
       "    }\n",
       "\n",
       "    .dataframe tbody tr th {\n",
       "        vertical-align: top;\n",
       "    }\n",
       "\n",
       "    .dataframe thead th {\n",
       "        text-align: right;\n",
       "    }\n",
       "</style>\n",
       "<table border=\"1\" class=\"dataframe\">\n",
       "  <thead>\n",
       "    <tr style=\"text-align: right;\">\n",
       "      <th></th>\n",
       "      <th>price</th>\n",
       "      <th>num_rating</th>\n",
       "      <th>delisted</th>\n",
       "      <th>girls'</th>\n",
       "      <th>men's</th>\n",
       "      <th>women's</th>\n",
       "      <th>topic0</th>\n",
       "      <th>topic1</th>\n",
       "      <th>topic2</th>\n",
       "      <th>topic3</th>\n",
       "      <th>topic4</th>\n",
       "      <th>topic5</th>\n",
       "      <th>topic6</th>\n",
       "      <th>topic7</th>\n",
       "      <th>topic8</th>\n",
       "      <th>topic9</th>\n",
       "      <th>able</th>\n",
       "      <th>able wear</th>\n",
       "      <th>absolute</th>\n",
       "      <th>absolutely</th>\n",
       "      <th>absolutely love</th>\n",
       "      <th>according</th>\n",
       "      <th>accurate</th>\n",
       "      <th>across</th>\n",
       "      <th>active</th>\n",
       "      <th>actual</th>\n",
       "      <th>actually</th>\n",
       "      <th>actually fit</th>\n",
       "      <th>add</th>\n",
       "      <th>added</th>\n",
       "      <th>addition</th>\n",
       "      <th>adjust</th>\n",
       "      <th>adjustable</th>\n",
       "      <th>adjustable waist</th>\n",
       "      <th>adjusted</th>\n",
       "      <th>adorable</th>\n",
       "      <th>adult</th>\n",
       "      <th>advertised</th>\n",
       "      <th>affordable</th>\n",
       "      <th>afraid</th>\n",
       "      <th>age</th>\n",
       "      <th>ago</th>\n",
       "      <th>air</th>\n",
       "      <th>allow</th>\n",
       "      <th>allows</th>\n",
       "      <th>almost</th>\n",
       "      <th>almost like</th>\n",
       "      <th>alone</th>\n",
       "      <th>along</th>\n",
       "      <th>alot</th>\n",
       "      <th>already</th>\n",
       "      <th>also</th>\n",
       "      <th>also like</th>\n",
       "      <th>also love</th>\n",
       "      <th>also ordered</th>\n",
       "      <th>although</th>\n",
       "      <th>always</th>\n",
       "      <th>amazing</th>\n",
       "      <th>amount</th>\n",
       "      <th>animal</th>\n",
       "      <th>ankle</th>\n",
       "      <th>annoying</th>\n",
       "      <th>another</th>\n",
       "      <th>another brand</th>\n",
       "      <th>another color</th>\n",
       "      <th>anymore</th>\n",
       "      <th>anyone</th>\n",
       "      <th>anyone looking</th>\n",
       "      <th>anything</th>\n",
       "      <th>anyway</th>\n",
       "      <th>anywhere</th>\n",
       "      <th>apart</th>\n",
       "      <th>apparently</th>\n",
       "      <th>appear</th>\n",
       "      <th>appearance</th>\n",
       "      <th>appears</th>\n",
       "      <th>appreciate</th>\n",
       "      <th>appropriate</th>\n",
       "      <th>area</th>\n",
       "      <th>arm</th>\n",
       "      <th>armpit</th>\n",
       "      <th>around</th>\n",
       "      <th>around ankle</th>\n",
       "      <th>around house</th>\n",
       "      <th>around leg</th>\n",
       "      <th>around waist</th>\n",
       "      <th>arrive</th>\n",
       "      <th>arrived</th>\n",
       "      <th>asked</th>\n",
       "      <th>athletic</th>\n",
       "      <th>attached</th>\n",
       "      <th>attractive</th>\n",
       "      <th>available</th>\n",
       "      <th>average</th>\n",
       "      <th>aware</th>\n",
       "      <th>away</th>\n",
       "      <th>awesome</th>\n",
       "      <th>awful</th>\n",
       "      <th>baby</th>\n",
       "      <th>back</th>\n",
       "      <th>back pocket</th>\n",
       "      <th>bad</th>\n",
       "      <th>bag</th>\n",
       "      <th>baggy</th>\n",
       "      <th>ball</th>\n",
       "      <th>band</th>\n",
       "      <th>barely</th>\n",
       "      <th>barely fit</th>\n",
       "      <th>bargain</th>\n",
       "      <th>base</th>\n",
       "      <th>based</th>\n",
       "      <th>basic</th>\n",
       "      <th>basically</th>\n",
       "      <th>battery</th>\n",
       "      <th>bc</th>\n",
       "      <th>beat</th>\n",
       "      <th>beat price</th>\n",
       "      <th>beautiful</th>\n",
       "      <th>beautiful color</th>\n",
       "      <th>beautifully</th>\n",
       "      <th>become</th>\n",
       "      <th>bed</th>\n",
       "      <th>begin</th>\n",
       "      <th>believe</th>\n",
       "      <th>belly</th>\n",
       "      <th>belt</th>\n",
       "      <th>belt loop</th>\n",
       "      <th>bend</th>\n",
       "      <th>best</th>\n",
       "      <th>better</th>\n",
       "      <th>better expected</th>\n",
       "      <th>better quality</th>\n",
       "      <th>beware</th>\n",
       "      <th>beyond</th>\n",
       "      <th>big</th>\n",
       "      <th>big deal</th>\n",
       "      <th>big enough</th>\n",
       "      <th>big size</th>\n",
       "      <th>bigger</th>\n",
       "      <th>bigger size</th>\n",
       "      <th>bikini</th>\n",
       "      <th>bill</th>\n",
       "      <th>bind</th>\n",
       "      <th>binding</th>\n",
       "      <th>birthday</th>\n",
       "      <th>bit</th>\n",
       "      <th>bit big</th>\n",
       "      <th>bit long</th>\n",
       "      <th>bit small</th>\n",
       "      <th>bit snug</th>\n",
       "      <th>...</th>\n",
       "      <th>warm soft</th>\n",
       "      <th>warm winter</th>\n",
       "      <th>warm without</th>\n",
       "      <th>warmer</th>\n",
       "      <th>warmth</th>\n",
       "      <th>wash</th>\n",
       "      <th>wash cold</th>\n",
       "      <th>wash dry</th>\n",
       "      <th>wash wear</th>\n",
       "      <th>wash well</th>\n",
       "      <th>washable</th>\n",
       "      <th>washed</th>\n",
       "      <th>washed cold</th>\n",
       "      <th>washed dried</th>\n",
       "      <th>washed well</th>\n",
       "      <th>washed yet</th>\n",
       "      <th>washer</th>\n",
       "      <th>washing</th>\n",
       "      <th>washing drying</th>\n",
       "      <th>wasnt</th>\n",
       "      <th>waste</th>\n",
       "      <th>waste money</th>\n",
       "      <th>wasted</th>\n",
       "      <th>water</th>\n",
       "      <th>wear</th>\n",
       "      <th>wear around</th>\n",
       "      <th>wear bought</th>\n",
       "      <th>wear day</th>\n",
       "      <th>wear every</th>\n",
       "      <th>wear fit</th>\n",
       "      <th>wear large</th>\n",
       "      <th>wear legging</th>\n",
       "      <th>wear like</th>\n",
       "      <th>wear long</th>\n",
       "      <th>wear love</th>\n",
       "      <th>wear medium</th>\n",
       "      <th>wear ordered</th>\n",
       "      <th>wear size</th>\n",
       "      <th>wear small</th>\n",
       "      <th>wear sweater</th>\n",
       "      <th>wear time</th>\n",
       "      <th>wear well</th>\n",
       "      <th>wear work</th>\n",
       "      <th>wearing</th>\n",
       "      <th>weather</th>\n",
       "      <th>website</th>\n",
       "      <th>week</th>\n",
       "      <th>weigh</th>\n",
       "      <th>weight</th>\n",
       "      <th>weight fabric</th>\n",
       "      <th>weird</th>\n",
       "      <th>well</th>\n",
       "      <th>well comfortable</th>\n",
       "      <th>well fit</th>\n",
       "      <th>well good</th>\n",
       "      <th>well like</th>\n",
       "      <th>well look</th>\n",
       "      <th>well love</th>\n",
       "      <th>well made</th>\n",
       "      <th>well wash</th>\n",
       "      <th>well worth</th>\n",
       "      <th>went</th>\n",
       "      <th>went back</th>\n",
       "      <th>went size</th>\n",
       "      <th>wet</th>\n",
       "      <th>whatever</th>\n",
       "      <th>white</th>\n",
       "      <th>whole</th>\n",
       "      <th>wicking</th>\n",
       "      <th>wide</th>\n",
       "      <th>wider</th>\n",
       "      <th>width</th>\n",
       "      <th>wife</th>\n",
       "      <th>wind</th>\n",
       "      <th>wine</th>\n",
       "      <th>winter</th>\n",
       "      <th>winter coat</th>\n",
       "      <th>winter month</th>\n",
       "      <th>wire</th>\n",
       "      <th>wise</th>\n",
       "      <th>wish</th>\n",
       "      <th>wish came</th>\n",
       "      <th>wish color</th>\n",
       "      <th>wish would</th>\n",
       "      <th>within</th>\n",
       "      <th>without</th>\n",
       "      <th>woman</th>\n",
       "      <th>woman plus</th>\n",
       "      <th>woman size</th>\n",
       "      <th>wonder</th>\n",
       "      <th>wonder nation</th>\n",
       "      <th>wonderful</th>\n",
       "      <th>wont</th>\n",
       "      <th>word</th>\n",
       "      <th>wore</th>\n",
       "      <th>work</th>\n",
       "      <th>work well</th>\n",
       "      <th>worked</th>\n",
       "      <th>working</th>\n",
       "      <th>workout</th>\n",
       "      <th>world</th>\n",
       "      <th>worn</th>\n",
       "      <th>worried</th>\n",
       "      <th>worry</th>\n",
       "      <th>worse</th>\n",
       "      <th>worst</th>\n",
       "      <th>worth</th>\n",
       "      <th>worth money</th>\n",
       "      <th>worth price</th>\n",
       "      <th>would</th>\n",
       "      <th>would better</th>\n",
       "      <th>would buy</th>\n",
       "      <th>would fit</th>\n",
       "      <th>would give</th>\n",
       "      <th>would highly</th>\n",
       "      <th>would like</th>\n",
       "      <th>would love</th>\n",
       "      <th>would make</th>\n",
       "      <th>would never</th>\n",
       "      <th>would nice</th>\n",
       "      <th>would order</th>\n",
       "      <th>would perfect</th>\n",
       "      <th>would purchase</th>\n",
       "      <th>would recommend</th>\n",
       "      <th>would say</th>\n",
       "      <th>would size</th>\n",
       "      <th>wrangler</th>\n",
       "      <th>wrap</th>\n",
       "      <th>wrinkle</th>\n",
       "      <th>wrist</th>\n",
       "      <th>wrong</th>\n",
       "      <th>wrong size</th>\n",
       "      <th>xxl</th>\n",
       "      <th>yard</th>\n",
       "      <th>yeah</th>\n",
       "      <th>year</th>\n",
       "      <th>year ago</th>\n",
       "      <th>year old</th>\n",
       "      <th>year round</th>\n",
       "      <th>yes</th>\n",
       "      <th>yet</th>\n",
       "      <th>yo</th>\n",
       "      <th>yoga</th>\n",
       "      <th>yoga pant</th>\n",
       "      <th>young</th>\n",
       "      <th>yr</th>\n",
       "      <th>yr old</th>\n",
       "      <th>zero</th>\n",
       "      <th>zip</th>\n",
       "      <th>zipper</th>\n",
       "    </tr>\n",
       "  </thead>\n",
       "  <tbody>\n",
       "    <tr>\n",
       "      <th>0</th>\n",
       "      <td>11.94</td>\n",
       "      <td>13.0</td>\n",
       "      <td>thick, material, quality, product, great, pric...</td>\n",
       "      <td>1.0</td>\n",
       "      <td>0.0</td>\n",
       "      <td>0.0</td>\n",
       "      <td>0.0</td>\n",
       "      <td>0.0</td>\n",
       "      <td>0.000000</td>\n",
       "      <td>0.0</td>\n",
       "      <td>0.0</td>\n",
       "      <td>0.0</td>\n",
       "      <td>0.976310</td>\n",
       "      <td>0.0</td>\n",
       "      <td>0.0</td>\n",
       "      <td>0.0</td>\n",
       "      <td>0.0</td>\n",
       "      <td>0.0</td>\n",
       "      <td>0.0</td>\n",
       "      <td>0.0</td>\n",
       "      <td>0.0</td>\n",
       "      <td>0.157237</td>\n",
       "      <td>0.0</td>\n",
       "      <td>0.0</td>\n",
       "      <td>0.0</td>\n",
       "      <td>0.0</td>\n",
       "      <td>0.09003</td>\n",
       "      <td>0.0</td>\n",
       "      <td>0.0</td>\n",
       "      <td>0.0</td>\n",
       "      <td>0.0</td>\n",
       "      <td>0.0</td>\n",
       "      <td>0.0</td>\n",
       "      <td>0.0</td>\n",
       "      <td>0.0</td>\n",
       "      <td>0.000000</td>\n",
       "      <td>0.0</td>\n",
       "      <td>0.0</td>\n",
       "      <td>0.0</td>\n",
       "      <td>0.0</td>\n",
       "      <td>0.0</td>\n",
       "      <td>0.0</td>\n",
       "      <td>0.0</td>\n",
       "      <td>0.0</td>\n",
       "      <td>0.0</td>\n",
       "      <td>0.0</td>\n",
       "      <td>0.0</td>\n",
       "      <td>0.0</td>\n",
       "      <td>0.0</td>\n",
       "      <td>0.0</td>\n",
       "      <td>0.000000</td>\n",
       "      <td>0.062154</td>\n",
       "      <td>0.144788</td>\n",
       "      <td>0.0</td>\n",
       "      <td>0.0</td>\n",
       "      <td>0.0</td>\n",
       "      <td>0.0</td>\n",
       "      <td>0.0</td>\n",
       "      <td>0.0</td>\n",
       "      <td>0.0</td>\n",
       "      <td>0.0</td>\n",
       "      <td>0.0</td>\n",
       "      <td>0.0</td>\n",
       "      <td>0.0</td>\n",
       "      <td>0.0</td>\n",
       "      <td>0.0</td>\n",
       "      <td>0.0</td>\n",
       "      <td>0.0</td>\n",
       "      <td>0.0</td>\n",
       "      <td>0.0</td>\n",
       "      <td>0.0</td>\n",
       "      <td>0.0</td>\n",
       "      <td>0.0</td>\n",
       "      <td>0.0</td>\n",
       "      <td>0.0</td>\n",
       "      <td>0.0</td>\n",
       "      <td>0.0</td>\n",
       "      <td>0.0</td>\n",
       "      <td>0.0</td>\n",
       "      <td>0.0</td>\n",
       "      <td>0.0</td>\n",
       "      <td>0.0</td>\n",
       "      <td>0.0</td>\n",
       "      <td>0.0</td>\n",
       "      <td>0.0</td>\n",
       "      <td>0.0</td>\n",
       "      <td>0.0</td>\n",
       "      <td>0.0</td>\n",
       "      <td>0.0</td>\n",
       "      <td>0.0</td>\n",
       "      <td>0.0</td>\n",
       "      <td>0.0</td>\n",
       "      <td>0.0</td>\n",
       "      <td>0.0</td>\n",
       "      <td>0.0</td>\n",
       "      <td>0.0</td>\n",
       "      <td>0.0</td>\n",
       "      <td>0.0</td>\n",
       "      <td>0.0</td>\n",
       "      <td>0.0</td>\n",
       "      <td>0.0</td>\n",
       "      <td>0.0</td>\n",
       "      <td>0.0</td>\n",
       "      <td>0.0</td>\n",
       "      <td>0.0</td>\n",
       "      <td>0.0</td>\n",
       "      <td>0.0</td>\n",
       "      <td>0.0</td>\n",
       "      <td>0.0</td>\n",
       "      <td>0.0</td>\n",
       "      <td>0.0</td>\n",
       "      <td>0.0</td>\n",
       "      <td>0.0</td>\n",
       "      <td>0.0</td>\n",
       "      <td>0.0</td>\n",
       "      <td>0.0</td>\n",
       "      <td>0.0</td>\n",
       "      <td>0.0</td>\n",
       "      <td>0.0</td>\n",
       "      <td>0.0</td>\n",
       "      <td>0.0</td>\n",
       "      <td>0.0</td>\n",
       "      <td>0.0</td>\n",
       "      <td>0.0</td>\n",
       "      <td>0.0</td>\n",
       "      <td>0.0</td>\n",
       "      <td>0.0</td>\n",
       "      <td>0.0</td>\n",
       "      <td>0.0</td>\n",
       "      <td>0.0</td>\n",
       "      <td>0.0</td>\n",
       "      <td>0.0</td>\n",
       "      <td>0.0</td>\n",
       "      <td>0.0</td>\n",
       "      <td>0.000000</td>\n",
       "      <td>0.0</td>\n",
       "      <td>0.0</td>\n",
       "      <td>0.0</td>\n",
       "      <td>0.093437</td>\n",
       "      <td>0.0</td>\n",
       "      <td>0.0</td>\n",
       "      <td>0.0</td>\n",
       "      <td>0.0</td>\n",
       "      <td>0.0</td>\n",
       "      <td>0.0</td>\n",
       "      <td>0.071835</td>\n",
       "      <td>0.0</td>\n",
       "      <td>0.0</td>\n",
       "      <td>0.0</td>\n",
       "      <td>0.0</td>\n",
       "      <td>...</td>\n",
       "      <td>0.0</td>\n",
       "      <td>0.0</td>\n",
       "      <td>0.0</td>\n",
       "      <td>0.0</td>\n",
       "      <td>0.0</td>\n",
       "      <td>0.0</td>\n",
       "      <td>0.0</td>\n",
       "      <td>0.0</td>\n",
       "      <td>0.0</td>\n",
       "      <td>0.0</td>\n",
       "      <td>0.0</td>\n",
       "      <td>0.0</td>\n",
       "      <td>0.0</td>\n",
       "      <td>0.0</td>\n",
       "      <td>0.0</td>\n",
       "      <td>0.0</td>\n",
       "      <td>0.0</td>\n",
       "      <td>0.0</td>\n",
       "      <td>0.0</td>\n",
       "      <td>0.0</td>\n",
       "      <td>0.0</td>\n",
       "      <td>0.0</td>\n",
       "      <td>0.0</td>\n",
       "      <td>0.0</td>\n",
       "      <td>0.00000</td>\n",
       "      <td>0.0</td>\n",
       "      <td>0.0</td>\n",
       "      <td>0.0</td>\n",
       "      <td>0.0</td>\n",
       "      <td>0.0</td>\n",
       "      <td>0.0</td>\n",
       "      <td>0.0</td>\n",
       "      <td>0.0</td>\n",
       "      <td>0.0</td>\n",
       "      <td>0.0</td>\n",
       "      <td>0.0</td>\n",
       "      <td>0.0</td>\n",
       "      <td>0.0</td>\n",
       "      <td>0.0</td>\n",
       "      <td>0.0</td>\n",
       "      <td>0.0</td>\n",
       "      <td>0.0</td>\n",
       "      <td>0.0</td>\n",
       "      <td>0.0</td>\n",
       "      <td>0.0</td>\n",
       "      <td>0.0</td>\n",
       "      <td>0.0</td>\n",
       "      <td>0.0</td>\n",
       "      <td>0.0</td>\n",
       "      <td>0.0</td>\n",
       "      <td>0.0</td>\n",
       "      <td>0.000000</td>\n",
       "      <td>0.0</td>\n",
       "      <td>0.0</td>\n",
       "      <td>0.0</td>\n",
       "      <td>0.0</td>\n",
       "      <td>0.0</td>\n",
       "      <td>0.0</td>\n",
       "      <td>0.0</td>\n",
       "      <td>0.0</td>\n",
       "      <td>0.0</td>\n",
       "      <td>0.0</td>\n",
       "      <td>0.0</td>\n",
       "      <td>0.0</td>\n",
       "      <td>0.0</td>\n",
       "      <td>0.0</td>\n",
       "      <td>0.0</td>\n",
       "      <td>0.0</td>\n",
       "      <td>0.0</td>\n",
       "      <td>0.0</td>\n",
       "      <td>0.0</td>\n",
       "      <td>0.0</td>\n",
       "      <td>0.0</td>\n",
       "      <td>0.0</td>\n",
       "      <td>0.0</td>\n",
       "      <td>0.0</td>\n",
       "      <td>0.0</td>\n",
       "      <td>0.0</td>\n",
       "      <td>0.0</td>\n",
       "      <td>0.0</td>\n",
       "      <td>0.0</td>\n",
       "      <td>0.0</td>\n",
       "      <td>0.0</td>\n",
       "      <td>0.0</td>\n",
       "      <td>0.0</td>\n",
       "      <td>0.0</td>\n",
       "      <td>0.0</td>\n",
       "      <td>0.0</td>\n",
       "      <td>0.0</td>\n",
       "      <td>0.0</td>\n",
       "      <td>0.0</td>\n",
       "      <td>0.0</td>\n",
       "      <td>0.0</td>\n",
       "      <td>0.0</td>\n",
       "      <td>0.0</td>\n",
       "      <td>0.0</td>\n",
       "      <td>0.0</td>\n",
       "      <td>0.0</td>\n",
       "      <td>0.0</td>\n",
       "      <td>0.0</td>\n",
       "      <td>0.0</td>\n",
       "      <td>0.0</td>\n",
       "      <td>0.0</td>\n",
       "      <td>0.0</td>\n",
       "      <td>0.0</td>\n",
       "      <td>0.0</td>\n",
       "      <td>0.0</td>\n",
       "      <td>0.0</td>\n",
       "      <td>0.0</td>\n",
       "      <td>0.0</td>\n",
       "      <td>0.0</td>\n",
       "      <td>0.0</td>\n",
       "      <td>0.0</td>\n",
       "      <td>0.0</td>\n",
       "      <td>0.0</td>\n",
       "      <td>0.0</td>\n",
       "      <td>0.0</td>\n",
       "      <td>0.0</td>\n",
       "      <td>0.0</td>\n",
       "      <td>0.0</td>\n",
       "      <td>0.0</td>\n",
       "      <td>0.0</td>\n",
       "      <td>0.0</td>\n",
       "      <td>0.0</td>\n",
       "      <td>0.0</td>\n",
       "      <td>0.0</td>\n",
       "      <td>0.0</td>\n",
       "      <td>0.0</td>\n",
       "      <td>0.0</td>\n",
       "      <td>0.0</td>\n",
       "      <td>0.0</td>\n",
       "      <td>0.0</td>\n",
       "      <td>0.0</td>\n",
       "      <td>0.0</td>\n",
       "      <td>0.0</td>\n",
       "      <td>0.0</td>\n",
       "      <td>0.0</td>\n",
       "      <td>0.0</td>\n",
       "      <td>0.0</td>\n",
       "      <td>0.0</td>\n",
       "      <td>0.0</td>\n",
       "      <td>0.0</td>\n",
       "      <td>0.0</td>\n",
       "      <td>0.0</td>\n",
       "      <td>0.0</td>\n",
       "      <td>0.0</td>\n",
       "      <td>0.0</td>\n",
       "      <td>0.0</td>\n",
       "      <td>0.0</td>\n",
       "      <td>0.0</td>\n",
       "    </tr>\n",
       "    <tr>\n",
       "      <th>1</th>\n",
       "      <td>10.00</td>\n",
       "      <td>3.0</td>\n",
       "      <td>hoodie, little, thinner, side, daughter, love,...</td>\n",
       "      <td>1.0</td>\n",
       "      <td>0.0</td>\n",
       "      <td>0.0</td>\n",
       "      <td>0.0</td>\n",
       "      <td>0.0</td>\n",
       "      <td>0.052284</td>\n",
       "      <td>0.0</td>\n",
       "      <td>0.0</td>\n",
       "      <td>0.0</td>\n",
       "      <td>0.909611</td>\n",
       "      <td>0.0</td>\n",
       "      <td>0.0</td>\n",
       "      <td>0.0</td>\n",
       "      <td>0.0</td>\n",
       "      <td>0.0</td>\n",
       "      <td>0.0</td>\n",
       "      <td>0.0</td>\n",
       "      <td>0.0</td>\n",
       "      <td>0.000000</td>\n",
       "      <td>0.0</td>\n",
       "      <td>0.0</td>\n",
       "      <td>0.0</td>\n",
       "      <td>0.0</td>\n",
       "      <td>0.00000</td>\n",
       "      <td>0.0</td>\n",
       "      <td>0.0</td>\n",
       "      <td>0.0</td>\n",
       "      <td>0.0</td>\n",
       "      <td>0.0</td>\n",
       "      <td>0.0</td>\n",
       "      <td>0.0</td>\n",
       "      <td>0.0</td>\n",
       "      <td>0.206726</td>\n",
       "      <td>0.0</td>\n",
       "      <td>0.0</td>\n",
       "      <td>0.0</td>\n",
       "      <td>0.0</td>\n",
       "      <td>0.0</td>\n",
       "      <td>0.0</td>\n",
       "      <td>0.0</td>\n",
       "      <td>0.0</td>\n",
       "      <td>0.0</td>\n",
       "      <td>0.0</td>\n",
       "      <td>0.0</td>\n",
       "      <td>0.0</td>\n",
       "      <td>0.0</td>\n",
       "      <td>0.0</td>\n",
       "      <td>0.170903</td>\n",
       "      <td>0.000000</td>\n",
       "      <td>0.000000</td>\n",
       "      <td>0.0</td>\n",
       "      <td>0.0</td>\n",
       "      <td>0.0</td>\n",
       "      <td>0.0</td>\n",
       "      <td>0.0</td>\n",
       "      <td>0.0</td>\n",
       "      <td>0.0</td>\n",
       "      <td>0.0</td>\n",
       "      <td>0.0</td>\n",
       "      <td>0.0</td>\n",
       "      <td>0.0</td>\n",
       "      <td>0.0</td>\n",
       "      <td>0.0</td>\n",
       "      <td>0.0</td>\n",
       "      <td>0.0</td>\n",
       "      <td>0.0</td>\n",
       "      <td>0.0</td>\n",
       "      <td>0.0</td>\n",
       "      <td>0.0</td>\n",
       "      <td>0.0</td>\n",
       "      <td>0.0</td>\n",
       "      <td>0.0</td>\n",
       "      <td>0.0</td>\n",
       "      <td>0.0</td>\n",
       "      <td>0.0</td>\n",
       "      <td>0.0</td>\n",
       "      <td>0.0</td>\n",
       "      <td>0.0</td>\n",
       "      <td>0.0</td>\n",
       "      <td>0.0</td>\n",
       "      <td>0.0</td>\n",
       "      <td>0.0</td>\n",
       "      <td>0.0</td>\n",
       "      <td>0.0</td>\n",
       "      <td>0.0</td>\n",
       "      <td>0.0</td>\n",
       "      <td>0.0</td>\n",
       "      <td>0.0</td>\n",
       "      <td>0.0</td>\n",
       "      <td>0.0</td>\n",
       "      <td>0.0</td>\n",
       "      <td>0.0</td>\n",
       "      <td>0.0</td>\n",
       "      <td>0.0</td>\n",
       "      <td>0.0</td>\n",
       "      <td>0.0</td>\n",
       "      <td>0.0</td>\n",
       "      <td>0.0</td>\n",
       "      <td>0.0</td>\n",
       "      <td>0.0</td>\n",
       "      <td>0.0</td>\n",
       "      <td>0.0</td>\n",
       "      <td>0.0</td>\n",
       "      <td>0.0</td>\n",
       "      <td>0.0</td>\n",
       "      <td>0.0</td>\n",
       "      <td>0.0</td>\n",
       "      <td>0.0</td>\n",
       "      <td>0.0</td>\n",
       "      <td>0.0</td>\n",
       "      <td>0.0</td>\n",
       "      <td>0.0</td>\n",
       "      <td>0.0</td>\n",
       "      <td>0.0</td>\n",
       "      <td>0.0</td>\n",
       "      <td>0.0</td>\n",
       "      <td>0.0</td>\n",
       "      <td>0.0</td>\n",
       "      <td>0.0</td>\n",
       "      <td>0.0</td>\n",
       "      <td>0.0</td>\n",
       "      <td>0.0</td>\n",
       "      <td>0.0</td>\n",
       "      <td>0.0</td>\n",
       "      <td>0.0</td>\n",
       "      <td>0.0</td>\n",
       "      <td>0.0</td>\n",
       "      <td>0.0</td>\n",
       "      <td>0.0</td>\n",
       "      <td>0.0</td>\n",
       "      <td>0.0</td>\n",
       "      <td>0.110677</td>\n",
       "      <td>0.0</td>\n",
       "      <td>0.0</td>\n",
       "      <td>0.0</td>\n",
       "      <td>0.000000</td>\n",
       "      <td>0.0</td>\n",
       "      <td>0.0</td>\n",
       "      <td>0.0</td>\n",
       "      <td>0.0</td>\n",
       "      <td>0.0</td>\n",
       "      <td>0.0</td>\n",
       "      <td>0.000000</td>\n",
       "      <td>0.0</td>\n",
       "      <td>0.0</td>\n",
       "      <td>0.0</td>\n",
       "      <td>0.0</td>\n",
       "      <td>...</td>\n",
       "      <td>0.0</td>\n",
       "      <td>0.0</td>\n",
       "      <td>0.0</td>\n",
       "      <td>0.0</td>\n",
       "      <td>0.0</td>\n",
       "      <td>0.0</td>\n",
       "      <td>0.0</td>\n",
       "      <td>0.0</td>\n",
       "      <td>0.0</td>\n",
       "      <td>0.0</td>\n",
       "      <td>0.0</td>\n",
       "      <td>0.0</td>\n",
       "      <td>0.0</td>\n",
       "      <td>0.0</td>\n",
       "      <td>0.0</td>\n",
       "      <td>0.0</td>\n",
       "      <td>0.0</td>\n",
       "      <td>0.0</td>\n",
       "      <td>0.0</td>\n",
       "      <td>0.0</td>\n",
       "      <td>0.0</td>\n",
       "      <td>0.0</td>\n",
       "      <td>0.0</td>\n",
       "      <td>0.0</td>\n",
       "      <td>0.08633</td>\n",
       "      <td>0.0</td>\n",
       "      <td>0.0</td>\n",
       "      <td>0.0</td>\n",
       "      <td>0.0</td>\n",
       "      <td>0.0</td>\n",
       "      <td>0.0</td>\n",
       "      <td>0.0</td>\n",
       "      <td>0.0</td>\n",
       "      <td>0.0</td>\n",
       "      <td>0.0</td>\n",
       "      <td>0.0</td>\n",
       "      <td>0.0</td>\n",
       "      <td>0.0</td>\n",
       "      <td>0.0</td>\n",
       "      <td>0.0</td>\n",
       "      <td>0.0</td>\n",
       "      <td>0.0</td>\n",
       "      <td>0.0</td>\n",
       "      <td>0.0</td>\n",
       "      <td>0.0</td>\n",
       "      <td>0.0</td>\n",
       "      <td>0.0</td>\n",
       "      <td>0.0</td>\n",
       "      <td>0.0</td>\n",
       "      <td>0.0</td>\n",
       "      <td>0.0</td>\n",
       "      <td>0.085611</td>\n",
       "      <td>0.0</td>\n",
       "      <td>0.0</td>\n",
       "      <td>0.0</td>\n",
       "      <td>0.0</td>\n",
       "      <td>0.0</td>\n",
       "      <td>0.0</td>\n",
       "      <td>0.0</td>\n",
       "      <td>0.0</td>\n",
       "      <td>0.0</td>\n",
       "      <td>0.0</td>\n",
       "      <td>0.0</td>\n",
       "      <td>0.0</td>\n",
       "      <td>0.0</td>\n",
       "      <td>0.0</td>\n",
       "      <td>0.0</td>\n",
       "      <td>0.0</td>\n",
       "      <td>0.0</td>\n",
       "      <td>0.0</td>\n",
       "      <td>0.0</td>\n",
       "      <td>0.0</td>\n",
       "      <td>0.0</td>\n",
       "      <td>0.0</td>\n",
       "      <td>0.0</td>\n",
       "      <td>0.0</td>\n",
       "      <td>0.0</td>\n",
       "      <td>0.0</td>\n",
       "      <td>0.0</td>\n",
       "      <td>0.0</td>\n",
       "      <td>0.0</td>\n",
       "      <td>0.0</td>\n",
       "      <td>0.0</td>\n",
       "      <td>0.0</td>\n",
       "      <td>0.0</td>\n",
       "      <td>0.0</td>\n",
       "      <td>0.0</td>\n",
       "      <td>0.0</td>\n",
       "      <td>0.0</td>\n",
       "      <td>0.0</td>\n",
       "      <td>0.0</td>\n",
       "      <td>0.0</td>\n",
       "      <td>0.0</td>\n",
       "      <td>0.0</td>\n",
       "      <td>0.0</td>\n",
       "      <td>0.0</td>\n",
       "      <td>0.0</td>\n",
       "      <td>0.0</td>\n",
       "      <td>0.0</td>\n",
       "      <td>0.0</td>\n",
       "      <td>0.0</td>\n",
       "      <td>0.0</td>\n",
       "      <td>0.0</td>\n",
       "      <td>0.0</td>\n",
       "      <td>0.0</td>\n",
       "      <td>0.0</td>\n",
       "      <td>0.0</td>\n",
       "      <td>0.0</td>\n",
       "      <td>0.0</td>\n",
       "      <td>0.0</td>\n",
       "      <td>0.0</td>\n",
       "      <td>0.0</td>\n",
       "      <td>0.0</td>\n",
       "      <td>0.0</td>\n",
       "      <td>0.0</td>\n",
       "      <td>0.0</td>\n",
       "      <td>0.0</td>\n",
       "      <td>0.0</td>\n",
       "      <td>0.0</td>\n",
       "      <td>0.0</td>\n",
       "      <td>0.0</td>\n",
       "      <td>0.0</td>\n",
       "      <td>0.0</td>\n",
       "      <td>0.0</td>\n",
       "      <td>0.0</td>\n",
       "      <td>0.0</td>\n",
       "      <td>0.0</td>\n",
       "      <td>0.0</td>\n",
       "      <td>0.0</td>\n",
       "      <td>0.0</td>\n",
       "      <td>0.0</td>\n",
       "      <td>0.0</td>\n",
       "      <td>0.0</td>\n",
       "      <td>0.0</td>\n",
       "      <td>0.0</td>\n",
       "      <td>0.0</td>\n",
       "      <td>0.0</td>\n",
       "      <td>0.0</td>\n",
       "      <td>0.0</td>\n",
       "      <td>0.0</td>\n",
       "      <td>0.0</td>\n",
       "      <td>0.0</td>\n",
       "      <td>0.0</td>\n",
       "      <td>0.0</td>\n",
       "      <td>0.0</td>\n",
       "      <td>0.0</td>\n",
       "      <td>0.0</td>\n",
       "      <td>0.0</td>\n",
       "      <td>0.0</td>\n",
       "      <td>0.0</td>\n",
       "    </tr>\n",
       "  </tbody>\n",
       "</table>\n",
       "<p>2 rows × 2016 columns</p>\n",
       "</div>"
      ],
      "text/plain": [
       "   price  num_rating                                           delisted  \\\n",
       "0  11.94        13.0  thick, material, quality, product, great, pric...   \n",
       "1  10.00         3.0  hoodie, little, thinner, side, daughter, love,...   \n",
       "\n",
       "   girls'  men's  women's  topic0  topic1    topic2  topic3  topic4  topic5  \\\n",
       "0     1.0    0.0      0.0     0.0     0.0  0.000000     0.0     0.0     0.0   \n",
       "1     1.0    0.0      0.0     0.0     0.0  0.052284     0.0     0.0     0.0   \n",
       "\n",
       "     topic6  topic7  topic8  topic9  able  able wear  absolute  absolutely  \\\n",
       "0  0.976310     0.0     0.0     0.0   0.0        0.0       0.0         0.0   \n",
       "1  0.909611     0.0     0.0     0.0   0.0        0.0       0.0         0.0   \n",
       "\n",
       "   absolutely love  according  accurate  across  active  actual  actually  \\\n",
       "0              0.0   0.157237       0.0     0.0     0.0     0.0   0.09003   \n",
       "1              0.0   0.000000       0.0     0.0     0.0     0.0   0.00000   \n",
       "\n",
       "   actually fit  add  added  addition  adjust  adjustable  adjustable waist  \\\n",
       "0           0.0  0.0    0.0       0.0     0.0         0.0               0.0   \n",
       "1           0.0  0.0    0.0       0.0     0.0         0.0               0.0   \n",
       "\n",
       "   adjusted  adorable  adult  advertised  affordable  afraid  age  ago  air  \\\n",
       "0       0.0  0.000000    0.0         0.0         0.0     0.0  0.0  0.0  0.0   \n",
       "1       0.0  0.206726    0.0         0.0         0.0     0.0  0.0  0.0  0.0   \n",
       "\n",
       "   allow  allows  almost  almost like  alone  along  alot   already      also  \\\n",
       "0    0.0     0.0     0.0          0.0    0.0    0.0   0.0  0.000000  0.062154   \n",
       "1    0.0     0.0     0.0          0.0    0.0    0.0   0.0  0.170903  0.000000   \n",
       "\n",
       "   also like  also love  also ordered  although  always  amazing  amount  \\\n",
       "0   0.144788        0.0           0.0       0.0     0.0      0.0     0.0   \n",
       "1   0.000000        0.0           0.0       0.0     0.0      0.0     0.0   \n",
       "\n",
       "   animal  ankle  annoying  another  another brand  another color  anymore  \\\n",
       "0     0.0    0.0       0.0      0.0            0.0            0.0      0.0   \n",
       "1     0.0    0.0       0.0      0.0            0.0            0.0      0.0   \n",
       "\n",
       "   anyone  anyone looking  anything  anyway  anywhere  apart  apparently  \\\n",
       "0     0.0             0.0       0.0     0.0       0.0    0.0         0.0   \n",
       "1     0.0             0.0       0.0     0.0       0.0    0.0         0.0   \n",
       "\n",
       "   appear  appearance  appears  appreciate  appropriate  area  arm  armpit  \\\n",
       "0     0.0         0.0      0.0         0.0          0.0   0.0  0.0     0.0   \n",
       "1     0.0         0.0      0.0         0.0          0.0   0.0  0.0     0.0   \n",
       "\n",
       "   around  around ankle  around house  around leg  around waist  arrive  \\\n",
       "0     0.0           0.0           0.0         0.0           0.0     0.0   \n",
       "1     0.0           0.0           0.0         0.0           0.0     0.0   \n",
       "\n",
       "   arrived  asked  athletic  attached  attractive  available  average  aware  \\\n",
       "0      0.0    0.0       0.0       0.0         0.0        0.0      0.0    0.0   \n",
       "1      0.0    0.0       0.0       0.0         0.0        0.0      0.0    0.0   \n",
       "\n",
       "   away  awesome  awful  baby  back  back pocket  bad  bag  baggy  ball  band  \\\n",
       "0   0.0      0.0    0.0   0.0   0.0          0.0  0.0  0.0    0.0   0.0   0.0   \n",
       "1   0.0      0.0    0.0   0.0   0.0          0.0  0.0  0.0    0.0   0.0   0.0   \n",
       "\n",
       "   barely  barely fit  bargain  base  based  basic  basically  battery   bc  \\\n",
       "0     0.0         0.0      0.0   0.0    0.0    0.0        0.0      0.0  0.0   \n",
       "1     0.0         0.0      0.0   0.0    0.0    0.0        0.0      0.0  0.0   \n",
       "\n",
       "   beat  beat price  beautiful  beautiful color  beautifully  become  bed  \\\n",
       "0   0.0         0.0        0.0              0.0          0.0     0.0  0.0   \n",
       "1   0.0         0.0        0.0              0.0          0.0     0.0  0.0   \n",
       "\n",
       "   begin  believe  belly  belt  belt loop  bend  best  better  \\\n",
       "0    0.0      0.0    0.0   0.0        0.0   0.0   0.0     0.0   \n",
       "1    0.0      0.0    0.0   0.0        0.0   0.0   0.0     0.0   \n",
       "\n",
       "   better expected  better quality  beware  beyond       big  big deal  \\\n",
       "0              0.0             0.0     0.0     0.0  0.000000       0.0   \n",
       "1              0.0             0.0     0.0     0.0  0.110677       0.0   \n",
       "\n",
       "   big enough  big size    bigger  bigger size  bikini  bill  bind  binding  \\\n",
       "0         0.0       0.0  0.093437          0.0     0.0   0.0   0.0      0.0   \n",
       "1         0.0       0.0  0.000000          0.0     0.0   0.0   0.0      0.0   \n",
       "\n",
       "   birthday       bit  bit big  bit long  bit small  bit snug  ...  warm soft  \\\n",
       "0       0.0  0.071835      0.0       0.0        0.0       0.0  ...        0.0   \n",
       "1       0.0  0.000000      0.0       0.0        0.0       0.0  ...        0.0   \n",
       "\n",
       "   warm winter  warm without  warmer  warmth  wash  wash cold  wash dry  \\\n",
       "0          0.0           0.0     0.0     0.0   0.0        0.0       0.0   \n",
       "1          0.0           0.0     0.0     0.0   0.0        0.0       0.0   \n",
       "\n",
       "   wash wear  wash well  washable  washed  washed cold  washed dried  \\\n",
       "0        0.0        0.0       0.0     0.0          0.0           0.0   \n",
       "1        0.0        0.0       0.0     0.0          0.0           0.0   \n",
       "\n",
       "   washed well  washed yet  washer  washing  washing drying  wasnt  waste  \\\n",
       "0          0.0         0.0     0.0      0.0             0.0    0.0    0.0   \n",
       "1          0.0         0.0     0.0      0.0             0.0    0.0    0.0   \n",
       "\n",
       "   waste money  wasted  water     wear  wear around  wear bought  wear day  \\\n",
       "0          0.0     0.0    0.0  0.00000          0.0          0.0       0.0   \n",
       "1          0.0     0.0    0.0  0.08633          0.0          0.0       0.0   \n",
       "\n",
       "   wear every  wear fit  wear large  wear legging  wear like  wear long  \\\n",
       "0         0.0       0.0         0.0           0.0        0.0        0.0   \n",
       "1         0.0       0.0         0.0           0.0        0.0        0.0   \n",
       "\n",
       "   wear love  wear medium  wear ordered  wear size  wear small  wear sweater  \\\n",
       "0        0.0          0.0           0.0        0.0         0.0           0.0   \n",
       "1        0.0          0.0           0.0        0.0         0.0           0.0   \n",
       "\n",
       "   wear time  wear well  wear work  wearing  weather  website  week  weigh  \\\n",
       "0        0.0        0.0        0.0      0.0      0.0      0.0   0.0    0.0   \n",
       "1        0.0        0.0        0.0      0.0      0.0      0.0   0.0    0.0   \n",
       "\n",
       "   weight  weight fabric  weird      well  well comfortable  well fit  \\\n",
       "0     0.0            0.0    0.0  0.000000               0.0       0.0   \n",
       "1     0.0            0.0    0.0  0.085611               0.0       0.0   \n",
       "\n",
       "   well good  well like  well look  well love  well made  well wash  \\\n",
       "0        0.0        0.0        0.0        0.0        0.0        0.0   \n",
       "1        0.0        0.0        0.0        0.0        0.0        0.0   \n",
       "\n",
       "   well worth  went  went back  went size  wet  whatever  white  whole  \\\n",
       "0         0.0   0.0        0.0        0.0  0.0       0.0    0.0    0.0   \n",
       "1         0.0   0.0        0.0        0.0  0.0       0.0    0.0    0.0   \n",
       "\n",
       "   wicking  wide  wider  width  wife  wind  wine  winter  winter coat  \\\n",
       "0      0.0   0.0    0.0    0.0   0.0   0.0   0.0     0.0          0.0   \n",
       "1      0.0   0.0    0.0    0.0   0.0   0.0   0.0     0.0          0.0   \n",
       "\n",
       "   winter month  wire  wise  wish  wish came  wish color  wish would  within  \\\n",
       "0           0.0   0.0   0.0   0.0        0.0         0.0         0.0     0.0   \n",
       "1           0.0   0.0   0.0   0.0        0.0         0.0         0.0     0.0   \n",
       "\n",
       "   without  woman  woman plus  woman size  wonder  wonder nation  wonderful  \\\n",
       "0      0.0    0.0         0.0         0.0     0.0            0.0        0.0   \n",
       "1      0.0    0.0         0.0         0.0     0.0            0.0        0.0   \n",
       "\n",
       "   wont  word  wore  work  work well  worked  working  workout  world  worn  \\\n",
       "0   0.0   0.0   0.0   0.0        0.0     0.0      0.0      0.0    0.0   0.0   \n",
       "1   0.0   0.0   0.0   0.0        0.0     0.0      0.0      0.0    0.0   0.0   \n",
       "\n",
       "   worried  worry  worse  worst  worth  worth money  worth price  would  \\\n",
       "0      0.0    0.0    0.0    0.0    0.0          0.0          0.0    0.0   \n",
       "1      0.0    0.0    0.0    0.0    0.0          0.0          0.0    0.0   \n",
       "\n",
       "   would better  would buy  would fit  would give  would highly  would like  \\\n",
       "0           0.0        0.0        0.0         0.0           0.0         0.0   \n",
       "1           0.0        0.0        0.0         0.0           0.0         0.0   \n",
       "\n",
       "   would love  would make  would never  would nice  would order  \\\n",
       "0         0.0         0.0          0.0         0.0          0.0   \n",
       "1         0.0         0.0          0.0         0.0          0.0   \n",
       "\n",
       "   would perfect  would purchase  would recommend  would say  would size  \\\n",
       "0            0.0             0.0              0.0        0.0         0.0   \n",
       "1            0.0             0.0              0.0        0.0         0.0   \n",
       "\n",
       "   wrangler  wrap  wrinkle  wrist  wrong  wrong size  xxl  yard  yeah  year  \\\n",
       "0       0.0   0.0      0.0    0.0    0.0         0.0  0.0   0.0   0.0   0.0   \n",
       "1       0.0   0.0      0.0    0.0    0.0         0.0  0.0   0.0   0.0   0.0   \n",
       "\n",
       "   year ago  year old  year round  yes  yet   yo  yoga  yoga pant  young   yr  \\\n",
       "0       0.0       0.0         0.0  0.0  0.0  0.0   0.0        0.0    0.0  0.0   \n",
       "1       0.0       0.0         0.0  0.0  0.0  0.0   0.0        0.0    0.0  0.0   \n",
       "\n",
       "   yr old  zero  zip  zipper  \n",
       "0     0.0   0.0  0.0     0.0  \n",
       "1     0.0   0.0  0.0     0.0  \n",
       "\n",
       "[2 rows x 2016 columns]"
      ]
     },
     "execution_count": 12,
     "metadata": {},
     "output_type": "execute_result"
    }
   ],
   "source": [
    "tfidfvec = TfidfVectorizer(stop_words = stop_words, ngram_range = (1,2), max_features=2000, use_idf=True)  \n",
    "\n",
    "train_vec = tfidfvec.fit_transform(X_train.delisted.values).toarray()\n",
    "test_vec = tfidfvec.transform(X_test.delisted.values).toarray()\n",
    "\n",
    "tfidf_train = pd.DataFrame(train_vec, columns = tfidfvec.get_feature_names())\n",
    "tfidf_test = pd.DataFrame(test_vec, columns = tfidfvec.get_feature_names())\n",
    "\n",
    "print(f\"X train shape: {X_train.shape}, Tfidf train shape: {tfidf_train.shape}\") \n",
    "print(\"-\"*20)\n",
    "print(f\"X test shape: {X_test.shape}, Tfidf test shape: {tfidf_test.shape}\")\n",
    "\n",
    "# resetting index to concatenate with tfidf. Resetting index will not affect the dataset. \n",
    "X_train.reset_index(drop=True, inplace=True)\n",
    "X_test.reset_index(drop=True, inplace=True)\n",
    "\n",
    "frame1 = [X_train, tfidf_train]\n",
    "frame2 = [X_test, tfidf_test]\n",
    "\n",
    "X_train = pd.concat(frame1, axis=1)\n",
    "X_test = pd.concat(frame2, axis=1)\n",
    "\n",
    "X_train.head(2)"
   ]
  },
  {
   "cell_type": "code",
   "execution_count": 13,
   "metadata": {},
   "outputs": [],
   "source": [
    "# Dropping \"delisted\" from both Train and Test because these have already been Vectorized. \n",
    "X_train.drop(columns = [\"delisted\"], inplace = True)\n",
    "X_test.drop(columns = \"delisted\", inplace=True)\n",
    "X.drop(columns = [\"delisted\"], inplace = True)"
   ]
  },
  {
   "cell_type": "code",
   "execution_count": 14,
   "metadata": {},
   "outputs": [],
   "source": [
    "def model_metrics(y_test, y_pred):\n",
    "\n",
    "    '''Shows Accuracy, Precision, Recall, and F1-Score evaluation metrics'''\n",
    "\n",
    "    print('Evaluation Metrics:')\n",
    "    print('Accuracy: ' + str(metrics.accuracy_score(y_test, y_pred)))\n",
    "    print('Precision: ' + str(metrics.precision_score(y_test, y_pred)))\n",
    "    print('Recall: ' + str(metrics.recall_score(y_test, y_pred)))\n",
    "    print('F1: ' + str(metrics.f1_score(y_test, y_pred)));"
   ]
  },
  {
   "cell_type": "code",
   "execution_count": 15,
   "metadata": {},
   "outputs": [],
   "source": [
    "def cross_validation(model, X_tarin, y_train, cv=10, n_jobs=-1):\n",
    "    '''Prints cross-validation metrics for evaluation'''\n",
    "\n",
    "    score = cross_val_score(model, X_tarin, y_train, cv=cv, scoring = \"f1\", n_jobs=n_jobs)\n",
    "    print('Cross-Validation F1 Scores:', score)\n",
    "    print('Mean F1 Scores: ', round(score.mean(), 5))\n",
    "    print('Standard Deviation:',  round(score.std(), 5));"
   ]
  },
  {
   "cell_type": "code",
   "execution_count": 16,
   "metadata": {},
   "outputs": [],
   "source": [
    "def con_mat(X, y, title=None):\n",
    "    cm = confusion_matrix(X, y)\n",
    "    fig, ax = plt.subplots(figsize = (6,4))\n",
    "    sns.heatmap(cm, annot=True, fmt='d', ax=ax, cmap='Blues')\n",
    "    plt.title(title, fontsize = 20)\n",
    "    ax.set_xticklabels(['Not Rec', 'Rec'], fontsize=12)\n",
    "    ax.set_yticklabels(['Not Rec', 'Rec'], fontsize=12)\n",
    "    ax.set_ylabel('Actual', size=15)\n",
    "    ax.set_xlabel('Predicted', size=15)\n",
    "    bottom, top = ax.get_ylim()\n",
    "    ax.set_ylim(bottom + 0.5, top - 0.5)\n",
    "    return plt.show();"
   ]
  },
  {
   "cell_type": "markdown",
   "metadata": {},
   "source": [
    "# Dummy Classifier"
   ]
  },
  {
   "cell_type": "code",
   "execution_count": 17,
   "metadata": {},
   "outputs": [],
   "source": [
    "dummy_clf = DummyClassifier(strategy=\"stratified\")"
   ]
  },
  {
   "cell_type": "code",
   "execution_count": 18,
   "metadata": {},
   "outputs": [
    {
     "data": {
      "text/plain": [
       "DummyClassifier(strategy='stratified')"
      ]
     },
     "execution_count": 18,
     "metadata": {},
     "output_type": "execute_result"
    }
   ],
   "source": [
    "dummy_clf.fit(X_train, y_train)"
   ]
  },
  {
   "cell_type": "code",
   "execution_count": 19,
   "metadata": {
    "scrolled": false
   },
   "outputs": [
    {
     "name": "stdout",
     "output_type": "stream",
     "text": [
      "Evaluation Metrics:\n",
      "Accuracy: 0.5956521739130435\n",
      "Precision: 0.7396449704142012\n",
      "Recall: 0.7183908045977011\n",
      "F1: 0.7288629737609329\n",
      "None\n",
      "------------------------------------------------------------\n",
      "Cross-Validation F1 Scores: [0.69230769 0.6969697  0.70229008 0.71317829 0.67716535 0.70676692\n",
      " 0.70588235 0.73684211 0.71317829 0.73134328]\n",
      "Mean F1 Scores:  0.70759\n",
      "Standard Deviation: 0.01669\n",
      "------------------------------------------------------------\n"
     ]
    },
    {
     "data": {
      "image/png": "[encoded data removed]",
      "text/plain": [
       "<Figure size 432x288 with 2 Axes>"
      ]
     },
     "metadata": {
      "needs_background": "light"
     },
     "output_type": "display_data"
    }
   ],
   "source": [
    "y_preds_dum = dummy_clf.predict(X_test)\n",
    "print(model_metrics(y_test, y_preds_dum));                 \n",
    "print(\"-\"*60)\n",
    "cross_validation(dummy_clf, X_train, y_train, cv=10)\n",
    "print(\"-\"*60)\n",
    "con_mat(y_test, y_preds_dum, title=\"Dummy Classifier\")"
   ]
  },
  {
   "cell_type": "markdown",
   "metadata": {},
   "source": [
    "Accuracy for dummy is a bit higher than expected (expected to be near 50%). Additionally, there is a good amount of False Negative and False positive in the confusion matrix. This might be due to the class imbalance. Mean F1 score of 0.713 can also be explained due to the class imbalance.\n",
    "\n",
    "I will use class_weight=\"balanced\" to combat this. "
   ]
  },
  {
   "cell_type": "markdown",
   "metadata": {},
   "source": [
    "# Logistic Regression Baseline\n",
    "Only added parameters are random_state=0 and n_jobs=-1. \n",
    "- random_state=0 for reproducibility and consistency across model comparisions. \n",
    "- n_jobs=-1 to use all cores to run the models as fast as possible. "
   ]
  },
  {
   "cell_type": "code",
   "execution_count": 20,
   "metadata": {
    "scrolled": false
   },
   "outputs": [
    {
     "name": "stdout",
     "output_type": "stream",
     "text": [
      "Evaluation Metrics:\n",
      "Accuracy: 0.8217391304347826\n",
      "Precision: 0.8181818181818182\n",
      "Recall: 0.9827586206896551\n",
      "F1: 0.8929503916449086\n",
      "None\n",
      "------------------------------------------------------------\n",
      "Cross-Validation F1 Scores: [0.85526316 0.84931507 0.81879195 0.8590604  0.84768212 0.86486486\n",
      " 0.85714286 0.8627451  0.82758621 0.8630137 ]\n",
      "Mean F1 Scores:  0.85055\n",
      "Standard Deviation: 0.01481\n",
      "------------------------------------------------------------\n"
     ]
    },
    {
     "data": {
      "image/png": "[encoded data removed]",
      "text/plain": [
       "<Figure size 432x288 with 2 Axes>"
      ]
     },
     "metadata": {
      "needs_background": "light"
     },
     "output_type": "display_data"
    }
   ],
   "source": [
    "logreg_clf = LogisticRegression(random_state = 0,n_jobs=-1)\n",
    "logreg_clf.fit(X_train, y_train)\n",
    "\n",
    "y_pred_lr = logreg_clf.predict(X_test)\n",
    "print(model_metrics(y_test, y_pred_lr))\n",
    "print(\"-\"*60)\n",
    "cross_validation(logreg_clf, X_train, y_train)\n",
    "print(\"-\"*60)\n",
    "con_mat(y_test, y_pred_lr, title=\"Logistic Regression\")"
   ]
  },
  {
   "cell_type": "markdown",
   "metadata": {},
   "source": [
    "Although we acheive a decent F1 score of 0.85, the class imabalnce is causing the model to lean in favor of the dominant class. The recall score is at 0.97, which means that when it's actually \"recommended\", our model predict correctly 97% of the time. This is pretty good. However, the True negative rate is really low. There are 56 cctual Non Recommended items but only 19 were predicted and of those 19, only 14 were correct. \n",
    "\n",
    "So overall, not a bad baseline. But lets see how the balancing the classes affects the results."
   ]
  },
  {
   "cell_type": "markdown",
   "metadata": {},
   "source": [
    "# Logistic Regression with Class weight as Balanced\n",
    "Only parameter added in class_weight='balanced'. This parameter will tackle the class imbalance.  "
   ]
  },
  {
   "cell_type": "code",
   "execution_count": 21,
   "metadata": {},
   "outputs": [
    {
     "data": {
      "text/plain": [
       "LogisticRegression(class_weight='balanced', n_jobs=-1, random_state=0)"
      ]
     },
     "execution_count": 21,
     "metadata": {},
     "output_type": "execute_result"
    }
   ],
   "source": [
    "logreg_clf2 = LogisticRegression(random_state = 0,n_jobs=-1, class_weight=\"balanced\")\n",
    "logreg_clf2.fit(X_train, y_train)"
   ]
  },
  {
   "cell_type": "code",
   "execution_count": 22,
   "metadata": {},
   "outputs": [
    {
     "name": "stdout",
     "output_type": "stream",
     "text": [
      "Evaluation Metrics:\n",
      "Accuracy: 0.7478260869565218\n",
      "Precision: 0.8866666666666667\n",
      "Recall: 0.764367816091954\n",
      "F1: 0.8209876543209876\n",
      "None\n",
      "------------------------------------------------------------\n",
      "Cross-Validation F1 Scores: [0.784      0.80645161 0.80327869 0.76033058 0.82352941 0.83969466\n",
      " 0.79032258 0.84615385 0.88188976 0.784     ]\n",
      "Mean F1 Scores:  0.81197\n",
      "Standard Deviation: 0.0343\n",
      "------------------------------------------------------------\n"
     ]
    },
    {
     "data": {
      "image/png": "[encoded data removed]",
      "text/plain": [
       "<Figure size 432x288 with 2 Axes>"
      ]
     },
     "metadata": {
      "needs_background": "light"
     },
     "output_type": "display_data"
    }
   ],
   "source": [
    "y_pred_lr2 = logreg_clf2.predict(X_test)\n",
    "print(model_metrics(y_test, y_pred_lr2))\n",
    "print(\"-\"*60)\n",
    "cross_validation(logreg_clf2, X_train, y_train)\n",
    "print(\"-\"*60)\n",
    "con_mat(y_test, y_pred_lr2, title=\"Logistic Regression 2.0\")"
   ]
  },
  {
   "cell_type": "markdown",
   "metadata": {},
   "source": [
    "F1 score dropped to 0.795 after balancing the class weight, the recall dropped by 0.15 and False Negative also increased. The Model predicted 79 items as not recommened items, when only 56 items are actual not recommended items. Out of 79 items, 41 were predicted correctly, which is higher than Baseline Logistic Regression model and the dummy classifier. Therefore, actual Non Recommended items were predicted correctly at a higher rate. Since, Walmart has a ton of items, falsly predicting some recommended items as not recommended does not hurt drastically. We still have a decent precision rate at 0.90. Precision rate is calucated by answering, When model predicted \"Recommended\", how often is it correct? So, predicting corretly at 90% is still a win.  "
   ]
  },
  {
   "cell_type": "markdown",
   "metadata": {},
   "source": [
    "# GridSearchCV on Logistic Regression \n",
    "we can pass in multiple ranges of parameters to see at which parameters the model performs best. "
   ]
  },
  {
   "cell_type": "code",
   "execution_count": 23,
   "metadata": {},
   "outputs": [
    {
     "name": "stdout",
     "output_type": "stream",
     "text": [
      "Fitting 10 folds for each of 80 candidates, totalling 800 fits\n"
     ]
    },
    {
     "name": "stderr",
     "output_type": "stream",
     "text": [
      "[Parallel(n_jobs=-1)]: Using backend LokyBackend with 8 concurrent workers.\n",
      "[Parallel(n_jobs=-1)]: Done  34 tasks      | elapsed:    0.2s\n",
      "[Parallel(n_jobs=-1)]: Done 322 tasks      | elapsed:   22.6s\n",
      "[Parallel(n_jobs=-1)]: Done 714 tasks      | elapsed:   45.1s\n",
      "[Parallel(n_jobs=-1)]: Done 800 out of 800 | elapsed:   58.8s finished\n",
      "[Parallel(n_jobs=-1)]: Using backend LokyBackend with 8 concurrent workers.\n",
      "[Parallel(n_jobs=-1)]: Done   1 out of   1 | elapsed:    1.6s finished\n"
     ]
    },
    {
     "name": "stdout",
     "output_type": "stream",
     "text": [
      "------------------------------------------------------------\n",
      "{'C': 3, 'penalty': 'l2', 'tol': 8}\n",
      "------------------------------------------------------------\n",
      "Evaluation Metrics:\n",
      "Accuracy: 0.7260869565217392\n",
      "Precision: 0.8881118881118881\n",
      "Recall: 0.7298850574712644\n",
      "F1: 0.8012618296529969\n",
      "None\n",
      "------------------------------------------------------------\n"
     ]
    },
    {
     "data": {
      "image/png": "[encoded data removed]",
      "text/plain": [
       "<Figure size 432x288 with 2 Axes>"
      ]
     },
     "metadata": {
      "needs_background": "light"
     },
     "output_type": "display_data"
    }
   ],
   "source": [
    "logreg = LogisticRegression(random_state = 0, n_jobs=-1, verbose=2, class_weight=\"balanced\")\n",
    "log_dict = {'tol': range(1,9,1), 'C': range(3,8), 'penalty': [\"l1\", \"l2\"]}\n",
    "grid_log = GridSearchCV(logreg, log_dict, cv=10, scoring=\"f1\", verbose=2, n_jobs=-1)\n",
    "grid_log.fit(X_train, y_train)\n",
    "print(\"-\"*60)\n",
    "print(grid_log.best_params_)\n",
    "print(\"-\"*60)\n",
    "grid_log_pred = grid_log.predict(X_test)\n",
    "print(model_metrics(y_test, grid_log_pred))\n",
    "print(\"-\"*60)\n",
    "con_mat(y_test, grid_log_pred, title=\"Grid Search with Logistic Regression\")"
   ]
  },
  {
   "cell_type": "code",
   "execution_count": 24,
   "metadata": {},
   "outputs": [
    {
     "name": "stdout",
     "output_type": "stream",
     "text": [
      "The best performing hyperparameters for GridSeachCV using Logistic Regression is the following: LogisticRegression(C=3, class_weight='balanced', n_jobs=-1, random_state=0,\n",
      "                   tol=8, verbose=2). Resulting in a F1 score of 0.8012618296529969\n"
     ]
    }
   ],
   "source": [
    "print(f\"The best performing hyperparameters for GridSeachCV using Logistic Regression is the following: {grid_log.best_estimator_}. Resulting in a F1 score of {metrics.f1_score(y_test, grid_log_pred)}\")"
   ]
  },
  {
   "cell_type": "markdown",
   "metadata": {},
   "source": [
    "F1 score went up to 0.837, which is an increase of 0.032 using the best parameters. Although the accuracy of the model decreased, we still have a decent precision rate at 0.90 (predicting corretly at 90%). \n",
    "\n",
    "Lets see how other models perform"
   ]
  },
  {
   "cell_type": "code",
   "execution_count": 25,
   "metadata": {},
   "outputs": [
    {
     "name": "stderr",
     "output_type": "stream",
     "text": [
      "[Parallel(n_jobs=-1)]: Using backend LokyBackend with 8 concurrent workers.\n",
      "[Parallel(n_jobs=-1)]: Done   1 out of   1 | elapsed:    1.5s finished\n"
     ]
    },
    {
     "name": "stdout",
     "output_type": "stream",
     "text": [
      "Evaluation Metrics:\n",
      "Accuracy: 0.7260869565217392\n",
      "Precision: 0.8881118881118881\n",
      "Recall: 0.7298850574712644\n",
      "F1: 0.8012618296529969\n",
      "None\n",
      "------------------------------------------------------------\n",
      "Cross-Validation F1 Scores: [0.768      0.832      0.79338843 0.7704918  0.81818182 0.828125\n",
      " 0.784      0.828125   0.88188976 0.784     ]\n",
      "Mean F1 Scores:  0.80882\n",
      "Standard Deviation: 0.03364\n",
      "------------------------------------------------------------\n"
     ]
    },
    {
     "data": {
      "image/png": "[encoded data removed]",
      "text/plain": [
       "<Figure size 432x288 with 2 Axes>"
      ]
     },
     "metadata": {
      "needs_background": "light"
     },
     "output_type": "display_data"
    }
   ],
   "source": [
    "logreg_clf3=LogisticRegression(C=3, class_weight='balanced', n_jobs=-1, random_state=0, tol=8, verbose=2)\n",
    "logreg_clf3.fit(X_train, y_train)\n",
    "y_pred_lr3 = logreg_clf3.predict(X_test)\n",
    "print(model_metrics(y_test, y_pred_lr3))\n",
    "print(\"-\"*60)\n",
    "cross_validation(logreg_clf3, X_train, y_train, cv=10)\n",
    "print(\"-\"*60)\n",
    "con_mat(y_test, y_pred_lr3, title=\"Logistic Regression 3.0\")"
   ]
  },
  {
   "cell_type": "markdown",
   "metadata": {},
   "source": [
    "### There are three types of Naive Bayes models that we can run. \n",
    "- Gaussian: assumes that the features follow a normal distribution\n",
    "- Bernoulli: useful only if featuer vectors are binary (0 and 1). \n",
    "- Multinomial: used for discrete counts. \n",
    "\n",
    "Since most of my features are in range of 0 and 1, Brenoulli Naive Bayes makes more sense. But I will try baseline for both Multinomial and Bernoulli. \n"
   ]
  },
  {
   "cell_type": "markdown",
   "metadata": {},
   "source": [
    "# Multinomial Naive Bayes Baseline"
   ]
  },
  {
   "cell_type": "code",
   "execution_count": 26,
   "metadata": {},
   "outputs": [
    {
     "data": {
      "text/plain": [
       "MultinomialNB()"
      ]
     },
     "execution_count": 26,
     "metadata": {},
     "output_type": "execute_result"
    }
   ],
   "source": [
    "M_nb = MultinomialNB()\n",
    "M_nb.fit(X_train, y_train)"
   ]
  },
  {
   "cell_type": "code",
   "execution_count": 27,
   "metadata": {},
   "outputs": [
    {
     "name": "stdout",
     "output_type": "stream",
     "text": [
      "Evaluation Metrics:\n",
      "Accuracy: 0.3652173913043478\n",
      "Precision: 0.71875\n",
      "Recall: 0.26436781609195403\n",
      "F1: 0.3865546218487395\n",
      "None\n",
      "------------------------------------------------------------\n",
      "Cross-Validation F1 Scores: [0.28235294 0.23529412 0.35164835 0.42553191 0.46938776 0.48421053\n",
      " 0.48421053 0.51612903 0.53061224 0.63461538]\n",
      "Mean F1 Scores:  0.4414\n",
      "Standard Deviation: 0.11463\n",
      "------------------------------------------------------------\n"
     ]
    },
    {
     "data": {
      "image/png": "[encoded data removed]",
      "text/plain": [
       "<Figure size 432x288 with 2 Axes>"
      ]
     },
     "metadata": {
      "needs_background": "light"
     },
     "output_type": "display_data"
    }
   ],
   "source": [
    "y_pred_Mnb = M_nb.predict(X_test)\n",
    "print(model_metrics(y_test, y_pred_Mnb))\n",
    "print(\"-\"*60)\n",
    "cross_validation(M_nb, X_train, y_train, cv=10)\n",
    "print(\"-\"*60)\n",
    "con_mat(y_test, y_pred_Mnb, title=\"MultinomialNB\")"
   ]
  },
  {
   "cell_type": "markdown",
   "metadata": {},
   "source": [
    "Wow! Multinomial performs terribly... The dummy classifier does a better job... Perhaps tuning the model would increase the score. But in the interest of time, lets see how BrenoulliNB performs. If BrenoulliNB performs better, I will ignore MultinomialNB and work with BernoulliNB."
   ]
  },
  {
   "cell_type": "markdown",
   "metadata": {},
   "source": [
    "# Bernoulli Naive Bayes Baseline"
   ]
  },
  {
   "cell_type": "code",
   "execution_count": 28,
   "metadata": {},
   "outputs": [
    {
     "data": {
      "text/plain": [
       "BernoulliNB()"
      ]
     },
     "execution_count": 28,
     "metadata": {},
     "output_type": "execute_result"
    }
   ],
   "source": [
    "B_nb = BernoulliNB()\n",
    "B_nb.fit(X_train, y_train)"
   ]
  },
  {
   "cell_type": "code",
   "execution_count": 29,
   "metadata": {},
   "outputs": [
    {
     "name": "stdout",
     "output_type": "stream",
     "text": [
      "Evaluation Metrics:\n",
      "Accuracy: 0.7869565217391304\n",
      "Precision: 0.8698224852071006\n",
      "Recall: 0.8448275862068966\n",
      "F1: 0.8571428571428572\n",
      "None\n",
      "------------------------------------------------------------\n",
      "Cross-Validation F1 Scores: [0.82857143 0.8030303  0.83916084 0.84671533 0.84137931 0.84615385\n",
      " 0.84848485 0.8        0.78787879 0.72180451]\n",
      "Mean F1 Scores:  0.81632\n",
      "Standard Deviation: 0.03786\n",
      "------------------------------------------------------------\n"
     ]
    },
    {
     "data": {
      "image/png": "[encoded data removed]",
      "text/plain": [
       "<Figure size 432x288 with 2 Axes>"
      ]
     },
     "metadata": {
      "needs_background": "light"
     },
     "output_type": "display_data"
    }
   ],
   "source": [
    "y_pred_Bnb = B_nb.predict(X_test)\n",
    "print(model_metrics(y_test, y_pred_Bnb))\n",
    "print(\"-\"*60)\n",
    "cross_validation(B_nb, X_train, y_train, cv=10)\n",
    "print(\"-\"*60)\n",
    "con_mat(y_test, y_pred_Bnb, title=\"BernoulliNB\")\n"
   ]
  },
  {
   "cell_type": "markdown",
   "metadata": {},
   "source": [
    "BrenoulliNB performs a lot better than MultinomialNB. The BrenoulliNB baseline has a mean F1 score of 0.806 is still less than Logistic Regression baseline F1 score (0.85)."
   ]
  },
  {
   "cell_type": "markdown",
   "metadata": {},
   "source": [
    "# Bernoulli Naive Bayes with parameter tuning"
   ]
  },
  {
   "cell_type": "code",
   "execution_count": 30,
   "metadata": {},
   "outputs": [
    {
     "data": {
      "text/plain": [
       "BernoulliNB(alpha=0.5)"
      ]
     },
     "execution_count": 30,
     "metadata": {},
     "output_type": "execute_result"
    }
   ],
   "source": [
    "B_nb2 = BernoulliNB(alpha=0.5) #alpha=1.0 by default. closer to 0, the less smoothing \n",
    "B_nb2.fit(X_train, y_train)"
   ]
  },
  {
   "cell_type": "code",
   "execution_count": 31,
   "metadata": {},
   "outputs": [
    {
     "name": "stdout",
     "output_type": "stream",
     "text": [
      "Evaluation Metrics:\n",
      "Accuracy: 0.7913043478260869\n",
      "Precision: 0.8705882352941177\n",
      "Recall: 0.8505747126436781\n",
      "F1: 0.8604651162790696\n",
      "None\n",
      "------------------------------------------------------------\n",
      "Cross-Validation F1 Scores: [0.82014388 0.78125    0.86524823 0.87769784 0.82758621 0.86153846\n",
      " 0.85925926 0.81690141 0.82089552 0.75555556]\n",
      "Mean F1 Scores:  0.82861\n",
      "Standard Deviation: 0.03691\n",
      "------------------------------------------------------------\n"
     ]
    },
    {
     "data": {
      "image/png": "[encoded data removed]",
      "text/plain": [
       "<Figure size 432x288 with 2 Axes>"
      ]
     },
     "metadata": {
      "needs_background": "light"
     },
     "output_type": "display_data"
    }
   ],
   "source": [
    "y_pred_Bnb2 = B_nb2.predict(X_test)\n",
    "print(model_metrics(y_test, y_pred_Bnb2))\n",
    "print(\"-\"*60)\n",
    "cross_validation(B_nb2, X_train, y_train, cv=10)\n",
    "print(\"-\"*60)\n",
    "con_mat(y_test, y_pred_Bnb2, title=\"BernoulliNB Tuned\")"
   ]
  },
  {
   "cell_type": "markdown",
   "metadata": {},
   "source": [
    "We reduced the alpha parameter by half but the scores did not increase dramatically. We see an small increase of 0.00683 in the F1 score (0.814). Another way to balance the class imbalance would be to upsample the miniorty class (not recommended items). However, we already have a Logistic Regression Classifer that is performing at roughly the same mean F1 score and prediciting correctly at 89%. Additionally, Logistic Regression Classifier has more True Positive and True Negative values. On another note, similarly to Bernoulli NB, Logistic Regression is an interpretable model which allows us to extract the words with the highest log odds. Nonetheless, I will compare the feature importances from both these interpertable models.   "
   ]
  },
  {
   "cell_type": "markdown",
   "metadata": {},
   "source": [
    "# Support Vector Classifier Baseline"
   ]
  },
  {
   "cell_type": "code",
   "execution_count": 32,
   "metadata": {},
   "outputs": [],
   "source": [
    "from sklearn.svm import SVC"
   ]
  },
  {
   "cell_type": "code",
   "execution_count": 33,
   "metadata": {},
   "outputs": [
    {
     "data": {
      "text/plain": [
       "SVC()"
      ]
     },
     "execution_count": 33,
     "metadata": {},
     "output_type": "execute_result"
    }
   ],
   "source": [
    "clf_svc = SVC()\n",
    "clf_svc.fit(X_train, y_train)"
   ]
  },
  {
   "cell_type": "code",
   "execution_count": 34,
   "metadata": {
    "scrolled": false
   },
   "outputs": [
    {
     "name": "stdout",
     "output_type": "stream",
     "text": [
      "Evaluation Metrics:\n",
      "Accuracy: 0.7565217391304347\n",
      "Precision: 0.7565217391304347\n",
      "Recall: 1.0\n",
      "F1: 0.8613861386138613\n",
      "None\n",
      "------------------------------------------------------------\n",
      "Cross-Validation F1 Scores: [0.8427673  0.8427673  0.83544304 0.83544304 0.83544304 0.83544304\n",
      " 0.83544304 0.83544304 0.83544304 0.84076433]\n",
      "Mean F1 Scores:  0.83744\n",
      "Standard Deviation: 0.00309\n",
      "------------------------------------------------------------\n"
     ]
    },
    {
     "data": {
      "image/png": "[encoded data removed]",
      "text/plain": [
       "<Figure size 432x288 with 2 Axes>"
      ]
     },
     "metadata": {
      "needs_background": "light"
     },
     "output_type": "display_data"
    }
   ],
   "source": [
    "y_pred_rbf = clf_svc.predict(X_test)\n",
    "print(model_metrics(y_test, y_pred_rbf))\n",
    "print(\"-\"*60)\n",
    "cross_validation(clf_svc, X_train, y_train, cv=10)\n",
    "print(\"-\"*60)\n",
    "con_mat(y_test, y_pred_rbf, title=\"SVC Baseline\")"
   ]
  },
  {
   "cell_type": "markdown",
   "metadata": {},
   "source": [
    "Baseline for Support Vector Classifier leans very heavily towards the majority class. This model definitely needs tuning. Adding class_weight='balanced' should resolve this issue. "
   ]
  },
  {
   "cell_type": "code",
   "execution_count": 35,
   "metadata": {},
   "outputs": [
    {
     "data": {
      "text/plain": [
       "SVC(class_weight='balanced')"
      ]
     },
     "execution_count": 35,
     "metadata": {},
     "output_type": "execute_result"
    }
   ],
   "source": [
    "clf_svc2 = SVC(class_weight=\"balanced\")\n",
    "clf_svc2.fit(X_train, y_train)"
   ]
  },
  {
   "cell_type": "code",
   "execution_count": 36,
   "metadata": {},
   "outputs": [
    {
     "name": "stdout",
     "output_type": "stream",
     "text": [
      "Evaluation Metrics:\n",
      "Accuracy: 0.7347826086956522\n",
      "Precision: 0.7810945273631841\n",
      "Recall: 0.9022988505747126\n",
      "F1: 0.8373333333333333\n",
      "None\n",
      "------------------------------------------------------------\n",
      "Cross-Validation F1 Scores: [0.85714286 0.85714286 0.84768212 0.80821918 0.79432624 0.83116883\n",
      " 0.80263158 0.78378378 0.80536913 0.78911565]\n",
      "Mean F1 Scores:  0.81766\n",
      "Standard Deviation: 0.02679\n",
      "------------------------------------------------------------\n"
     ]
    },
    {
     "data": {
      "image/png": "[encoded data removed]",
      "text/plain": [
       "<Figure size 432x288 with 2 Axes>"
      ]
     },
     "metadata": {
      "needs_background": "light"
     },
     "output_type": "display_data"
    }
   ],
   "source": [
    "y_pred_svc2 = clf_svc2.predict(X_test)\n",
    "print(model_metrics(y_test, y_pred_svc2))\n",
    "print(\"-\"*60)\n",
    "cross_validation(clf_svc2, X_train, y_train, cv=10)\n",
    "print(\"-\"*60)\n",
    "con_mat(y_test, y_pred_svc2, title=\"SVC Tuned\")"
   ]
  },
  {
   "cell_type": "markdown",
   "metadata": {},
   "source": [
    "Class_wight=\"balanced\" does help but we have a low amount of True Negatives. The Flase positive and Flase negative rates are higher. I believe the model is having a hard time finding the right support vectors to make the classification. This could be because there are words that exisit in both recommended items and non recommended. This is why Text classification is really difficult. But perhaps changing additional parameters might do better. "
   ]
  },
  {
   "cell_type": "markdown",
   "metadata": {},
   "source": [
    "# GridSearchCV with SVC"
   ]
  },
  {
   "cell_type": "code",
   "execution_count": 37,
   "metadata": {},
   "outputs": [
    {
     "name": "stdout",
     "output_type": "stream",
     "text": [
      "Fitting 5 folds for each of 60 candidates, totalling 300 fits\n"
     ]
    },
    {
     "name": "stderr",
     "output_type": "stream",
     "text": [
      "[Parallel(n_jobs=-1)]: Using backend LokyBackend with 8 concurrent workers.\n",
      "[Parallel(n_jobs=-1)]: Done  25 tasks      | elapsed:   11.6s\n",
      "[Parallel(n_jobs=-1)]: Done 146 tasks      | elapsed:   49.6s\n",
      "[Parallel(n_jobs=-1)]: Done 300 out of 300 | elapsed:  1.6min finished\n"
     ]
    },
    {
     "name": "stdout",
     "output_type": "stream",
     "text": [
      "Evaluation Metrics:\n",
      "Accuracy: 0.7304347826086957\n",
      "Precision: 0.8146067415730337\n",
      "Recall: 0.8333333333333334\n",
      "F1: 0.8238636363636364\n",
      "None\n",
      "------------------------------------------------------------\n"
     ]
    },
    {
     "data": {
      "image/png": "[encoded data removed]",
      "text/plain": [
       "<Figure size 432x288 with 2 Axes>"
      ]
     },
     "metadata": {
      "needs_background": "light"
     },
     "output_type": "display_data"
    },
    {
     "name": "stdout",
     "output_type": "stream",
     "text": [
      "------------------------------------------------------------\n",
      "{'C': 1000, 'gamma': 0.001, 'kernel': 'rbf'}\n"
     ]
    }
   ],
   "source": [
    "svc3 = SVC(class_weight=\"balanced\", random_state=0)\n",
    "param_grid = {'C': [0.1, 1, 10, 100, 1000],  \n",
    "              'gamma': [10, 1, 0.1, 0.01, 0.001, 0.0001], \n",
    "              'kernel': ['rbf', 'sigmoid']}\n",
    "grid_svc = GridSearchCV(svc3, param_grid, refit = True, verbose = 2, n_jobs=-1)\n",
    "grid_svc.fit(X_train, y_train) \n",
    "\n",
    "\n",
    "grid_svc_pred = grid_svc.predict(X_test)\n",
    "print(model_metrics(y_test, grid_svc_pred))\n",
    "print(\"-\"*60)\n",
    "con_mat(y_test, grid_svc_pred, title=\"Grid Search SVC\")\n",
    "\n",
    "print(\"-\"*60)\n",
    "print(grid_svc.best_params_)"
   ]
  },
  {
   "cell_type": "markdown",
   "metadata": {},
   "source": [
    "GridSearchCV results in a recall of 1.0. This demonstrates that tuning parameters that I selected had no effect. This is really interesting since calling no parameters and relying on the default did a better job. I would have to tweak with the parameters a lot. For now lets move on. "
   ]
  },
  {
   "cell_type": "markdown",
   "metadata": {},
   "source": [
    "# Random Forest Classifier Baseline"
   ]
  },
  {
   "cell_type": "code",
   "execution_count": 38,
   "metadata": {},
   "outputs": [],
   "source": [
    "rfc_classifier = RandomForestClassifier()"
   ]
  },
  {
   "cell_type": "code",
   "execution_count": 39,
   "metadata": {},
   "outputs": [
    {
     "name": "stdout",
     "output_type": "stream",
     "text": [
      "------------------------------------------------------------\n",
      "Evaluation Metrics:\n",
      "Accuracy: 0.808695652173913\n",
      "Precision: 0.8066037735849056\n",
      "Recall: 0.9827586206896551\n",
      "F1: 0.8860103626943006\n",
      "None\n",
      "------------------------------------------------------------\n",
      "Cross-Validation F1 Scores: [0.84       0.85333333 0.83870968 0.87837838 0.83660131 0.85714286\n",
      " 0.84563758 0.82352941 0.85333333 0.87248322]\n",
      "Mean F1 Scores:  0.84991\n",
      "Standard Deviation: 0.01585\n",
      "------------------------------------------------------------\n"
     ]
    },
    {
     "data": {
      "image/png": "[encoded data removed]",
      "text/plain": [
       "<Figure size 432x288 with 2 Axes>"
      ]
     },
     "metadata": {
      "needs_background": "light"
     },
     "output_type": "display_data"
    }
   ],
   "source": [
    "rfc_classifier.fit(X_train, y_train)\n",
    "y_pred_RF = rfc_classifier.predict(X_test)\n",
    "print(\"-\"*60)\n",
    "print(model_metrics(y_test, y_pred_RF))\n",
    "print(\"-\"*60)\n",
    "cross_validation(rfc_classifier, X_train, y_train, cv=10)\n",
    "print(\"-\"*60)\n",
    "con_mat(y_test, y_pred_RF, title=\"Random Forest Baseline\")"
   ]
  },
  {
   "cell_type": "markdown",
   "metadata": {},
   "source": [
    "The Baseline Random Forest performs similarly to other baseline models. The Majority class out is casuing the model to predict most observations as Recommended. However, we notice a decent F1 score of 0.85 and this is again because of the high recall score. Therefore, we must enter class_weight=\"balanced\". "
   ]
  },
  {
   "cell_type": "markdown",
   "metadata": {},
   "source": [
    "# Random Forest Classifier with Tuning"
   ]
  },
  {
   "cell_type": "code",
   "execution_count": 40,
   "metadata": {},
   "outputs": [
    {
     "name": "stdout",
     "output_type": "stream",
     "text": [
      "------------------------------------------------------------\n",
      "Evaluation Metrics:\n",
      "Accuracy: 0.808695652173913\n",
      "Precision: 0.8095238095238095\n",
      "Recall: 0.9770114942528736\n",
      "F1: 0.8854166666666666\n",
      "None\n",
      "------------------------------------------------------------\n",
      "Cross-Validation F1 Scores: [0.85526316 0.81879195 0.84615385 0.8590604  0.84415584 0.87837838\n",
      " 0.84563758 0.84415584 0.86666667 0.86666667]\n",
      "Mean F1 Scores:  0.85249\n",
      "Standard Deviation: 0.01576\n",
      "------------------------------------------------------------\n"
     ]
    },
    {
     "data": {
      "image/png": "[encoded data removed]",
      "text/plain": [
       "<Figure size 432x288 with 2 Axes>"
      ]
     },
     "metadata": {
      "needs_background": "light"
     },
     "output_type": "display_data"
    }
   ],
   "source": [
    "rfc_classifier2 = RandomForestClassifier(n_estimators = 300, criterion = \"entropy\", random_state = 0, class_weight=\"balanced\")\n",
    "rfc_classifier2.fit(X_train, y_train)\n",
    "y_pred_RF2 = rfc_classifier2.predict(X_test)\n",
    "print(\"-\"*60)\n",
    "print(model_metrics(y_test, y_pred_RF2))\n",
    "print(\"-\"*60)\n",
    "cross_validation(rfc_classifier2, X_train, y_train, cv=10)\n",
    "print(\"-\"*60)\n",
    "con_mat(y_test, y_pred_RF2, title=\"Random Forest Tuned\")"
   ]
  },
  {
   "cell_type": "markdown",
   "metadata": {},
   "source": [
    "Light tuning of the Random Forest Model did not help much. We have a decent F1 score but that is due to the high recall score. Since most items are recommended items, it would predict correctly more often than not. GridSeachCV with Random Forest should help us select the best parameters. "
   ]
  },
  {
   "cell_type": "markdown",
   "metadata": {},
   "source": [
    "# GridSearchCV with Random Forest Classifier"
   ]
  },
  {
   "cell_type": "code",
   "execution_count": 41,
   "metadata": {},
   "outputs": [
    {
     "name": "stdout",
     "output_type": "stream",
     "text": [
      "Fitting 5 folds for each of 486 candidates, totalling 2430 fits\n"
     ]
    },
    {
     "name": "stderr",
     "output_type": "stream",
     "text": [
      "[Parallel(n_jobs=-1)]: Using backend LokyBackend with 8 concurrent workers.\n",
      "[Parallel(n_jobs=-1)]: Done  25 tasks      | elapsed:    5.9s\n",
      "[Parallel(n_jobs=-1)]: Done 146 tasks      | elapsed:   30.5s\n",
      "[Parallel(n_jobs=-1)]: Done 349 tasks      | elapsed:  1.2min\n",
      "[Parallel(n_jobs=-1)]: Done 632 tasks      | elapsed:  2.1min\n",
      "[Parallel(n_jobs=-1)]: Done 997 tasks      | elapsed:  3.5min\n",
      "[Parallel(n_jobs=-1)]: Done 1442 tasks      | elapsed:  5.2min\n",
      "[Parallel(n_jobs=-1)]: Done 1969 tasks      | elapsed:  7.5min\n",
      "[Parallel(n_jobs=-1)]: Done 2430 out of 2430 | elapsed:  9.5min finished\n",
      "[Parallel(n_jobs=-1)]: Using backend ThreadingBackend with 8 concurrent workers.\n",
      "[Parallel(n_jobs=-1)]: Done  34 tasks      | elapsed:    0.1s\n",
      "[Parallel(n_jobs=-1)]: Done 184 tasks      | elapsed:    0.3s\n",
      "[Parallel(n_jobs=-1)]: Done 300 out of 300 | elapsed:    0.4s finished\n",
      "[Parallel(n_jobs=8)]: Using backend ThreadingBackend with 8 concurrent workers.\n",
      "[Parallel(n_jobs=8)]: Done  34 tasks      | elapsed:    0.0s\n",
      "[Parallel(n_jobs=8)]: Done 184 tasks      | elapsed:    0.0s\n",
      "[Parallel(n_jobs=8)]: Done 300 out of 300 | elapsed:    0.1s finished\n"
     ]
    },
    {
     "name": "stdout",
     "output_type": "stream",
     "text": [
      "------------------------------------------------------------\n",
      "Evaluation Metrics:\n",
      "Accuracy: 0.8304347826086956\n",
      "Precision: 0.8688524590163934\n",
      "Recall: 0.9137931034482759\n",
      "F1: 0.8907563025210085\n",
      "None\n",
      "------------------------------------------------------------\n"
     ]
    },
    {
     "data": {
      "image/png": "[encoded data removed]",
      "text/plain": [
       "<Figure size 432x288 with 2 Axes>"
      ]
     },
     "metadata": {
      "needs_background": "light"
     },
     "output_type": "display_data"
    },
    {
     "name": "stdout",
     "output_type": "stream",
     "text": [
      "------------------------------------------------------------\n",
      "{'max_depth': 3, 'max_leaf_nodes': 6, 'min_samples_leaf': 4}\n",
      "------------------------------------------------------------\n",
      "The best performing hyperparameters for GridSeachCV using Random Forest is the following: RandomForestClassifier(class_weight='balanced', criterion='entropy',\n",
      "                       max_depth=3, max_leaf_nodes=6, min_samples_leaf=4,\n",
      "                       n_estimators=300, n_jobs=-1, random_state=0, verbose=1). Resulting in a F1 score of 0.8907563025210085\n"
     ]
    }
   ],
   "source": [
    "rfc = RandomForestClassifier(n_estimators = 300, criterion = \"entropy\",\n",
    "                             random_state = 0, verbose=1, n_jobs=-1, class_weight=\"balanced\")\n",
    "\n",
    "param_dict={'min_samples_leaf':range(1,10,1), 'max_depth': range(1,10,1), \"max_leaf_nodes\":range(5,11,1)}\n",
    "\n",
    "grid_tree = GridSearchCV(rfc, param_dict, cv=5, scoring=\"f1\", verbose=2, n_jobs=-1)\n",
    "grid_tree.fit(X_train, y_train)\n",
    "\n",
    "grid_tree_pred = grid_tree.predict(X_test)\n",
    "\n",
    "print(\"-\"*60)\n",
    "print(model_metrics(y_test, grid_tree_pred))\n",
    "print(\"-\"*60)\n",
    "con_mat(y_test, grid_tree_pred, title=\"GridSearch Random Forest\")\n",
    "\n",
    "print(\"-\"*60)\n",
    "print(grid_tree.best_params_)\n",
    "print(\"-\"*60)\n",
    "print(f\"The best performing hyperparameters for GridSeachCV using Random Forest is the following: {grid_tree.best_estimator_}. Resulting in a F1 score of {metrics.f1_score(y_test, grid_tree_pred)}\")"
   ]
  },
  {
   "cell_type": "markdown",
   "metadata": {},
   "source": [
    "Initially, the Random Forest with class_weight = \"balance\" did not seem effective. The confusion matrix demonstrated not enough True Negatives being selected like Logistic Regression. However, in the GridSeachCV with Random Forest, the additional parameters did really well to indentify some of the True Negatives. \n",
    "\n",
    "The optimal parameters selected by GridSearch increased the overall F1 score and precision rate. It also does a better job classifing the True Negative and True Positives.\n",
    "\n",
    "Nonetheless, since the range for the max_leaf_nodes ends at 10 and the best parameter is said to be 10, I need to increase the range to investigate what the optimal max_leaf_nodes is. Additionally, since the best max_depth and min_samples_leaf were selected, I will just add them to the Random Forest Classifier to reduce the run time. "
   ]
  },
  {
   "cell_type": "markdown",
   "metadata": {},
   "source": [
    "# GridSearchCV with Random Forest Classifier 2.0"
   ]
  },
  {
   "cell_type": "code",
   "execution_count": 42,
   "metadata": {},
   "outputs": [
    {
     "name": "stdout",
     "output_type": "stream",
     "text": [
      "Fitting 5 folds for each of 6 candidates, totalling 30 fits\n"
     ]
    },
    {
     "name": "stderr",
     "output_type": "stream",
     "text": [
      "[Parallel(n_jobs=-1)]: Using backend LokyBackend with 8 concurrent workers.\n",
      "[Parallel(n_jobs=-1)]: Done  30 out of  30 | elapsed:    9.4s finished\n",
      "[Parallel(n_jobs=-1)]: Using backend ThreadingBackend with 8 concurrent workers.\n",
      "[Parallel(n_jobs=-1)]: Done  34 tasks      | elapsed:    0.1s\n",
      "[Parallel(n_jobs=-1)]: Done 184 tasks      | elapsed:    0.3s\n",
      "[Parallel(n_jobs=-1)]: Done 300 out of 300 | elapsed:    0.4s finished\n",
      "[Parallel(n_jobs=8)]: Using backend ThreadingBackend with 8 concurrent workers.\n",
      "[Parallel(n_jobs=8)]: Done  34 tasks      | elapsed:    0.0s\n",
      "[Parallel(n_jobs=8)]: Done 184 tasks      | elapsed:    0.0s\n",
      "[Parallel(n_jobs=8)]: Done 300 out of 300 | elapsed:    0.1s finished\n"
     ]
    },
    {
     "name": "stdout",
     "output_type": "stream",
     "text": [
      "------------------------------------------------------------\n",
      "Evaluation Metrics:\n",
      "Accuracy: 0.8130434782608695\n",
      "Precision: 0.861878453038674\n",
      "Recall: 0.896551724137931\n",
      "F1: 0.8788732394366197\n",
      "None\n",
      "------------------------------------------------------------\n"
     ]
    },
    {
     "data": {
      "image/png": "[encoded data removed]",
      "text/plain": [
       "<Figure size 432x288 with 2 Axes>"
      ]
     },
     "metadata": {
      "needs_background": "light"
     },
     "output_type": "display_data"
    },
    {
     "name": "stdout",
     "output_type": "stream",
     "text": [
      "------------------------------------------------------------\n",
      "{'max_leaf_nodes': 14}\n",
      "------------------------------------------------------------\n",
      "[0.0089658  0.00434822 0.00043447 ... 0.00036733 0.         0.00023407]\n",
      "------------------------------------------------------------\n",
      "The best performing hyperparameters for GridSeachCV using Random Forest is the following: RandomForestClassifier(class_weight='balanced', criterion='entropy',\n",
      "                       max_depth=8, max_leaf_nodes=14, min_samples_leaf=4,\n",
      "                       n_estimators=300, n_jobs=-1, random_state=0, verbose=1). Resulting in a F1 score of 0.8788732394366197\n"
     ]
    }
   ],
   "source": [
    "rfc2 = RandomForestClassifier(n_estimators = 300, criterion = \"entropy\",\n",
    "                             random_state = 0, verbose=1, n_jobs=-1, class_weight=\"balanced\",\n",
    "                            min_samples_leaf = 4, max_depth = 8)\n",
    "\n",
    "param_dict2={\"max_leaf_nodes\":range(9,15,1)}\n",
    "\n",
    "grid_tree2 = GridSearchCV(rfc2, param_dict2, cv=5, scoring=\"f1\", verbose=2, n_jobs=-1)\n",
    "grid_tree2.fit(X_train, y_train)\n",
    "\n",
    "grid_tree_pred2 = grid_tree2.predict(X_test)\n",
    "\n",
    "print(\"-\"*60)\n",
    "print(model_metrics(y_test, grid_tree_pred2))\n",
    "print(\"-\"*60)\n",
    "con_mat(y_test, grid_tree_pred2, title=\"Grid Search Random Forest 2.0\")\n",
    "print(\"-\"*60)\n",
    "print(grid_tree2.best_params_)\n",
    "print(\"-\"*60)\n",
    "print(grid_tree2.best_estimator_.feature_importances_)\n",
    "print(\"-\"*60)\n",
    "print(f\"The best performing hyperparameters for GridSeachCV using Random Forest is the following: {grid_tree2.best_estimator_}. Resulting in a F1 score of {metrics.f1_score(y_test, grid_tree_pred2)}\")"
   ]
  },
  {
   "cell_type": "markdown",
   "metadata": {},
   "source": [
    "The model suggests the best max_leaf_nodes is 14, the new max that I had set. I have a feeling that the node was to be as pure as possible.  I will run one more Random Forest without setting any max_leaf_nodes to see the score. "
   ]
  },
  {
   "cell_type": "code",
   "execution_count": 43,
   "metadata": {},
   "outputs": [
    {
     "name": "stderr",
     "output_type": "stream",
     "text": [
      "[Parallel(n_jobs=-1)]: Using backend ThreadingBackend with 8 concurrent workers.\n",
      "[Parallel(n_jobs=-1)]: Done  34 tasks      | elapsed:    0.1s\n",
      "[Parallel(n_jobs=-1)]: Done 184 tasks      | elapsed:    0.3s\n",
      "[Parallel(n_jobs=-1)]: Done 300 out of 300 | elapsed:    0.4s finished\n"
     ]
    },
    {
     "name": "stdout",
     "output_type": "stream",
     "text": [
      "------------------------------------------------------------\n",
      "Evaluation Metrics:\n",
      "Accuracy: 0.808695652173913\n",
      "Precision: 0.8095238095238095\n",
      "Recall: 0.9770114942528736\n",
      "F1: 0.8854166666666666\n",
      "None\n",
      "------------------------------------------------------------\n",
      "Cross-Validation F1 Scores: [0.83098592 0.78873239 0.82269504 0.84892086 0.82191781 0.85925926\n",
      " 0.82857143 0.875      0.89655172 0.87323944]\n",
      "Mean F1 Scores:  0.84459\n",
      "Standard Deviation: 0.03039\n",
      "------------------------------------------------------------\n"
     ]
    },
    {
     "data": {
      "image/png": "[encoded data removed]",
      "text/plain": [
       "<Figure size 432x288 with 2 Axes>"
      ]
     },
     "metadata": {
      "needs_background": "light"
     },
     "output_type": "display_data"
    }
   ],
   "source": [
    "rfc_classifier3 = RandomForestClassifier(n_estimators = 300, criterion = \"entropy\",\n",
    "                             random_state = 0, verbose=1, n_jobs=-1, class_weight=\"balanced\",\n",
    "                            min_samples_leaf = 4, max_depth = 8)\n",
    "rfc_classifier3.fit(X_train, y_train)\n",
    "y_pred_RF3 = rfc_classifier2.predict(X_test)\n",
    "print(\"-\"*60)\n",
    "print(model_metrics(y_test, y_pred_RF3))\n",
    "print(\"-\"*60)\n",
    "cross_validation(rfc_classifier3, X_train, y_train, cv=10)\n",
    "print(\"-\"*60)\n",
    "con_mat(y_test, y_pred_RF3, title=\"Random Forest Tuned 2.0\")"
   ]
  },
  {
   "cell_type": "markdown",
   "metadata": {},
   "source": [
    "When I do not set any max_lead_nodes parameter, it runs until all nodes have recuded impurity. This seems to return similar results to the second iteration of Random Forest. Therefore, I believe the max_leaf_nodes have to be set. Hence the best Random Forest model will be the GridSearchCV with Random Forest Classifier 2.0.   "
   ]
  },
  {
   "cell_type": "markdown",
   "metadata": {},
   "source": [
    "# All scores are cross validated"
   ]
  },
  {
   "cell_type": "code",
   "execution_count": 44,
   "metadata": {
    "scrolled": false
   },
   "outputs": [
    {
     "name": "stdout",
     "output_type": "stream",
     "text": [
      "Logistic Regression:\n",
      "Logistic Regression Baseline F1 score is: 0.8929503916449086\n",
      "Logistic Regression 2.0 F1 score is: 0.8209876543209876\n",
      "GridSearchCV w/ Logistic Regression F1 score is: 0.8012618296529969\n",
      "Logistic Regression 3.0 F1 score is: 0.8012618296529969\n",
      "============================================================\n",
      "Bernoulli NB:\n",
      "BernoulliNB Baseline F1 score is: 0.8571428571428572\n",
      "BernoulliNB 2.0 F1 score is: 0.8604651162790696\n",
      "============================================================\n",
      "Support Vector Classifier:\n",
      "SVC Baseline F1 score is: 0.8613861386138613\n",
      "SVC 2.0 F1 score is: 0.8373333333333333\n",
      "GridSearchCV w/ Support Vector Classifier F1 score is: 0.8238636363636364\n",
      "============================================================\n",
      "Random Forest:\n",
      "Random Forest Baseline F1 score is: 0.8860103626943006\n",
      "Random Forest 2.0 F1 score is: 0.8854166666666666\n",
      "GridSearchCV w/ Random Forest F1 score is: 0.8907563025210085\n",
      "GridSearchCV w/ Random Forest 2.0 F1 score is: 0.8788732394366197\n",
      "Random Forest 3.0 F1 score is: 0.8854166666666666\n"
     ]
    }
   ],
   "source": [
    "print(\"Logistic Regression:\")\n",
    "print(\"Logistic Regression Baseline F1 score is:\", metrics.f1_score(y_test, y_pred_lr))\n",
    "print(\"Logistic Regression 2.0 F1 score is:\", metrics.f1_score(y_test, y_pred_lr2))\n",
    "print(\"GridSearchCV w/ Logistic Regression F1 score is:\", metrics.f1_score(y_test, grid_log_pred))\n",
    "print(\"Logistic Regression 3.0 F1 score is:\", metrics.f1_score(y_test, y_pred_lr3))\n",
    "print(\"=\"*60)\n",
    "print(\"Bernoulli NB:\")\n",
    "print(\"BernoulliNB Baseline F1 score is:\", metrics.f1_score(y_test, y_pred_Bnb))\n",
    "print(\"BernoulliNB 2.0 F1 score is:\", metrics.f1_score(y_test, y_pred_Bnb2))\n",
    "print(\"=\"*60)\n",
    "print(\"Support Vector Classifier:\")\n",
    "print(\"SVC Baseline F1 score is:\", metrics.f1_score(y_test, y_pred_rbf))\n",
    "print(\"SVC 2.0 F1 score is:\", metrics.f1_score(y_test, y_pred_svc2))\n",
    "print(\"GridSearchCV w/ Support Vector Classifier F1 score is:\", metrics.f1_score(y_test, grid_svc_pred))\n",
    "print(\"=\"*60)\n",
    "print(\"Random Forest:\")\n",
    "print(\"Random Forest Baseline F1 score is:\", metrics.f1_score(y_test, y_pred_RF))\n",
    "print(\"Random Forest 2.0 F1 score is:\", metrics.f1_score(y_test, y_pred_RF2))\n",
    "print(\"GridSearchCV w/ Random Forest F1 score is:\", metrics.f1_score(y_test, grid_tree_pred))\n",
    "print(\"GridSearchCV w/ Random Forest 2.0 F1 score is:\", metrics.f1_score(y_test, grid_tree_pred2))\n",
    "print(\"Random Forest 3.0 F1 score is:\", metrics.f1_score(y_test, y_pred_RF3))"
   ]
  },
  {
   "cell_type": "markdown",
   "metadata": {},
   "source": [
    "The top three models that performed the best are RandomForest, Bernoulli Naive Bayes and Logistic Regression. I will use the GridSearch with Logistic Regression and RandomForest to see what the best parameters are and how the score changes. "
   ]
  },
  {
   "cell_type": "markdown",
   "metadata": {},
   "source": [
    "Interesting! RandomForest performed better than GridSearchCV with RandomForest. I will extract the feature importance from this to see how it comapres with Logistic Regression coefficients. "
   ]
  },
  {
   "cell_type": "markdown",
   "metadata": {},
   "source": [
    "# Overall Scores using TFIDF"
   ]
  },
  {
   "cell_type": "code",
   "execution_count": 78,
   "metadata": {},
   "outputs": [
    {
     "data": {
      "image/png": "[encoded data removed]",
      "text/plain": [
       "<Figure size 864x576 with 1 Axes>"
      ]
     },
     "metadata": {
      "needs_background": "light"
     },
     "output_type": "display_data"
    }
   ],
   "source": [
    "from matplotlib.ticker import FormatStrFormatter\n",
    "fig, ax = plt.subplots(figsize=(12,8))\n",
    "x = [\"Logistic\", \"Bernoulli\", \"RandomForest\", \"GSRF\", \"GSLR\"]\n",
    "y = [metrics.f1_score(y_test, y_pred_lr2), metrics.f1_score(y_test, y_pred_Bnb2), \n",
    "     metrics.f1_score(y_test, y_pred_RF2), metrics.f1_score(y_test, grid_tree_pred),\n",
    "     metrics.f1_score(y_test, grid_log_pred)]\n",
    "sns.barplot(x=x, y=y)\n",
    "ax.yaxis.set_major_formatter(FormatStrFormatter('%.2f'))\n",
    "plt.ylabel(\"F1 Score\", fontsize=15)\n",
    "plt.xlabel(\"Classifier\", fontsize=15)\n",
    "plt.title(\"F1 Score per Classifier\", fontsize=25)\n",
    "plt.savefig(\"../images/f1score\", bbox_inches = \"tight\");"
   ]
  },
  {
   "cell_type": "markdown",
   "metadata": {},
   "source": [
    "The Logistic Regression and GridSearch with Logistic Regression provides the same score. \n",
    "Second place with a very thin difference is Random Forest. Surprisingly, the GridSearch with Random Forest resulted in a worse score than a regualr Random Forest. "
   ]
  },
  {
   "cell_type": "markdown",
   "metadata": {},
   "source": [
    "# Feature Importances"
   ]
  },
  {
   "cell_type": "markdown",
   "metadata": {},
   "source": [
    "### Feature Importance from Logistic Regression"
   ]
  },
  {
   "cell_type": "code",
   "execution_count": 47,
   "metadata": {},
   "outputs": [],
   "source": [
    "def get_coef_name(fit_model, df):\n",
    "    temp = (list(zip(fit_model.coef_[0], df.columns)))\n",
    "    return sorted(temp,key = lambda x: x[0], reverse=True)"
   ]
  },
  {
   "cell_type": "code",
   "execution_count": 48,
   "metadata": {},
   "outputs": [],
   "source": [
    "B_nb_coef=pd.DataFrame(get_coef_name(B_nb2, X_train), columns = [\"coefficient\", \"feature\"])"
   ]
  },
  {
   "cell_type": "code",
   "execution_count": 49,
   "metadata": {},
   "outputs": [
    {
     "data": {
      "text/html": [
       "<div>\n",
       "<style scoped>\n",
       "    .dataframe tbody tr th:only-of-type {\n",
       "        vertical-align: middle;\n",
       "    }\n",
       "\n",
       "    .dataframe tbody tr th {\n",
       "        vertical-align: top;\n",
       "    }\n",
       "\n",
       "    .dataframe thead th {\n",
       "        text-align: right;\n",
       "    }\n",
       "</style>\n",
       "<table border=\"1\" class=\"dataframe\">\n",
       "  <thead>\n",
       "    <tr style=\"text-align: right;\">\n",
       "      <th></th>\n",
       "      <th>coefficient</th>\n",
       "      <th>feature</th>\n",
       "    </tr>\n",
       "  </thead>\n",
       "  <tbody>\n",
       "    <tr>\n",
       "      <th>0</th>\n",
       "      <td>-0.000754</td>\n",
       "      <td>price</td>\n",
       "    </tr>\n",
       "    <tr>\n",
       "      <th>1</th>\n",
       "      <td>-0.000754</td>\n",
       "      <td>num_rating</td>\n",
       "    </tr>\n",
       "    <tr>\n",
       "      <th>2</th>\n",
       "      <td>-0.000754</td>\n",
       "      <td>topic6</td>\n",
       "    </tr>\n",
       "    <tr>\n",
       "      <th>3</th>\n",
       "      <td>-0.196907</td>\n",
       "      <td>love</td>\n",
       "    </tr>\n",
       "    <tr>\n",
       "      <th>4</th>\n",
       "      <td>-0.221072</td>\n",
       "      <td>fit</td>\n",
       "    </tr>\n",
       "    <tr>\n",
       "      <th>5</th>\n",
       "      <td>-0.261384</td>\n",
       "      <td>size</td>\n",
       "    </tr>\n",
       "    <tr>\n",
       "      <th>6</th>\n",
       "      <td>-0.353663</td>\n",
       "      <td>like</td>\n",
       "    </tr>\n",
       "    <tr>\n",
       "      <th>7</th>\n",
       "      <td>-0.402077</td>\n",
       "      <td>good</td>\n",
       "    </tr>\n",
       "  </tbody>\n",
       "</table>\n",
       "</div>"
      ],
      "text/plain": [
       "   coefficient     feature\n",
       "0    -0.000754       price\n",
       "1    -0.000754  num_rating\n",
       "2    -0.000754      topic6\n",
       "3    -0.196907        love\n",
       "4    -0.221072         fit\n",
       "5    -0.261384        size\n",
       "6    -0.353663        like\n",
       "7    -0.402077        good"
      ]
     },
     "execution_count": 49,
     "metadata": {},
     "output_type": "execute_result"
    }
   ],
   "source": [
    "B_nb_coef.head(8)"
   ]
  },
  {
   "cell_type": "code",
   "execution_count": 61,
   "metadata": {},
   "outputs": [],
   "source": [
    "B_nb_top5_coef = pd.concat([B_nb_coef.head(8),B_nb_coef.tail(8)])"
   ]
  },
  {
   "cell_type": "code",
   "execution_count": 62,
   "metadata": {},
   "outputs": [
    {
     "data": {
      "image/png": "[encoded data removed]",
      "text/plain": [
       "<Figure size 1296x576 with 1 Axes>"
      ]
     },
     "metadata": {
      "needs_background": "light"
     },
     "output_type": "display_data"
    }
   ],
   "source": [
    "fig, ax = plt.subplots(figsize = (18,8))\n",
    "sns.barplot(x = B_nb_top5_coef.feature, y=B_nb_top5_coef.coefficient)\n",
    "plt.title(\"Top and Bottom B_nb Features\", fontsize=35)\n",
    "plt.xlabel(\"Features\", fontsize=25)\n",
    "plt.xticks(rotation=90)\n",
    "ax.tick_params(axis='both', which='major', labelsize=15)\n",
    "plt.ylabel(\"Log(odds)\", fontsize=30);\n",
    "plt.savefig(\"../images/log_coef_feats\", bbox_inches = \"tight\");"
   ]
  },
  {
   "cell_type": "code",
   "execution_count": 63,
   "metadata": {},
   "outputs": [],
   "source": [
    "log_reg_coef=pd.DataFrame(get_coef_name(logreg_clf3, X_train), columns = [\"coefficient\", \"feature\"])"
   ]
  },
  {
   "cell_type": "code",
   "execution_count": 64,
   "metadata": {},
   "outputs": [],
   "source": [
    "# top 5 (positive) and Bottom 5 (negative) gives you the 5 most positve and 5 most negative values. \n",
    "top5_coef = pd.concat([log_reg_coef.head(10),log_reg_coef.tail(10)])"
   ]
  },
  {
   "cell_type": "code",
   "execution_count": 79,
   "metadata": {},
   "outputs": [
    {
     "data": {
      "image/png": "[encoded data removed]",
      "text/plain": [
       "<Figure size 1296x576 with 1 Axes>"
      ]
     },
     "metadata": {
      "needs_background": "light"
     },
     "output_type": "display_data"
    }
   ],
   "source": [
    "fig, ax = plt.subplots(figsize = (18,8))\n",
    "sns.barplot(x = top5_coef.feature, y=top5_coef.coefficient)\n",
    "plt.title(\"Top 10 and Bottom 10 Features\", fontsize=35)\n",
    "plt.xlabel(\"Features\", fontsize=25)\n",
    "plt.xticks(rotation=15)\n",
    "ax.tick_params(axis='both', which='major', labelsize=15, rotation=90)\n",
    "plt.ylabel(\"Log(odds)\", fontsize=30);\n",
    "plt.savefig(\"../images/log_coef_feats\", bbox_inches = \"tight\");"
   ]
  },
  {
   "cell_type": "markdown",
   "metadata": {},
   "source": [
    "### Feature Importance from Random Forest"
   ]
  },
  {
   "cell_type": "code",
   "execution_count": 66,
   "metadata": {},
   "outputs": [],
   "source": [
    "def get_feats_name(fit_model, df):\n",
    "    temp = (list(zip(fit_model.best_estimator_.feature_importances_, df.columns)))\n",
    "    return sorted(temp,key = lambda x: x[0], reverse=True)"
   ]
  },
  {
   "cell_type": "code",
   "execution_count": 67,
   "metadata": {},
   "outputs": [],
   "source": [
    "grid_tree_feats=pd.DataFrame(get_feats_name(grid_tree2, X_train), columns = [\"importance\", \"feature\"])"
   ]
  },
  {
   "cell_type": "code",
   "execution_count": 68,
   "metadata": {},
   "outputs": [],
   "source": [
    "top_grid_feats =grid_tree_feats.head(15)"
   ]
  },
  {
   "cell_type": "code",
   "execution_count": 80,
   "metadata": {},
   "outputs": [
    {
     "data": {
      "image/png": "[encoded data removed]",
      "text/plain": [
       "<Figure size 1152x576 with 1 Axes>"
      ]
     },
     "metadata": {
      "needs_background": "light"
     },
     "output_type": "display_data"
    }
   ],
   "source": [
    "fig, ax = plt.subplots(figsize = (16,8))\n",
    "sns.barplot(x = top_grid_feats.feature, y=top_grid_feats.importance)\n",
    "plt.title(\"GridSearchCV with RandomForestClassifier\", fontsize=35)\n",
    "plt.xlabel(\"Features\", fontsize=25)\n",
    "ax.tick_params(rotation=90, axis='both', which='major', labelsize=15)\n",
    "plt.ylabel(\"Stats\", fontsize=25)\n",
    "plt.savefig('../images/grid_tree.png', bbox_inches = \"tight\");"
   ]
  },
  {
   "cell_type": "markdown",
   "metadata": {},
   "source": [
    "# Post Modeling Study for Feature Importances"
   ]
  },
  {
   "cell_type": "markdown",
   "metadata": {},
   "source": [
    "The Modeling study will consist of checking how these features found by Logistic Regression and GridSearchCV with RandomForest are use in the actual raw review.\n",
    "\n",
    "As part of the MVP Project, this will be the scope of this study for Feature importances. As for the Stretch goal, I would like to dig in deeper and see if these features really do drive recommendation is postive and negative ways. "
   ]
  },
  {
   "cell_type": "code",
   "execution_count": 70,
   "metadata": {
    "scrolled": false
   },
   "outputs": [],
   "source": [
    "#df[df[\"delisted\"].str.contains(\"fit\")]"
   ]
  },
  {
   "cell_type": "code",
   "execution_count": 71,
   "metadata": {},
   "outputs": [],
   "source": [
    "#df.iloc[1124].review_text"
   ]
  },
  {
   "cell_type": "code",
   "execution_count": null,
   "metadata": {},
   "outputs": [],
   "source": []
  }
 ],
 "metadata": {
  "kernelspec": {
   "display_name": "Learn-env",
   "language": "python",
   "name": "learn-env"
  },
  "language_info": {
   "codemirror_mode": {
    "name": "ipython",
    "version": 3
   },
   "file_extension": ".py",
   "mimetype": "text/x-python",
   "name": "python",
   "nbconvert_exporter": "python",
   "pygments_lexer": "ipython3",
   "version": "3.6.9"
  }
 },
 "nbformat": 4,
 "nbformat_minor": 4
}
