{
 "cells": [
  {
   "cell_type": "markdown",
   "metadata": {},
   "source": [
    "# DO NOT RUN THIS NOTEBOOK (UNLESS NEW DF IS ADDED!)"
   ]
  },
  {
   "cell_type": "code",
   "execution_count": 51,
   "metadata": {},
   "outputs": [],
   "source": [
    "# import pandas as pd\n",
    "# import numpy as np\n"
   ]
  },
  {
   "cell_type": "code",
   "execution_count": 81,
   "metadata": {},
   "outputs": [],
   "source": [
    "\n",
    "# #Womens Athleticwear \n",
    "# df1 = pd.read_csv(\"walmart_links_page1.csv\")\n",
    "# df2 = pd.read_csv(\"walmart_links_page2.csv\")\n",
    "# df3 = pd.read_csv(\"walmart_links_page3.csv\")\n",
    "# df4 = pd.read_csv(\"walmart_links_page4.csv\")\n",
    "# df5 = pd.read_csv(\"walmart_links_page5.csv\")\n",
    "# df6 = pd.read_csv(\"walmart_links_page6.csv\")\n",
    "# df7 = pd.read_csv(\"walmart_links_page7.csv\")\n",
    "# df8 = pd.read_csv(\"walmart_links_page8.csv\")\n",
    "\n",
    "# # Mens all clothing \n",
    "# df9 = pd.read_csv(\"walmart_men_links_page1.csv\")\n",
    "# df10 = pd.read_csv(\"walmart_men_links_page2.csv\")\n",
    "# #df11 = pd.read_csv(\"walmart_men_links_page3.csv\") --> Index error: was ignored and passed\n",
    "# df12 = pd.read_csv(\"walmart_men_links_page4.csv\")\n",
    "# df13 = pd.read_csv(\"walmart_men_links_page5.csv\")\n",
    "# df14 = pd.read_csv(\"walmart_men_links_page6.csv\")\n",
    "# df15 = pd.read_csv(\"walmart_men_links_page7.csv\")\n",
    "# df16 = pd.read_csv(\"walmart_men_links_page8.csv\")\n",
    "# df17 = pd.read_csv(\"walmart_men_links_page9.csv\")\n",
    "# df18 = pd.read_csv(\"walmart_men_links_page10.csv\")\n",
    "# df19 = pd.read_csv(\"walmart_men_links_page11.csv\")\n",
    "# df20 = pd.read_csv(\"walmart_men_links_page12.csv\")\n",
    "# df21 = pd.read_csv(\"walmart_men_links_page13.csv\")\n",
    "# df22 = pd.read_csv(\"walmart_men_links_page14.csv\")\n",
    "# df23 = pd.read_csv(\"walmart_men_links_page15.csv\")\n",
    "# df24 = pd.read_csv(\"walmart_men_links_page16.csv\")\n",
    "# df25 = pd.read_csv(\"walmart_men_links_page17.csv\")\n",
    "\n",
    "# #Womens All clothing (840 items)\n",
    "# df26 = pd.read_csv(\"walmart_women_clothing_links_page21.csv\")\n"
   ]
  },
  {
   "cell_type": "code",
   "execution_count": 105,
   "metadata": {},
   "outputs": [],
   "source": [
    "womens_frames = [df1,\n",
    "          df2,\n",
    "          df3,\n",
    "          df4,\n",
    "          df5,\n",
    "          df6,\n",
    "          df7,\n",
    "          df8]\n",
    " "
   ]
  },
  {
   "cell_type": "code",
   "execution_count": 106,
   "metadata": {},
   "outputs": [],
   "source": [
    "         \n",
    "mens_frames=[df9,\n",
    "          df10,\n",
    "          df12,\n",
    "          df13,\n",
    "          df14,\n",
    "          df15,\n",
    "          df16,\n",
    "          df17,\n",
    "          df18,\n",
    "          df19,\n",
    "          df20,\n",
    "          df21,\n",
    "          df22,\n",
    "          df23,\n",
    "          df24,\n",
    "          df25\n",
    "         ]"
   ]
  },
  {
   "cell_type": "code",
   "execution_count": 107,
   "metadata": {},
   "outputs": [],
   "source": [
    "# Women's Athletic clothing links merging into one dataframe\n",
    "womens_links_df = pd.concat(womens_frames, ignore_index = True)\n",
    "womens_links_df.drop(columns=[\"Unnamed: 0\"], inplace=True)\n",
    "womens_links_df.to_csv(\"womens_athletic_links_df.csv\")"
   ]
  },
  {
   "cell_type": "code",
   "execution_count": null,
   "metadata": {},
   "outputs": [],
   "source": []
  },
  {
   "cell_type": "code",
   "execution_count": 108,
   "metadata": {},
   "outputs": [],
   "source": [
    "# Men's all clothing links \n",
    "mens_links_df = pd.concat(mens_frames, ignore_index = True)\n",
    "mens_links_df.drop(columns=[\"Unnamed: 0\"], inplace=True)\n",
    "mens_links_df.to_csv(\"mens_links_df.csv\")"
   ]
  },
  {
   "cell_type": "code",
   "execution_count": 109,
   "metadata": {},
   "outputs": [
    {
     "name": "stdout",
     "output_type": "stream",
     "text": [
      "(800, 2)\n",
      "(400, 2)\n"
     ]
    }
   ],
   "source": [
    "print(mens_links_df.shape)\n",
    "print(womens_links_df.shape)"
   ]
  },
  {
   "cell_type": "code",
   "execution_count": 102,
   "metadata": {},
   "outputs": [],
   "source": [
    "#df26.drop(columns=[\"Unnamed: 0\"], inplace=True)\n",
    "df26.to_csv(\"womens_clothing_links_df.csv\")"
   ]
  },
  {
   "cell_type": "code",
   "execution_count": 110,
   "metadata": {},
   "outputs": [
    {
     "data": {
      "text/plain": [
       "(840, 2)"
      ]
     },
     "execution_count": 110,
     "metadata": {},
     "output_type": "execute_result"
    }
   ],
   "source": [
    "df26.shape"
   ]
  },
  {
   "cell_type": "code",
   "execution_count": null,
   "metadata": {},
   "outputs": [],
   "source": []
  },
  {
   "cell_type": "code",
   "execution_count": null,
   "metadata": {},
   "outputs": [],
   "source": []
  }
 ],
 "metadata": {
  "kernelspec": {
   "display_name": "Learn-env",
   "language": "python",
   "name": "learn-env"
  },
  "language_info": {
   "codemirror_mode": {
    "name": "ipython",
    "version": 3
   },
   "file_extension": ".py",
   "mimetype": "text/x-python",
   "name": "python",
   "nbconvert_exporter": "python",
   "pygments_lexer": "ipython3",
   "version": "3.6.9"
  }
 },
 "nbformat": 4,
 "nbformat_minor": 4
}
