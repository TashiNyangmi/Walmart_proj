{
 "cells": [
  {
   "cell_type": "markdown",
   "metadata": {},
   "source": [
    "# This notebook gets the reviews for each item "
   ]
  },
  {
   "cell_type": "code",
   "execution_count": 2,
   "metadata": {},
   "outputs": [],
   "source": [
    "from selenium import webdriver\n",
    "from webdriver_manager.chrome import ChromeDriverManager\n",
    "from selenium.common.exceptions import NoSuchElementException\n",
    "from selectorlib import Extractor\n",
    "import bs4\n",
    "import requests\n",
    "import json\n",
    "import time\n",
    "import urllib.request\n",
    "from selenium.webdriver.common.keys import Keys\n",
    "from selenium.webdriver.common.action_chains import ActionChains\n",
    "import csv\n",
    "import pandas as pd\n",
    "import numpy as np\n",
    "\n"
   ]
  },
  {
   "cell_type": "code",
   "execution_count": 17,
   "metadata": {},
   "outputs": [],
   "source": [
    "import warnings\n",
    "warnings.filterwarnings(\"ignore\") \n",
    "\n",
    "\n",
    "pd.set_option('display.max_columns', 300)\n",
    "pd.set_option('display.max_rows', 200)"
   ]
  },
  {
   "cell_type": "code",
   "execution_count": 18,
   "metadata": {},
   "outputs": [],
   "source": [
    "womens_links_df= pd.read_csv(\"item_links/womens_links_df.csv\")\n",
    "mens_links_df=pd.read_csv(\"item_links/mens_links_df.csv\")\n",
    "boys_links = pd.read_csv(\"item_links/walmart_boys_links.csv\")\n",
    "girls_links = pd.read_csv(\"item_links/walmart_girls_links.csv\")\n"
   ]
  },
  {
   "cell_type": "code",
   "execution_count": 19,
   "metadata": {},
   "outputs": [],
   "source": [
    "boys_links.drop(columns=[\"Unnamed: 0\"], inplace = True)\n",
    "girls_links.drop(columns=[\"Unnamed: 0\"], inplace = True)"
   ]
  },
  {
   "cell_type": "code",
   "execution_count": 25,
   "metadata": {},
   "outputs": [
    {
     "data": {
      "text/plain": [
       "15     https://www.walmart.com/ip/Wonder-Nation-Girls...\n",
       "16     https://www.walmart.com/ip/365-Kids-from-Garan...\n",
       "17     https://www.walmart.com/ip/Wonder-Nation-Girls...\n",
       "18     https://www.walmart.com/ip/Pink-Angel-Girls-Ho...\n",
       "19     https://www.walmart.com/ip/Social-Edition-Girl...\n",
       "                             ...                        \n",
       "835    https://www.walmart.com/ip/Spirit-Riding-Free-...\n",
       "836    https://www.walmart.com/ip/365-Kids-From-Garan...\n",
       "837    https://www.walmart.com/ip/Popular-Girl-s-Play...\n",
       "838    https://www.walmart.com/ip/Trolls-Girls-Glitte...\n",
       "839    https://www.walmart.com/ip/4pcs-Newborn-Toddle...\n",
       "Name: url, Length: 825, dtype: object"
      ]
     },
     "execution_count": 25,
     "metadata": {},
     "output_type": "execute_result"
    }
   ],
   "source": [
    "girls_links.url[15:]"
   ]
  },
  {
   "cell_type": "code",
   "execution_count": 22,
   "metadata": {},
   "outputs": [],
   "source": [
    "walmart_girls_clothing_reviews = pd.DataFrame(columns = [\n",
    "    \"item_name\",\n",
    "    \"price\",\n",
    "    \"overall_rating\",\n",
    "    \"num_rating\",\n",
    "    \"recommend\",\n",
    "    \"rev_title\",\n",
    "    \"rev_date\",\n",
    "    \"review_text\",\n",
    "    \"rating_stars\"\n",
    "    ])\n",
    "\n",
    "\n",
    " "
   ]
  },
  {
   "cell_type": "code",
   "execution_count": 26,
   "metadata": {},
   "outputs": [],
   "source": [
    "def search():\n",
    "    #global boys_links\n",
    "    global girls_links\n",
    "    global walmart_girls_clothing_reviews\n",
    "    \n",
    "    \n",
    "    for link in girls_links.url[15:]:\n",
    "        ChromeOptions = webdriver.ChromeOptions()\n",
    "        ChromeOptions.add_argument('ignore-certificate-errors')\n",
    "        driver = webdriver.Chrome(ChromeDriverManager().install(), options=ChromeOptions)\n",
    "\n",
    "        try: \n",
    "            print(\"Getting {}\".format(link))\n",
    "\n",
    "            driver.get(link)\n",
    "            driver.execute_script(\"window.scrollTo(0, 1000);\")\n",
    "            time.sleep(np.random.randint(3,5))\n",
    "            driver.execute_script(\"window.scrollTo(1000, 1800);\")\n",
    "            time.sleep(np.random.randint(2,6))\n",
    "            driver.execute_script(\"window.scrollTo(0, document.body.scrollHeight);\")\n",
    "            time.sleep(np.random.randint(1,3))\n",
    "            x=driver.find_element_by_link_text(\"See all reviews\")\n",
    "            x.send_keys(Keys.ENTER)\n",
    "            print(\"Entered Reviews\")\n",
    "            time.sleep(np.random.randint(1,8))\n",
    "            \n",
    "            r = driver.page_source\n",
    "            #time.sleep(np.random.randint(15,30))\n",
    "            e = Extractor.from_yaml_string(\"\"\"\n",
    "                page:\n",
    "                    css: div.product-review\n",
    "                    xpath: null\n",
    "                    type: Text\n",
    "                    children:\n",
    "                        item_name:\n",
    "                            css: 'div.wyr-product-review-title div.LinesEllipsis'\n",
    "                            xpath: null\n",
    "                            type: Text\n",
    "                        price:\n",
    "                            css: 'div.prod-ProductOffer div.Grid-col:nth-of-type(1) > div'\n",
    "                            xpath: null\n",
    "                            type: Text\n",
    "                        overall_rating:\n",
    "                            css: div.wyr-product-review-rounded-overall\n",
    "                            xpath: null\n",
    "                            type: Text\n",
    "                        num_rating:\n",
    "                            css: div.wyr-total-review-count\n",
    "                            xpath: null\n",
    "                            type: Text\n",
    "                        recommend:\n",
    "                            css: span.recommended-percentage\n",
    "                            xpath: null\n",
    "                            type: Text\n",
    "                        rev_title:\n",
    "                            css: h3.review-title\n",
    "                            xpath: null\n",
    "                            multiple: true\n",
    "                            type: Text\n",
    "                        rev_date:\n",
    "                            css: span.review-date-submissionTime\n",
    "                            xpath: null\n",
    "                            type: Text\n",
    "                        review_text:\n",
    "                            css: p\n",
    "                            xpath: null\n",
    "                            multiple: true\n",
    "                            type: Text\n",
    "                        rating_stars:\n",
    "                            css: 'div.review-star-rating div.arranger'\n",
    "                            xpath: null\n",
    "                            multiple: true\n",
    "                            type: Text\n",
    "                            \"\"\")\n",
    "\n",
    "            data = e.extract(r)\n",
    "            \n",
    "            reviews=pd.DataFrame(data[\"page\"].items())\n",
    "            \n",
    "            reviews.set_index(reviews[0], inplace= True)\n",
    "            \n",
    "            reviews.drop(columns=0, inplace = True)\n",
    "            \n",
    "            reviews = reviews.T\n",
    "        \n",
    "            frames = [walmart_girls_clothing_reviews, reviews]\n",
    "            walmart_girls_clothing_reviews = pd.concat(frames)\n",
    "            \n",
    "\n",
    "            walmart_girls_clothing_reviews.to_csv(\"item_review/walmart_girls_clothing_reviews.csv\")\n",
    "\n",
    "            print(\"Walmart Girls Reviews shape {}\".format(walmart_girls_clothing_reviews.shape))\n",
    "            print(\"Running next link\")\n",
    "            driver.close()\n",
    "            time.sleep(np.random.randint(40,60))\n",
    "            \n",
    "            \n",
    "        except UnboundLocalError:  \n",
    "            print(\"UnboundLocalError\")\n",
    "            driver.close()\n",
    "            \n",
    "        except NoSuchElementException:\n",
    "            print(\"No 'See All Reviews' button\")\n",
    "            driver.close()\n",
    "            time.sleep(np.random.randint(15,30))\n",
    "             \n",
    "        except AttributeError:\n",
    "            print(\"AttributeError - object has no attribute 'items'\")\n",
    "            driver.close()\n",
    "            time.sleep(np.random.randint(15,30))"
   ]
  },
  {
   "cell_type": "code",
   "execution_count": null,
   "metadata": {},
   "outputs": [
    {
     "name": "stderr",
     "output_type": "stream",
     "text": [
      "[WDM] - Current google-chrome version is 86.0.4240\n",
      "[WDM] - Get LATEST driver version for 86.0.4240\n"
     ]
    },
    {
     "name": "stdout",
     "output_type": "stream",
     "text": [
      " \n"
     ]
    },
    {
     "name": "stderr",
     "output_type": "stream",
     "text": [
      "[WDM] - Driver [/Users/DataSci/.wdm/drivers/chromedriver/mac64/86.0.4240.22/chromedriver] found in cache\n"
     ]
    },
    {
     "name": "stdout",
     "output_type": "stream",
     "text": [
      "Getting https://www.walmart.com/ip/Wonder-Nation-Girls-Faux-Fur-Vest-Bell-Sleeve-Top-and-Leggings-Outfit-Set-3-Piece-Sizes-4-18-Plus/421306779\n",
      "Entered Reviews\n",
      "Walmart Girls Reviews shape (16, 9)\n",
      "Running next link\n"
     ]
    },
    {
     "name": "stderr",
     "output_type": "stream",
     "text": [
      "[WDM] - Current google-chrome version is 86.0.4240\n",
      "[WDM] - Get LATEST driver version for 86.0.4240\n",
      "[WDM] - Driver [/Users/DataSci/.wdm/drivers/chromedriver/mac64/86.0.4240.22/chromedriver] found in cache\n"
     ]
    },
    {
     "name": "stdout",
     "output_type": "stream",
     "text": [
      " \n",
      "Getting https://www.walmart.com/ip/365-Kids-from-Garanimals-Girls-Rainbow-Mesh-Skirt-Sizes-4-10/820210127\n",
      "Entered Reviews\n",
      "Walmart Girls Reviews shape (17, 9)\n",
      "Running next link\n"
     ]
    },
    {
     "name": "stderr",
     "output_type": "stream",
     "text": [
      "[WDM] - Current google-chrome version is 86.0.4240\n",
      "[WDM] - Get LATEST driver version for 86.0.4240\n",
      "[WDM] - Driver [/Users/DataSci/.wdm/drivers/chromedriver/mac64/86.0.4240.22/chromedriver] found in cache\n"
     ]
    },
    {
     "name": "stdout",
     "output_type": "stream",
     "text": [
      " \n",
      "Getting https://www.walmart.com/ip/Wonder-Nation-Girls-Holiday-Sequin-Shine-Flounce-Christmas-Dress-Sizes-4-18-Plus/744363360\n",
      "Entered Reviews\n",
      "Walmart Girls Reviews shape (18, 9)\n",
      "Running next link\n"
     ]
    },
    {
     "name": "stderr",
     "output_type": "stream",
     "text": [
      "[WDM] - Current google-chrome version is 86.0.4240\n",
      "[WDM] - Get LATEST driver version for 86.0.4240\n",
      "[WDM] - Driver [/Users/DataSci/.wdm/drivers/chromedriver/mac64/86.0.4240.22/chromedriver] found in cache\n"
     ]
    },
    {
     "name": "stdout",
     "output_type": "stream",
     "text": [
      " \n",
      "Getting https://www.walmart.com/ip/Pink-Angel-Girls-Hooded-Long-Cardigan-Sweater-Sizes-7-16/716710966\n",
      "Entered Reviews\n",
      "Walmart Girls Reviews shape (19, 9)\n",
      "Running next link\n"
     ]
    },
    {
     "name": "stderr",
     "output_type": "stream",
     "text": [
      "[WDM] - Current google-chrome version is 86.0.4240\n",
      "[WDM] - Get LATEST driver version for 86.0.4240\n",
      "[WDM] - Driver [/Users/DataSci/.wdm/drivers/chromedriver/mac64/86.0.4240.22/chromedriver] found in cache\n"
     ]
    },
    {
     "name": "stdout",
     "output_type": "stream",
     "text": [
      " \n",
      "Getting https://www.walmart.com/ip/Social-Edition-Girls-2-Piece-Pajama-Set-with-Matching-Scrunchie-Sizes-4-16/297612295\n",
      "Entered Reviews\n",
      "Walmart Girls Reviews shape (20, 9)\n",
      "Running next link\n"
     ]
    },
    {
     "name": "stderr",
     "output_type": "stream",
     "text": [
      "[WDM] - Current google-chrome version is 86.0.4240\n",
      "[WDM] - Get LATEST driver version for 86.0.4240\n"
     ]
    },
    {
     "name": "stdout",
     "output_type": "stream",
     "text": [
      " \n"
     ]
    },
    {
     "name": "stderr",
     "output_type": "stream",
     "text": [
      "[WDM] - Driver [/Users/DataSci/.wdm/drivers/chromedriver/mac64/86.0.4240.22/chromedriver] found in cache\n"
     ]
    },
    {
     "name": "stdout",
     "output_type": "stream",
     "text": [
      "Getting https://www.walmart.com/ip/365-Kids-from-Garanimals-Girls-3D-Kitty-Knee-Pants-Sizes-4-10/986790483\n",
      "Entered Reviews\n",
      "Walmart Girls Reviews shape (21, 9)\n",
      "Running next link\n"
     ]
    },
    {
     "name": "stderr",
     "output_type": "stream",
     "text": [
      "[WDM] - Current google-chrome version is 86.0.4240\n",
      "[WDM] - Get LATEST driver version for 86.0.4240\n"
     ]
    },
    {
     "name": "stdout",
     "output_type": "stream",
     "text": [
      " \n"
     ]
    },
    {
     "name": "stderr",
     "output_type": "stream",
     "text": [
      "[WDM] - Driver [/Users/DataSci/.wdm/drivers/chromedriver/mac64/86.0.4240.22/chromedriver] found in cache\n"
     ]
    },
    {
     "name": "stdout",
     "output_type": "stream",
     "text": [
      "Getting https://www.walmart.com/ip/365-Kids-from-Garanimals-Girls-Long-Sleeve-Graphic-T-Shirts-3-Pack-Sizes-4-10/914197762\n",
      "Entered Reviews\n",
      "Walmart Girls Reviews shape (22, 9)\n",
      "Running next link\n"
     ]
    },
    {
     "name": "stderr",
     "output_type": "stream",
     "text": [
      "[WDM] - Current google-chrome version is 86.0.4240\n",
      "[WDM] - Get LATEST driver version for 86.0.4240\n"
     ]
    },
    {
     "name": "stdout",
     "output_type": "stream",
     "text": [
      " \n"
     ]
    },
    {
     "name": "stderr",
     "output_type": "stream",
     "text": [
      "[WDM] - Driver [/Users/DataSci/.wdm/drivers/chromedriver/mac64/86.0.4240.22/chromedriver] found in cache\n"
     ]
    },
    {
     "name": "stdout",
     "output_type": "stream",
     "text": [
      "Getting https://www.walmart.com/ip/Limited-Too-Girls-Structured-Fleece-Jacket-with-Toggles-and-Faux-Fur-Hood-Sizes-7-16/487758264\n",
      "No 'See All Reviews' button\n"
     ]
    },
    {
     "name": "stderr",
     "output_type": "stream",
     "text": [
      "[WDM] - Current google-chrome version is 86.0.4240\n",
      "[WDM] - Get LATEST driver version for 86.0.4240\n"
     ]
    },
    {
     "name": "stdout",
     "output_type": "stream",
     "text": [
      " \n"
     ]
    },
    {
     "name": "stderr",
     "output_type": "stream",
     "text": [
      "[WDM] - Driver [/Users/DataSci/.wdm/drivers/chromedriver/mac64/86.0.4240.22/chromedriver] found in cache\n"
     ]
    },
    {
     "name": "stdout",
     "output_type": "stream",
     "text": [
      "Getting https://www.walmart.com/ip/Wonder-Nation-Girls-Cable-Knit-Sweater-With-Faux-Fur-Trim-Sleeve-and-Leggings-2-Piece-Outfit-Set-Sizes-4-18-Plus/550489272\n",
      "Entered Reviews\n",
      "Walmart Girls Reviews shape (23, 9)\n",
      "Running next link\n"
     ]
    },
    {
     "name": "stderr",
     "output_type": "stream",
     "text": [
      "[WDM] - Current google-chrome version is 86.0.4240\n",
      "[WDM] - Get LATEST driver version for 86.0.4240\n",
      "[WDM] - Driver [/Users/DataSci/.wdm/drivers/chromedriver/mac64/86.0.4240.22/chromedriver] found in cache\n"
     ]
    },
    {
     "name": "stdout",
     "output_type": "stream",
     "text": [
      " \n",
      "Getting https://www.walmart.com/ip/Limited-Too-Girls-Short-Sleeve-Pajamas-2-Piece-Set-Sizes-7-14/380845430\n",
      "Entered Reviews\n",
      "Walmart Girls Reviews shape (24, 9)\n",
      "Running next link\n"
     ]
    },
    {
     "name": "stderr",
     "output_type": "stream",
     "text": [
      "[WDM] - Current google-chrome version is 86.0.4240\n",
      "[WDM] - Get LATEST driver version for 86.0.4240\n",
      "[WDM] - Driver [/Users/DataSci/.wdm/drivers/chromedriver/mac64/86.0.4240.22/chromedriver] found in cache\n"
     ]
    },
    {
     "name": "stdout",
     "output_type": "stream",
     "text": [
      " \n",
      "Getting https://www.walmart.com/ip/Pink-Platinum-Girls-Foil-Print-Puffer-Coat-Gift-with-Purchase-Sizes-4-16/259075542\n",
      "Entered Reviews\n",
      "Walmart Girls Reviews shape (25, 9)\n",
      "Running next link\n"
     ]
    },
    {
     "name": "stderr",
     "output_type": "stream",
     "text": [
      "[WDM] - Current google-chrome version is 86.0.4240\n",
      "[WDM] - Get LATEST driver version for 86.0.4240\n"
     ]
    },
    {
     "name": "stdout",
     "output_type": "stream",
     "text": [
      " \n"
     ]
    },
    {
     "name": "stderr",
     "output_type": "stream",
     "text": [
      "[WDM] - Driver [/Users/DataSci/.wdm/drivers/chromedriver/mac64/86.0.4240.22/chromedriver] found in cache\n"
     ]
    },
    {
     "name": "stdout",
     "output_type": "stream",
     "text": [
      "Getting https://www.walmart.com/ip/Cozy-Jams-Girls-Pajama-Nightshirt-with-Sleep-Mask-Sizes-4-14/653819911\n",
      "No 'See All Reviews' button\n"
     ]
    },
    {
     "name": "stderr",
     "output_type": "stream",
     "text": [
      "[WDM] - Current google-chrome version is 86.0.4240\n",
      "[WDM] - Get LATEST driver version for 86.0.4240\n"
     ]
    },
    {
     "name": "stdout",
     "output_type": "stream",
     "text": [
      " \n"
     ]
    },
    {
     "name": "stderr",
     "output_type": "stream",
     "text": [
      "[WDM] - Driver [/Users/DataSci/.wdm/drivers/chromedriver/mac64/86.0.4240.22/chromedriver] found in cache\n"
     ]
    },
    {
     "name": "stdout",
     "output_type": "stream",
     "text": [
      "Getting https://www.walmart.com/ip/Jojo-Siwa-Girls-Long-Sleeve-Top-Long-Pants-Pajama-Set-2-Piece-Sizes-4-10/693813999\n",
      "Entered Reviews\n",
      "Walmart Girls Reviews shape (26, 9)\n",
      "Running next link\n"
     ]
    },
    {
     "name": "stderr",
     "output_type": "stream",
     "text": [
      "[WDM] - Current google-chrome version is 86.0.4240\n",
      "[WDM] - Get LATEST driver version for 86.0.4240\n"
     ]
    },
    {
     "name": "stdout",
     "output_type": "stream",
     "text": [
      " \n"
     ]
    },
    {
     "name": "stderr",
     "output_type": "stream",
     "text": [
      "[WDM] - Driver [/Users/DataSci/.wdm/drivers/chromedriver/mac64/86.0.4240.22/chromedriver] found in cache\n"
     ]
    },
    {
     "name": "stdout",
     "output_type": "stream",
     "text": [
      "Getting https://www.walmart.com/ip/Sleep-On-It-Girls-Pajama-Fleece-Hooded-Blanket-Sleeper-Sizes-7-16/431775144\n",
      "Entered Reviews\n",
      "Walmart Girls Reviews shape (27, 9)\n",
      "Running next link\n"
     ]
    },
    {
     "name": "stderr",
     "output_type": "stream",
     "text": [
      "[WDM] - Current google-chrome version is 86.0.4240\n",
      "[WDM] - Get LATEST driver version for 86.0.4240\n",
      "[WDM] - Driver [/Users/DataSci/.wdm/drivers/chromedriver/mac64/86.0.4240.22/chromedriver] found in cache\n"
     ]
    },
    {
     "name": "stdout",
     "output_type": "stream",
     "text": [
      " \n",
      "Getting https://www.walmart.com/ip/Champion-Girl-s-Underwear-6-Pack-Hipster-Panties-Sizes-S-XL/968409559\n",
      "No 'See All Reviews' button\n"
     ]
    },
    {
     "name": "stderr",
     "output_type": "stream",
     "text": [
      "[WDM] - Current google-chrome version is 86.0.4240\n",
      "[WDM] - Get LATEST driver version for 86.0.4240\n",
      "[WDM] - Driver [/Users/DataSci/.wdm/drivers/chromedriver/mac64/86.0.4240.22/chromedriver] found in cache\n"
     ]
    },
    {
     "name": "stdout",
     "output_type": "stream",
     "text": [
      " \n",
      "Getting https://www.walmart.com/ip/Steve-Madden-Girls-Medium-Weight-Anorak-Jacket-Sizes-7-16/980059682\n",
      "No 'See All Reviews' button\n"
     ]
    },
    {
     "name": "stderr",
     "output_type": "stream",
     "text": [
      "[WDM] - Current google-chrome version is 86.0.4240\n",
      "[WDM] - Get LATEST driver version for 86.0.4240\n"
     ]
    },
    {
     "name": "stdout",
     "output_type": "stream",
     "text": [
      " \n"
     ]
    },
    {
     "name": "stderr",
     "output_type": "stream",
     "text": [
      "[WDM] - Driver [/Users/DataSci/.wdm/drivers/chromedriver/mac64/86.0.4240.22/chromedriver] found in cache\n"
     ]
    },
    {
     "name": "stdout",
     "output_type": "stream",
     "text": [
      "Getting https://www.walmart.com/ip/365-Kids-from-Garanimals-Girls-Unicorn-Embroidered-Twill-Pants-Sizes-4-10/320843710\n",
      "Entered Reviews\n",
      "Walmart Girls Reviews shape (28, 9)\n",
      "Running next link\n"
     ]
    },
    {
     "name": "stderr",
     "output_type": "stream",
     "text": [
      "[WDM] - Current google-chrome version is 86.0.4240\n",
      "[WDM] - Get LATEST driver version for 86.0.4240\n"
     ]
    },
    {
     "name": "stdout",
     "output_type": "stream",
     "text": [
      " \n"
     ]
    },
    {
     "name": "stderr",
     "output_type": "stream",
     "text": [
      "[WDM] - Driver [/Users/DataSci/.wdm/drivers/chromedriver/mac64/86.0.4240.22/chromedriver] found in cache\n"
     ]
    },
    {
     "name": "stdout",
     "output_type": "stream",
     "text": [
      "Getting https://www.walmart.com/ip/Sleep-On-It-Girls-Tie-Dye-Unicorn-Hooded-Pajama-Nightgown-Sizes-4-18/259589088\n",
      "No 'See All Reviews' button\n"
     ]
    },
    {
     "name": "stderr",
     "output_type": "stream",
     "text": [
      "[WDM] - Current google-chrome version is 86.0.4240\n",
      "[WDM] - Get LATEST driver version for 86.0.4240\n",
      "[WDM] - Driver [/Users/DataSci/.wdm/drivers/chromedriver/mac64/86.0.4240.22/chromedriver] found in cache\n"
     ]
    },
    {
     "name": "stdout",
     "output_type": "stream",
     "text": [
      " \n",
      "Getting https://www.walmart.com/ip/365-Kids-From-Garanimals-Girls-Snoopy-Hooded-Zip-Up-Jacket-Sizes-4-10/859498716\n",
      "Entered Reviews\n",
      "Walmart Girls Reviews shape (29, 9)\n",
      "Running next link\n"
     ]
    },
    {
     "name": "stderr",
     "output_type": "stream",
     "text": [
      "[WDM] - Current google-chrome version is 86.0.4240\n",
      "[WDM] - Get LATEST driver version for 86.0.4240\n",
      "[WDM] - Driver [/Users/DataSci/.wdm/drivers/chromedriver/mac64/86.0.4240.22/chromedriver] found in cache\n"
     ]
    },
    {
     "name": "stdout",
     "output_type": "stream",
     "text": [
      " \n",
      "Getting https://www.walmart.com/ip/Sleep-On-It-Girls-2-Piece-Long-Sleeve-Pajama-Pant-Set-Sizes-4-18-Plus/643235734\n",
      "No 'See All Reviews' button\n"
     ]
    },
    {
     "name": "stderr",
     "output_type": "stream",
     "text": [
      "[WDM] - Current google-chrome version is 86.0.4240\n",
      "[WDM] - Get LATEST driver version for 86.0.4240\n"
     ]
    },
    {
     "name": "stdout",
     "output_type": "stream",
     "text": [
      " \n"
     ]
    },
    {
     "name": "stderr",
     "output_type": "stream",
     "text": [
      "[WDM] - Driver [/Users/DataSci/.wdm/drivers/chromedriver/mac64/86.0.4240.22/chromedriver] found in cache\n"
     ]
    },
    {
     "name": "stdout",
     "output_type": "stream",
     "text": [
      "Getting https://www.walmart.com/ip/Jordache-Girls-Skinny-Jeans-Slim-Sizes-5-18/782468353\n",
      "Entered Reviews\n",
      "Walmart Girls Reviews shape (30, 9)\n",
      "Running next link\n"
     ]
    },
    {
     "name": "stderr",
     "output_type": "stream",
     "text": [
      "[WDM] - Current google-chrome version is 86.0.4240\n",
      "[WDM] - Get LATEST driver version for 86.0.4240\n"
     ]
    },
    {
     "name": "stdout",
     "output_type": "stream",
     "text": [
      " \n"
     ]
    },
    {
     "name": "stderr",
     "output_type": "stream",
     "text": [
      "[WDM] - Driver [/Users/DataSci/.wdm/drivers/chromedriver/mac64/86.0.4240.22/chromedriver] found in cache\n"
     ]
    },
    {
     "name": "stdout",
     "output_type": "stream",
     "text": [
      "Getting https://www.walmart.com/ip/365-Kids-from-Garanimals-Girls-Tie-Front-Long-Sleeve-Graphic-Tee-2-Pack-Sizes-4-10/464366200\n",
      "No 'See All Reviews' button\n"
     ]
    },
    {
     "name": "stderr",
     "output_type": "stream",
     "text": [
      "[WDM] - Current google-chrome version is 86.0.4240\n",
      "[WDM] - Get LATEST driver version for 86.0.4240\n"
     ]
    },
    {
     "name": "stdout",
     "output_type": "stream",
     "text": [
      " \n"
     ]
    },
    {
     "name": "stderr",
     "output_type": "stream",
     "text": [
      "[WDM] - Driver [/Users/DataSci/.wdm/drivers/chromedriver/mac64/86.0.4240.22/chromedriver] found in cache\n"
     ]
    },
    {
     "name": "stdout",
     "output_type": "stream",
     "text": [
      "Getting https://www.walmart.com/ip/Urban-Republic-Girls-Heavyweight-Cotton-Twill-Anorak-w-Faux-Fur-Lining-Sizes-4-6X/616667290\n",
      "No 'See All Reviews' button\n"
     ]
    },
    {
     "name": "stderr",
     "output_type": "stream",
     "text": [
      "[WDM] - Current google-chrome version is 86.0.4240\n",
      "[WDM] - Get LATEST driver version for 86.0.4240\n"
     ]
    },
    {
     "name": "stdout",
     "output_type": "stream",
     "text": [
      " \n"
     ]
    },
    {
     "name": "stderr",
     "output_type": "stream",
     "text": [
      "[WDM] - Driver [/Users/DataSci/.wdm/drivers/chromedriver/mac64/86.0.4240.22/chromedriver] found in cache\n"
     ]
    },
    {
     "name": "stdout",
     "output_type": "stream",
     "text": [
      "Getting https://www.walmart.com/ip/365-Kids-from-Garanimals-Girls-Unicorn-Metallic-Sleeve-Sweatshirt-and-Leggings-2-Piece-Outfit-Set-Sizes-4-10/666994145\n",
      "No 'See All Reviews' button\n"
     ]
    },
    {
     "name": "stderr",
     "output_type": "stream",
     "text": [
      "[WDM] - Current google-chrome version is 86.0.4240\n",
      "[WDM] - Get LATEST driver version for 86.0.4240\n"
     ]
    },
    {
     "name": "stdout",
     "output_type": "stream",
     "text": [
      " \n"
     ]
    },
    {
     "name": "stderr",
     "output_type": "stream",
     "text": [
      "[WDM] - Driver [/Users/DataSci/.wdm/drivers/chromedriver/mac64/86.0.4240.22/chromedriver] found in cache\n"
     ]
    },
    {
     "name": "stdout",
     "output_type": "stream",
     "text": [
      "Getting https://www.walmart.com/ip/Holiday-Time-Girls-Christmas-Long-Sleeve-Graphic-T-Shirt-and-Printed-Legging-Outfit-Set-2-Piece-Sizes-4-18/126815300\n",
      "Entered Reviews\n",
      "Walmart Girls Reviews shape (31, 9)\n",
      "Running next link\n"
     ]
    },
    {
     "name": "stderr",
     "output_type": "stream",
     "text": [
      "[WDM] - Current google-chrome version is 86.0.4240\n",
      "[WDM] - Get LATEST driver version for 86.0.4240\n"
     ]
    },
    {
     "name": "stdout",
     "output_type": "stream",
     "text": [
      " \n"
     ]
    },
    {
     "name": "stderr",
     "output_type": "stream",
     "text": [
      "[WDM] - Driver [/Users/DataSci/.wdm/drivers/chromedriver/mac64/86.0.4240.22/chromedriver] found in cache\n"
     ]
    },
    {
     "name": "stdout",
     "output_type": "stream",
     "text": [
      "Getting https://www.walmart.com/ip/365-Kids-from-Garanimals-Girls-Faux-Fur-Collar-Bomber-Fashion-Jacket-Sizes-4-10/764945983\n",
      "No 'See All Reviews' button\n"
     ]
    },
    {
     "name": "stderr",
     "output_type": "stream",
     "text": [
      "[WDM] - Current google-chrome version is 86.0.4240\n",
      "[WDM] - Get LATEST driver version for 86.0.4240\n",
      "[WDM] - Driver [/Users/DataSci/.wdm/drivers/chromedriver/mac64/86.0.4240.22/chromedriver] found in cache\n"
     ]
    },
    {
     "name": "stdout",
     "output_type": "stream",
     "text": [
      " \n",
      "Getting https://www.walmart.com/ip/Social-Edition-Girls-4-16-Long-Sleeve-Lettuce-Edge-Ribbed-Shirt/651932415\n",
      "Entered Reviews\n",
      "Walmart Girls Reviews shape (32, 9)\n",
      "Running next link\n"
     ]
    },
    {
     "name": "stderr",
     "output_type": "stream",
     "text": [
      "[WDM] - Current google-chrome version is 86.0.4240\n",
      "[WDM] - Get LATEST driver version for 86.0.4240\n"
     ]
    },
    {
     "name": "stdout",
     "output_type": "stream",
     "text": [
      " \n"
     ]
    },
    {
     "name": "stderr",
     "output_type": "stream",
     "text": [
      "[WDM] - Driver [/Users/DataSci/.wdm/drivers/chromedriver/mac64/86.0.4240.22/chromedriver] found in cache\n"
     ]
    },
    {
     "name": "stdout",
     "output_type": "stream",
     "text": [
      "Getting https://www.walmart.com/ip/Pink-Velvet-Girls-Long-Sleeve-Graphic-Print-Raglan-T-Shirts-3-Pack-Sizes-4-16/737641394\n",
      "No 'See All Reviews' button\n"
     ]
    },
    {
     "name": "stderr",
     "output_type": "stream",
     "text": [
      "[WDM] - Current google-chrome version is 86.0.4240\n",
      "[WDM] - Get LATEST driver version for 86.0.4240\n",
      "[WDM] - Driver [/Users/DataSci/.wdm/drivers/chromedriver/mac64/86.0.4240.22/chromedriver] found in cache\n"
     ]
    },
    {
     "name": "stdout",
     "output_type": "stream",
     "text": [
      " \n",
      "Getting https://www.walmart.com/ip/Wonder-Nation-Girls-Cargo-Pants-Sizes-4-18-Plus/747900133\n",
      "Entered Reviews\n",
      "Walmart Girls Reviews shape (33, 9)\n",
      "Running next link\n"
     ]
    },
    {
     "name": "stderr",
     "output_type": "stream",
     "text": [
      "[WDM] - Current google-chrome version is 86.0.4240\n",
      "[WDM] - Get LATEST driver version for 86.0.4240\n",
      "[WDM] - Driver [/Users/DataSci/.wdm/drivers/chromedriver/mac64/86.0.4240.22/chromedriver] found in cache\n"
     ]
    },
    {
     "name": "stdout",
     "output_type": "stream",
     "text": [
      " \n",
      "Getting https://www.walmart.com/ip/Avia-Girls-4-18-Long-Sleeve-Moisture-Wicking-T-Shirt/294217625\n",
      "No 'See All Reviews' button\n"
     ]
    },
    {
     "name": "stderr",
     "output_type": "stream",
     "text": [
      "[WDM] - Current google-chrome version is 86.0.4240\n",
      "[WDM] - Get LATEST driver version for 86.0.4240\n"
     ]
    },
    {
     "name": "stdout",
     "output_type": "stream",
     "text": [
      " \n"
     ]
    },
    {
     "name": "stderr",
     "output_type": "stream",
     "text": [
      "[WDM] - Driver [/Users/DataSci/.wdm/drivers/chromedriver/mac64/86.0.4240.22/chromedriver] found in cache\n"
     ]
    },
    {
     "name": "stdout",
     "output_type": "stream",
     "text": [
      "Getting https://www.walmart.com/ip/Bhip-Girls-Quilted-Fleece-Jacket-with-Hood-and-Removable-Fur-Trim-Sizes-4-12/139736880\n",
      "Entered Reviews\n",
      "Walmart Girls Reviews shape (34, 9)\n",
      "Running next link\n"
     ]
    },
    {
     "name": "stderr",
     "output_type": "stream",
     "text": [
      "[WDM] - Current google-chrome version is 86.0.4240\n",
      "[WDM] - Get LATEST driver version for 86.0.4240\n",
      "[WDM] - Driver [/Users/DataSci/.wdm/drivers/chromedriver/mac64/86.0.4240.22/chromedriver] found in cache\n"
     ]
    },
    {
     "name": "stdout",
     "output_type": "stream",
     "text": [
      " \n",
      "Getting https://www.walmart.com/ip/365-Kids-from-Garanimals-Girls-Hello-Kitty-Tunic-Sweatshirt-Sizes-4-10/781359268\n",
      "Entered Reviews\n",
      "Walmart Girls Reviews shape (35, 9)\n",
      "Running next link\n"
     ]
    },
    {
     "name": "stderr",
     "output_type": "stream",
     "text": [
      "[WDM] - Current google-chrome version is 86.0.4240\n",
      "[WDM] - Get LATEST driver version for 86.0.4240\n",
      "[WDM] - Driver [/Users/DataSci/.wdm/drivers/chromedriver/mac64/86.0.4240.22/chromedriver] found in cache\n"
     ]
    },
    {
     "name": "stdout",
     "output_type": "stream",
     "text": [
      " \n",
      "Getting https://www.walmart.com/ip/365-Kids-from-Garanimals-Girls-Ruffle-Sleeve-Long-Sleeve-Graphic-T-Shirt-Sizes-4-10/243762659\n",
      "Entered Reviews\n",
      "Walmart Girls Reviews shape (36, 9)\n",
      "Running next link\n"
     ]
    },
    {
     "name": "stderr",
     "output_type": "stream",
     "text": [
      "[WDM] - Current google-chrome version is 86.0.4240\n",
      "[WDM] - Get LATEST driver version for 86.0.4240\n"
     ]
    },
    {
     "name": "stdout",
     "output_type": "stream",
     "text": [
      " \n"
     ]
    },
    {
     "name": "stderr",
     "output_type": "stream",
     "text": [
      "[WDM] - Driver [/Users/DataSci/.wdm/drivers/chromedriver/mac64/86.0.4240.22/chromedriver] found in cache\n"
     ]
    },
    {
     "name": "stdout",
     "output_type": "stream",
     "text": [
      "Getting https://www.walmart.com/ip/DKNY-Girls-Underwear-2-Pack-Hipster-Seamless-Panties-Sizes-S-L/121402557\n",
      "No 'See All Reviews' button\n"
     ]
    },
    {
     "name": "stderr",
     "output_type": "stream",
     "text": [
      "[WDM] - Current google-chrome version is 86.0.4240\n",
      "[WDM] - Get LATEST driver version for 86.0.4240\n",
      "[WDM] - Driver [/Users/DataSci/.wdm/drivers/chromedriver/mac64/86.0.4240.22/chromedriver] found in cache\n"
     ]
    },
    {
     "name": "stdout",
     "output_type": "stream",
     "text": [
      " \n",
      "Getting https://www.walmart.com/ip/Signature-by-Levi-Strauss-Co-Girls-High-Rise-Super-Skinny-Jeans-Sizes-7-18/895574061\n",
      "No 'See All Reviews' button\n"
     ]
    },
    {
     "name": "stderr",
     "output_type": "stream",
     "text": [
      "[WDM] - Current google-chrome version is 86.0.4240\n",
      "[WDM] - Get LATEST driver version for 86.0.4240\n",
      "[WDM] - Driver [/Users/DataSci/.wdm/drivers/chromedriver/mac64/86.0.4240.22/chromedriver] found in cache\n"
     ]
    },
    {
     "name": "stdout",
     "output_type": "stream",
     "text": [
      " \n",
      "Getting https://www.walmart.com/ip/Wonder-Nation-Girls-Holiday-Sequin-Christmas-Dress-Sizes-4-18-Plus/987596637\n",
      "Entered Reviews\n",
      "Walmart Girls Reviews shape (37, 9)\n",
      "Running next link\n"
     ]
    },
    {
     "name": "stderr",
     "output_type": "stream",
     "text": [
      "[WDM] - Current google-chrome version is 86.0.4240\n",
      "[WDM] - Get LATEST driver version for 86.0.4240\n",
      "[WDM] - Driver [/Users/DataSci/.wdm/drivers/chromedriver/mac64/86.0.4240.22/chromedriver] found in cache\n"
     ]
    },
    {
     "name": "stdout",
     "output_type": "stream",
     "text": [
      " \n",
      "Getting https://www.walmart.com/ip/Sleep-On-It-Girls-Hooded-Unicorn-Long-Sleeve-Pajama-Set-2-Piece-Sizes-4-18-Plus/181628419\n",
      "No 'See All Reviews' button\n"
     ]
    },
    {
     "name": "stderr",
     "output_type": "stream",
     "text": [
      "[WDM] - Current google-chrome version is 86.0.4240\n",
      "[WDM] - Get LATEST driver version for 86.0.4240\n",
      "[WDM] - Driver [/Users/DataSci/.wdm/drivers/chromedriver/mac64/86.0.4240.22/chromedriver] found in cache\n"
     ]
    },
    {
     "name": "stdout",
     "output_type": "stream",
     "text": [
      " \n",
      "Getting https://www.walmart.com/ip/365-Kids-from-Garanimals-Girls-Sequin-Pants-Sizes-4-10/705637477\n",
      "Entered Reviews\n",
      "Walmart Girls Reviews shape (38, 9)\n",
      "Running next link\n"
     ]
    },
    {
     "name": "stderr",
     "output_type": "stream",
     "text": [
      "[WDM] - Current google-chrome version is 86.0.4240\n",
      "[WDM] - Get LATEST driver version for 86.0.4240\n",
      "[WDM] - Driver [/Users/DataSci/.wdm/drivers/chromedriver/mac64/86.0.4240.22/chromedriver] found in cache\n"
     ]
    },
    {
     "name": "stdout",
     "output_type": "stream",
     "text": [
      " \n",
      "Getting https://www.walmart.com/ip/Wonder-Nation-Girls-Faux-Fur-Trim-Cardigan-With-Pockets-Long-Sleeve-Top-and-Leggings-Outfit-Set-3-Piece-Sizes-4-18-Plus/527333513\n",
      "Entered Reviews\n",
      "Walmart Girls Reviews shape (39, 9)\n",
      "Running next link\n"
     ]
    },
    {
     "name": "stderr",
     "output_type": "stream",
     "text": [
      "[WDM] - Current google-chrome version is 86.0.4240\n",
      "[WDM] - Get LATEST driver version for 86.0.4240\n",
      "[WDM] - Driver [/Users/DataSci/.wdm/drivers/chromedriver/mac64/86.0.4240.22/chromedriver] found in cache\n"
     ]
    },
    {
     "name": "stdout",
     "output_type": "stream",
     "text": [
      " \n",
      "Getting https://www.walmart.com/ip/Urban-Republic-Girls-Faux-Fur-Zip-up-Bomber-Jacket-Sizes-4-6X/400073932\n",
      "No 'See All Reviews' button\n"
     ]
    },
    {
     "name": "stderr",
     "output_type": "stream",
     "text": [
      "[WDM] - Current google-chrome version is 86.0.4240\n",
      "[WDM] - Get LATEST driver version for 86.0.4240\n",
      "[WDM] - Driver [/Users/DataSci/.wdm/drivers/chromedriver/mac64/86.0.4240.22/chromedriver] found in cache\n"
     ]
    },
    {
     "name": "stdout",
     "output_type": "stream",
     "text": [
      " \n",
      "Getting https://www.walmart.com/ip/Trolls-Girls-Long-Sleeve-Top-Long-Pants-2-Piece-Pajama-Set-Sizes-4-8/826157025\n",
      "Entered Reviews\n",
      "Walmart Girls Reviews shape (40, 9)\n",
      "Running next link\n"
     ]
    },
    {
     "name": "stderr",
     "output_type": "stream",
     "text": [
      "[WDM] - Current google-chrome version is 86.0.4240\n",
      "[WDM] - Get LATEST driver version for 86.0.4240\n"
     ]
    },
    {
     "name": "stdout",
     "output_type": "stream",
     "text": [
      " \n"
     ]
    },
    {
     "name": "stderr",
     "output_type": "stream",
     "text": [
      "[WDM] - Driver [/Users/DataSci/.wdm/drivers/chromedriver/mac64/86.0.4240.22/chromedriver] found in cache\n"
     ]
    },
    {
     "name": "stdout",
     "output_type": "stream",
     "text": [
      "Getting https://www.walmart.com/ip/Nickelodeon-Jojo-Siwa-Girls-4-16-Costume-Hoodie-with-3D-Bow/856362823\n",
      "Entered Reviews\n",
      "Walmart Girls Reviews shape (41, 9)\n",
      "Running next link\n"
     ]
    },
    {
     "name": "stderr",
     "output_type": "stream",
     "text": [
      "[WDM] - Current google-chrome version is 86.0.4240\n",
      "[WDM] - Get LATEST driver version for 86.0.4240\n"
     ]
    },
    {
     "name": "stdout",
     "output_type": "stream",
     "text": [
      " \n"
     ]
    },
    {
     "name": "stderr",
     "output_type": "stream",
     "text": [
      "[WDM] - Driver [/Users/DataSci/.wdm/drivers/chromedriver/mac64/86.0.4240.22/chromedriver] found in cache\n"
     ]
    },
    {
     "name": "stdout",
     "output_type": "stream",
     "text": [
      "Getting https://www.walmart.com/ip/Holiday-Time-Girls-Ugly-Christmas-Party-Dress-Sizes-4-16/516346557\n",
      "Entered Reviews\n",
      "Walmart Girls Reviews shape (42, 9)\n",
      "Running next link\n"
     ]
    },
    {
     "name": "stderr",
     "output_type": "stream",
     "text": [
      "[WDM] - Current google-chrome version is 86.0.4240\n",
      "[WDM] - Get LATEST driver version for 86.0.4240\n",
      "[WDM] - Driver [/Users/DataSci/.wdm/drivers/chromedriver/mac64/86.0.4240.22/chromedriver] found in cache\n"
     ]
    },
    {
     "name": "stdout",
     "output_type": "stream",
     "text": [
      " \n",
      "Getting https://www.walmart.com/ip/Wonder-Nation-Girls-Printed-and-Solid-Leggings-3-Pack-Sizes-4-18-Plus/857873078\n",
      "Entered Reviews\n",
      "Walmart Girls Reviews shape (43, 9)\n",
      "Running next link\n"
     ]
    },
    {
     "name": "stderr",
     "output_type": "stream",
     "text": [
      "[WDM] - Current google-chrome version is 86.0.4240\n",
      "[WDM] - Get LATEST driver version for 86.0.4240\n",
      "[WDM] - Driver [/Users/DataSci/.wdm/drivers/chromedriver/mac64/86.0.4240.22/chromedriver] found in cache\n"
     ]
    },
    {
     "name": "stdout",
     "output_type": "stream",
     "text": [
      " \n",
      "Getting https://www.walmart.com/ip/MGA-L-O-L-Surprise-Girls-Doll-Costume-Hoodie-Sizes-4-16/711835510\n",
      "Entered Reviews\n",
      "Walmart Girls Reviews shape (44, 9)\n",
      "Running next link\n"
     ]
    },
    {
     "name": "stderr",
     "output_type": "stream",
     "text": [
      "[WDM] - Current google-chrome version is 86.0.4240\n",
      "[WDM] - Get LATEST driver version for 86.0.4240\n",
      "[WDM] - Driver [/Users/DataSci/.wdm/drivers/chromedriver/mac64/86.0.4240.22/chromedriver] found in cache\n"
     ]
    },
    {
     "name": "stdout",
     "output_type": "stream",
     "text": [
      " \n",
      "Getting https://www.walmart.com/ip/Wonder-Nation-Girls-Holiday-Christmas-Dress-with-Faux-Fur-Shrug-Sizes-4-12-Plus/805002118\n",
      "Entered Reviews\n",
      "Walmart Girls Reviews shape (45, 9)\n",
      "Running next link\n"
     ]
    },
    {
     "name": "stderr",
     "output_type": "stream",
     "text": [
      "[WDM] - Current google-chrome version is 86.0.4240\n",
      "[WDM] - Get LATEST driver version for 86.0.4240\n",
      "[WDM] - Driver [/Users/DataSci/.wdm/drivers/chromedriver/mac64/86.0.4240.22/chromedriver] found in cache\n"
     ]
    },
    {
     "name": "stdout",
     "output_type": "stream",
     "text": [
      " \n",
      "Getting https://www.walmart.com/ip/Social-Edition-Girls-Long-Sleeve-Graphic-T-Shirts-2-Pack-Sizes-4-18/773848972\n",
      "Entered Reviews\n",
      "Walmart Girls Reviews shape (46, 9)\n",
      "Running next link\n"
     ]
    },
    {
     "name": "stderr",
     "output_type": "stream",
     "text": [
      "[WDM] - Current google-chrome version is 86.0.4240\n",
      "[WDM] - Get LATEST driver version for 86.0.4240\n"
     ]
    },
    {
     "name": "stdout",
     "output_type": "stream",
     "text": [
      " \n"
     ]
    },
    {
     "name": "stderr",
     "output_type": "stream",
     "text": [
      "[WDM] - Driver [/Users/DataSci/.wdm/drivers/chromedriver/mac64/86.0.4240.22/chromedriver] found in cache\n"
     ]
    },
    {
     "name": "stdout",
     "output_type": "stream",
     "text": [
      "Getting https://www.walmart.com/ip/Miss-Chievous-Girls-4-16-Colorblock-Sequin-Critter-Sherpa-Pullover-Hoodie/137399984\n",
      "Entered Reviews\n",
      "Walmart Girls Reviews shape (47, 9)\n",
      "Running next link\n"
     ]
    },
    {
     "name": "stderr",
     "output_type": "stream",
     "text": [
      "[WDM] - Current google-chrome version is 86.0.4240\n",
      "[WDM] - Get LATEST driver version for 86.0.4240\n",
      "[WDM] - Driver [/Users/DataSci/.wdm/drivers/chromedriver/mac64/86.0.4240.22/chromedriver] found in cache\n"
     ]
    },
    {
     "name": "stdout",
     "output_type": "stream",
     "text": [
      " \n",
      "Getting https://www.walmart.com/ip/365-Kids-from-Garanimals-Girls-Striped-Short-Sleeve-T-shirt-and-Jeggings-2-Piece-Outfit-Set-Sizes-4-10/260407725\n",
      "Entered Reviews\n",
      "Walmart Girls Reviews shape (48, 9)\n",
      "Running next link\n"
     ]
    },
    {
     "name": "stderr",
     "output_type": "stream",
     "text": [
      "[WDM] - Current google-chrome version is 86.0.4240\n",
      "[WDM] - Get LATEST driver version for 86.0.4240\n"
     ]
    },
    {
     "name": "stdout",
     "output_type": "stream",
     "text": [
      " \n"
     ]
    },
    {
     "name": "stderr",
     "output_type": "stream",
     "text": [
      "[WDM] - Driver [/Users/DataSci/.wdm/drivers/chromedriver/mac64/86.0.4240.22/chromedriver] found in cache\n"
     ]
    },
    {
     "name": "stdout",
     "output_type": "stream",
     "text": [
      "Getting https://www.walmart.com/ip/Social-Edition-Girls-Ruffle-Shoulder-Cozy-Rib-Shirt-Sizes-4-18/752472271\n",
      "Entered Reviews\n",
      "Walmart Girls Reviews shape (49, 9)\n",
      "Running next link\n"
     ]
    },
    {
     "name": "stderr",
     "output_type": "stream",
     "text": [
      "[WDM] - Current google-chrome version is 86.0.4240\n",
      "[WDM] - Get LATEST driver version for 86.0.4240\n",
      "[WDM] - Driver [/Users/DataSci/.wdm/drivers/chromedriver/mac64/86.0.4240.22/chromedriver] found in cache\n"
     ]
    },
    {
     "name": "stdout",
     "output_type": "stream",
     "text": [
      " \n",
      "Getting https://www.walmart.com/ip/Jojo-Siwa-Girls-Tie-Front-Graphic-T-Shirt-Sizes-4-16/223674308\n",
      "Entered Reviews\n",
      "Walmart Girls Reviews shape (50, 9)\n",
      "Running next link\n"
     ]
    },
    {
     "name": "stderr",
     "output_type": "stream",
     "text": [
      "[WDM] - Current google-chrome version is 86.0.4240\n",
      "[WDM] - Get LATEST driver version for 86.0.4240\n",
      "[WDM] - Driver [/Users/DataSci/.wdm/drivers/chromedriver/mac64/86.0.4240.22/chromedriver] found in cache\n"
     ]
    },
    {
     "name": "stdout",
     "output_type": "stream",
     "text": [
      " \n",
      "Getting https://www.walmart.com/ip/365-Kids-From-Garanimals-Girls-Side-Tie-Graphic-Long-Sleeve-T-Shirt-and-Rainbow-Skirt-2-Piece-Outfit-Set-Sizes-4-10/627434801\n",
      "Entered Reviews\n",
      "Walmart Girls Reviews shape (51, 9)\n",
      "Running next link\n"
     ]
    },
    {
     "name": "stderr",
     "output_type": "stream",
     "text": [
      "[WDM] - Current google-chrome version is 86.0.4240\n",
      "[WDM] - Get LATEST driver version for 86.0.4240\n",
      "[WDM] - Driver [/Users/DataSci/.wdm/drivers/chromedriver/mac64/86.0.4240.22/chromedriver] found in cache\n"
     ]
    },
    {
     "name": "stdout",
     "output_type": "stream",
     "text": [
      " \n",
      "Getting https://www.walmart.com/ip/Trolls-Girls-Long-Sleeve-Graphic-T-Shirt-Sizes-4-16/571386648\n",
      "No 'See All Reviews' button\n"
     ]
    },
    {
     "name": "stderr",
     "output_type": "stream",
     "text": [
      "[WDM] - Current google-chrome version is 86.0.4240\n",
      "[WDM] - Get LATEST driver version for 86.0.4240\n",
      "[WDM] - Driver [/Users/DataSci/.wdm/drivers/chromedriver/mac64/86.0.4240.22/chromedriver] found in cache\n"
     ]
    },
    {
     "name": "stdout",
     "output_type": "stream",
     "text": [
      " \n",
      "Getting https://www.walmart.com/ip/365-Kids-From-Garanimals-Girls-Graphic-Long-Sleeve-T-Shirt-and-Skirt-2-Piece-Outfit-Set-Sizes-4-10/803728410\n",
      "Entered Reviews\n",
      "Walmart Girls Reviews shape (52, 9)\n",
      "Running next link\n"
     ]
    },
    {
     "name": "stderr",
     "output_type": "stream",
     "text": [
      "[WDM] - Current google-chrome version is 86.0.4240\n",
      "[WDM] - Get LATEST driver version for 86.0.4240\n",
      "[WDM] - Driver [/Users/DataSci/.wdm/drivers/chromedriver/mac64/86.0.4240.22/chromedriver] found in cache\n"
     ]
    },
    {
     "name": "stdout",
     "output_type": "stream",
     "text": [
      " \n",
      "Getting https://www.walmart.com/ip/SwissTech-Girls-System-Jacket-Sizes-4-18-Plus/859947915\n",
      "Entered Reviews\n",
      "Walmart Girls Reviews shape (53, 9)\n",
      "Running next link\n"
     ]
    },
    {
     "name": "stderr",
     "output_type": "stream",
     "text": [
      "[WDM] - Current google-chrome version is 86.0.4240\n",
      "[WDM] - Get LATEST driver version for 86.0.4240\n"
     ]
    },
    {
     "name": "stdout",
     "output_type": "stream",
     "text": [
      " \n"
     ]
    },
    {
     "name": "stderr",
     "output_type": "stream",
     "text": [
      "[WDM] - Driver [/Users/DataSci/.wdm/drivers/chromedriver/mac64/86.0.4240.22/chromedriver] found in cache\n"
     ]
    },
    {
     "name": "stdout",
     "output_type": "stream",
     "text": [
      "Getting https://www.walmart.com/ip/Wonder-Nation-Girls-Exclusive-Super-Soft-Fleece-Blanket-Sleeper-Pajama-Sizes-4-18-Plus/669228121\n",
      "Entered Reviews\n",
      "Walmart Girls Reviews shape (54, 9)\n",
      "Running next link\n"
     ]
    },
    {
     "name": "stderr",
     "output_type": "stream",
     "text": [
      "[WDM] - Current google-chrome version is 86.0.4240\n",
      "[WDM] - Get LATEST driver version for 86.0.4240\n",
      "[WDM] - Driver [/Users/DataSci/.wdm/drivers/chromedriver/mac64/86.0.4240.22/chromedriver] found in cache\n"
     ]
    },
    {
     "name": "stdout",
     "output_type": "stream",
     "text": [
      " \n",
      "Getting https://www.walmart.com/ip/Forever-Me-Girls-Moto-Vest-Long-Sleeve-Top-and-Leggings-3-Piece-Outfit-Set-Sizes-4-16/518551514\n",
      "Entered Reviews\n",
      "Walmart Girls Reviews shape (55, 9)\n",
      "Running next link\n"
     ]
    },
    {
     "name": "stderr",
     "output_type": "stream",
     "text": [
      "[WDM] - Current google-chrome version is 86.0.4240\n",
      "[WDM] - Get LATEST driver version for 86.0.4240\n"
     ]
    },
    {
     "name": "stdout",
     "output_type": "stream",
     "text": [
      " \n"
     ]
    },
    {
     "name": "stderr",
     "output_type": "stream",
     "text": [
      "[WDM] - Driver [/Users/DataSci/.wdm/drivers/chromedriver/mac64/86.0.4240.22/chromedriver] found in cache\n"
     ]
    },
    {
     "name": "stdout",
     "output_type": "stream",
     "text": [
      "Getting https://www.walmart.com/ip/Fruit-of-the-Loom-Girls-Assorted-Cotton-Brief-Underwear-14-Pack-Panties-Sizes-4-14/613091475\n",
      "Entered Reviews\n",
      "Walmart Girls Reviews shape (56, 9)\n",
      "Running next link\n"
     ]
    },
    {
     "name": "stderr",
     "output_type": "stream",
     "text": [
      "[WDM] - Current google-chrome version is 86.0.4240\n",
      "[WDM] - Get LATEST driver version for 86.0.4240\n",
      "[WDM] - Driver [/Users/DataSci/.wdm/drivers/chromedriver/mac64/86.0.4240.22/chromedriver] found in cache\n"
     ]
    },
    {
     "name": "stdout",
     "output_type": "stream",
     "text": [
      " \n",
      "Getting https://www.walmart.com/ip/Climate-Concepts-Girls-Polar-Fleece-Lined-Hooded-Jacket-Sizes-4-16/361571293\n",
      "Entered Reviews\n",
      "Walmart Girls Reviews shape (57, 9)\n",
      "Running next link\n"
     ]
    },
    {
     "name": "stderr",
     "output_type": "stream",
     "text": [
      "[WDM] - Current google-chrome version is 86.0.4240\n",
      "[WDM] - Get LATEST driver version for 86.0.4240\n",
      "[WDM] - Driver [/Users/DataSci/.wdm/drivers/chromedriver/mac64/86.0.4240.22/chromedriver] found in cache\n"
     ]
    },
    {
     "name": "stdout",
     "output_type": "stream",
     "text": [
      " \n",
      "Getting https://www.walmart.com/ip/Garanimals-Toddler-Girls-Fleece-Sweatshirt-Sweatpants-Outfit-Set-4-Piece/789253108\n",
      "Entered Reviews\n",
      "Walmart Girls Reviews shape (58, 9)\n",
      "Running next link\n"
     ]
    },
    {
     "name": "stderr",
     "output_type": "stream",
     "text": [
      "[WDM] - Current google-chrome version is 86.0.4240\n",
      "[WDM] - Get LATEST driver version for 86.0.4240\n",
      "[WDM] - Driver [/Users/DataSci/.wdm/drivers/chromedriver/mac64/86.0.4240.22/chromedriver] found in cache\n"
     ]
    },
    {
     "name": "stdout",
     "output_type": "stream",
     "text": [
      " \n",
      "Getting https://www.walmart.com/ip/Cheetah-Toddler-Girls-Quilted-Performance-Fleece-Hoodie-Printed-Legging-2-Piece-Active-Set-2T-5T/790883978\n",
      "Entered Reviews\n",
      "Walmart Girls Reviews shape (59, 9)\n",
      "Running next link\n"
     ]
    },
    {
     "name": "stderr",
     "output_type": "stream",
     "text": [
      "[WDM] - Current google-chrome version is 86.0.4240\n",
      "[WDM] - Get LATEST driver version for 86.0.4240\n",
      "[WDM] - Driver [/Users/DataSci/.wdm/drivers/chromedriver/mac64/86.0.4240.22/chromedriver] found in cache\n"
     ]
    },
    {
     "name": "stdout",
     "output_type": "stream",
     "text": [
      " \n",
      "Getting https://www.walmart.com/ip/Wonder-Nation-Girls-Socks-20-Pack-No-Show-Sizes-S-L/904431862\n",
      "Entered Reviews\n",
      "Walmart Girls Reviews shape (60, 9)\n",
      "Running next link\n"
     ]
    },
    {
     "name": "stderr",
     "output_type": "stream",
     "text": [
      "[WDM] - Current google-chrome version is 86.0.4240\n",
      "[WDM] - Get LATEST driver version for 86.0.4240\n"
     ]
    },
    {
     "name": "stdout",
     "output_type": "stream",
     "text": [
      " \n"
     ]
    },
    {
     "name": "stderr",
     "output_type": "stream",
     "text": [
      "[WDM] - Driver [/Users/DataSci/.wdm/drivers/chromedriver/mac64/86.0.4240.22/chromedriver] found in cache\n"
     ]
    },
    {
     "name": "stdout",
     "output_type": "stream",
     "text": [
      "Getting https://www.walmart.com/ip/Cherokee-Girls-4-16-School-Uniform-Ponte-Pant/679418529\n",
      "No 'See All Reviews' button\n"
     ]
    },
    {
     "name": "stderr",
     "output_type": "stream",
     "text": [
      "[WDM] - Current google-chrome version is 86.0.4240\n",
      "[WDM] - Get LATEST driver version for 86.0.4240\n",
      "[WDM] - Driver [/Users/DataSci/.wdm/drivers/chromedriver/mac64/86.0.4240.22/chromedriver] found in cache\n"
     ]
    },
    {
     "name": "stdout",
     "output_type": "stream",
     "text": [
      " \n",
      "Getting https://www.walmart.com/ip/Fruit-of-the-Loom-Girls-Bras-2-Pack-Invisible-Scoop-Neck-Bralette-Sizes-28-38/951432536\n",
      "Entered Reviews\n",
      "Walmart Girls Reviews shape (61, 9)\n",
      "Running next link\n"
     ]
    },
    {
     "name": "stderr",
     "output_type": "stream",
     "text": [
      "[WDM] - Current google-chrome version is 86.0.4240\n",
      "[WDM] - Get LATEST driver version for 86.0.4240\n",
      "[WDM] - Driver [/Users/DataSci/.wdm/drivers/chromedriver/mac64/86.0.4240.22/chromedriver] found in cache\n"
     ]
    },
    {
     "name": "stdout",
     "output_type": "stream",
     "text": [
      " \n",
      "Getting https://www.walmart.com/ip/Lands-End-Girls-School-Uniform-Short-Sleeve-Button-Up-Oxford-Shirt-Sizes-4-16/479622220\n",
      "No 'See All Reviews' button\n"
     ]
    },
    {
     "name": "stderr",
     "output_type": "stream",
     "text": [
      "[WDM] - Current google-chrome version is 86.0.4240\n",
      "[WDM] - Get LATEST driver version for 86.0.4240\n"
     ]
    },
    {
     "name": "stdout",
     "output_type": "stream",
     "text": [
      " \n"
     ]
    },
    {
     "name": "stderr",
     "output_type": "stream",
     "text": [
      "[WDM] - Driver [/Users/DataSci/.wdm/drivers/chromedriver/mac64/86.0.4240.22/chromedriver] found in cache\n"
     ]
    },
    {
     "name": "stdout",
     "output_type": "stream",
     "text": [
      "Getting https://www.walmart.com/ip/Canis-Kids-Girls-Cake-Culottes-Leggings-With-Ruffle-Tutu-Skirt-Pants/239609823\n",
      "Entered Reviews\n",
      "Walmart Girls Reviews shape (62, 9)\n",
      "Running next link\n"
     ]
    },
    {
     "name": "stderr",
     "output_type": "stream",
     "text": [
      "[WDM] - Current google-chrome version is 86.0.4240\n",
      "[WDM] - Get LATEST driver version for 86.0.4240\n",
      "[WDM] - Driver [/Users/DataSci/.wdm/drivers/chromedriver/mac64/86.0.4240.22/chromedriver] found in cache\n"
     ]
    },
    {
     "name": "stdout",
     "output_type": "stream",
     "text": [
      " \n",
      "Getting https://www.walmart.com/ip/Trolls-Girls-Exclusive-Blanket-Sleeper-Sizes-4-12/905874605\n",
      "Entered Reviews\n",
      "Walmart Girls Reviews shape (63, 9)\n",
      "Running next link\n"
     ]
    },
    {
     "name": "stderr",
     "output_type": "stream",
     "text": [
      "[WDM] - Current google-chrome version is 86.0.4240\n",
      "[WDM] - Get LATEST driver version for 86.0.4240\n",
      "[WDM] - Driver [/Users/DataSci/.wdm/drivers/chromedriver/mac64/86.0.4240.22/chromedriver] found in cache\n"
     ]
    },
    {
     "name": "stdout",
     "output_type": "stream",
     "text": [
      " \n",
      "Getting https://www.walmart.com/ip/Btween-Girls-4-12-Long-Sleeve-Unicorn-Sequin-Graphic-and-Tutu-Skirt-2-Piece-Outfit-Set/496122251\n",
      "Entered Reviews\n",
      "Walmart Girls Reviews shape (64, 9)\n",
      "Running next link\n"
     ]
    },
    {
     "name": "stderr",
     "output_type": "stream",
     "text": [
      "[WDM] - Current google-chrome version is 86.0.4240\n",
      "[WDM] - Get LATEST driver version for 86.0.4240\n",
      "[WDM] - Driver [/Users/DataSci/.wdm/drivers/chromedriver/mac64/86.0.4240.22/chromedriver] found in cache\n"
     ]
    },
    {
     "name": "stdout",
     "output_type": "stream",
     "text": [
      " \n",
      "Getting https://www.walmart.com/ip/Multitrust-2PCS-Girls-Kids-Minnie-Outfits-Clothes-T-Shirt-Hoodies-Long-Pants-Set-Tracksuit/696995461\n",
      "Entered Reviews\n",
      "Walmart Girls Reviews shape (65, 9)\n",
      "Running next link\n"
     ]
    },
    {
     "name": "stderr",
     "output_type": "stream",
     "text": [
      "[WDM] - Current google-chrome version is 86.0.4240\n",
      "[WDM] - Get LATEST driver version for 86.0.4240\n",
      "[WDM] - Driver [/Users/DataSci/.wdm/drivers/chromedriver/mac64/86.0.4240.22/chromedriver] found in cache\n"
     ]
    },
    {
     "name": "stdout",
     "output_type": "stream",
     "text": [
      " \n",
      "Getting https://www.walmart.com/ip/Wonder-Nation-Girl-s-Exclusive-Super-Soft-Long-Sleeve-Pajama-Nightgown-2-Pack-4-18-Plus/990889091\n",
      "Entered Reviews\n",
      "Walmart Girls Reviews shape (66, 9)\n",
      "Running next link\n"
     ]
    },
    {
     "name": "stderr",
     "output_type": "stream",
     "text": [
      "[WDM] - Current google-chrome version is 86.0.4240\n",
      "[WDM] - Get LATEST driver version for 86.0.4240\n",
      "[WDM] - Driver [/Users/DataSci/.wdm/drivers/chromedriver/mac64/86.0.4240.22/chromedriver] found in cache\n"
     ]
    },
    {
     "name": "stdout",
     "output_type": "stream",
     "text": [
      " \n",
      "Getting https://www.walmart.com/ip/Wonder-Nation-Girls-Exclusive-Thermal-2-piece-PJ-Set-with-Sleep-Mask-4-18-Plus/128157808\n",
      "Entered Reviews\n",
      "Walmart Girls Reviews shape (67, 9)\n",
      "Running next link\n"
     ]
    },
    {
     "name": "stderr",
     "output_type": "stream",
     "text": [
      "[WDM] - Current google-chrome version is 86.0.4240\n",
      "[WDM] - Get LATEST driver version for 86.0.4240\n"
     ]
    },
    {
     "name": "stdout",
     "output_type": "stream",
     "text": [
      " \n"
     ]
    },
    {
     "name": "stderr",
     "output_type": "stream",
     "text": [
      "[WDM] - Driver [/Users/DataSci/.wdm/drivers/chromedriver/mac64/86.0.4240.22/chromedriver] found in cache\n"
     ]
    },
    {
     "name": "stdout",
     "output_type": "stream",
     "text": [
      "Getting https://www.walmart.com/ip/Pink-Platinum-Ruffled-fleece-hooded-jacket-little-girls-big-girls/322019513\n",
      "Entered Reviews\n",
      "Walmart Girls Reviews shape (68, 9)\n",
      "Running next link\n"
     ]
    },
    {
     "name": "stderr",
     "output_type": "stream",
     "text": [
      "[WDM] - Current google-chrome version is 86.0.4240\n",
      "[WDM] - Get LATEST driver version for 86.0.4240\n"
     ]
    },
    {
     "name": "stdout",
     "output_type": "stream",
     "text": [
      " \n"
     ]
    },
    {
     "name": "stderr",
     "output_type": "stream",
     "text": [
      "[WDM] - Driver [/Users/DataSci/.wdm/drivers/chromedriver/mac64/86.0.4240.22/chromedriver] found in cache\n"
     ]
    },
    {
     "name": "stdout",
     "output_type": "stream",
     "text": [
      "Getting https://www.walmart.com/ip/Joggies-Family-Matching-Black-and-Deep-Red-Hoodie-Onesies-for-Boys-Girls-Men-Women-and-Pets-Adult-Small2X-Dbl-Wide-Fits-5-3-5-6/756355601\n",
      "Entered Reviews\n",
      "Walmart Girls Reviews shape (69, 9)\n",
      "Running next link\n"
     ]
    },
    {
     "name": "stderr",
     "output_type": "stream",
     "text": [
      "[WDM] - Current google-chrome version is 86.0.4240\n",
      "[WDM] - Get LATEST driver version for 86.0.4240\n"
     ]
    },
    {
     "name": "stdout",
     "output_type": "stream",
     "text": [
      " \n"
     ]
    },
    {
     "name": "stderr",
     "output_type": "stream",
     "text": [
      "[WDM] - Driver [/Users/DataSci/.wdm/drivers/chromedriver/mac64/86.0.4240.22/chromedriver] found in cache\n"
     ]
    },
    {
     "name": "stdout",
     "output_type": "stream",
     "text": [
      "Getting https://www.walmart.com/ip/Hanes-Girls-Tagless-Brief-Underwear-10-Pack-Panties-Sizes-4-16/443192600\n",
      "Entered Reviews\n",
      "Walmart Girls Reviews shape (70, 9)\n",
      "Running next link\n"
     ]
    },
    {
     "name": "stderr",
     "output_type": "stream",
     "text": [
      "[WDM] - Current google-chrome version is 86.0.4240\n",
      "[WDM] - Get LATEST driver version for 86.0.4240\n"
     ]
    },
    {
     "name": "stdout",
     "output_type": "stream",
     "text": [
      " \n"
     ]
    },
    {
     "name": "stderr",
     "output_type": "stream",
     "text": [
      "[WDM] - Driver [/Users/DataSci/.wdm/drivers/chromedriver/mac64/86.0.4240.22/chromedriver] found in cache\n"
     ]
    },
    {
     "name": "stdout",
     "output_type": "stream",
     "text": [
      "Getting https://www.walmart.com/ip/Hanes-Girls-ComfortSoft-Eco-Smart-Girls-Crewneck-Sweatshirt-Sizes-4-16/54800609?wpa_bd=&wpa_pg_seller_id=F55CDC31AB754BB68FE0B39041159D63&wpa_ref_id=wpaqs:1TsehA_B7EHJhnqScjALon9Fo3MT9vQtHKprv5DNUoUeuWPUz0h2CuZcv6qa90HAgQSJ6odAn4kKNkJmVifRINH45Pp8eWjuA4tpD-I-9rmKXbYN7NlcpJYicuKm3kZY3aFZCMVRxXNGYPCn89XFvVUGpKaGwowvAT0o0_m3eZOhrYhfPL7wmGZHn5b54BqilNjY_3WoYkVJIUxhnI3EXQ&wpa_tag=&wpa_aux_info=&wpa_pos=10&wpa_plmt=1145x1145_T-C-IG_TI_1-6_HL-INGRID-GRID-NY&wpa_aduid=a7706de3-50c5-4584-be03-1b2067b4f376&wpa_pg=browse&wpa_pg_id=5438_7712430_1660851&wpa_st=__searchterms__&wpa_tax=5438_7712430_1660851&wpa_bucket=__bkt__\n",
      "Entered Reviews\n",
      "Walmart Girls Reviews shape (71, 9)\n",
      "Running next link\n"
     ]
    },
    {
     "name": "stderr",
     "output_type": "stream",
     "text": [
      "[WDM] - Current google-chrome version is 86.0.4240\n",
      "[WDM] - Get LATEST driver version for 86.0.4240\n"
     ]
    },
    {
     "name": "stdout",
     "output_type": "stream",
     "text": [
      " \n"
     ]
    },
    {
     "name": "stderr",
     "output_type": "stream",
     "text": [
      "[WDM] - Driver [/Users/DataSci/.wdm/drivers/chromedriver/mac64/86.0.4240.22/chromedriver] found in cache\n"
     ]
    },
    {
     "name": "stdout",
     "output_type": "stream",
     "text": [
      "Getting https://www.walmart.com/ip/Hanes-Boys-Ecosmart-Fleece-Crew-Neck-Sweatshirt-Sizes-4-18/40331619?wpa_bd=&wpa_pg_seller_id=F55CDC31AB754BB68FE0B39041159D63&wpa_ref_id=wpaqs:1TsehA_B7EHJhnqScjALon9Fo3MT9vQtHKprv5DNUoUeuWPUz0h2CuZcv6qa90HAgQSJ6odAn4kKNkJmVifRIEq5LCBMb571e_ibhP2kikUPc-aF15xPITeXu9I5gZuh3aFZCMVRxXNGYPCn89XFvVUGpKaGwowvAT0o0_m3eZOhrYhfPL7wmGZHn5b54BqilNjY_3WoYkVJIUxhnI3EXQ&wpa_tag=&wpa_aux_info=&wpa_pos=11&wpa_plmt=1145x1145_T-C-IG_TI_1-6_HL-INGRID-GRID-NY&wpa_aduid=a7706de3-50c5-4584-be03-1b2067b4f376&wpa_pg=browse&wpa_pg_id=5438_7712430_1660851&wpa_st=__searchterms__&wpa_tax=5438_7712430_1660851&wpa_bucket=__bkt__\n",
      "Entered Reviews\n",
      "Walmart Girls Reviews shape (72, 9)\n",
      "Running next link\n"
     ]
    },
    {
     "name": "stderr",
     "output_type": "stream",
     "text": [
      "[WDM] - Current google-chrome version is 86.0.4240\n",
      "[WDM] - Get LATEST driver version for 86.0.4240\n",
      "[WDM] - Driver [/Users/DataSci/.wdm/drivers/chromedriver/mac64/86.0.4240.22/chromedriver] found in cache\n"
     ]
    },
    {
     "name": "stdout",
     "output_type": "stream",
     "text": [
      " \n",
      "Getting https://www.walmart.com/ip/Social-Edition-Girls-Pullover-Novelty-Buttersoft-Hoodie-Sizes-4-18/511211105\n",
      "Entered Reviews\n",
      "Walmart Girls Reviews shape (73, 9)\n",
      "Running next link\n"
     ]
    },
    {
     "name": "stderr",
     "output_type": "stream",
     "text": [
      "[WDM] - Current google-chrome version is 86.0.4240\n",
      "[WDM] - Get LATEST driver version for 86.0.4240\n"
     ]
    },
    {
     "name": "stdout",
     "output_type": "stream",
     "text": [
      " \n"
     ]
    },
    {
     "name": "stderr",
     "output_type": "stream",
     "text": [
      "[WDM] - Driver [/Users/DataSci/.wdm/drivers/chromedriver/mac64/86.0.4240.22/chromedriver] found in cache\n"
     ]
    },
    {
     "name": "stdout",
     "output_type": "stream",
     "text": [
      "Getting https://www.walmart.com/ip/Garanimals-Toddler-Girls-Basic-Solid-and-Print-Long-Sleeve-Top-Multipack-3-Piece/574810157\n",
      "Entered Reviews\n",
      "Walmart Girls Reviews shape (74, 9)\n",
      "Running next link\n"
     ]
    },
    {
     "name": "stderr",
     "output_type": "stream",
     "text": [
      "[WDM] - Current google-chrome version is 86.0.4240\n",
      "[WDM] - Get LATEST driver version for 86.0.4240\n"
     ]
    },
    {
     "name": "stdout",
     "output_type": "stream",
     "text": [
      " \n"
     ]
    },
    {
     "name": "stderr",
     "output_type": "stream",
     "text": [
      "[WDM] - Driver [/Users/DataSci/.wdm/drivers/chromedriver/mac64/86.0.4240.22/chromedriver] found in cache\n"
     ]
    },
    {
     "name": "stdout",
     "output_type": "stream",
     "text": [
      "Getting https://www.walmart.com/ip/Hind-Girls-Active-Leggings-and-Jogger-Sweatpants-2-Pack-Sizes-4-16/867781094\n",
      "Entered Reviews\n",
      "Walmart Girls Reviews shape (75, 9)\n",
      "Running next link\n"
     ]
    },
    {
     "name": "stderr",
     "output_type": "stream",
     "text": [
      "[WDM] - Current google-chrome version is 86.0.4240\n",
      "[WDM] - Get LATEST driver version for 86.0.4240\n"
     ]
    },
    {
     "name": "stdout",
     "output_type": "stream",
     "text": [
      " \n"
     ]
    },
    {
     "name": "stderr",
     "output_type": "stream",
     "text": [
      "[WDM] - Driver [/Users/DataSci/.wdm/drivers/chromedriver/mac64/86.0.4240.22/chromedriver] found in cache\n"
     ]
    },
    {
     "name": "stdout",
     "output_type": "stream",
     "text": [
      "Getting https://www.walmart.com/ip/Wonder-Nation-Girls-2-Piece-Long-Sleeve-Doll-and-Me-Gown-Set-Sizes-4-18-Plus/710069101\n",
      "Entered Reviews\n",
      "Walmart Girls Reviews shape (76, 9)\n",
      "Running next link\n"
     ]
    },
    {
     "name": "stderr",
     "output_type": "stream",
     "text": [
      "[WDM] - Current google-chrome version is 86.0.4240\n",
      "[WDM] - Get LATEST driver version for 86.0.4240\n"
     ]
    },
    {
     "name": "stdout",
     "output_type": "stream",
     "text": [
      " \n"
     ]
    },
    {
     "name": "stderr",
     "output_type": "stream",
     "text": [
      "[WDM] - Driver [/Users/DataSci/.wdm/drivers/chromedriver/mac64/86.0.4240.22/chromedriver] found in cache\n"
     ]
    },
    {
     "name": "stdout",
     "output_type": "stream",
     "text": [
      "Getting https://www.walmart.com/ip/Pink-Velvet-Girls-Fashion-Yummy-Printed-and-Solid-Skater-Dress-Sizes-4-12-2-Pack/629471453\n",
      "Entered Reviews\n",
      "Walmart Girls Reviews shape (77, 9)\n",
      "Running next link\n"
     ]
    },
    {
     "name": "stderr",
     "output_type": "stream",
     "text": [
      "[WDM] - Current google-chrome version is 86.0.4240\n",
      "[WDM] - Get LATEST driver version for 86.0.4240\n"
     ]
    },
    {
     "name": "stdout",
     "output_type": "stream",
     "text": [
      " \n"
     ]
    },
    {
     "name": "stderr",
     "output_type": "stream",
     "text": [
      "[WDM] - Driver [/Users/DataSci/.wdm/drivers/chromedriver/mac64/86.0.4240.22/chromedriver] found in cache\n"
     ]
    },
    {
     "name": "stdout",
     "output_type": "stream",
     "text": [
      "Getting https://www.walmart.com/ip/Athletic-Works-Girls-1-4-Zip-Micro-Polar-Fleece-Pullover-Sizes-4-18-Plus/463041318\n",
      "Entered Reviews\n",
      "Walmart Girls Reviews shape (78, 9)\n",
      "Running next link\n"
     ]
    },
    {
     "name": "stderr",
     "output_type": "stream",
     "text": [
      "[WDM] - Current google-chrome version is 86.0.4240\n",
      "[WDM] - Get LATEST driver version for 86.0.4240\n",
      "[WDM] - Driver [/Users/DataSci/.wdm/drivers/chromedriver/mac64/86.0.4240.22/chromedriver] found in cache\n"
     ]
    },
    {
     "name": "stdout",
     "output_type": "stream",
     "text": [
      " \n",
      "Getting https://www.walmart.com/ip/Wonder-Nation-Girls-Hi-Low-Holiday-Glitter-Mesh-Dress-Sizes-4-18-Plus/746365125\n",
      "Entered Reviews\n",
      "Walmart Girls Reviews shape (79, 9)\n",
      "Running next link\n"
     ]
    },
    {
     "name": "stderr",
     "output_type": "stream",
     "text": [
      "[WDM] - Current google-chrome version is 86.0.4240\n",
      "[WDM] - Get LATEST driver version for 86.0.4240\n",
      "[WDM] - Driver [/Users/DataSci/.wdm/drivers/chromedriver/mac64/86.0.4240.22/chromedriver] found in cache\n"
     ]
    },
    {
     "name": "stdout",
     "output_type": "stream",
     "text": [
      " \n",
      "Getting https://www.walmart.com/ip/Frozen-Girls-Exclusive-Fashion-Top-Tutu-Skirt-Legging-and-Headpiece-4-Piece-Outfit-Set-Sizes-4-16/899117832\n",
      "Entered Reviews\n",
      "Walmart Girls Reviews shape (80, 9)\n",
      "Running next link\n"
     ]
    },
    {
     "name": "stderr",
     "output_type": "stream",
     "text": [
      "[WDM] - Current google-chrome version is 86.0.4240\n",
      "[WDM] - Get LATEST driver version for 86.0.4240\n"
     ]
    },
    {
     "name": "stdout",
     "output_type": "stream",
     "text": [
      " \n"
     ]
    },
    {
     "name": "stderr",
     "output_type": "stream",
     "text": [
      "[WDM] - Driver [/Users/DataSci/.wdm/drivers/chromedriver/mac64/86.0.4240.22/chromedriver] found in cache\n"
     ]
    },
    {
     "name": "stdout",
     "output_type": "stream",
     "text": [
      "Getting https://www.walmart.com/ip/Jordache-Girls-Bootcut-Jeans-Sizes-5-18-Plus/561947889\n",
      "Entered Reviews\n",
      "Walmart Girls Reviews shape (81, 9)\n",
      "Running next link\n"
     ]
    },
    {
     "name": "stderr",
     "output_type": "stream",
     "text": [
      "[WDM] - Current google-chrome version is 86.0.4240\n",
      "[WDM] - Get LATEST driver version for 86.0.4240\n"
     ]
    },
    {
     "name": "stdout",
     "output_type": "stream",
     "text": [
      " \n"
     ]
    },
    {
     "name": "stderr",
     "output_type": "stream",
     "text": [
      "[WDM] - Driver [/Users/DataSci/.wdm/drivers/chromedriver/mac64/86.0.4240.22/chromedriver] found in cache\n"
     ]
    },
    {
     "name": "stdout",
     "output_type": "stream",
     "text": [
      "Getting https://www.walmart.com/ip/Wonder-Nation-Girls-Holiday-Graphic-Solid-T-Shirts-2-Pack-Sizes-4-18-Plus/422220787\n",
      "Entered Reviews\n",
      "Walmart Girls Reviews shape (82, 9)\n",
      "Running next link\n"
     ]
    },
    {
     "name": "stderr",
     "output_type": "stream",
     "text": [
      "[WDM] - Current google-chrome version is 86.0.4240\n",
      "[WDM] - Get LATEST driver version for 86.0.4240\n"
     ]
    },
    {
     "name": "stdout",
     "output_type": "stream",
     "text": [
      " \n"
     ]
    },
    {
     "name": "stderr",
     "output_type": "stream",
     "text": [
      "[WDM] - Driver [/Users/DataSci/.wdm/drivers/chromedriver/mac64/86.0.4240.22/chromedriver] found in cache\n"
     ]
    },
    {
     "name": "stdout",
     "output_type": "stream",
     "text": [
      "Getting https://www.walmart.com/ip/Wonder-Nation-Girls-4-18-Plus-Quarter-Zip-Sherpa-Pullover/771641606\n",
      "Entered Reviews\n",
      "Walmart Girls Reviews shape (83, 9)\n",
      "Running next link\n"
     ]
    },
    {
     "name": "stderr",
     "output_type": "stream",
     "text": [
      "[WDM] - Current google-chrome version is 86.0.4240\n",
      "[WDM] - Get LATEST driver version for 86.0.4240\n"
     ]
    },
    {
     "name": "stdout",
     "output_type": "stream",
     "text": [
      " \n"
     ]
    },
    {
     "name": "stderr",
     "output_type": "stream",
     "text": [
      "[WDM] - Driver [/Users/DataSci/.wdm/drivers/chromedriver/mac64/86.0.4240.22/chromedriver] found in cache\n"
     ]
    },
    {
     "name": "stdout",
     "output_type": "stream",
     "text": [
      "Getting https://www.walmart.com/ip/Garanimals-Fleece-Sweatpants-3-Pack-Toddler-Girls/632920160\n",
      "Entered Reviews\n",
      "Walmart Girls Reviews shape (84, 9)\n",
      "Running next link\n"
     ]
    },
    {
     "name": "stderr",
     "output_type": "stream",
     "text": [
      "[WDM] - Current google-chrome version is 86.0.4240\n",
      "[WDM] - Get LATEST driver version for 86.0.4240\n",
      "[WDM] - Driver [/Users/DataSci/.wdm/drivers/chromedriver/mac64/86.0.4240.22/chromedriver] found in cache\n"
     ]
    },
    {
     "name": "stdout",
     "output_type": "stream",
     "text": [
      " \n",
      "Getting https://www.walmart.com/ip/Sweet-Butterfly-Girls-Long-Sleeve-Plaid-and-Tulle-2Fer-Dress-Sizes-4-16/929157508\n",
      "Entered Reviews\n",
      "Walmart Girls Reviews shape (85, 9)\n",
      "Running next link\n"
     ]
    },
    {
     "name": "stderr",
     "output_type": "stream",
     "text": [
      "[WDM] - Current google-chrome version is 86.0.4240\n",
      "[WDM] - Get LATEST driver version for 86.0.4240\n",
      "[WDM] - Driver [/Users/DataSci/.wdm/drivers/chromedriver/mac64/86.0.4240.22/chromedriver] found in cache\n"
     ]
    },
    {
     "name": "stdout",
     "output_type": "stream",
     "text": [
      " \n",
      "Getting https://www.walmart.com/ip/Garanimals-Baby-Girls-Toddler-Girls-Long-Sleeve-Solid-T-shirts-3-Pack-12M-5T/516049718\n",
      "Entered Reviews\n",
      "Walmart Girls Reviews shape (86, 9)\n",
      "Running next link\n"
     ]
    },
    {
     "name": "stderr",
     "output_type": "stream",
     "text": [
      "[WDM] - Current google-chrome version is 86.0.4240\n",
      "[WDM] - Get LATEST driver version for 86.0.4240\n",
      "[WDM] - Driver [/Users/DataSci/.wdm/drivers/chromedriver/mac64/86.0.4240.22/chromedriver] found in cache\n"
     ]
    },
    {
     "name": "stdout",
     "output_type": "stream",
     "text": [
      " \n",
      "Getting https://www.walmart.com/ip/Star-Ride-Girls-Fleece-Lined-Seamless-Leggings-2-Pack-Sizes-4-16/204292021\n",
      "Entered Reviews\n",
      "Walmart Girls Reviews shape (87, 9)\n",
      "Running next link\n"
     ]
    },
    {
     "name": "stderr",
     "output_type": "stream",
     "text": [
      "[WDM] - Current google-chrome version is 86.0.4240\n",
      "[WDM] - Get LATEST driver version for 86.0.4240\n",
      "[WDM] - Driver [/Users/DataSci/.wdm/drivers/chromedriver/mac64/86.0.4240.22/chromedriver] found in cache\n"
     ]
    },
    {
     "name": "stdout",
     "output_type": "stream",
     "text": [
      " \n",
      "Getting https://www.walmart.com/ip/Peppa-Pig-Toddler-Girls-Long-Sleeve-Snug-Fit-Cotton-Pajamas-4pc-Set/663146016\n",
      "Entered Reviews\n",
      "Walmart Girls Reviews shape (88, 9)\n",
      "Running next link\n"
     ]
    },
    {
     "name": "stderr",
     "output_type": "stream",
     "text": [
      "[WDM] - Current google-chrome version is 86.0.4240\n",
      "[WDM] - Get LATEST driver version for 86.0.4240\n",
      "[WDM] - Driver [/Users/DataSci/.wdm/drivers/chromedriver/mac64/86.0.4240.22/chromedriver] found in cache\n"
     ]
    },
    {
     "name": "stdout",
     "output_type": "stream",
     "text": [
      " \n",
      "Getting https://www.walmart.com/ip/Wonder-Nation-Girls-Tie-Dye-T-Shirts-2-Pack-Sizes-4-18-Plus/509039120\n",
      "Entered Reviews\n",
      "Walmart Girls Reviews shape (89, 9)\n",
      "Running next link\n"
     ]
    },
    {
     "name": "stderr",
     "output_type": "stream",
     "text": [
      "[WDM] - Current google-chrome version is 86.0.4240\n",
      "[WDM] - Get LATEST driver version for 86.0.4240\n"
     ]
    },
    {
     "name": "stdout",
     "output_type": "stream",
     "text": [
      " \n"
     ]
    },
    {
     "name": "stderr",
     "output_type": "stream",
     "text": [
      "[WDM] - Driver [/Users/DataSci/.wdm/drivers/chromedriver/mac64/86.0.4240.22/chromedriver] found in cache\n"
     ]
    },
    {
     "name": "stdout",
     "output_type": "stream",
     "text": [
      "Getting https://www.walmart.com/ip/Garanimals-Baby-Girls-Toddler-Girls-Mix-Match-Outfits-Kid-Pack-Gift-Box-8-Piece-Set-12M-5T/987218555\n",
      "Entered Reviews\n",
      "Walmart Girls Reviews shape (90, 9)\n",
      "Running next link\n"
     ]
    },
    {
     "name": "stderr",
     "output_type": "stream",
     "text": [
      "[WDM] - Current google-chrome version is 86.0.4240\n",
      "[WDM] - Get LATEST driver version for 86.0.4240\n"
     ]
    },
    {
     "name": "stdout",
     "output_type": "stream",
     "text": [
      " \n"
     ]
    },
    {
     "name": "stderr",
     "output_type": "stream",
     "text": [
      "[WDM] - Driver [/Users/DataSci/.wdm/drivers/chromedriver/mac64/86.0.4240.22/chromedriver] found in cache\n"
     ]
    },
    {
     "name": "stdout",
     "output_type": "stream",
     "text": [
      "Getting https://www.walmart.com/ip/Disney-Frozen-Girls-Pajama-Blanket-Sleeper-Sizes-4-12/928407467\n",
      "Entered Reviews\n",
      "Walmart Girls Reviews shape (91, 9)\n",
      "Running next link\n"
     ]
    },
    {
     "name": "stderr",
     "output_type": "stream",
     "text": [
      "[WDM] - Current google-chrome version is 86.0.4240\n",
      "[WDM] - Get LATEST driver version for 86.0.4240\n"
     ]
    },
    {
     "name": "stdout",
     "output_type": "stream",
     "text": [
      " \n"
     ]
    },
    {
     "name": "stderr",
     "output_type": "stream",
     "text": [
      "[WDM] - Driver [/Users/DataSci/.wdm/drivers/chromedriver/mac64/86.0.4240.22/chromedriver] found in cache\n"
     ]
    },
    {
     "name": "stdout",
     "output_type": "stream",
     "text": [
      "Getting https://www.walmart.com/ip/Sugar-Diamonds-Girls-Pullover-Hoodie-with-Face-Covering-Sizes-4-18/207249448\n",
      "Entered Reviews\n",
      "Walmart Girls Reviews shape (92, 9)\n",
      "Running next link\n"
     ]
    },
    {
     "name": "stderr",
     "output_type": "stream",
     "text": [
      "[WDM] - Current google-chrome version is 86.0.4240\n",
      "[WDM] - Get LATEST driver version for 86.0.4240\n",
      "[WDM] - Driver [/Users/DataSci/.wdm/drivers/chromedriver/mac64/86.0.4240.22/chromedriver] found in cache\n"
     ]
    },
    {
     "name": "stdout",
     "output_type": "stream",
     "text": [
      " \n",
      "Getting https://www.walmart.com/ip/Paw-Patrol-Toddler-Girl-Long-Sleeve-Snug-Fit-Cotton-Pajamas-4pc-Set/900771257\n",
      "Entered Reviews\n",
      "Walmart Girls Reviews shape (93, 9)\n",
      "Running next link\n"
     ]
    },
    {
     "name": "stderr",
     "output_type": "stream",
     "text": [
      "[WDM] - Current google-chrome version is 86.0.4240\n",
      "[WDM] - Get LATEST driver version for 86.0.4240\n"
     ]
    },
    {
     "name": "stdout",
     "output_type": "stream",
     "text": [
      " \n"
     ]
    },
    {
     "name": "stderr",
     "output_type": "stream",
     "text": [
      "[WDM] - Driver [/Users/DataSci/.wdm/drivers/chromedriver/mac64/86.0.4240.22/chromedriver] found in cache\n"
     ]
    },
    {
     "name": "stdout",
     "output_type": "stream",
     "text": [
      "Getting https://www.walmart.com/ip/Wonder-Nation-Girls-4-16-Plus-100-Cotton-Brief-Panties-10-Pack/886486934\n",
      "Entered Reviews\n",
      "Walmart Girls Reviews shape (94, 9)\n",
      "Running next link\n"
     ]
    },
    {
     "name": "stderr",
     "output_type": "stream",
     "text": [
      "[WDM] - Current google-chrome version is 86.0.4240\n",
      "[WDM] - Get LATEST driver version for 86.0.4240\n",
      "[WDM] - Driver [/Users/DataSci/.wdm/drivers/chromedriver/mac64/86.0.4240.22/chromedriver] found in cache\n"
     ]
    },
    {
     "name": "stdout",
     "output_type": "stream",
     "text": [
      " \n",
      "Getting https://www.walmart.com/ip/Frozen-2-Toddler-Girl-Microfleece-Blanket-Sleeper-Pajamas/847902425\n",
      "Entered Reviews\n",
      "Walmart Girls Reviews shape (95, 9)\n",
      "Running next link\n"
     ]
    },
    {
     "name": "stderr",
     "output_type": "stream",
     "text": [
      "[WDM] - Current google-chrome version is 86.0.4240\n",
      "[WDM] - Get LATEST driver version for 86.0.4240\n",
      "[WDM] - Driver [/Users/DataSci/.wdm/drivers/chromedriver/mac64/86.0.4240.22/chromedriver] found in cache\n"
     ]
    },
    {
     "name": "stdout",
     "output_type": "stream",
     "text": [
      " \n",
      "Getting https://www.walmart.com/ip/Matching-Family-Christmas-Pajamas-Kid-s-Oh-Christmas-Tree-2-Piece-Pajama-Set/962951708\n",
      "Entered Reviews\n",
      "Walmart Girls Reviews shape (96, 9)\n",
      "Running next link\n"
     ]
    },
    {
     "name": "stderr",
     "output_type": "stream",
     "text": [
      "[WDM] - Current google-chrome version is 86.0.4240\n",
      "[WDM] - Get LATEST driver version for 86.0.4240\n"
     ]
    },
    {
     "name": "stdout",
     "output_type": "stream",
     "text": [
      " \n"
     ]
    },
    {
     "name": "stderr",
     "output_type": "stream",
     "text": [
      "[WDM] - Driver [/Users/DataSci/.wdm/drivers/chromedriver/mac64/86.0.4240.22/chromedriver] found in cache\n"
     ]
    },
    {
     "name": "stdout",
     "output_type": "stream",
     "text": [
      "Getting https://www.walmart.com/ip/Wonder-Nation-Baby-and-Toddler-Girls-Reversible-Bubble-Jacket/444067826\n",
      "Entered Reviews\n",
      "Walmart Girls Reviews shape (97, 9)\n",
      "Running next link\n"
     ]
    },
    {
     "name": "stderr",
     "output_type": "stream",
     "text": [
      "[WDM] - Current google-chrome version is 86.0.4240\n",
      "[WDM] - Get LATEST driver version for 86.0.4240\n",
      "[WDM] - Driver [/Users/DataSci/.wdm/drivers/chromedriver/mac64/86.0.4240.22/chromedriver] found in cache\n"
     ]
    },
    {
     "name": "stdout",
     "output_type": "stream",
     "text": [
      " \n",
      "Getting https://www.walmart.com/ip/Pink-Platinum-Girls-Cheetah-Print-Puffer-Coat-with-Gift-with-Purchase-Sizes-4-16/708350981\n",
      "Entered Reviews\n",
      "Walmart Girls Reviews shape (98, 9)\n",
      "Running next link\n"
     ]
    },
    {
     "name": "stderr",
     "output_type": "stream",
     "text": [
      "[WDM] - Current google-chrome version is 86.0.4240\n",
      "[WDM] - Get LATEST driver version for 86.0.4240\n"
     ]
    },
    {
     "name": "stdout",
     "output_type": "stream",
     "text": [
      " \n"
     ]
    },
    {
     "name": "stderr",
     "output_type": "stream",
     "text": [
      "[WDM] - Driver [/Users/DataSci/.wdm/drivers/chromedriver/mac64/86.0.4240.22/chromedriver] found in cache\n"
     ]
    },
    {
     "name": "stdout",
     "output_type": "stream",
     "text": [
      "Getting https://www.walmart.com/ip/L-O-L-Surprise-Girls-Exclusive-Blanket-Sleeper-Sizes-4-12/306238827\n",
      "Entered Reviews\n",
      "Walmart Girls Reviews shape (99, 9)\n",
      "Running next link\n"
     ]
    },
    {
     "name": "stderr",
     "output_type": "stream",
     "text": [
      "[WDM] - Current google-chrome version is 86.0.4240\n",
      "[WDM] - Get LATEST driver version for 86.0.4240\n",
      "[WDM] - Driver [/Users/DataSci/.wdm/drivers/chromedriver/mac64/86.0.4240.22/chromedriver] found in cache\n"
     ]
    },
    {
     "name": "stdout",
     "output_type": "stream",
     "text": [
      " \n",
      "Getting https://www.walmart.com/ip/Maria-Rosa-Girls-Fleece-Lined-Leggings-6-Pack/220962985\n",
      "Entered Reviews\n",
      "Walmart Girls Reviews shape (100, 9)\n",
      "Running next link\n"
     ]
    },
    {
     "name": "stderr",
     "output_type": "stream",
     "text": [
      "[WDM] - Current google-chrome version is 86.0.4240\n",
      "[WDM] - Get LATEST driver version for 86.0.4240\n",
      "[WDM] - Driver [/Users/DataSci/.wdm/drivers/chromedriver/mac64/86.0.4240.22/chromedriver] found in cache\n"
     ]
    },
    {
     "name": "stdout",
     "output_type": "stream",
     "text": [
      " \n",
      "Getting https://www.walmart.com/ip/Wonder-Nation-Girls-Exclusive-Metallic-Bubble-Puffer-Jacket-Sizes-4-18-Plus/543508473\n",
      "Entered Reviews\n",
      "Walmart Girls Reviews shape (101, 9)\n",
      "Running next link\n"
     ]
    },
    {
     "name": "stderr",
     "output_type": "stream",
     "text": [
      "[WDM] - Current google-chrome version is 86.0.4240\n",
      "[WDM] - Get LATEST driver version for 86.0.4240\n",
      "[WDM] - Driver [/Users/DataSci/.wdm/drivers/chromedriver/mac64/86.0.4240.22/chromedriver] found in cache\n"
     ]
    },
    {
     "name": "stdout",
     "output_type": "stream",
     "text": [
      " \n",
      "Getting https://www.walmart.com/ip/Wonder-Nation-Girls-Kid-Tough-Pull-on-Jegging-Jeans-2-Pack-Sizes-4-18-Plus/701987934\n",
      "Entered Reviews\n",
      "Walmart Girls Reviews shape (102, 9)\n",
      "Running next link\n"
     ]
    },
    {
     "name": "stderr",
     "output_type": "stream",
     "text": [
      "[WDM] - Current google-chrome version is 86.0.4240\n",
      "[WDM] - Get LATEST driver version for 86.0.4240\n",
      "[WDM] - Driver [/Users/DataSci/.wdm/drivers/chromedriver/mac64/86.0.4240.22/chromedriver] found in cache\n"
     ]
    },
    {
     "name": "stdout",
     "output_type": "stream",
     "text": [
      " \n",
      "Getting https://www.walmart.com/ip/Forever-and-Ever-Girls-Chenille-Novelty-Pullover-Sweater-Sizes-4-18-Plus/765937148\n",
      "Entered Reviews\n",
      "Walmart Girls Reviews shape (103, 9)\n",
      "Running next link\n"
     ]
    },
    {
     "name": "stderr",
     "output_type": "stream",
     "text": [
      "[WDM] - Current google-chrome version is 86.0.4240\n",
      "[WDM] - Get LATEST driver version for 86.0.4240\n",
      "[WDM] - Driver [/Users/DataSci/.wdm/drivers/chromedriver/mac64/86.0.4240.22/chromedriver] found in cache\n"
     ]
    },
    {
     "name": "stdout",
     "output_type": "stream",
     "text": [
      " \n",
      "Getting https://www.walmart.com/ip/Halloween-Girls-Graphic-Top-and-Leggings-Outfit-Set-2-Piece-Sizes-4-18/246105315\n",
      "Entered Reviews\n",
      "Walmart Girls Reviews shape (104, 9)\n",
      "Running next link\n"
     ]
    },
    {
     "name": "stderr",
     "output_type": "stream",
     "text": [
      "[WDM] - Current google-chrome version is 86.0.4240\n",
      "[WDM] - Get LATEST driver version for 86.0.4240\n"
     ]
    },
    {
     "name": "stdout",
     "output_type": "stream",
     "text": [
      " \n"
     ]
    },
    {
     "name": "stderr",
     "output_type": "stream",
     "text": [
      "[WDM] - Driver [/Users/DataSci/.wdm/drivers/chromedriver/mac64/86.0.4240.22/chromedriver] found in cache\n"
     ]
    },
    {
     "name": "stdout",
     "output_type": "stream",
     "text": [
      "Getting https://www.walmart.com/ip/Jordache-Girls-Super-Skinny-High-Rise-Jeans-Sizes-5-18/220885295\n",
      "Entered Reviews\n",
      "Walmart Girls Reviews shape (105, 9)\n",
      "Running next link\n"
     ]
    },
    {
     "name": "stderr",
     "output_type": "stream",
     "text": [
      "[WDM] - Current google-chrome version is 86.0.4240\n",
      "[WDM] - Get LATEST driver version for 86.0.4240\n",
      "[WDM] - Driver [/Users/DataSci/.wdm/drivers/chromedriver/mac64/86.0.4240.22/chromedriver] found in cache\n"
     ]
    },
    {
     "name": "stdout",
     "output_type": "stream",
     "text": [
      " \n",
      "Getting https://www.walmart.com/ip/Frozen-2-Toddler-Girl-Long-Sleeve-Snug-Fit-Cotton-Pajamas-4pc-Set/364970984\n",
      "Entered Reviews\n",
      "Walmart Girls Reviews shape (106, 9)\n",
      "Running next link\n"
     ]
    },
    {
     "name": "stderr",
     "output_type": "stream",
     "text": [
      "[WDM] - Current google-chrome version is 86.0.4240\n",
      "[WDM] - Get LATEST driver version for 86.0.4240\n",
      "[WDM] - Driver [/Users/DataSci/.wdm/drivers/chromedriver/mac64/86.0.4240.22/chromedriver] found in cache\n"
     ]
    },
    {
     "name": "stdout",
     "output_type": "stream",
     "text": [
      " \n",
      "Getting https://www.walmart.com/ip/Hanes-Toddler-Girls-Low-Cut-Socks-10-Pack/43306161\n",
      "Entered Reviews\n",
      "Walmart Girls Reviews shape (107, 9)\n",
      "Running next link\n"
     ]
    },
    {
     "name": "stderr",
     "output_type": "stream",
     "text": [
      "[WDM] - Current google-chrome version is 86.0.4240\n",
      "[WDM] - Get LATEST driver version for 86.0.4240\n",
      "[WDM] - Driver [/Users/DataSci/.wdm/drivers/chromedriver/mac64/86.0.4240.22/chromedriver] found in cache\n"
     ]
    },
    {
     "name": "stdout",
     "output_type": "stream",
     "text": [
      " \n",
      "Getting https://www.walmart.com/ip/Trolls-Toddler-Girl-Long-Sleeve-Snug-Fit-Cotton-Pajamas-4pc-Set/211390121\n",
      "Entered Reviews\n",
      "Walmart Girls Reviews shape (108, 9)\n",
      "Running next link\n"
     ]
    },
    {
     "name": "stderr",
     "output_type": "stream",
     "text": [
      "[WDM] - Current google-chrome version is 86.0.4240\n",
      "[WDM] - Get LATEST driver version for 86.0.4240\n",
      "[WDM] - Driver [/Users/DataSci/.wdm/drivers/chromedriver/mac64/86.0.4240.22/chromedriver] found in cache\n"
     ]
    },
    {
     "name": "stdout",
     "output_type": "stream",
     "text": [
      " \n",
      "Getting https://www.walmart.com/ip/Forever-and-Ever-Girls-Boucle-Long-Open-Cardigan-with-Lurex-Sizes-4-18-Plus/889001532\n",
      "Entered Reviews\n",
      "Walmart Girls Reviews shape (109, 9)\n",
      "Running next link\n"
     ]
    },
    {
     "name": "stderr",
     "output_type": "stream",
     "text": [
      "[WDM] - Current google-chrome version is 86.0.4240\n",
      "[WDM] - Get LATEST driver version for 86.0.4240\n"
     ]
    },
    {
     "name": "stdout",
     "output_type": "stream",
     "text": [
      " \n"
     ]
    },
    {
     "name": "stderr",
     "output_type": "stream",
     "text": [
      "[WDM] - Driver [/Users/DataSci/.wdm/drivers/chromedriver/mac64/86.0.4240.22/chromedriver] found in cache\n"
     ]
    },
    {
     "name": "stdout",
     "output_type": "stream",
     "text": [
      "Getting https://www.walmart.com/ip/Descendants-Girls-Exclusive-Long-Sleeve-2-Piece-Set-Sizes-4-12/234644683\n",
      "Entered Reviews\n",
      "Walmart Girls Reviews shape (110, 9)\n",
      "Running next link\n"
     ]
    },
    {
     "name": "stderr",
     "output_type": "stream",
     "text": [
      "[WDM] - Current google-chrome version is 86.0.4240\n",
      "[WDM] - Get LATEST driver version for 86.0.4240\n"
     ]
    },
    {
     "name": "stdout",
     "output_type": "stream",
     "text": [
      " \n"
     ]
    },
    {
     "name": "stderr",
     "output_type": "stream",
     "text": [
      "[WDM] - Driver [/Users/DataSci/.wdm/drivers/chromedriver/mac64/86.0.4240.22/chromedriver] found in cache\n"
     ]
    },
    {
     "name": "stdout",
     "output_type": "stream",
     "text": [
      "Getting https://www.walmart.com/ip/Fruit-of-the-Loom-Girls-Ankle-Socks-10-Pack/435447761?wpa_bd=&wpa_pg_seller_id=F55CDC31AB754BB68FE0B39041159D63&wpa_ref_id=wpaqs:NlgcVJAeEIfYlygALxAyHd6gGTjfbw4XsObnAgV7-QZIYPgQAsp6jmUmkwzZFwGZ9YYJoTUwhNTE3zkULQJUAwjZ3jnQnHiAdlHEeSfPgev9qS3oJLsggolBBQwgiP4t3aFZCMVRxXNGYPCn89XFvVUGpKaGwowvAT0o0_m3eZMzC4qFz1iZwxCSa16nuGbtlNjY_3WoYkVJIUxhnI3EXQ&wpa_tag=__tag__&wpa_aux_info=__aux_info__&wpa_pos=10&wpa_plmt=__plmt__&wpa_aduid=__aduid__\n",
      "Entered Reviews\n",
      "Walmart Girls Reviews shape (111, 9)\n",
      "Running next link\n"
     ]
    },
    {
     "name": "stderr",
     "output_type": "stream",
     "text": [
      "[WDM] - Current google-chrome version is 86.0.4240\n",
      "[WDM] - Get LATEST driver version for 86.0.4240\n"
     ]
    },
    {
     "name": "stdout",
     "output_type": "stream",
     "text": [
      " \n"
     ]
    },
    {
     "name": "stderr",
     "output_type": "stream",
     "text": [
      "[WDM] - Driver [/Users/DataSci/.wdm/drivers/chromedriver/mac64/86.0.4240.22/chromedriver] found in cache\n"
     ]
    },
    {
     "name": "stdout",
     "output_type": "stream",
     "text": [
      "Getting https://www.walmart.com/ip/Frozen-2-Girls-Exclusive-Blanket-Sleeper-Sizes-4-12/289087314?wpa_bd=&wpa_pg_seller_id=F55CDC31AB754BB68FE0B39041159D63&wpa_ref_id=wpaqs:xQZlolo3ybZim6DhUMRIgeDBr5YDeww2zAoaYLLzzZVIYPgQAsp6jmUmkwzZFwGZ9YYJoTUwhNTE3zkULQJUA3TcLAlwnvkF4pc-N-9ajRqX5QJY5gINa5qGxyZptRsO3aFZCMVRxXNGYPCn89XFvVUGpKaGwowvAT0o0_m3eZMzC4qFz1iZwxCSa16nuGbtlNjY_3WoYkVJIUxhnI3EXQ&wpa_tag=&wpa_aux_info=&wpa_pos=11&wpa_plmt=1145x1145_T-C-IG_TI_1-6_HL-INGRID-GRID-NY&wpa_aduid=f41fe765-8783-4696-aaba-5234413abb97&wpa_pg=browse&wpa_pg_id=5438_7712430_1660851&wpa_st=__searchterms__&wpa_tax=5438_7712430_1660851&wpa_bucket=__bkt__\n",
      "Entered Reviews\n",
      "Walmart Girls Reviews shape (112, 9)\n",
      "Running next link\n"
     ]
    },
    {
     "name": "stderr",
     "output_type": "stream",
     "text": [
      "[WDM] - Current google-chrome version is 86.0.4240\n",
      "[WDM] - Get LATEST driver version for 86.0.4240\n"
     ]
    },
    {
     "name": "stdout",
     "output_type": "stream",
     "text": [
      " \n"
     ]
    },
    {
     "name": "stderr",
     "output_type": "stream",
     "text": [
      "[WDM] - Driver [/Users/DataSci/.wdm/drivers/chromedriver/mac64/86.0.4240.22/chromedriver] found in cache\n"
     ]
    },
    {
     "name": "stdout",
     "output_type": "stream",
     "text": [
      "Getting https://www.walmart.com/ip/Trolls-Girls-Exclusive-Blanket-Sleeper-Sizes-4-12/569700364\n",
      "Entered Reviews\n",
      "Walmart Girls Reviews shape (113, 9)\n",
      "Running next link\n"
     ]
    },
    {
     "name": "stderr",
     "output_type": "stream",
     "text": [
      "[WDM] - Current google-chrome version is 86.0.4240\n",
      "[WDM] - Get LATEST driver version for 86.0.4240\n"
     ]
    },
    {
     "name": "stdout",
     "output_type": "stream",
     "text": [
      " \n"
     ]
    },
    {
     "name": "stderr",
     "output_type": "stream",
     "text": [
      "[WDM] - Driver [/Users/DataSci/.wdm/drivers/chromedriver/mac64/86.0.4240.22/chromedriver] found in cache\n"
     ]
    },
    {
     "name": "stdout",
     "output_type": "stream",
     "text": [
      "Getting https://www.walmart.com/ip/L-O-L-Surprise-Girls-Super-Soft-Blanket-Sleeper-Sizes-4-10/911834051\n",
      "Entered Reviews\n",
      "Walmart Girls Reviews shape (114, 9)\n",
      "Running next link\n"
     ]
    },
    {
     "name": "stderr",
     "output_type": "stream",
     "text": [
      "[WDM] - Current google-chrome version is 86.0.4240\n",
      "[WDM] - Get LATEST driver version for 86.0.4240\n",
      "[WDM] - Driver [/Users/DataSci/.wdm/drivers/chromedriver/mac64/86.0.4240.22/chromedriver] found in cache\n"
     ]
    },
    {
     "name": "stdout",
     "output_type": "stream",
     "text": [
      " \n",
      "Getting https://www.walmart.com/ip/Freestyle-Revolution-Girls-Long-Sleeve-Cozy-Fashion-Graphic-T-Shirts-2-Pack-with-Mask-Sizes-4-12/829422550\n",
      "Entered Reviews\n",
      "Walmart Girls Reviews shape (115, 9)\n",
      "Running next link\n"
     ]
    },
    {
     "name": "stderr",
     "output_type": "stream",
     "text": [
      "[WDM] - Current google-chrome version is 86.0.4240\n",
      "[WDM] - Get LATEST driver version for 86.0.4240\n",
      "[WDM] - Driver [/Users/DataSci/.wdm/drivers/chromedriver/mac64/86.0.4240.22/chromedriver] found in cache\n"
     ]
    },
    {
     "name": "stdout",
     "output_type": "stream",
     "text": [
      " \n",
      "Getting https://www.walmart.com/ip/Jojo-Siwa-Girls-Exclusive-Blanket-Sleeper-Sizes-4-12/825965142\n",
      "Entered Reviews\n",
      "Walmart Girls Reviews shape (116, 9)\n",
      "Running next link\n"
     ]
    },
    {
     "name": "stderr",
     "output_type": "stream",
     "text": [
      "[WDM] - Current google-chrome version is 86.0.4240\n",
      "[WDM] - Get LATEST driver version for 86.0.4240\n"
     ]
    },
    {
     "name": "stdout",
     "output_type": "stream",
     "text": [
      " \n"
     ]
    },
    {
     "name": "stderr",
     "output_type": "stream",
     "text": [
      "[WDM] - Driver [/Users/DataSci/.wdm/drivers/chromedriver/mac64/86.0.4240.22/chromedriver] found in cache\n"
     ]
    },
    {
     "name": "stdout",
     "output_type": "stream",
     "text": [
      "Getting https://www.walmart.com/ip/Frozen-2-Toddler-Girl-Long-Sleeve-Snug-Fit-Cotton-Pajamas-4pc-Set/433280168\n",
      "Entered Reviews\n",
      "Walmart Girls Reviews shape (117, 9)\n",
      "Running next link\n"
     ]
    },
    {
     "name": "stderr",
     "output_type": "stream",
     "text": [
      "[WDM] - Current google-chrome version is 86.0.4240\n",
      "[WDM] - Get LATEST driver version for 86.0.4240\n"
     ]
    },
    {
     "name": "stdout",
     "output_type": "stream",
     "text": [
      " \n"
     ]
    },
    {
     "name": "stderr",
     "output_type": "stream",
     "text": [
      "[WDM] - Driver [/Users/DataSci/.wdm/drivers/chromedriver/mac64/86.0.4240.22/chromedriver] found in cache\n"
     ]
    },
    {
     "name": "stdout",
     "output_type": "stream",
     "text": [
      "Getting https://www.walmart.com/ip/BCBGIrls-Tight-Fit-Cotton-Pajama-2-Piece-Set-Sizes-5-12/352549163\n",
      "No 'See All Reviews' button\n"
     ]
    },
    {
     "name": "stderr",
     "output_type": "stream",
     "text": [
      "[WDM] - Current google-chrome version is 86.0.4240\n",
      "[WDM] - Get LATEST driver version for 86.0.4240\n"
     ]
    },
    {
     "name": "stdout",
     "output_type": "stream",
     "text": [
      " \n"
     ]
    },
    {
     "name": "stderr",
     "output_type": "stream",
     "text": [
      "[WDM] - Driver [/Users/DataSci/.wdm/drivers/chromedriver/mac64/86.0.4240.22/chromedriver] found in cache\n"
     ]
    },
    {
     "name": "stdout",
     "output_type": "stream",
     "text": [
      "Getting https://www.walmart.com/ip/Wonder-Nation-Girls-4-18-100-Cotton-Brief-Panties-14-Pack/491373977\n",
      "Entered Reviews\n",
      "Walmart Girls Reviews shape (118, 9)\n",
      "Running next link\n"
     ]
    },
    {
     "name": "stderr",
     "output_type": "stream",
     "text": [
      "[WDM] - Current google-chrome version is 86.0.4240\n",
      "[WDM] - Get LATEST driver version for 86.0.4240\n"
     ]
    },
    {
     "name": "stdout",
     "output_type": "stream",
     "text": [
      " \n"
     ]
    },
    {
     "name": "stderr",
     "output_type": "stream",
     "text": [
      "[WDM] - Driver [/Users/DataSci/.wdm/drivers/chromedriver/mac64/86.0.4240.22/chromedriver] found in cache\n"
     ]
    },
    {
     "name": "stdout",
     "output_type": "stream",
     "text": [
      "Getting https://www.walmart.com/ip/Garanimals-Baby-Girls-Toddler-Girls-Knit-Leggings-3-Pack-12M-5T/727553738\n",
      "Entered Reviews\n",
      "Walmart Girls Reviews shape (119, 9)\n",
      "Running next link\n"
     ]
    },
    {
     "name": "stderr",
     "output_type": "stream",
     "text": [
      "[WDM] - Current google-chrome version is 86.0.4240\n",
      "[WDM] - Get LATEST driver version for 86.0.4240\n"
     ]
    },
    {
     "name": "stdout",
     "output_type": "stream",
     "text": [
      " \n"
     ]
    },
    {
     "name": "stderr",
     "output_type": "stream",
     "text": [
      "[WDM] - Driver [/Users/DataSci/.wdm/drivers/chromedriver/mac64/86.0.4240.22/chromedriver] found in cache\n"
     ]
    },
    {
     "name": "stdout",
     "output_type": "stream",
     "text": [
      "Getting https://www.walmart.com/ip/Fruit-of-the-Loom-Baby-and-Toddler-Girls-Low-Cut-Socks-20-Pack/567667511\n",
      "Entered Reviews\n",
      "Walmart Girls Reviews shape (120, 9)\n",
      "Running next link\n"
     ]
    },
    {
     "name": "stderr",
     "output_type": "stream",
     "text": [
      "[WDM] - Current google-chrome version is 86.0.4240\n",
      "[WDM] - Get LATEST driver version for 86.0.4240\n"
     ]
    },
    {
     "name": "stdout",
     "output_type": "stream",
     "text": [
      " \n"
     ]
    },
    {
     "name": "stderr",
     "output_type": "stream",
     "text": [
      "[WDM] - Driver [/Users/DataSci/.wdm/drivers/chromedriver/mac64/86.0.4240.22/chromedriver] found in cache\n"
     ]
    },
    {
     "name": "stdout",
     "output_type": "stream",
     "text": [
      "Getting https://www.walmart.com/ip/Fruit-of-the-Loom-Girls-Socks-10-Pack-Crew-Everyday-Half-Cushion-Sizes-S-L/117261199\n",
      "Entered Reviews\n",
      "Walmart Girls Reviews shape (121, 9)\n",
      "Running next link\n"
     ]
    },
    {
     "name": "stderr",
     "output_type": "stream",
     "text": [
      "[WDM] - Current google-chrome version is 86.0.4240\n",
      "[WDM] - Get LATEST driver version for 86.0.4240\n"
     ]
    },
    {
     "name": "stdout",
     "output_type": "stream",
     "text": [
      " \n"
     ]
    },
    {
     "name": "stderr",
     "output_type": "stream",
     "text": [
      "[WDM] - Driver [/Users/DataSci/.wdm/drivers/chromedriver/mac64/86.0.4240.22/chromedriver] found in cache\n"
     ]
    },
    {
     "name": "stdout",
     "output_type": "stream",
     "text": [
      "Getting https://www.walmart.com/ip/Fruit-of-the-Loom-Girls-Assorted-Cotton-Brief-Underwear-20-Pack-Panties-Sizes-4-14/179285786\n",
      "Entered Reviews\n",
      "Walmart Girls Reviews shape (122, 9)\n",
      "Running next link\n"
     ]
    },
    {
     "name": "stderr",
     "output_type": "stream",
     "text": [
      "[WDM] - Current google-chrome version is 86.0.4240\n",
      "[WDM] - Get LATEST driver version for 86.0.4240\n",
      "[WDM] - Driver [/Users/DataSci/.wdm/drivers/chromedriver/mac64/86.0.4240.22/chromedriver] found in cache\n"
     ]
    },
    {
     "name": "stdout",
     "output_type": "stream",
     "text": [
      " \n",
      "Getting https://www.walmart.com/ip/Wonder-Nation-Girls-4-16-School-Uniform-Stretch-Twill-Bermuda-Shorts-Sizes-4-16-Plus/115115036\n",
      "Entered Reviews\n",
      "Walmart Girls Reviews shape (123, 9)\n",
      "Running next link\n"
     ]
    },
    {
     "name": "stderr",
     "output_type": "stream",
     "text": [
      "[WDM] - Current google-chrome version is 86.0.4240\n",
      "[WDM] - Get LATEST driver version for 86.0.4240\n"
     ]
    },
    {
     "name": "stdout",
     "output_type": "stream",
     "text": [
      " \n"
     ]
    },
    {
     "name": "stderr",
     "output_type": "stream",
     "text": [
      "[WDM] - Driver [/Users/DataSci/.wdm/drivers/chromedriver/mac64/86.0.4240.22/chromedriver] found in cache\n"
     ]
    },
    {
     "name": "stdout",
     "output_type": "stream",
     "text": [
      "Getting https://www.walmart.com/ip/Wonder-Nation-Baby-and-Toddler-Boys-and-Girls-Ankle-White-Grey-Cushion-Foot-Socks-20-Pack/888754765\n",
      "Entered Reviews\n",
      "Walmart Girls Reviews shape (124, 9)\n",
      "Running next link\n"
     ]
    },
    {
     "name": "stderr",
     "output_type": "stream",
     "text": [
      "[WDM] - Current google-chrome version is 86.0.4240\n",
      "[WDM] - Get LATEST driver version for 86.0.4240\n"
     ]
    },
    {
     "name": "stdout",
     "output_type": "stream",
     "text": [
      " \n"
     ]
    },
    {
     "name": "stderr",
     "output_type": "stream",
     "text": [
      "[WDM] - Driver [/Users/DataSci/.wdm/drivers/chromedriver/mac64/86.0.4240.22/chromedriver] found in cache\n"
     ]
    },
    {
     "name": "stdout",
     "output_type": "stream",
     "text": [
      "Getting https://www.walmart.com/ip/Wonder-Nation-Girls-School-Uniform-Stretch-Twill-Skinny-Pants-Sizes-4-16-Plus/622167469\n",
      "Entered Reviews\n",
      "Walmart Girls Reviews shape (125, 9)\n",
      "Running next link\n"
     ]
    },
    {
     "name": "stderr",
     "output_type": "stream",
     "text": [
      "[WDM] - Current google-chrome version is 86.0.4240\n",
      "[WDM] - Get LATEST driver version for 86.0.4240\n"
     ]
    },
    {
     "name": "stdout",
     "output_type": "stream",
     "text": [
      " \n"
     ]
    },
    {
     "name": "stderr",
     "output_type": "stream",
     "text": [
      "[WDM] - Driver [/Users/DataSci/.wdm/drivers/chromedriver/mac64/86.0.4240.22/chromedriver] found in cache\n"
     ]
    },
    {
     "name": "stdout",
     "output_type": "stream",
     "text": [
      "Getting https://www.walmart.com/ip/Hanes-Girls-Socks-20-Pack-No-Show-Super-Value-Sizes-S-L/579465280\n",
      "Entered Reviews\n",
      "Walmart Girls Reviews shape (126, 9)\n",
      "Running next link\n"
     ]
    },
    {
     "name": "stderr",
     "output_type": "stream",
     "text": [
      "[WDM] - Current google-chrome version is 86.0.4240\n",
      "[WDM] - Get LATEST driver version for 86.0.4240\n"
     ]
    },
    {
     "name": "stdout",
     "output_type": "stream",
     "text": [
      " \n"
     ]
    },
    {
     "name": "stderr",
     "output_type": "stream",
     "text": [
      "[WDM] - Driver [/Users/DataSci/.wdm/drivers/chromedriver/mac64/86.0.4240.22/chromedriver] found in cache\n"
     ]
    },
    {
     "name": "stdout",
     "output_type": "stream",
     "text": [
      "Getting https://www.walmart.com/ip/Fruit-of-the-Loom-Girls-White-Spin-Cami-10-Pack-Little-Girls-Big-Girls/991728217\n",
      "Entered Reviews\n",
      "Walmart Girls Reviews shape (127, 9)\n",
      "Running next link\n"
     ]
    },
    {
     "name": "stderr",
     "output_type": "stream",
     "text": [
      "[WDM] - Current google-chrome version is 86.0.4240\n",
      "[WDM] - Get LATEST driver version for 86.0.4240\n"
     ]
    },
    {
     "name": "stdout",
     "output_type": "stream",
     "text": [
      " \n"
     ]
    },
    {
     "name": "stderr",
     "output_type": "stream",
     "text": [
      "[WDM] - Driver [/Users/DataSci/.wdm/drivers/chromedriver/mac64/86.0.4240.22/chromedriver] found in cache\n"
     ]
    },
    {
     "name": "stdout",
     "output_type": "stream",
     "text": [
      "Getting https://www.walmart.com/ip/Social-Edition-Girls-Hooded-Pajama-Robe-with-Matching-Eye-Mask-Sizes-4-16/134150445\n",
      "Entered Reviews\n",
      "Walmart Girls Reviews shape (128, 9)\n",
      "Running next link\n"
     ]
    },
    {
     "name": "stderr",
     "output_type": "stream",
     "text": [
      "[WDM] - Current google-chrome version is 86.0.4240\n",
      "[WDM] - Get LATEST driver version for 86.0.4240\n"
     ]
    },
    {
     "name": "stdout",
     "output_type": "stream",
     "text": [
      " \n"
     ]
    },
    {
     "name": "stderr",
     "output_type": "stream",
     "text": [
      "[WDM] - Driver [/Users/DataSci/.wdm/drivers/chromedriver/mac64/86.0.4240.22/chromedriver] found in cache\n"
     ]
    },
    {
     "name": "stdout",
     "output_type": "stream",
     "text": [
      "Getting https://www.walmart.com/ip/Chili-Peppers-Girls-Space-Dye-Raglan-Pullover-Hoodie-and-Leggings-Sizes-4-18-2-Piece-Active-Set/611767978\n",
      "Entered Reviews\n",
      "Walmart Girls Reviews shape (129, 9)\n",
      "Running next link\n"
     ]
    },
    {
     "name": "stderr",
     "output_type": "stream",
     "text": [
      "[WDM] - Current google-chrome version is 86.0.4240\n",
      "[WDM] - Get LATEST driver version for 86.0.4240\n"
     ]
    },
    {
     "name": "stdout",
     "output_type": "stream",
     "text": [
      " \n"
     ]
    },
    {
     "name": "stderr",
     "output_type": "stream",
     "text": [
      "[WDM] - Driver [/Users/DataSci/.wdm/drivers/chromedriver/mac64/86.0.4240.22/chromedriver] found in cache\n"
     ]
    },
    {
     "name": "stdout",
     "output_type": "stream",
     "text": [
      "Getting https://www.walmart.com/ip/SwissTech-Girls-Snow-Pants-Sizes-4-18-Plus/816747752\n",
      "Entered Reviews\n",
      "Walmart Girls Reviews shape (130, 9)\n",
      "Running next link\n"
     ]
    },
    {
     "name": "stderr",
     "output_type": "stream",
     "text": [
      "[WDM] - Current google-chrome version is 86.0.4240\n",
      "[WDM] - Get LATEST driver version for 86.0.4240\n",
      "[WDM] - Driver [/Users/DataSci/.wdm/drivers/chromedriver/mac64/86.0.4240.22/chromedriver] found in cache\n"
     ]
    },
    {
     "name": "stdout",
     "output_type": "stream",
     "text": [
      " \n",
      "Getting https://www.walmart.com/ip/Minnie-Mouse-Baby-Girl-Microfleece-Blanket-Sleeper-Pajamas/794005488\n",
      "Entered Reviews\n",
      "Walmart Girls Reviews shape (131, 9)\n",
      "Running next link\n"
     ]
    },
    {
     "name": "stderr",
     "output_type": "stream",
     "text": [
      "[WDM] - Current google-chrome version is 86.0.4240\n",
      "[WDM] - Get LATEST driver version for 86.0.4240\n"
     ]
    },
    {
     "name": "stdout",
     "output_type": "stream",
     "text": [
      " \n"
     ]
    },
    {
     "name": "stderr",
     "output_type": "stream",
     "text": [
      "[WDM] - Driver [/Users/DataSci/.wdm/drivers/chromedriver/mac64/86.0.4240.22/chromedriver] found in cache\n"
     ]
    },
    {
     "name": "stdout",
     "output_type": "stream",
     "text": [
      "Getting https://www.walmart.com/ip/Wonder-Nation-Girls-School-Uniform-Pleated-Belted-Scooter-Skirt-Sizes-4-16-Plus/659511403\n",
      "Entered Reviews\n",
      "Walmart Girls Reviews shape (132, 9)\n",
      "Running next link\n"
     ]
    },
    {
     "name": "stderr",
     "output_type": "stream",
     "text": [
      "[WDM] - Current google-chrome version is 86.0.4240\n",
      "[WDM] - Get LATEST driver version for 86.0.4240\n"
     ]
    },
    {
     "name": "stdout",
     "output_type": "stream",
     "text": [
      " \n"
     ]
    },
    {
     "name": "stderr",
     "output_type": "stream",
     "text": [
      "[WDM] - Driver [/Users/DataSci/.wdm/drivers/chromedriver/mac64/86.0.4240.22/chromedriver] found in cache\n"
     ]
    },
    {
     "name": "stdout",
     "output_type": "stream",
     "text": [
      "Getting https://www.walmart.com/ip/Climate-Concepts-Girls-Hooded-Metallic-Unicorn-Puffer-Jacket-Sizes-4-16/863639013\n",
      "Entered Reviews\n",
      "Walmart Girls Reviews shape (133, 9)\n",
      "Running next link\n"
     ]
    },
    {
     "name": "stderr",
     "output_type": "stream",
     "text": [
      "[WDM] - Current google-chrome version is 86.0.4240\n",
      "[WDM] - Get LATEST driver version for 86.0.4240\n",
      "[WDM] - Driver [/Users/DataSci/.wdm/drivers/chromedriver/mac64/86.0.4240.22/chromedriver] found in cache\n"
     ]
    },
    {
     "name": "stdout",
     "output_type": "stream",
     "text": [
      " \n",
      "Getting https://www.walmart.com/ip/Nickelodeon-JoJo-Siwa-Exclusive-Girls-Sequin-Bow-Graphic-T-Shirts-2-Pack-Sizes-4-18/668465505\n",
      "Entered Reviews\n",
      "Walmart Girls Reviews shape (134, 9)\n",
      "Running next link\n"
     ]
    },
    {
     "name": "stderr",
     "output_type": "stream",
     "text": [
      "[WDM] - Current google-chrome version is 86.0.4240\n",
      "[WDM] - Get LATEST driver version for 86.0.4240\n"
     ]
    },
    {
     "name": "stdout",
     "output_type": "stream",
     "text": [
      " \n"
     ]
    },
    {
     "name": "stderr",
     "output_type": "stream",
     "text": [
      "[WDM] - Driver [/Users/DataSci/.wdm/drivers/chromedriver/mac64/86.0.4240.22/chromedriver] found in cache\n"
     ]
    },
    {
     "name": "stdout",
     "output_type": "stream",
     "text": [
      "Getting https://www.walmart.com/ip/Champion-Girls-Ombre-Logo-Active-T-shirt-Sizes-7-16/277672281\n",
      "Entered Reviews\n",
      "Walmart Girls Reviews shape (135, 9)\n",
      "Running next link\n"
     ]
    },
    {
     "name": "stderr",
     "output_type": "stream",
     "text": [
      "[WDM] - Current google-chrome version is 86.0.4240\n",
      "[WDM] - Get LATEST driver version for 86.0.4240\n",
      "[WDM] - Driver [/Users/DataSci/.wdm/drivers/chromedriver/mac64/86.0.4240.22/chromedriver] found in cache\n"
     ]
    },
    {
     "name": "stdout",
     "output_type": "stream",
     "text": [
      " \n",
      "Getting https://www.walmart.com/ip/Squeeze-Girls-Skinny-Jeans-with-Keychain-Sizes-4-12/689248461\n",
      "Entered Reviews\n",
      "Walmart Girls Reviews shape (136, 9)\n",
      "Running next link\n"
     ]
    },
    {
     "name": "stderr",
     "output_type": "stream",
     "text": [
      "[WDM] - Current google-chrome version is 86.0.4240\n",
      "[WDM] - Get LATEST driver version for 86.0.4240\n"
     ]
    },
    {
     "name": "stdout",
     "output_type": "stream",
     "text": [
      " \n"
     ]
    },
    {
     "name": "stderr",
     "output_type": "stream",
     "text": [
      "[WDM] - Driver [/Users/DataSci/.wdm/drivers/chromedriver/mac64/86.0.4240.22/chromedriver] found in cache\n"
     ]
    },
    {
     "name": "stdout",
     "output_type": "stream",
     "text": [
      "Getting https://www.walmart.com/ip/Wonder-Nation-Girls-School-Uniform-Performance-Polo-Dress-Sizes-4-16/965564347\n",
      "Entered Reviews\n",
      "Walmart Girls Reviews shape (137, 9)\n",
      "Running next link\n"
     ]
    },
    {
     "name": "stderr",
     "output_type": "stream",
     "text": [
      "[WDM] - Current google-chrome version is 86.0.4240\n",
      "[WDM] - Get LATEST driver version for 86.0.4240\n",
      "[WDM] - Driver [/Users/DataSci/.wdm/drivers/chromedriver/mac64/86.0.4240.22/chromedriver] found in cache\n"
     ]
    },
    {
     "name": "stdout",
     "output_type": "stream",
     "text": [
      " \n",
      "Getting https://www.walmart.com/ip/Garanimals-Baby-Toddler-Girl-s-Bootcut-Jeans-2-Pack-Sizes-12M-5T/617776173\n",
      "Entered Reviews\n",
      "Walmart Girls Reviews shape (138, 9)\n",
      "Running next link\n"
     ]
    },
    {
     "name": "stderr",
     "output_type": "stream",
     "text": [
      "[WDM] - Current google-chrome version is 86.0.4240\n",
      "[WDM] - Get LATEST driver version for 86.0.4240\n"
     ]
    },
    {
     "name": "stdout",
     "output_type": "stream",
     "text": [
      " \n"
     ]
    },
    {
     "name": "stderr",
     "output_type": "stream",
     "text": [
      "[WDM] - Driver [/Users/DataSci/.wdm/drivers/chromedriver/mac64/86.0.4240.22/chromedriver] found in cache\n"
     ]
    },
    {
     "name": "stdout",
     "output_type": "stream",
     "text": [
      "Getting https://www.walmart.com/ip/Cloud-9-Kids-Cold-Weather-Water-resistant-Thinsulate-Ski-Gloves-Girls-Boys-3M-Thinsulate-Lined-Kids-Ski-Gloves/539881125\n",
      "Entered Reviews\n",
      "Walmart Girls Reviews shape (139, 9)\n",
      "Running next link\n"
     ]
    },
    {
     "name": "stderr",
     "output_type": "stream",
     "text": [
      "[WDM] - Current google-chrome version is 86.0.4240\n",
      "[WDM] - Get LATEST driver version for 86.0.4240\n",
      "[WDM] - Driver [/Users/DataSci/.wdm/drivers/chromedriver/mac64/86.0.4240.22/chromedriver] found in cache\n"
     ]
    },
    {
     "name": "stdout",
     "output_type": "stream",
     "text": [
      " \n",
      "Getting https://www.walmart.com/ip/Pink-Velvet-Girls-Ugly-Christmas-Print-and-Solid-Leggings-2-Pack-Sizes-4-16/127376180\n",
      "No 'See All Reviews' button\n"
     ]
    },
    {
     "name": "stderr",
     "output_type": "stream",
     "text": [
      "[WDM] - Current google-chrome version is 86.0.4240\n",
      "[WDM] - Get LATEST driver version for 86.0.4240\n"
     ]
    },
    {
     "name": "stdout",
     "output_type": "stream",
     "text": [
      " \n"
     ]
    },
    {
     "name": "stderr",
     "output_type": "stream",
     "text": [
      "[WDM] - Driver [/Users/DataSci/.wdm/drivers/chromedriver/mac64/86.0.4240.22/chromedriver] found in cache\n"
     ]
    },
    {
     "name": "stdout",
     "output_type": "stream",
     "text": [
      "Getting https://www.walmart.com/ip/Wonder-Nation-Girls-School-Uniform-Stretch-Twill-Pull-On-Pants-Sizes-4-16-Plus/237235205\n",
      "Entered Reviews\n",
      "Walmart Girls Reviews shape (140, 9)\n",
      "Running next link\n"
     ]
    },
    {
     "name": "stderr",
     "output_type": "stream",
     "text": [
      "[WDM] - Current google-chrome version is 86.0.4240\n",
      "[WDM] - Get LATEST driver version for 86.0.4240\n"
     ]
    },
    {
     "name": "stdout",
     "output_type": "stream",
     "text": [
      " \n"
     ]
    },
    {
     "name": "stderr",
     "output_type": "stream",
     "text": [
      "[WDM] - Driver [/Users/DataSci/.wdm/drivers/chromedriver/mac64/86.0.4240.22/chromedriver] found in cache\n"
     ]
    },
    {
     "name": "stdout",
     "output_type": "stream",
     "text": [
      "Getting https://www.walmart.com/ip/Wonder-Nation-Girls-4-18-Plus-Bootcut-Jeans-Little-Girls-Big-Girls-Plus/875389702\n",
      "Entered Reviews\n",
      "Walmart Girls Reviews shape (141, 9)\n",
      "Running next link\n"
     ]
    },
    {
     "name": "stderr",
     "output_type": "stream",
     "text": [
      "[WDM] - Current google-chrome version is 86.0.4240\n",
      "[WDM] - Get LATEST driver version for 86.0.4240\n",
      "[WDM] - Driver [/Users/DataSci/.wdm/drivers/chromedriver/mac64/86.0.4240.22/chromedriver] found in cache\n"
     ]
    },
    {
     "name": "stdout",
     "output_type": "stream",
     "text": [
      " \n",
      "Getting https://www.walmart.com/ip/Starvnc-Family-Cute-Matching-Children-Adult-Pajamas-Set-Sleepwears/856106557\n",
      "Entered Reviews\n",
      "Walmart Girls Reviews shape (142, 9)\n",
      "Running next link\n"
     ]
    },
    {
     "name": "stderr",
     "output_type": "stream",
     "text": [
      "[WDM] - Current google-chrome version is 86.0.4240\n",
      "[WDM] - Get LATEST driver version for 86.0.4240\n"
     ]
    },
    {
     "name": "stdout",
     "output_type": "stream",
     "text": [
      " \n"
     ]
    },
    {
     "name": "stderr",
     "output_type": "stream",
     "text": [
      "[WDM] - Driver [/Users/DataSci/.wdm/drivers/chromedriver/mac64/86.0.4240.22/chromedriver] found in cache\n"
     ]
    },
    {
     "name": "stdout",
     "output_type": "stream",
     "text": [
      "Getting https://www.walmart.com/ip/Fruit-of-the-Loom-Girl-s-Everyday-Half-Cushion-No-Show-Socks-in-White-Assorted-10-Pack/514676876\n",
      "Entered Reviews\n",
      "Walmart Girls Reviews shape (143, 9)\n",
      "Running next link\n"
     ]
    },
    {
     "name": "stderr",
     "output_type": "stream",
     "text": [
      "[WDM] - Current google-chrome version is 86.0.4240\n",
      "[WDM] - Get LATEST driver version for 86.0.4240\n"
     ]
    },
    {
     "name": "stdout",
     "output_type": "stream",
     "text": [
      " \n"
     ]
    },
    {
     "name": "stderr",
     "output_type": "stream",
     "text": [
      "[WDM] - Driver [/Users/DataSci/.wdm/drivers/chromedriver/mac64/86.0.4240.22/chromedriver] found in cache\n"
     ]
    },
    {
     "name": "stdout",
     "output_type": "stream",
     "text": [
      "Getting https://www.walmart.com/ip/Wonder-Nation-Girls-Kid-Tough-Super-Skinny-Jeans-Sizes-4-18-Plus/517317288\n",
      "Entered Reviews\n",
      "Walmart Girls Reviews shape (144, 9)\n",
      "Running next link\n"
     ]
    },
    {
     "name": "stderr",
     "output_type": "stream",
     "text": [
      "[WDM] - Current google-chrome version is 86.0.4240\n",
      "[WDM] - Get LATEST driver version for 86.0.4240\n"
     ]
    },
    {
     "name": "stdout",
     "output_type": "stream",
     "text": [
      " \n"
     ]
    },
    {
     "name": "stderr",
     "output_type": "stream",
     "text": [
      "[WDM] - Driver [/Users/DataSci/.wdm/drivers/chromedriver/mac64/86.0.4240.22/chromedriver] found in cache\n"
     ]
    },
    {
     "name": "stdout",
     "output_type": "stream",
     "text": [
      "Getting https://www.walmart.com/ip/Family-Matching-Christmas-Pajamas-Set-Women-Baby-Kids-Deer-Sleepwear-Nightwear/666859164\n",
      "Entered Reviews\n",
      "Walmart Girls Reviews shape (145, 9)\n",
      "Running next link\n"
     ]
    },
    {
     "name": "stderr",
     "output_type": "stream",
     "text": [
      "[WDM] - Current google-chrome version is 86.0.4240\n",
      "[WDM] - Get LATEST driver version for 86.0.4240\n"
     ]
    },
    {
     "name": "stdout",
     "output_type": "stream",
     "text": [
      " \n"
     ]
    },
    {
     "name": "stderr",
     "output_type": "stream",
     "text": [
      "[WDM] - Driver [/Users/DataSci/.wdm/drivers/chromedriver/mac64/86.0.4240.22/chromedriver] found in cache\n"
     ]
    },
    {
     "name": "stdout",
     "output_type": "stream",
     "text": [
      "Getting https://www.walmart.com/ip/Wonder-Nation-Baby-and-Toddler-Boys-and-Girls-Ankle-Crew-Combo-Socks-20-Pack/222704494\n",
      "Entered Reviews\n",
      "Walmart Girls Reviews shape (146, 9)\n",
      "Running next link\n"
     ]
    },
    {
     "name": "stderr",
     "output_type": "stream",
     "text": [
      "[WDM] - Current google-chrome version is 86.0.4240\n",
      "[WDM] - Get LATEST driver version for 86.0.4240\n"
     ]
    },
    {
     "name": "stdout",
     "output_type": "stream",
     "text": [
      " \n"
     ]
    },
    {
     "name": "stderr",
     "output_type": "stream",
     "text": [
      "[WDM] - Driver [/Users/DataSci/.wdm/drivers/chromedriver/mac64/86.0.4240.22/chromedriver] found in cache\n"
     ]
    },
    {
     "name": "stdout",
     "output_type": "stream",
     "text": [
      "Getting https://www.walmart.com/ip/Wonder-Nation-Girls-4-18-Plus-Embellished-Long-Sleeve-Graphic-T-Shirts-2-Pack/580704146\n",
      "Entered Reviews\n",
      "Walmart Girls Reviews shape (147, 9)\n",
      "Running next link\n"
     ]
    },
    {
     "name": "stderr",
     "output_type": "stream",
     "text": [
      "[WDM] - Current google-chrome version is 86.0.4240\n",
      "[WDM] - Get LATEST driver version for 86.0.4240\n"
     ]
    },
    {
     "name": "stdout",
     "output_type": "stream",
     "text": [
      " \n"
     ]
    },
    {
     "name": "stderr",
     "output_type": "stream",
     "text": [
      "[WDM] - Driver [/Users/DataSci/.wdm/drivers/chromedriver/mac64/86.0.4240.22/chromedriver] found in cache\n"
     ]
    },
    {
     "name": "stdout",
     "output_type": "stream",
     "text": [
      "Getting https://www.walmart.com/ip/Jojo-Siwa-Girls-Exclusive-Long-Sleeve-2-Piece-Set-Sizes-4-12/421338402\n",
      "Entered Reviews\n",
      "Walmart Girls Reviews shape (148, 9)\n",
      "Running next link\n"
     ]
    },
    {
     "name": "stderr",
     "output_type": "stream",
     "text": [
      "[WDM] - Current google-chrome version is 86.0.4240\n",
      "[WDM] - Get LATEST driver version for 86.0.4240\n",
      "[WDM] - Driver [/Users/DataSci/.wdm/drivers/chromedriver/mac64/86.0.4240.22/chromedriver] found in cache\n"
     ]
    },
    {
     "name": "stdout",
     "output_type": "stream",
     "text": [
      " \n",
      "Getting https://www.walmart.com/ip/Wonder-Nation-Girls-Long-Sleeve-Brushed-Twist-Front-Top-Sizes-4-18-Plus/509465609\n",
      "Entered Reviews\n",
      "Walmart Girls Reviews shape (149, 9)\n",
      "Running next link\n"
     ]
    },
    {
     "name": "stderr",
     "output_type": "stream",
     "text": [
      "[WDM] - Current google-chrome version is 86.0.4240\n",
      "[WDM] - Get LATEST driver version for 86.0.4240\n"
     ]
    },
    {
     "name": "stdout",
     "output_type": "stream",
     "text": [
      " \n"
     ]
    },
    {
     "name": "stderr",
     "output_type": "stream",
     "text": [
      "[WDM] - Driver [/Users/DataSci/.wdm/drivers/chromedriver/mac64/86.0.4240.22/chromedriver] found in cache\n"
     ]
    },
    {
     "name": "stdout",
     "output_type": "stream",
     "text": [
      "Getting https://www.walmart.com/ip/Garanimals-Baby-Girls-Toddler-Girls-Long-Sleeve-Graphic-T-shirts-Denim-Jeans-3pc-Outfit-Set-12M-5T/809683230\n",
      "Entered Reviews\n",
      "Walmart Girls Reviews shape (150, 9)\n",
      "Running next link\n"
     ]
    },
    {
     "name": "stderr",
     "output_type": "stream",
     "text": [
      "[WDM] - Current google-chrome version is 86.0.4240\n",
      "[WDM] - Get LATEST driver version for 86.0.4240\n"
     ]
    },
    {
     "name": "stdout",
     "output_type": "stream",
     "text": [
      " \n"
     ]
    },
    {
     "name": "stderr",
     "output_type": "stream",
     "text": [
      "[WDM] - Driver [/Users/DataSci/.wdm/drivers/chromedriver/mac64/86.0.4240.22/chromedriver] found in cache\n"
     ]
    },
    {
     "name": "stdout",
     "output_type": "stream",
     "text": [
      "Getting https://www.walmart.com/ip/Hanes-Girls-Long-Sleeve-Crewneck-T-Shirt-Sizes-6-16/136842601\n",
      "Entered Reviews\n",
      "Walmart Girls Reviews shape (151, 9)\n",
      "Running next link\n"
     ]
    },
    {
     "name": "stderr",
     "output_type": "stream",
     "text": [
      "[WDM] - Current google-chrome version is 86.0.4240\n",
      "[WDM] - Get LATEST driver version for 86.0.4240\n"
     ]
    },
    {
     "name": "stdout",
     "output_type": "stream",
     "text": [
      " \n"
     ]
    },
    {
     "name": "stderr",
     "output_type": "stream",
     "text": [
      "[WDM] - Driver [/Users/DataSci/.wdm/drivers/chromedriver/mac64/86.0.4240.22/chromedriver] found in cache\n"
     ]
    },
    {
     "name": "stdout",
     "output_type": "stream",
     "text": [
      "Getting https://www.walmart.com/ip/Fruit-of-the-Loom-Girl-s-S-L-Ankle-Socks-10-Pack/915075300\n",
      "Entered Reviews\n",
      "Walmart Girls Reviews shape (152, 9)\n",
      "Running next link\n"
     ]
    },
    {
     "name": "stderr",
     "output_type": "stream",
     "text": [
      "[WDM] - Current google-chrome version is 86.0.4240\n",
      "[WDM] - Get LATEST driver version for 86.0.4240\n"
     ]
    },
    {
     "name": "stdout",
     "output_type": "stream",
     "text": [
      " \n"
     ]
    },
    {
     "name": "stderr",
     "output_type": "stream",
     "text": [
      "[WDM] - Driver [/Users/DataSci/.wdm/drivers/chromedriver/mac64/86.0.4240.22/chromedriver] found in cache\n"
     ]
    },
    {
     "name": "stdout",
     "output_type": "stream",
     "text": [
      "Getting https://www.walmart.com/ip/Wonder-Nation-Girls-School-Uniform-Bow-Scooter-Skirt-Sizes-4-16-Plus/706387652\n",
      "Entered Reviews\n",
      "Walmart Girls Reviews shape (153, 9)\n",
      "Running next link\n"
     ]
    },
    {
     "name": "stderr",
     "output_type": "stream",
     "text": [
      "[WDM] - Current google-chrome version is 86.0.4240\n",
      "[WDM] - Get LATEST driver version for 86.0.4240\n"
     ]
    },
    {
     "name": "stdout",
     "output_type": "stream",
     "text": [
      " \n"
     ]
    },
    {
     "name": "stderr",
     "output_type": "stream",
     "text": [
      "[WDM] - Driver [/Users/DataSci/.wdm/drivers/chromedriver/mac64/86.0.4240.22/chromedriver] found in cache\n"
     ]
    },
    {
     "name": "stdout",
     "output_type": "stream",
     "text": [
      "Getting https://www.walmart.com/ip/Wonder-Nation-Baby-Toddler-Girl-Bubble-Jacket/387403328\n",
      "Entered Reviews\n",
      "Walmart Girls Reviews shape (154, 9)\n",
      "Running next link\n"
     ]
    },
    {
     "name": "stderr",
     "output_type": "stream",
     "text": [
      "[WDM] - Current google-chrome version is 86.0.4240\n",
      "[WDM] - Get LATEST driver version for 86.0.4240\n",
      "[WDM] - Driver [/Users/DataSci/.wdm/drivers/chromedriver/mac64/86.0.4240.22/chromedriver] found in cache\n"
     ]
    },
    {
     "name": "stdout",
     "output_type": "stream",
     "text": [
      " \n",
      "Getting https://www.walmart.com/ip/Wonder-Nation-Girls-Long-Sleeve-Foil-Tie-Front-Top-Sizes-4-18-Plus/247201007\n",
      "Entered Reviews\n",
      "Walmart Girls Reviews shape (155, 9)\n",
      "Running next link\n"
     ]
    },
    {
     "name": "stderr",
     "output_type": "stream",
     "text": [
      "[WDM] - Current google-chrome version is 86.0.4240\n",
      "[WDM] - Get LATEST driver version for 86.0.4240\n"
     ]
    },
    {
     "name": "stdout",
     "output_type": "stream",
     "text": [
      " \n"
     ]
    },
    {
     "name": "stderr",
     "output_type": "stream",
     "text": [
      "[WDM] - Driver [/Users/DataSci/.wdm/drivers/chromedriver/mac64/86.0.4240.22/chromedriver] found in cache\n"
     ]
    },
    {
     "name": "stdout",
     "output_type": "stream",
     "text": [
      "Getting https://www.walmart.com/ip/Wonder-Nation-Girls-4-18-Smooth-Bralette-2-Pack/172321828\n",
      "Entered Reviews\n",
      "Walmart Girls Reviews shape (156, 9)\n",
      "Running next link\n"
     ]
    },
    {
     "name": "stderr",
     "output_type": "stream",
     "text": [
      "[WDM] - Current google-chrome version is 86.0.4240\n",
      "[WDM] - Get LATEST driver version for 86.0.4240\n",
      "[WDM] - Driver [/Users/DataSci/.wdm/drivers/chromedriver/mac64/86.0.4240.22/chromedriver] found in cache\n"
     ]
    },
    {
     "name": "stdout",
     "output_type": "stream",
     "text": [
      " \n",
      "Getting https://www.walmart.com/ip/Wonder-Nation-Girls-Exclusive-Thermal-3-Piece-Pajama-Set-and-Fuzzy-Robe-Sizes-4-18-Plus/410239110\n",
      "Entered Reviews\n",
      "Walmart Girls Reviews shape (157, 9)\n",
      "Running next link\n"
     ]
    },
    {
     "name": "stderr",
     "output_type": "stream",
     "text": [
      "[WDM] - Current google-chrome version is 86.0.4240\n",
      "[WDM] - Get LATEST driver version for 86.0.4240\n"
     ]
    },
    {
     "name": "stdout",
     "output_type": "stream",
     "text": [
      " \n"
     ]
    },
    {
     "name": "stderr",
     "output_type": "stream",
     "text": [
      "[WDM] - Driver [/Users/DataSci/.wdm/drivers/chromedriver/mac64/86.0.4240.22/chromedriver] found in cache\n"
     ]
    },
    {
     "name": "stdout",
     "output_type": "stream",
     "text": [
      "Getting https://www.walmart.com/ip/Athletic-Works-Girls-Colorblock-Fleece-Zip-Up-Hoodie-Sizes-4-18-Plus/587235863\n",
      "Entered Reviews\n",
      "Walmart Girls Reviews shape (158, 9)\n",
      "Running next link\n"
     ]
    },
    {
     "name": "stderr",
     "output_type": "stream",
     "text": [
      "[WDM] - Current google-chrome version is 86.0.4240\n",
      "[WDM] - Get LATEST driver version for 86.0.4240\n",
      "[WDM] - Driver [/Users/DataSci/.wdm/drivers/chromedriver/mac64/86.0.4240.22/chromedriver] found in cache\n"
     ]
    },
    {
     "name": "stdout",
     "output_type": "stream",
     "text": [
      " \n",
      "Getting https://www.walmart.com/ip/Disney-Frozen-2-Exclusive-Elsa-Epilogue-Cosplay-Tutu-Dress-Girls-Sizes-4-16/295279256\n",
      "Entered Reviews\n",
      "Walmart Girls Reviews shape (159, 9)\n",
      "Running next link\n"
     ]
    },
    {
     "name": "stderr",
     "output_type": "stream",
     "text": [
      "[WDM] - Current google-chrome version is 86.0.4240\n",
      "[WDM] - Get LATEST driver version for 86.0.4240\n"
     ]
    },
    {
     "name": "stdout",
     "output_type": "stream",
     "text": [
      " \n"
     ]
    },
    {
     "name": "stderr",
     "output_type": "stream",
     "text": [
      "[WDM] - Driver [/Users/DataSci/.wdm/drivers/chromedriver/mac64/86.0.4240.22/chromedriver] found in cache\n"
     ]
    },
    {
     "name": "stdout",
     "output_type": "stream",
     "text": [
      "Getting https://www.walmart.com/ip/Matching-Family-Christmas-Pajamas-Toddler-Boy-Girl-Unisex-Grinch-2-Piece-Set/621164103\n",
      "Entered Reviews\n",
      "Walmart Girls Reviews shape (160, 9)\n",
      "Running next link\n"
     ]
    },
    {
     "name": "stderr",
     "output_type": "stream",
     "text": [
      "[WDM] - Current google-chrome version is 86.0.4240\n",
      "[WDM] - Get LATEST driver version for 86.0.4240\n"
     ]
    },
    {
     "name": "stdout",
     "output_type": "stream",
     "text": [
      " \n"
     ]
    },
    {
     "name": "stderr",
     "output_type": "stream",
     "text": [
      "[WDM] - Driver [/Users/DataSci/.wdm/drivers/chromedriver/mac64/86.0.4240.22/chromedriver] found in cache\n"
     ]
    },
    {
     "name": "stdout",
     "output_type": "stream",
     "text": [
      "Getting https://www.walmart.com/ip/Wonder-Nation-Toddler-Boys-or-Girls-Unisex-Snow-Pants-Bib/766006545\n",
      "Entered Reviews\n",
      "Walmart Girls Reviews shape (161, 9)\n",
      "Running next link\n"
     ]
    },
    {
     "name": "stderr",
     "output_type": "stream",
     "text": [
      "[WDM] - Current google-chrome version is 86.0.4240\n",
      "[WDM] - Get LATEST driver version for 86.0.4240\n",
      "[WDM] - Driver [/Users/DataSci/.wdm/drivers/chromedriver/mac64/86.0.4240.22/chromedriver] found in cache\n"
     ]
    },
    {
     "name": "stdout",
     "output_type": "stream",
     "text": [
      " \n",
      "Getting https://www.walmart.com/ip/Wonder-Nation-Girls-4-18-Plus-Embellished-Long-Sleeve-Graphic-T-Shirt/225851586\n",
      "Entered Reviews\n",
      "Walmart Girls Reviews shape (162, 9)\n",
      "Running next link\n"
     ]
    },
    {
     "name": "stderr",
     "output_type": "stream",
     "text": [
      "[WDM] - Current google-chrome version is 86.0.4240\n",
      "[WDM] - Get LATEST driver version for 86.0.4240\n"
     ]
    },
    {
     "name": "stdout",
     "output_type": "stream",
     "text": [
      " \n"
     ]
    },
    {
     "name": "stderr",
     "output_type": "stream",
     "text": [
      "[WDM] - Driver [/Users/DataSci/.wdm/drivers/chromedriver/mac64/86.0.4240.22/chromedriver] found in cache\n"
     ]
    },
    {
     "name": "stdout",
     "output_type": "stream",
     "text": [
      "Getting https://www.walmart.com/ip/Hanes-Girls-4-16-Brief-Underwear-10-Pack/425525143\n",
      "Entered Reviews\n",
      "Walmart Girls Reviews shape (163, 9)\n",
      "Running next link\n"
     ]
    },
    {
     "name": "stderr",
     "output_type": "stream",
     "text": [
      "[WDM] - Current google-chrome version is 86.0.4240\n",
      "[WDM] - Get LATEST driver version for 86.0.4240\n"
     ]
    },
    {
     "name": "stdout",
     "output_type": "stream",
     "text": [
      " \n"
     ]
    },
    {
     "name": "stderr",
     "output_type": "stream",
     "text": [
      "[WDM] - Driver [/Users/DataSci/.wdm/drivers/chromedriver/mac64/86.0.4240.22/chromedriver] found in cache\n"
     ]
    },
    {
     "name": "stdout",
     "output_type": "stream",
     "text": [
      "Getting https://www.walmart.com/ip/Hanes-ComfortSoft-Eco-Smart-Girls-Open-Bottom-Leg-Sweatpants-Little-Girls-Big-Girls/54800594\n",
      "Entered Reviews\n",
      "Walmart Girls Reviews shape (164, 9)\n",
      "Running next link\n"
     ]
    },
    {
     "name": "stderr",
     "output_type": "stream",
     "text": [
      "[WDM] - Current google-chrome version is 86.0.4240\n",
      "[WDM] - Get LATEST driver version for 86.0.4240\n",
      "[WDM] - Driver [/Users/DataSci/.wdm/drivers/chromedriver/mac64/86.0.4240.22/chromedriver] found in cache\n"
     ]
    },
    {
     "name": "stdout",
     "output_type": "stream",
     "text": [
      " \n",
      "Getting https://www.walmart.com/ip/Wonder-Nation-Girls-Long-Sleeve-Cozy-Swing-T-Shirts-2-Pack-Sizes-4-18-Plus/571524468\n",
      "Entered Reviews\n",
      "Walmart Girls Reviews shape (165, 9)\n",
      "Running next link\n"
     ]
    },
    {
     "name": "stderr",
     "output_type": "stream",
     "text": [
      "[WDM] - Current google-chrome version is 86.0.4240\n",
      "[WDM] - Get LATEST driver version for 86.0.4240\n"
     ]
    },
    {
     "name": "stdout",
     "output_type": "stream",
     "text": [
      " \n"
     ]
    },
    {
     "name": "stderr",
     "output_type": "stream",
     "text": [
      "[WDM] - Driver [/Users/DataSci/.wdm/drivers/chromedriver/mac64/86.0.4240.22/chromedriver] found in cache\n"
     ]
    },
    {
     "name": "stdout",
     "output_type": "stream",
     "text": [
      "Getting https://www.walmart.com/ip/Wonder-Nation-Girls-Ladder-Back-Swing-T-Shirt-Sizes-4-18-Plus/136726457\n",
      "Entered Reviews\n",
      "Walmart Girls Reviews shape (166, 9)\n",
      "Running next link\n"
     ]
    },
    {
     "name": "stderr",
     "output_type": "stream",
     "text": [
      "[WDM] - Current google-chrome version is 86.0.4240\n",
      "[WDM] - Get LATEST driver version for 86.0.4240\n"
     ]
    },
    {
     "name": "stdout",
     "output_type": "stream",
     "text": [
      " \n"
     ]
    },
    {
     "name": "stderr",
     "output_type": "stream",
     "text": [
      "[WDM] - Driver [/Users/DataSci/.wdm/drivers/chromedriver/mac64/86.0.4240.22/chromedriver] found in cache\n"
     ]
    },
    {
     "name": "stdout",
     "output_type": "stream",
     "text": [
      "Getting https://www.walmart.com/ip/Wonder-Nation-Girls-School-Uniform-Button-Side-Tab-Scooter-Skirt-Sizes-4-16-Plus/456622056\n",
      "Entered Reviews\n",
      "Walmart Girls Reviews shape (167, 9)\n",
      "Running next link\n"
     ]
    },
    {
     "name": "stderr",
     "output_type": "stream",
     "text": [
      "[WDM] - Current google-chrome version is 86.0.4240\n",
      "[WDM] - Get LATEST driver version for 86.0.4240\n"
     ]
    },
    {
     "name": "stdout",
     "output_type": "stream",
     "text": [
      " \n"
     ]
    },
    {
     "name": "stderr",
     "output_type": "stream",
     "text": [
      "[WDM] - Driver [/Users/DataSci/.wdm/drivers/chromedriver/mac64/86.0.4240.22/chromedriver] found in cache\n"
     ]
    },
    {
     "name": "stdout",
     "output_type": "stream",
     "text": [
      "Getting https://www.walmart.com/ip/Hanes-Baby-and-Toddler-Girls-Ankle-Socks-6-Pack/51496778\n",
      "Entered Reviews\n",
      "Walmart Girls Reviews shape (168, 9)\n",
      "Running next link\n"
     ]
    },
    {
     "name": "stderr",
     "output_type": "stream",
     "text": [
      "[WDM] - Current google-chrome version is 86.0.4240\n",
      "[WDM] - Get LATEST driver version for 86.0.4240\n"
     ]
    },
    {
     "name": "stdout",
     "output_type": "stream",
     "text": [
      " \n"
     ]
    },
    {
     "name": "stderr",
     "output_type": "stream",
     "text": [
      "[WDM] - Driver [/Users/DataSci/.wdm/drivers/chromedriver/mac64/86.0.4240.22/chromedriver] found in cache\n"
     ]
    },
    {
     "name": "stdout",
     "output_type": "stream",
     "text": [
      "Getting https://www.walmart.com/ip/Garanimals-Baby-Girls-Toddler-Girls-Long-Sleeve-T-shirts-Leggings-4pc-Outfit-Set-12M-5T/747647996\n",
      "Entered Reviews\n",
      "Walmart Girls Reviews shape (169, 9)\n",
      "Running next link\n"
     ]
    },
    {
     "name": "stderr",
     "output_type": "stream",
     "text": [
      "[WDM] - Current google-chrome version is 86.0.4240\n",
      "[WDM] - Get LATEST driver version for 86.0.4240\n",
      "[WDM] - Driver [/Users/DataSci/.wdm/drivers/chromedriver/mac64/86.0.4240.22/chromedriver] found in cache\n"
     ]
    },
    {
     "name": "stdout",
     "output_type": "stream",
     "text": [
      " \n",
      "Getting https://www.walmart.com/ip/Garanimals-Baby-Girls-Toddler-Girls-Ruffled-Peplum-Raglan-Long-Sleeve-T-shirts-4-Pack-12M-5T/712560495\n",
      "Entered Reviews\n",
      "Walmart Girls Reviews shape (170, 9)\n",
      "Running next link\n"
     ]
    },
    {
     "name": "stderr",
     "output_type": "stream",
     "text": [
      "[WDM] - Current google-chrome version is 86.0.4240\n",
      "[WDM] - Get LATEST driver version for 86.0.4240\n"
     ]
    },
    {
     "name": "stdout",
     "output_type": "stream",
     "text": [
      " \n"
     ]
    },
    {
     "name": "stderr",
     "output_type": "stream",
     "text": [
      "[WDM] - Driver [/Users/DataSci/.wdm/drivers/chromedriver/mac64/86.0.4240.22/chromedriver] found in cache\n"
     ]
    },
    {
     "name": "stdout",
     "output_type": "stream",
     "text": [
      "Getting https://www.walmart.com/ip/Fruit-of-the-Loom-Girls-Socks-12-Pack-Low-Cut-Active-Cushion-Sizes-M-L/501634921\n",
      "Entered Reviews\n",
      "Walmart Girls Reviews shape (171, 9)\n",
      "Running next link\n"
     ]
    },
    {
     "name": "stderr",
     "output_type": "stream",
     "text": [
      "[WDM] - Current google-chrome version is 86.0.4240\n",
      "[WDM] - Get LATEST driver version for 86.0.4240\n",
      "[WDM] - Driver [/Users/DataSci/.wdm/drivers/chromedriver/mac64/86.0.4240.22/chromedriver] found in cache\n"
     ]
    },
    {
     "name": "stdout",
     "output_type": "stream",
     "text": [
      " \n",
      "Getting https://www.walmart.com/ip/Hanes-Girls-ComfortSoft-Eco-Smart-Full-Zip-Hoodie-Sweatshirt-Sizes-4-16/54800663\n",
      "Entered Reviews\n",
      "Walmart Girls Reviews shape (172, 9)\n",
      "Running next link\n"
     ]
    },
    {
     "name": "stderr",
     "output_type": "stream",
     "text": [
      "[WDM] - Current google-chrome version is 86.0.4240\n",
      "[WDM] - Get LATEST driver version for 86.0.4240\n",
      "[WDM] - Driver [/Users/DataSci/.wdm/drivers/chromedriver/mac64/86.0.4240.22/chromedriver] found in cache\n"
     ]
    },
    {
     "name": "stdout",
     "output_type": "stream",
     "text": [
      " \n",
      "Getting https://www.walmart.com/ip/Derek-Heart-Matching-Family-Christmas-Pajamas-Girl-s-Merry-Bright-Pajama-Set-2-Piece/270878400\n",
      "Entered Reviews\n",
      "Walmart Girls Reviews shape (173, 9)\n",
      "Running next link\n"
     ]
    },
    {
     "name": "stderr",
     "output_type": "stream",
     "text": [
      "[WDM] - Current google-chrome version is 86.0.4240\n",
      "[WDM] - Get LATEST driver version for 86.0.4240\n"
     ]
    },
    {
     "name": "stdout",
     "output_type": "stream",
     "text": [
      " \n"
     ]
    },
    {
     "name": "stderr",
     "output_type": "stream",
     "text": [
      "[WDM] - Driver [/Users/DataSci/.wdm/drivers/chromedriver/mac64/86.0.4240.22/chromedriver] found in cache\n"
     ]
    },
    {
     "name": "stdout",
     "output_type": "stream",
     "text": [
      "Getting https://www.walmart.com/ip/Hanes-Boys-4-18-Tagless-Short-Sleeve-T-Shirt/40264358\n",
      "Entered Reviews\n",
      "Walmart Girls Reviews shape (174, 9)\n",
      "Running next link\n"
     ]
    },
    {
     "name": "stderr",
     "output_type": "stream",
     "text": [
      "[WDM] - Current google-chrome version is 86.0.4240\n",
      "[WDM] - Get LATEST driver version for 86.0.4240\n"
     ]
    },
    {
     "name": "stdout",
     "output_type": "stream",
     "text": [
      " \n"
     ]
    },
    {
     "name": "stderr",
     "output_type": "stream",
     "text": [
      "[WDM] - Driver [/Users/DataSci/.wdm/drivers/chromedriver/mac64/86.0.4240.22/chromedriver] found in cache\n"
     ]
    },
    {
     "name": "stdout",
     "output_type": "stream",
     "text": [
      "Getting https://www.walmart.com/ip/Awkward-Styles-Matching-Christmas-Pajamas-Set-Green-Let-s-Get-Lit-Family-Sleepwear/758485335\n",
      "Entered Reviews\n",
      "Walmart Girls Reviews shape (175, 9)\n",
      "Running next link\n"
     ]
    },
    {
     "name": "stderr",
     "output_type": "stream",
     "text": [
      "[WDM] - Current google-chrome version is 86.0.4240\n",
      "[WDM] - Get LATEST driver version for 86.0.4240\n",
      "[WDM] - Driver [/Users/DataSci/.wdm/drivers/chromedriver/mac64/86.0.4240.22/chromedriver] found in cache\n"
     ]
    },
    {
     "name": "stdout",
     "output_type": "stream",
     "text": [
      " \n",
      "Getting https://www.walmart.com/ip/Jojo-Siwa-Girls-Pajama-Blanket-Sleeper-Sizes-4-12/219540301\n",
      "Entered Reviews\n",
      "Walmart Girls Reviews shape (176, 9)\n",
      "Running next link\n"
     ]
    },
    {
     "name": "stderr",
     "output_type": "stream",
     "text": [
      "[WDM] - Current google-chrome version is 86.0.4240\n",
      "[WDM] - Get LATEST driver version for 86.0.4240\n",
      "[WDM] - Driver [/Users/DataSci/.wdm/drivers/chromedriver/mac64/86.0.4240.22/chromedriver] found in cache\n"
     ]
    },
    {
     "name": "stdout",
     "output_type": "stream",
     "text": [
      " \n",
      "Getting https://www.walmart.com/ip/The-Next-Level-Girls-Princess-T-Shirt-LIGHT-PINK-M/119159035\n",
      "Entered Reviews\n",
      "Walmart Girls Reviews shape (177, 9)\n",
      "Running next link\n"
     ]
    },
    {
     "name": "stderr",
     "output_type": "stream",
     "text": [
      "[WDM] - Current google-chrome version is 86.0.4240\n",
      "[WDM] - Get LATEST driver version for 86.0.4240\n"
     ]
    },
    {
     "name": "stdout",
     "output_type": "stream",
     "text": [
      " \n"
     ]
    },
    {
     "name": "stderr",
     "output_type": "stream",
     "text": [
      "[WDM] - Driver [/Users/DataSci/.wdm/drivers/chromedriver/mac64/86.0.4240.22/chromedriver] found in cache\n"
     ]
    },
    {
     "name": "stdout",
     "output_type": "stream",
     "text": [
      "Getting https://www.walmart.com/ip/L-O-L-Surprise-Girls-Long-Sleeve-Top-Long-Pants-2-Piece-Pajama-Set-Sizes-4-10/542481759\n",
      "Entered Reviews\n",
      "Walmart Girls Reviews shape (178, 9)\n",
      "Running next link\n"
     ]
    },
    {
     "name": "stderr",
     "output_type": "stream",
     "text": [
      "[WDM] - Current google-chrome version is 86.0.4240\n",
      "[WDM] - Get LATEST driver version for 86.0.4240\n"
     ]
    },
    {
     "name": "stdout",
     "output_type": "stream",
     "text": [
      " \n"
     ]
    },
    {
     "name": "stderr",
     "output_type": "stream",
     "text": [
      "[WDM] - Driver [/Users/DataSci/.wdm/drivers/chromedriver/mac64/86.0.4240.22/chromedriver] found in cache\n"
     ]
    },
    {
     "name": "stdout",
     "output_type": "stream",
     "text": [
      "Getting https://www.walmart.com/ip/Family-Matching-Christmas-Pajamas-Set-Men-PJs-Sleepwear-Nightwear/960876961\n",
      "No 'See All Reviews' button\n"
     ]
    },
    {
     "name": "stderr",
     "output_type": "stream",
     "text": [
      "[WDM] - Current google-chrome version is 86.0.4240\n",
      "[WDM] - Get LATEST driver version for 86.0.4240\n",
      "[WDM] - Driver [/Users/DataSci/.wdm/drivers/chromedriver/mac64/86.0.4240.22/chromedriver] found in cache\n"
     ]
    },
    {
     "name": "stdout",
     "output_type": "stream",
     "text": [
      " \n",
      "Getting https://www.walmart.com/ip/Family-Match-Adult-Women-Kids-Baby-Xmas-Santa-Claus-Pajamas-Pyjamas-Nightwear/838134208\n",
      "Entered Reviews\n",
      "Walmart Girls Reviews shape (179, 9)\n",
      "Running next link\n"
     ]
    },
    {
     "name": "stderr",
     "output_type": "stream",
     "text": [
      "[WDM] - Current google-chrome version is 86.0.4240\n",
      "[WDM] - Get LATEST driver version for 86.0.4240\n"
     ]
    },
    {
     "name": "stdout",
     "output_type": "stream",
     "text": [
      " \n"
     ]
    },
    {
     "name": "stderr",
     "output_type": "stream",
     "text": [
      "[WDM] - Driver [/Users/DataSci/.wdm/drivers/chromedriver/mac64/86.0.4240.22/chromedriver] found in cache\n"
     ]
    },
    {
     "name": "stdout",
     "output_type": "stream",
     "text": [
      "Getting https://www.walmart.com/ip/Sleep-On-It-Baby-Toddler-Girls-Long-Sleeve-Snug-Fit-Cotton-Pajamas-Socks-3-Piece-Set/569475394\n",
      "Entered Reviews\n",
      "Walmart Girls Reviews shape (180, 9)\n",
      "Running next link\n"
     ]
    },
    {
     "name": "stderr",
     "output_type": "stream",
     "text": [
      "[WDM] - Current google-chrome version is 86.0.4240\n",
      "[WDM] - Get LATEST driver version for 86.0.4240\n"
     ]
    },
    {
     "name": "stdout",
     "output_type": "stream",
     "text": [
      " \n"
     ]
    },
    {
     "name": "stderr",
     "output_type": "stream",
     "text": [
      "[WDM] - Driver [/Users/DataSci/.wdm/drivers/chromedriver/mac64/86.0.4240.22/chromedriver] found in cache\n"
     ]
    },
    {
     "name": "stdout",
     "output_type": "stream",
     "text": [
      "Getting https://www.walmart.com/ip/L-O-L-Surprise-Girls-Exclusive-Long-Sleeve-Top-Long-Pants-2-Piece-Pajama-Set-Sizes-4-12/657764898\n",
      "Entered Reviews\n",
      "Walmart Girls Reviews shape (181, 9)\n",
      "Running next link\n"
     ]
    },
    {
     "name": "stderr",
     "output_type": "stream",
     "text": [
      "[WDM] - Current google-chrome version is 86.0.4240\n",
      "[WDM] - Get LATEST driver version for 86.0.4240\n"
     ]
    },
    {
     "name": "stdout",
     "output_type": "stream",
     "text": [
      " \n"
     ]
    },
    {
     "name": "stderr",
     "output_type": "stream",
     "text": [
      "[WDM] - Driver [/Users/DataSci/.wdm/drivers/chromedriver/mac64/86.0.4240.22/chromedriver] found in cache\n"
     ]
    },
    {
     "name": "stdout",
     "output_type": "stream",
     "text": [
      "Getting https://www.walmart.com/ip/Disney-Frozen-2-Girls-Super-Soft-Short-Sleeve-Top-Long-Pants-Shorts-3-Piece-Pajama-Set-Sizes-4-8/677814057\n",
      "Entered Reviews\n",
      "Walmart Girls Reviews shape (182, 9)\n",
      "Running next link\n"
     ]
    },
    {
     "name": "stderr",
     "output_type": "stream",
     "text": [
      "[WDM] - Current google-chrome version is 86.0.4240\n",
      "[WDM] - Get LATEST driver version for 86.0.4240\n"
     ]
    },
    {
     "name": "stdout",
     "output_type": "stream",
     "text": [
      " \n"
     ]
    },
    {
     "name": "stderr",
     "output_type": "stream",
     "text": [
      "[WDM] - Driver [/Users/DataSci/.wdm/drivers/chromedriver/mac64/86.0.4240.22/chromedriver] found in cache\n"
     ]
    },
    {
     "name": "stdout",
     "output_type": "stream",
     "text": [
      "Getting https://www.walmart.com/ip/Little-Star-Organic-Baby-Toddler-Girl-Snug-Fit-Cotton-Long-Sleeve-Pajamas-2pc-Set/509597731\n",
      "Entered Reviews\n",
      "Walmart Girls Reviews shape (183, 9)\n",
      "Running next link\n"
     ]
    },
    {
     "name": "stderr",
     "output_type": "stream",
     "text": [
      "[WDM] - Current google-chrome version is 86.0.4240\n",
      "[WDM] - Get LATEST driver version for 86.0.4240\n",
      "[WDM] - Driver [/Users/DataSci/.wdm/drivers/chromedriver/mac64/86.0.4240.22/chromedriver] found in cache\n"
     ]
    },
    {
     "name": "stdout",
     "output_type": "stream",
     "text": [
      " \n",
      "Getting https://www.walmart.com/ip/Holiday-Time-Girls-3D-Embellished-Christmas-Sweater-Sizes-4-18-Plus/854678109\n",
      "No 'See All Reviews' button\n"
     ]
    },
    {
     "name": "stderr",
     "output_type": "stream",
     "text": [
      "[WDM] - Current google-chrome version is 86.0.4240\n",
      "[WDM] - Get LATEST driver version for 86.0.4240\n"
     ]
    },
    {
     "name": "stdout",
     "output_type": "stream",
     "text": [
      " \n"
     ]
    },
    {
     "name": "stderr",
     "output_type": "stream",
     "text": [
      "[WDM] - Driver [/Users/DataSci/.wdm/drivers/chromedriver/mac64/86.0.4240.22/chromedriver] found in cache\n"
     ]
    },
    {
     "name": "stdout",
     "output_type": "stream",
     "text": [
      "Getting https://www.walmart.com/ip/Frozen-Girls-3-4-Sleeve-Play-Dress-2-Pack-Sizes-4-10/248123606\n",
      "No 'See All Reviews' button\n"
     ]
    },
    {
     "name": "stderr",
     "output_type": "stream",
     "text": [
      "[WDM] - Current google-chrome version is 86.0.4240\n",
      "[WDM] - Get LATEST driver version for 86.0.4240\n"
     ]
    },
    {
     "name": "stdout",
     "output_type": "stream",
     "text": [
      " \n"
     ]
    },
    {
     "name": "stderr",
     "output_type": "stream",
     "text": [
      "[WDM] - Driver [/Users/DataSci/.wdm/drivers/chromedriver/mac64/86.0.4240.22/chromedriver] found in cache\n"
     ]
    },
    {
     "name": "stdout",
     "output_type": "stream",
     "text": [
      "Getting https://www.walmart.com/ip/Disney-Frozen-Girls-Exclusive-Plush-Pajama-Robe-Sizes-4-12/923971107\n",
      "No 'See All Reviews' button\n"
     ]
    },
    {
     "name": "stderr",
     "output_type": "stream",
     "text": [
      "[WDM] - Current google-chrome version is 86.0.4240\n",
      "[WDM] - Get LATEST driver version for 86.0.4240\n",
      "[WDM] - Driver [/Users/DataSci/.wdm/drivers/chromedriver/mac64/86.0.4240.22/chromedriver] found in cache\n"
     ]
    },
    {
     "name": "stdout",
     "output_type": "stream",
     "text": [
      " \n",
      "Getting https://www.walmart.com/ip/Wonder-Nation-Girls-Exclusive-2-Piece-Pajama-Set-Long-Sleeve-Top-and-Fuzzy-Long-Pant-Sizes-4-18-Plus/722082996\n",
      "No 'See All Reviews' button\n"
     ]
    },
    {
     "name": "stderr",
     "output_type": "stream",
     "text": [
      "[WDM] - Current google-chrome version is 86.0.4240\n",
      "[WDM] - Get LATEST driver version for 86.0.4240\n",
      "[WDM] - Driver [/Users/DataSci/.wdm/drivers/chromedriver/mac64/86.0.4240.22/chromedriver] found in cache\n"
     ]
    },
    {
     "name": "stdout",
     "output_type": "stream",
     "text": [
      " \n",
      "Getting https://www.walmart.com/ip/Garanimals-Baby-Toddler-Girls-French-Terry-Sweatshirt-Thermal-Tops-3-pack/627062895\n",
      "No 'See All Reviews' button\n"
     ]
    },
    {
     "name": "stderr",
     "output_type": "stream",
     "text": [
      "[WDM] - Current google-chrome version is 86.0.4240\n",
      "[WDM] - Get LATEST driver version for 86.0.4240\n"
     ]
    },
    {
     "name": "stdout",
     "output_type": "stream",
     "text": [
      " \n"
     ]
    },
    {
     "name": "stderr",
     "output_type": "stream",
     "text": [
      "[WDM] - Driver [/Users/DataSci/.wdm/drivers/chromedriver/mac64/86.0.4240.22/chromedriver] found in cache\n"
     ]
    },
    {
     "name": "stdout",
     "output_type": "stream",
     "text": [
      "Getting https://www.walmart.com/ip/Jojo-Siwa-Girls-Tie-Front-Top-and-Tutu-Skirt-2-Piece-Outfit-Set-Sizes-4-16/234975803\n",
      "Entered Reviews\n",
      "Walmart Girls Reviews shape (184, 9)\n",
      "Running next link\n"
     ]
    },
    {
     "name": "stderr",
     "output_type": "stream",
     "text": [
      "[WDM] - Current google-chrome version is 86.0.4240\n",
      "[WDM] - Get LATEST driver version for 86.0.4240\n"
     ]
    },
    {
     "name": "stdout",
     "output_type": "stream",
     "text": [
      " \n"
     ]
    },
    {
     "name": "stderr",
     "output_type": "stream",
     "text": [
      "[WDM] - Driver [/Users/DataSci/.wdm/drivers/chromedriver/mac64/86.0.4240.22/chromedriver] found in cache\n"
     ]
    },
    {
     "name": "stdout",
     "output_type": "stream",
     "text": [
      "Getting https://www.walmart.com/ip/Minnie-Mouse-Girls-Holiday-3-4-Sleeve-Play-Dress-2-Pack-Sizes-4-10/434112282\n",
      "Entered Reviews\n",
      "Walmart Girls Reviews shape (185, 9)\n",
      "Running next link\n"
     ]
    },
    {
     "name": "stderr",
     "output_type": "stream",
     "text": [
      "[WDM] - Current google-chrome version is 86.0.4240\n",
      "[WDM] - Get LATEST driver version for 86.0.4240\n"
     ]
    },
    {
     "name": "stdout",
     "output_type": "stream",
     "text": [
      " \n"
     ]
    },
    {
     "name": "stderr",
     "output_type": "stream",
     "text": [
      "[WDM] - Driver [/Users/DataSci/.wdm/drivers/chromedriver/mac64/86.0.4240.22/chromedriver] found in cache\n"
     ]
    },
    {
     "name": "stdout",
     "output_type": "stream",
     "text": [
      "Getting https://www.walmart.com/ip/Baby-Shark-Toddler-Girl-Long-Sleeve-Snug-Fit-Cotton-Pajamas-4-pc-Set/411113689\n",
      "No 'See All Reviews' button\n"
     ]
    },
    {
     "name": "stderr",
     "output_type": "stream",
     "text": [
      "[WDM] - Current google-chrome version is 86.0.4240\n",
      "[WDM] - Get LATEST driver version for 86.0.4240\n"
     ]
    },
    {
     "name": "stdout",
     "output_type": "stream",
     "text": [
      " \n"
     ]
    },
    {
     "name": "stderr",
     "output_type": "stream",
     "text": [
      "[WDM] - Driver [/Users/DataSci/.wdm/drivers/chromedriver/mac64/86.0.4240.22/chromedriver] found in cache\n"
     ]
    },
    {
     "name": "stdout",
     "output_type": "stream",
     "text": [
      "Getting https://www.walmart.com/ip/L-O-L-Surprise-Girls-Exclusive-Mix-and-Match-4-Piece-Outfit-Set-Sizes-4-16/845279050\n",
      "No 'See All Reviews' button\n"
     ]
    },
    {
     "name": "stderr",
     "output_type": "stream",
     "text": [
      "[WDM] - Current google-chrome version is 86.0.4240\n",
      "[WDM] - Get LATEST driver version for 86.0.4240\n",
      "[WDM] - Driver [/Users/DataSci/.wdm/drivers/chromedriver/mac64/86.0.4240.22/chromedriver] found in cache\n"
     ]
    },
    {
     "name": "stdout",
     "output_type": "stream",
     "text": [
      " \n",
      "Getting https://www.walmart.com/ip/Forever-Me-Girls-Faux-Fur-Vest-Graphic-Top-and-Leggings-3-Piece-Outfit-Set-With-Belt-Sizes-4-12/860256314\n",
      "Entered Reviews\n",
      "Walmart Girls Reviews shape (186, 9)\n",
      "Running next link\n"
     ]
    },
    {
     "name": "stderr",
     "output_type": "stream",
     "text": [
      "[WDM] - Current google-chrome version is 86.0.4240\n",
      "[WDM] - Get LATEST driver version for 86.0.4240\n",
      "[WDM] - Driver [/Users/DataSci/.wdm/drivers/chromedriver/mac64/86.0.4240.22/chromedriver] found in cache\n"
     ]
    },
    {
     "name": "stdout",
     "output_type": "stream",
     "text": [
      " \n",
      "Getting https://www.walmart.com/ip/Matching-Family-Christmas-Pajamas-Kids-Flamingo-Frost-2-Piece-Pajama-Set/361419330\n",
      "No 'See All Reviews' button\n"
     ]
    },
    {
     "name": "stderr",
     "output_type": "stream",
     "text": [
      "[WDM] - Current google-chrome version is 86.0.4240\n",
      "[WDM] - Get LATEST driver version for 86.0.4240\n",
      "[WDM] - Driver [/Users/DataSci/.wdm/drivers/chromedriver/mac64/86.0.4240.22/chromedriver] found in cache\n"
     ]
    },
    {
     "name": "stdout",
     "output_type": "stream",
     "text": [
      " \n",
      "Getting https://www.walmart.com/ip/Minnie-Mouse-Baby-Toddler-Girl-Unicorn-Long-Sleeve-Top-Tutu-Skirt-Leggings-Headband-4pc-outfit-set/438598103\n",
      "Entered Reviews\n",
      "Walmart Girls Reviews shape (187, 9)\n",
      "Running next link\n"
     ]
    },
    {
     "name": "stderr",
     "output_type": "stream",
     "text": [
      "[WDM] - Current google-chrome version is 86.0.4240\n",
      "[WDM] - Get LATEST driver version for 86.0.4240\n",
      "[WDM] - Driver [/Users/DataSci/.wdm/drivers/chromedriver/mac64/86.0.4240.22/chromedriver] found in cache\n"
     ]
    },
    {
     "name": "stdout",
     "output_type": "stream",
     "text": [
      " \n",
      "Getting https://www.walmart.com/ip/Cheetah-Girls-Quilted-Reversible-Jacket-Sizes-4-14/596790389\n",
      "Entered Reviews\n",
      "Walmart Girls Reviews shape (188, 9)\n",
      "Running next link\n"
     ]
    },
    {
     "name": "stderr",
     "output_type": "stream",
     "text": [
      "[WDM] - Current google-chrome version is 86.0.4240\n",
      "[WDM] - Get LATEST driver version for 86.0.4240\n",
      "[WDM] - Driver [/Users/DataSci/.wdm/drivers/chromedriver/mac64/86.0.4240.22/chromedriver] found in cache\n"
     ]
    },
    {
     "name": "stdout",
     "output_type": "stream",
     "text": [
      " \n",
      "Getting https://www.walmart.com/ip/Petit-Lem-Girls-2-Piece-Sleep-Set-Hooded-Robe-and-Pajama-Pant-Little-Girls-and-Big-Girls/239092350\n",
      "Entered Reviews\n",
      "Walmart Girls Reviews shape (189, 9)\n",
      "Running next link\n"
     ]
    },
    {
     "name": "stderr",
     "output_type": "stream",
     "text": [
      "[WDM] - Current google-chrome version is 86.0.4240\n",
      "[WDM] - Get LATEST driver version for 86.0.4240\n"
     ]
    },
    {
     "name": "stdout",
     "output_type": "stream",
     "text": [
      " \n"
     ]
    },
    {
     "name": "stderr",
     "output_type": "stream",
     "text": [
      "[WDM] - Driver [/Users/DataSci/.wdm/drivers/chromedriver/mac64/86.0.4240.22/chromedriver] found in cache\n"
     ]
    },
    {
     "name": "stdout",
     "output_type": "stream",
     "text": [
      "Getting https://www.walmart.com/ip/Disney-Descendants-Girls-Mix-and-Match-Outfit-Set-4-Piece-Sizes-4-16/155820286\n",
      "No 'See All Reviews' button\n"
     ]
    },
    {
     "name": "stderr",
     "output_type": "stream",
     "text": [
      "[WDM] - Current google-chrome version is 86.0.4240\n",
      "[WDM] - Get LATEST driver version for 86.0.4240\n"
     ]
    },
    {
     "name": "stdout",
     "output_type": "stream",
     "text": [
      " \n"
     ]
    },
    {
     "name": "stderr",
     "output_type": "stream",
     "text": [
      "[WDM] - Driver [/Users/DataSci/.wdm/drivers/chromedriver/mac64/86.0.4240.22/chromedriver] found in cache\n"
     ]
    },
    {
     "name": "stdout",
     "output_type": "stream",
     "text": [
      "Getting https://www.walmart.com/ip/L-O-L-Surprise-Girls-Fleece-Crew-Neck-Sweatshirt-Sizes-4-16/375770405\n",
      "Entered Reviews\n",
      "Walmart Girls Reviews shape (190, 9)\n",
      "Running next link\n"
     ]
    },
    {
     "name": "stderr",
     "output_type": "stream",
     "text": [
      "[WDM] - Current google-chrome version is 86.0.4240\n",
      "[WDM] - Get LATEST driver version for 86.0.4240\n"
     ]
    },
    {
     "name": "stdout",
     "output_type": "stream",
     "text": [
      " \n"
     ]
    },
    {
     "name": "stderr",
     "output_type": "stream",
     "text": [
      "[WDM] - Driver [/Users/DataSci/.wdm/drivers/chromedriver/mac64/86.0.4240.22/chromedriver] found in cache\n"
     ]
    },
    {
     "name": "stdout",
     "output_type": "stream",
     "text": [
      "Getting https://www.walmart.com/ip/Celebrity-Pink-Girls-Mid-Rise-5-Pocket-Skinny-Jeans-Sizes-7-12/969860021\n",
      "Entered Reviews\n",
      "Walmart Girls Reviews shape (191, 9)\n",
      "Running next link\n"
     ]
    },
    {
     "name": "stderr",
     "output_type": "stream",
     "text": [
      "[WDM] - Current google-chrome version is 86.0.4240\n",
      "[WDM] - Get LATEST driver version for 86.0.4240\n",
      "[WDM] - Driver [/Users/DataSci/.wdm/drivers/chromedriver/mac64/86.0.4240.22/chromedriver] found in cache\n"
     ]
    },
    {
     "name": "stdout",
     "output_type": "stream",
     "text": [
      " \n",
      "Getting https://www.walmart.com/ip/Jojo-Siwa-Girls-Dollie-Me-Pajama-Nightgown-Sizes-4-12/455697941\n",
      "No 'See All Reviews' button\n"
     ]
    },
    {
     "name": "stderr",
     "output_type": "stream",
     "text": [
      "[WDM] - Current google-chrome version is 86.0.4240\n",
      "[WDM] - Get LATEST driver version for 86.0.4240\n",
      "[WDM] - Driver [/Users/DataSci/.wdm/drivers/chromedriver/mac64/86.0.4240.22/chromedriver] found in cache\n"
     ]
    },
    {
     "name": "stdout",
     "output_type": "stream",
     "text": [
      " \n",
      "Getting https://www.walmart.com/ip/Sweet-Dreams-Girls-Hooded-Pajama-Robe-4-12/800617134\n",
      "Entered Reviews\n",
      "Walmart Girls Reviews shape (192, 9)\n",
      "Running next link\n"
     ]
    },
    {
     "name": "stderr",
     "output_type": "stream",
     "text": [
      "[WDM] - Current google-chrome version is 86.0.4240\n",
      "[WDM] - Get LATEST driver version for 86.0.4240\n",
      "[WDM] - Driver [/Users/DataSci/.wdm/drivers/chromedriver/mac64/86.0.4240.22/chromedriver] found in cache\n"
     ]
    },
    {
     "name": "stdout",
     "output_type": "stream",
     "text": [
      " \n",
      "Getting https://www.walmart.com/ip/Holiday-Time-Girls-Christmas-Long-Sleeve-Graphic-T-Shirts-2-Pack-Sizes-4-18/209870738\n",
      "Entered Reviews\n",
      "Walmart Girls Reviews shape (193, 9)\n",
      "Running next link\n"
     ]
    },
    {
     "name": "stderr",
     "output_type": "stream",
     "text": [
      "[WDM] - Current google-chrome version is 86.0.4240\n",
      "[WDM] - Get LATEST driver version for 86.0.4240\n",
      "[WDM] - Driver [/Users/DataSci/.wdm/drivers/chromedriver/mac64/86.0.4240.22/chromedriver] found in cache\n"
     ]
    },
    {
     "name": "stdout",
     "output_type": "stream",
     "text": [
      " \n",
      "Getting https://www.walmart.com/ip/Wonder-Nation-Girls-Exclusive-Super-Soft-Fuzzy-Sleep-Robe-Sizes-4-18-Plus/770952007\n",
      "No 'See All Reviews' button\n"
     ]
    },
    {
     "name": "stderr",
     "output_type": "stream",
     "text": [
      "[WDM] - Current google-chrome version is 86.0.4240\n",
      "[WDM] - Get LATEST driver version for 86.0.4240\n",
      "[WDM] - Driver [/Users/DataSci/.wdm/drivers/chromedriver/mac64/86.0.4240.22/chromedriver] found in cache\n"
     ]
    },
    {
     "name": "stdout",
     "output_type": "stream",
     "text": [
      " \n",
      "Getting https://www.walmart.com/ip/Jojo-Siwa-Girls-Exclusive-Long-Sleeve-Top-Long-Pants-2-Piece-Pajama-Set-Sizes-4-12/294035037\n",
      "Entered Reviews\n",
      "Walmart Girls Reviews shape (194, 9)\n",
      "Running next link\n"
     ]
    },
    {
     "name": "stderr",
     "output_type": "stream",
     "text": [
      "[WDM] - Current google-chrome version is 86.0.4240\n",
      "[WDM] - Get LATEST driver version for 86.0.4240\n",
      "[WDM] - Driver [/Users/DataSci/.wdm/drivers/chromedriver/mac64/86.0.4240.22/chromedriver] found in cache\n"
     ]
    },
    {
     "name": "stdout",
     "output_type": "stream",
     "text": [
      " \n",
      "Getting https://www.walmart.com/ip/Wonder-Nation-Girls-Exclusive-Super-Soft-Pajama-Long-Sleeve-Top-Legging-Sleep-Set-Sizes-4-18-Plus/321404556\n",
      "No 'See All Reviews' button\n"
     ]
    },
    {
     "name": "stderr",
     "output_type": "stream",
     "text": [
      "[WDM] - Current google-chrome version is 86.0.4240\n",
      "[WDM] - Get LATEST driver version for 86.0.4240\n"
     ]
    },
    {
     "name": "stdout",
     "output_type": "stream",
     "text": [
      " \n"
     ]
    },
    {
     "name": "stderr",
     "output_type": "stream",
     "text": [
      "[WDM] - Driver [/Users/DataSci/.wdm/drivers/chromedriver/mac64/86.0.4240.22/chromedriver] found in cache\n"
     ]
    },
    {
     "name": "stdout",
     "output_type": "stream",
     "text": [
      "Getting https://www.walmart.com/ip/Wonder-Nation-Toddler-Girls-Minky-Plush-Pullover-Sweatshirt-Jogger-Pants-Outfit-Set-2-Piece-Sizes-2T-5T/526190593\n",
      "No 'See All Reviews' button\n"
     ]
    },
    {
     "name": "stderr",
     "output_type": "stream",
     "text": [
      "[WDM] - Current google-chrome version is 86.0.4240\n",
      "[WDM] - Get LATEST driver version for 86.0.4240\n",
      "[WDM] - Driver [/Users/DataSci/.wdm/drivers/chromedriver/mac64/86.0.4240.22/chromedriver] found in cache\n"
     ]
    },
    {
     "name": "stdout",
     "output_type": "stream",
     "text": [
      " \n",
      "Getting https://www.walmart.com/ip/L-O-L-Surprise-Girls-3-4-Sleeve-Play-Dress-2-Pack-Sizes-4-10/965874867\n",
      "Entered Reviews\n",
      "Walmart Girls Reviews shape (195, 9)\n",
      "Running next link\n"
     ]
    },
    {
     "name": "stderr",
     "output_type": "stream",
     "text": [
      "[WDM] - Current google-chrome version is 86.0.4240\n",
      "[WDM] - Get LATEST driver version for 86.0.4240\n",
      "[WDM] - Driver [/Users/DataSci/.wdm/drivers/chromedriver/mac64/86.0.4240.22/chromedriver] found in cache\n"
     ]
    },
    {
     "name": "stdout",
     "output_type": "stream",
     "text": [
      " \n",
      "Getting https://www.walmart.com/ip/Self-Esteem-Girls-Tie-Front-Graphic-Top-and-Midi-Skirt-2-Piece-Outfit-Set-Sizes-7-16/104370062\n",
      "No 'See All Reviews' button\n"
     ]
    },
    {
     "name": "stderr",
     "output_type": "stream",
     "text": [
      "[WDM] - Current google-chrome version is 86.0.4240\n",
      "[WDM] - Get LATEST driver version for 86.0.4240\n"
     ]
    },
    {
     "name": "stdout",
     "output_type": "stream",
     "text": [
      " \n"
     ]
    },
    {
     "name": "stderr",
     "output_type": "stream",
     "text": [
      "[WDM] - Driver [/Users/DataSci/.wdm/drivers/chromedriver/mac64/86.0.4240.22/chromedriver] found in cache\n"
     ]
    },
    {
     "name": "stdout",
     "output_type": "stream",
     "text": [
      "Getting https://www.walmart.com/ip/Christmas-Kids-Baby-Boys-Girls-Nightwear-Pj-s-Set-Sleepwear-1-6Y-Pajamas-Outfits/459875292\n",
      "Entered Reviews\n",
      "Walmart Girls Reviews shape (196, 9)\n",
      "Running next link\n"
     ]
    },
    {
     "name": "stderr",
     "output_type": "stream",
     "text": [
      "[WDM] - Current google-chrome version is 86.0.4240\n",
      "[WDM] - Get LATEST driver version for 86.0.4240\n",
      "[WDM] - Driver [/Users/DataSci/.wdm/drivers/chromedriver/mac64/86.0.4240.22/chromedriver] found in cache\n"
     ]
    },
    {
     "name": "stdout",
     "output_type": "stream",
     "text": [
      " \n",
      "Getting https://www.walmart.com/ip/Forever-Me-Girls-Cozy-Peplum-Top-and-Floral-Leggings-2-Piece-Outfit-Set-Sizes-4-12/159191454\n",
      "Entered Reviews\n",
      "Walmart Girls Reviews shape (197, 9)\n",
      "Running next link\n"
     ]
    },
    {
     "name": "stderr",
     "output_type": "stream",
     "text": [
      "[WDM] - Current google-chrome version is 86.0.4240\n",
      "[WDM] - Get LATEST driver version for 86.0.4240\n",
      "[WDM] - Driver [/Users/DataSci/.wdm/drivers/chromedriver/mac64/86.0.4240.22/chromedriver] found in cache\n"
     ]
    },
    {
     "name": "stdout",
     "output_type": "stream",
     "text": [
      " \n",
      "Getting https://www.walmart.com/ip/SUNSIOM-Outfit-Dress-Clothes-For-18-American-Girl-Our-Generation-My-Life-Doll/348111054\n",
      "Entered Reviews\n",
      "Walmart Girls Reviews shape (198, 9)\n",
      "Running next link\n"
     ]
    },
    {
     "name": "stderr",
     "output_type": "stream",
     "text": [
      "[WDM] - Current google-chrome version is 86.0.4240\n",
      "[WDM] - Get LATEST driver version for 86.0.4240\n",
      "[WDM] - Driver [/Users/DataSci/.wdm/drivers/chromedriver/mac64/86.0.4240.22/chromedriver] found in cache\n"
     ]
    },
    {
     "name": "stdout",
     "output_type": "stream",
     "text": [
      " \n",
      "Getting https://www.walmart.com/ip/The-Children-s-Place-Girls-Print-Dress-with-Long-Sleeves-Sizes-5-16/731732081\n",
      "Entered Reviews\n",
      "Walmart Girls Reviews shape (199, 9)\n",
      "Running next link\n"
     ]
    },
    {
     "name": "stderr",
     "output_type": "stream",
     "text": [
      "[WDM] - Current google-chrome version is 86.0.4240\n",
      "[WDM] - Get LATEST driver version for 86.0.4240\n",
      "[WDM] - Driver [/Users/DataSci/.wdm/drivers/chromedriver/mac64/86.0.4240.22/chromedriver] found in cache\n"
     ]
    },
    {
     "name": "stdout",
     "output_type": "stream",
     "text": [
      " \n",
      "Getting https://www.walmart.com/ip/Christmas-Family-Matching-Pyjamas-PJs-Set-Xmas-Santa-Kids-Sleepwear-Nightwear/651813969\n",
      "Entered Reviews\n",
      "Walmart Girls Reviews shape (200, 9)\n",
      "Running next link\n"
     ]
    },
    {
     "name": "stderr",
     "output_type": "stream",
     "text": [
      "[WDM] - Current google-chrome version is 86.0.4240\n",
      "[WDM] - Get LATEST driver version for 86.0.4240\n",
      "[WDM] - Driver [/Users/DataSci/.wdm/drivers/chromedriver/mac64/86.0.4240.22/chromedriver] found in cache\n"
     ]
    },
    {
     "name": "stdout",
     "output_type": "stream",
     "text": [
      " \n",
      "Getting https://www.walmart.com/ip/Child-of-Mine-by-Carter-s-Toddler-Girl-Hooded-Top-Pant-2pc-Outfit-Set/501881686\n",
      "No 'See All Reviews' button\n"
     ]
    },
    {
     "name": "stderr",
     "output_type": "stream",
     "text": [
      "[WDM] - Current google-chrome version is 86.0.4240\n",
      "[WDM] - Get LATEST driver version for 86.0.4240\n"
     ]
    },
    {
     "name": "stdout",
     "output_type": "stream",
     "text": [
      " \n"
     ]
    },
    {
     "name": "stderr",
     "output_type": "stream",
     "text": [
      "[WDM] - Driver [/Users/DataSci/.wdm/drivers/chromedriver/mac64/86.0.4240.22/chromedriver] found in cache\n"
     ]
    },
    {
     "name": "stdout",
     "output_type": "stream",
     "text": [
      "Getting https://www.walmart.com/ip/Child-of-Mine-by-Carter-s-Toddler-Girl-Long-Sleeve-Shirt-and-Pant-Set-2-pc-set/261500150\n",
      "Entered Reviews\n",
      "Walmart Girls Reviews shape (201, 9)\n",
      "Running next link\n"
     ]
    },
    {
     "name": "stderr",
     "output_type": "stream",
     "text": [
      "[WDM] - Current google-chrome version is 86.0.4240\n",
      "[WDM] - Get LATEST driver version for 86.0.4240\n",
      "[WDM] - Driver [/Users/DataSci/.wdm/drivers/chromedriver/mac64/86.0.4240.22/chromedriver] found in cache\n"
     ]
    },
    {
     "name": "stdout",
     "output_type": "stream",
     "text": [
      " \n",
      "Getting https://www.walmart.com/ip/Sleep-On-It-Girl-s-Pajama-Set-with-Free-Hair-Scrunchie-2-Piece-Sizes-5-18-Plus/291754373\n",
      "No 'See All Reviews' button\n"
     ]
    },
    {
     "name": "stderr",
     "output_type": "stream",
     "text": [
      "[WDM] - Current google-chrome version is 86.0.4240\n",
      "[WDM] - Get LATEST driver version for 86.0.4240\n",
      "[WDM] - Driver [/Users/DataSci/.wdm/drivers/chromedriver/mac64/86.0.4240.22/chromedriver] found in cache\n"
     ]
    },
    {
     "name": "stdout",
     "output_type": "stream",
     "text": [
      " \n",
      "Getting https://www.walmart.com/ip/365-Kids-From-Garanimals-Girls-Mix-Match-Holiday-Kid-Pack-Gift-Box-8-Piece-Outfit-Set-Sizes-4-10/454439679\n",
      "Entered Reviews\n",
      "Walmart Girls Reviews shape (202, 9)\n",
      "Running next link\n"
     ]
    },
    {
     "name": "stderr",
     "output_type": "stream",
     "text": [
      "[WDM] - Current google-chrome version is 86.0.4240\n",
      "[WDM] - Get LATEST driver version for 86.0.4240\n"
     ]
    },
    {
     "name": "stdout",
     "output_type": "stream",
     "text": [
      " \n"
     ]
    },
    {
     "name": "stderr",
     "output_type": "stream",
     "text": [
      "[WDM] - Driver [/Users/DataSci/.wdm/drivers/chromedriver/mac64/86.0.4240.22/chromedriver] found in cache\n"
     ]
    },
    {
     "name": "stdout",
     "output_type": "stream",
     "text": [
      "Getting https://www.walmart.com/ip/Wonder-Nation-Girls-Printed-Bubble-Jacket-Sizes-4-18-Plus/193027342\n",
      "Entered Reviews\n",
      "Walmart Girls Reviews shape (203, 9)\n",
      "Running next link\n"
     ]
    },
    {
     "name": "stderr",
     "output_type": "stream",
     "text": [
      "[WDM] - Current google-chrome version is 86.0.4240\n",
      "[WDM] - Get LATEST driver version for 86.0.4240\n"
     ]
    },
    {
     "name": "stdout",
     "output_type": "stream",
     "text": [
      " \n"
     ]
    },
    {
     "name": "stderr",
     "output_type": "stream",
     "text": [
      "[WDM] - Driver [/Users/DataSci/.wdm/drivers/chromedriver/mac64/86.0.4240.22/chromedriver] found in cache\n"
     ]
    },
    {
     "name": "stdout",
     "output_type": "stream",
     "text": [
      "Getting https://www.walmart.com/ip/Wonder-Nation-Baby-Girls-Toddler-Girls-Jumper-Dress-Sizes-12M-5T/449941722\n",
      "Entered Reviews\n",
      "Walmart Girls Reviews shape (204, 9)\n",
      "Running next link\n"
     ]
    },
    {
     "name": "stderr",
     "output_type": "stream",
     "text": [
      "[WDM] - Current google-chrome version is 86.0.4240\n",
      "[WDM] - Get LATEST driver version for 86.0.4240\n",
      "[WDM] - Driver [/Users/DataSci/.wdm/drivers/chromedriver/mac64/86.0.4240.22/chromedriver] found in cache\n"
     ]
    },
    {
     "name": "stdout",
     "output_type": "stream",
     "text": [
      " \n",
      "Getting https://www.walmart.com/ip/Disney-Frozen-Girls-Dollie-Me-Pajama-Nightgown-Sizes-4-12/699452697\n",
      "Entered Reviews\n",
      "Walmart Girls Reviews shape (205, 9)\n",
      "Running next link\n"
     ]
    },
    {
     "name": "stderr",
     "output_type": "stream",
     "text": [
      "[WDM] - Current google-chrome version is 86.0.4240\n",
      "[WDM] - Get LATEST driver version for 86.0.4240\n",
      "[WDM] - Driver [/Users/DataSci/.wdm/drivers/chromedriver/mac64/86.0.4240.22/chromedriver] found in cache\n"
     ]
    },
    {
     "name": "stdout",
     "output_type": "stream",
     "text": [
      " \n",
      "Getting https://www.walmart.com/ip/PatPat-Christmas-Trees-Family-Matching-Pajamas-Set-in-Green/975448077\n",
      "Entered Reviews\n",
      "Walmart Girls Reviews shape (206, 9)\n",
      "Running next link\n"
     ]
    },
    {
     "name": "stderr",
     "output_type": "stream",
     "text": [
      "[WDM] - Current google-chrome version is 86.0.4240\n",
      "[WDM] - Get LATEST driver version for 86.0.4240\n",
      "[WDM] - Driver [/Users/DataSci/.wdm/drivers/chromedriver/mac64/86.0.4240.22/chromedriver] found in cache\n"
     ]
    },
    {
     "name": "stdout",
     "output_type": "stream",
     "text": [
      " \n",
      "Getting https://www.walmart.com/ip/Celebrity-Pink-Girls-Destructed-Flare-Jeans-Sizes-7-16/795684833\n",
      "Entered Reviews\n",
      "Walmart Girls Reviews shape (207, 9)\n",
      "Running next link\n"
     ]
    },
    {
     "name": "stderr",
     "output_type": "stream",
     "text": [
      "[WDM] - Current google-chrome version is 86.0.4240\n",
      "[WDM] - Get LATEST driver version for 86.0.4240\n",
      "[WDM] - Driver [/Users/DataSci/.wdm/drivers/chromedriver/mac64/86.0.4240.22/chromedriver] found in cache\n"
     ]
    },
    {
     "name": "stdout",
     "output_type": "stream",
     "text": [
      " \n",
      "Getting https://www.walmart.com/ip/Fruit-of-the-Loom-Girls-Undershirts-Assorted-Layering-Tanks-10-Pack-Little-Girls-Big-Girls/535268593\n",
      "Entered Reviews\n",
      "Walmart Girls Reviews shape (208, 9)\n",
      "Running next link\n"
     ]
    },
    {
     "name": "stderr",
     "output_type": "stream",
     "text": [
      "[WDM] - Current google-chrome version is 86.0.4240\n",
      "[WDM] - Get LATEST driver version for 86.0.4240\n",
      "[WDM] - Driver [/Users/DataSci/.wdm/drivers/chromedriver/mac64/86.0.4240.22/chromedriver] found in cache\n"
     ]
    },
    {
     "name": "stdout",
     "output_type": "stream",
     "text": [
      " \n",
      "Getting https://www.walmart.com/ip/Garanimals-Baby-Girls-Toddler-Girls-Ribbed-Long-Sleeve-Tops-3-Pack-12M-5T/146765172\n",
      "Entered Reviews\n",
      "Walmart Girls Reviews shape (209, 9)\n",
      "Running next link\n"
     ]
    },
    {
     "name": "stderr",
     "output_type": "stream",
     "text": [
      "[WDM] - Current google-chrome version is 86.0.4240\n",
      "[WDM] - Get LATEST driver version for 86.0.4240\n",
      "[WDM] - Driver [/Users/DataSci/.wdm/drivers/chromedriver/mac64/86.0.4240.22/chromedriver] found in cache\n"
     ]
    },
    {
     "name": "stdout",
     "output_type": "stream",
     "text": [
      " \n",
      "Getting https://www.walmart.com/ip/Spirit-Riding-Free-Long-Sleeve-Graphic-Dress-with-Cut-Out-Detail-Little-Girls-Big-Girls/867781578\n",
      "Entered Reviews\n",
      "Walmart Girls Reviews shape (210, 9)\n",
      "Running next link\n"
     ]
    },
    {
     "name": "stderr",
     "output_type": "stream",
     "text": [
      "[WDM] - Current google-chrome version is 86.0.4240\n",
      "[WDM] - Get LATEST driver version for 86.0.4240\n"
     ]
    },
    {
     "name": "stdout",
     "output_type": "stream",
     "text": [
      " \n"
     ]
    },
    {
     "name": "stderr",
     "output_type": "stream",
     "text": [
      "[WDM] - Driver [/Users/DataSci/.wdm/drivers/chromedriver/mac64/86.0.4240.22/chromedriver] found in cache\n"
     ]
    },
    {
     "name": "stdout",
     "output_type": "stream",
     "text": [
      "Getting https://www.walmart.com/ip/NICE-CAPS-Kids-Extreme-Cold-Weather-80-Gram-Thinsulate-and-Waterproof-Ski-Snow-Winter-Gloves-Fits-Boys-Girls-Toddler-Childrens-Youth-Child-Sizes/145210886\n",
      "No 'See All Reviews' button\n"
     ]
    },
    {
     "name": "stderr",
     "output_type": "stream",
     "text": [
      "[WDM] - Current google-chrome version is 86.0.4240\n",
      "[WDM] - Get LATEST driver version for 86.0.4240\n"
     ]
    },
    {
     "name": "stdout",
     "output_type": "stream",
     "text": [
      " \n"
     ]
    },
    {
     "name": "stderr",
     "output_type": "stream",
     "text": [
      "[WDM] - Driver [/Users/DataSci/.wdm/drivers/chromedriver/mac64/86.0.4240.22/chromedriver] found in cache\n"
     ]
    },
    {
     "name": "stdout",
     "output_type": "stream",
     "text": [
      "Getting https://www.walmart.com/ip/Wonder-Nation-Girls-Sequin-Popover-Holiday-Christmas-Jumpsuit-Sizes-4-18-Plus/778953244\n",
      "No 'See All Reviews' button\n"
     ]
    },
    {
     "name": "stderr",
     "output_type": "stream",
     "text": [
      "[WDM] - Current google-chrome version is 86.0.4240\n",
      "[WDM] - Get LATEST driver version for 86.0.4240\n"
     ]
    },
    {
     "name": "stdout",
     "output_type": "stream",
     "text": [
      " \n"
     ]
    },
    {
     "name": "stderr",
     "output_type": "stream",
     "text": [
      "[WDM] - Driver [/Users/DataSci/.wdm/drivers/chromedriver/mac64/86.0.4240.22/chromedriver] found in cache\n"
     ]
    },
    {
     "name": "stdout",
     "output_type": "stream",
     "text": [
      "Getting https://www.walmart.com/ip/Daddy-s-Baby-Boy-Girl-Outfits-Camouflage-Letter-Print-Romper-Long-Pants-Hat-Clothes-Set-Daddy-s-Girls-6-9-Months/400163444\n",
      "No 'See All Reviews' button\n"
     ]
    },
    {
     "name": "stderr",
     "output_type": "stream",
     "text": [
      "[WDM] - Current google-chrome version is 86.0.4240\n",
      "[WDM] - Get LATEST driver version for 86.0.4240\n"
     ]
    },
    {
     "name": "stdout",
     "output_type": "stream",
     "text": [
      " \n"
     ]
    },
    {
     "name": "stderr",
     "output_type": "stream",
     "text": [
      "[WDM] - Driver [/Users/DataSci/.wdm/drivers/chromedriver/mac64/86.0.4240.22/chromedriver] found in cache\n"
     ]
    },
    {
     "name": "stdout",
     "output_type": "stream",
     "text": [
      "Getting https://www.walmart.com/ip/Garanimals-Toddler-Girls-Jegging-Multipack-3-Pack/142028856\n",
      "No 'See All Reviews' button\n"
     ]
    },
    {
     "name": "stderr",
     "output_type": "stream",
     "text": [
      "[WDM] - Current google-chrome version is 86.0.4240\n",
      "[WDM] - Get LATEST driver version for 86.0.4240\n",
      "[WDM] - Driver [/Users/DataSci/.wdm/drivers/chromedriver/mac64/86.0.4240.22/chromedriver] found in cache\n"
     ]
    },
    {
     "name": "stdout",
     "output_type": "stream",
     "text": [
      " \n",
      "Getting https://www.walmart.com/ip/Mad-Dog-Girls-2-Pack-Micro-Fleece-Sleep-Pants-with-Slipper-Sock-Sizes-6-16/301877052\n",
      "No 'See All Reviews' button\n"
     ]
    },
    {
     "name": "stderr",
     "output_type": "stream",
     "text": [
      "[WDM] - Current google-chrome version is 86.0.4240\n",
      "[WDM] - Get LATEST driver version for 86.0.4240\n",
      "[WDM] - Driver [/Users/DataSci/.wdm/drivers/chromedriver/mac64/86.0.4240.22/chromedriver] found in cache\n"
     ]
    },
    {
     "name": "stdout",
     "output_type": "stream",
     "text": [
      " \n",
      "Getting https://www.walmart.com/ip/Wonder-Nation-Shining-Star-Low-Top-Court-Sneaker-Little-Girls-Big-Girls/589598570\n",
      "No 'See All Reviews' button\n"
     ]
    },
    {
     "name": "stderr",
     "output_type": "stream",
     "text": [
      "[WDM] - Current google-chrome version is 86.0.4240\n",
      "[WDM] - Get LATEST driver version for 86.0.4240\n",
      "[WDM] - Driver [/Users/DataSci/.wdm/drivers/chromedriver/mac64/86.0.4240.22/chromedriver] found in cache\n"
     ]
    },
    {
     "name": "stdout",
     "output_type": "stream",
     "text": [
      " \n",
      "Getting https://www.walmart.com/ip/Pink-Angel-Pearl-Embellished-Sweater-Little-Girls-Big-Girls/603512980\n",
      "No 'See All Reviews' button\n"
     ]
    },
    {
     "name": "stderr",
     "output_type": "stream",
     "text": [
      "[WDM] - Current google-chrome version is 86.0.4240\n",
      "[WDM] - Get LATEST driver version for 86.0.4240\n",
      "[WDM] - Driver [/Users/DataSci/.wdm/drivers/chromedriver/mac64/86.0.4240.22/chromedriver] found in cache\n"
     ]
    },
    {
     "name": "stdout",
     "output_type": "stream",
     "text": [
      " \n",
      "Getting https://www.walmart.com/ip/Btween-Girls-Long-Sleeve-Flip-Sequin-Top-and-Tutu-Skirt-Outfit-Set-with-Purse-2-Piece-Sizes-4-12/409724822\n",
      "No 'See All Reviews' button\n"
     ]
    },
    {
     "name": "stderr",
     "output_type": "stream",
     "text": [
      "[WDM] - Current google-chrome version is 86.0.4240\n",
      "[WDM] - Get LATEST driver version for 86.0.4240\n",
      "[WDM] - Driver [/Users/DataSci/.wdm/drivers/chromedriver/mac64/86.0.4240.22/chromedriver] found in cache\n"
     ]
    },
    {
     "name": "stdout",
     "output_type": "stream",
     "text": [
      " \n",
      "Getting https://www.walmart.com/ip/Chili-Peppers-Girls-2-Pack-Short-Sleeve-Pajama-Nightgown-Sizes-4-14/895018090\n",
      "Entered Reviews\n",
      "Walmart Girls Reviews shape (211, 9)\n",
      "Running next link\n"
     ]
    },
    {
     "name": "stderr",
     "output_type": "stream",
     "text": [
      "[WDM] - Current google-chrome version is 86.0.4240\n",
      "[WDM] - Get LATEST driver version for 86.0.4240\n",
      "[WDM] - Driver [/Users/DataSci/.wdm/drivers/chromedriver/mac64/86.0.4240.22/chromedriver] found in cache\n"
     ]
    },
    {
     "name": "stdout",
     "output_type": "stream",
     "text": [
      " \n",
      "Getting https://www.walmart.com/ip/Fruit-of-the-Loom-Girls-Socks-12-Pack-Ankle-Active-Sizes-M-L/712238954\n",
      "Entered Reviews\n",
      "Walmart Girls Reviews shape (212, 9)\n",
      "Running next link\n"
     ]
    },
    {
     "name": "stderr",
     "output_type": "stream",
     "text": [
      "[WDM] - Current google-chrome version is 86.0.4240\n",
      "[WDM] - Get LATEST driver version for 86.0.4240\n",
      "[WDM] - Driver [/Users/DataSci/.wdm/drivers/chromedriver/mac64/86.0.4240.22/chromedriver] found in cache\n"
     ]
    },
    {
     "name": "stdout",
     "output_type": "stream",
     "text": [
      " \n",
      "Getting https://www.walmart.com/ip/Celebrity-Pink-Girls-Mid-Rise-Skinny-Jeans-Sizes-7-12/191924838\n",
      "Entered Reviews\n",
      "Walmart Girls Reviews shape (213, 9)\n",
      "Running next link\n"
     ]
    },
    {
     "name": "stderr",
     "output_type": "stream",
     "text": [
      "[WDM] - Current google-chrome version is 86.0.4240\n",
      "[WDM] - Get LATEST driver version for 86.0.4240\n",
      "[WDM] - Driver [/Users/DataSci/.wdm/drivers/chromedriver/mac64/86.0.4240.22/chromedriver] found in cache\n"
     ]
    },
    {
     "name": "stdout",
     "output_type": "stream",
     "text": [
      " \n",
      "Getting https://www.walmart.com/ip/Jojo-Siwa-Girls-4-8-Fashion-Vest-Graphic-Vest-and-Legging-3-Piece-Outfit-Set/980138400\n",
      "Entered Reviews\n",
      "Walmart Girls Reviews shape (214, 9)\n",
      "Running next link\n"
     ]
    },
    {
     "name": "stderr",
     "output_type": "stream",
     "text": [
      "[WDM] - Current google-chrome version is 86.0.4240\n",
      "[WDM] - Get LATEST driver version for 86.0.4240\n",
      "[WDM] - Driver [/Users/DataSci/.wdm/drivers/chromedriver/mac64/86.0.4240.22/chromedriver] found in cache\n"
     ]
    },
    {
     "name": "stdout",
     "output_type": "stream",
     "text": [
      " \n",
      "Getting https://www.walmart.com/ip/Matching-Family-Christmas-Pajamas-Girl-s-Minnie-2-Piece-Pajama-Set/560411833\n",
      "Entered Reviews\n",
      "Walmart Girls Reviews shape (215, 9)\n",
      "Running next link\n"
     ]
    },
    {
     "name": "stderr",
     "output_type": "stream",
     "text": [
      "[WDM] - Current google-chrome version is 86.0.4240\n",
      "[WDM] - Get LATEST driver version for 86.0.4240\n"
     ]
    },
    {
     "name": "stdout",
     "output_type": "stream",
     "text": [
      " \n"
     ]
    },
    {
     "name": "stderr",
     "output_type": "stream",
     "text": [
      "[WDM] - Driver [/Users/DataSci/.wdm/drivers/chromedriver/mac64/86.0.4240.22/chromedriver] found in cache\n"
     ]
    },
    {
     "name": "stdout",
     "output_type": "stream",
     "text": [
      "Getting https://www.walmart.com/ip/Baby-Shark-Baby-Toddler-Girl-Long-Sleeve-Top-Tutu-Skirt-Leggings-Headband-4pc-outfit-set/104381341\n",
      "Entered Reviews\n",
      "Walmart Girls Reviews shape (216, 9)\n",
      "Running next link\n"
     ]
    },
    {
     "name": "stderr",
     "output_type": "stream",
     "text": [
      "[WDM] - Current google-chrome version is 86.0.4240\n",
      "[WDM] - Get LATEST driver version for 86.0.4240\n",
      "[WDM] - Driver [/Users/DataSci/.wdm/drivers/chromedriver/mac64/86.0.4240.22/chromedriver] found in cache\n"
     ]
    },
    {
     "name": "stdout",
     "output_type": "stream",
     "text": [
      " \n",
      "Getting https://www.walmart.com/ip/L-O-L-Surprise-Girls-Pajama-Robe-Sizes-4-12/248253112\n",
      "No 'See All Reviews' button\n"
     ]
    },
    {
     "name": "stderr",
     "output_type": "stream",
     "text": [
      "[WDM] - Current google-chrome version is 86.0.4240\n",
      "[WDM] - Get LATEST driver version for 86.0.4240\n",
      "[WDM] - Driver [/Users/DataSci/.wdm/drivers/chromedriver/mac64/86.0.4240.22/chromedriver] found in cache\n"
     ]
    },
    {
     "name": "stdout",
     "output_type": "stream",
     "text": [
      " \n",
      "Getting https://www.walmart.com/ip/Wonder-Nation-3D-Unicorn-Scuff-Slipper-Little-Girls-Big-Girls/585042146\n",
      "Entered Reviews\n",
      "Walmart Girls Reviews shape (217, 9)\n",
      "Running next link\n"
     ]
    },
    {
     "name": "stderr",
     "output_type": "stream",
     "text": [
      "[WDM] - Current google-chrome version is 86.0.4240\n",
      "[WDM] - Get LATEST driver version for 86.0.4240\n"
     ]
    },
    {
     "name": "stdout",
     "output_type": "stream",
     "text": [
      " \n"
     ]
    },
    {
     "name": "stderr",
     "output_type": "stream",
     "text": [
      "[WDM] - Driver [/Users/DataSci/.wdm/drivers/chromedriver/mac64/86.0.4240.22/chromedriver] found in cache\n"
     ]
    },
    {
     "name": "stdout",
     "output_type": "stream",
     "text": [
      "Getting https://www.walmart.com/ip/GuliriFei-Toddler-Girl-Children-Princess-Anna-Elsa-Cosplay-Costume-Party-Fancy-Ball-Dress/651120203\n",
      "No 'See All Reviews' button\n"
     ]
    },
    {
     "name": "stderr",
     "output_type": "stream",
     "text": [
      "[WDM] - Current google-chrome version is 86.0.4240\n",
      "[WDM] - Get LATEST driver version for 86.0.4240\n",
      "[WDM] - Driver [/Users/DataSci/.wdm/drivers/chromedriver/mac64/86.0.4240.22/chromedriver] found in cache\n"
     ]
    },
    {
     "name": "stdout",
     "output_type": "stream",
     "text": [
      " \n",
      "Getting https://www.walmart.com/ip/Popular-Girl-s-Cotton-Ankle-Length-Leggings/336652778\n",
      "No 'See All Reviews' button\n"
     ]
    },
    {
     "name": "stderr",
     "output_type": "stream",
     "text": [
      "[WDM] - Current google-chrome version is 86.0.4240\n",
      "[WDM] - Get LATEST driver version for 86.0.4240\n",
      "[WDM] - Driver [/Users/DataSci/.wdm/drivers/chromedriver/mac64/86.0.4240.22/chromedriver] found in cache\n"
     ]
    },
    {
     "name": "stdout",
     "output_type": "stream",
     "text": [
      " \n",
      "Getting https://www.walmart.com/ip/Wonder-Nation-Girls-Essential-Pull-On-Jegging-Jeans-Sizes-4-16-Plus/823620701\n",
      "Entered Reviews\n",
      "Walmart Girls Reviews shape (218, 9)\n",
      "Running next link\n"
     ]
    },
    {
     "name": "stderr",
     "output_type": "stream",
     "text": [
      "[WDM] - Current google-chrome version is 86.0.4240\n",
      "[WDM] - Get LATEST driver version for 86.0.4240\n",
      "[WDM] - Driver [/Users/DataSci/.wdm/drivers/chromedriver/mac64/86.0.4240.22/chromedriver] found in cache\n"
     ]
    },
    {
     "name": "stdout",
     "output_type": "stream",
     "text": [
      " \n",
      "Getting https://www.walmart.com/ip/Garanimals-Baby-Girls-Toddler-Girls-Solid-Fleece-Lined-Leggings-3-Pack-Sizes-12M-5T/710662386\n",
      "Entered Reviews\n",
      "Walmart Girls Reviews shape (219, 9)\n",
      "Running next link\n"
     ]
    },
    {
     "name": "stderr",
     "output_type": "stream",
     "text": [
      "[WDM] - Current google-chrome version is 86.0.4240\n",
      "[WDM] - Get LATEST driver version for 86.0.4240\n",
      "[WDM] - Driver [/Users/DataSci/.wdm/drivers/chromedriver/mac64/86.0.4240.22/chromedriver] found in cache\n"
     ]
    },
    {
     "name": "stdout",
     "output_type": "stream",
     "text": [
      " \n",
      "Getting https://www.walmart.com/ip/JoJo-Siwa-Girls-Pajama-Set-with-Eye-Mask-3-Piece-Sizes-4-12/899308609\n",
      "Entered Reviews\n",
      "Walmart Girls Reviews shape (220, 9)\n",
      "Running next link\n"
     ]
    },
    {
     "name": "stderr",
     "output_type": "stream",
     "text": [
      "[WDM] - Current google-chrome version is 86.0.4240\n",
      "[WDM] - Get LATEST driver version for 86.0.4240\n",
      "[WDM] - Driver [/Users/DataSci/.wdm/drivers/chromedriver/mac64/86.0.4240.22/chromedriver] found in cache\n"
     ]
    },
    {
     "name": "stdout",
     "output_type": "stream",
     "text": [
      " \n",
      "Getting https://www.walmart.com/ip/Wonder-Nation-Girls-Tulle-Rose-Hem-Holiday-Christmas-Dress-with-Faux-Fur-Capelet-Sizes-4-12-Plus/590980242\n",
      "Entered Reviews\n",
      "Walmart Girls Reviews shape (221, 9)\n",
      "Running next link\n"
     ]
    },
    {
     "name": "stderr",
     "output_type": "stream",
     "text": [
      "[WDM] - Current google-chrome version is 86.0.4240\n",
      "[WDM] - Get LATEST driver version for 86.0.4240\n",
      "[WDM] - Driver [/Users/DataSci/.wdm/drivers/chromedriver/mac64/86.0.4240.22/chromedriver] found in cache\n"
     ]
    },
    {
     "name": "stdout",
     "output_type": "stream",
     "text": [
      " \n",
      "Getting https://www.walmart.com/ip/Holiday-Time-Girls-Ugly-Christmas-Party-Dress-Sizes-4-16/516346557\n",
      "Entered Reviews\n",
      "Walmart Girls Reviews shape (222, 9)\n",
      "Running next link\n"
     ]
    },
    {
     "name": "stderr",
     "output_type": "stream",
     "text": [
      "[WDM] - Current google-chrome version is 86.0.4240\n",
      "[WDM] - Get LATEST driver version for 86.0.4240\n",
      "[WDM] - Driver [/Users/DataSci/.wdm/drivers/chromedriver/mac64/86.0.4240.22/chromedriver] found in cache\n"
     ]
    },
    {
     "name": "stdout",
     "output_type": "stream",
     "text": [
      " \n",
      "Getting https://www.walmart.com/ip/Wonder-Nation-Toddler-Girls-Furry-Fleece-Bear-Ear-Zip-up-Hoodie-Sweatshirt-2T-5T/605409041\n",
      "Entered Reviews\n",
      "Walmart Girls Reviews shape (223, 9)\n",
      "Running next link\n"
     ]
    },
    {
     "name": "stderr",
     "output_type": "stream",
     "text": [
      "[WDM] - Current google-chrome version is 86.0.4240\n",
      "[WDM] - Get LATEST driver version for 86.0.4240\n",
      "[WDM] - Driver [/Users/DataSci/.wdm/drivers/chromedriver/mac64/86.0.4240.22/chromedriver] found in cache\n"
     ]
    },
    {
     "name": "stdout",
     "output_type": "stream",
     "text": [
      " \n",
      "Getting https://www.walmart.com/ip/Pink-Velvet-Girls-Solid-and-Printed-Leggings-2-Pack-Sizes-4-16/699326015\n",
      "Entered Reviews\n",
      "Walmart Girls Reviews shape (224, 9)\n",
      "Running next link\n"
     ]
    },
    {
     "name": "stderr",
     "output_type": "stream",
     "text": [
      "[WDM] - Current google-chrome version is 86.0.4240\n",
      "[WDM] - Get LATEST driver version for 86.0.4240\n",
      "[WDM] - Driver [/Users/DataSci/.wdm/drivers/chromedriver/mac64/86.0.4240.22/chromedriver] found in cache\n"
     ]
    },
    {
     "name": "stdout",
     "output_type": "stream",
     "text": [
      " \n",
      "Getting https://www.walmart.com/ip/Wonder-Nation-Girls-No-Show-Socks-10-Pairs/160577379\n",
      "Entered Reviews\n",
      "Walmart Girls Reviews shape (225, 9)\n",
      "Running next link\n"
     ]
    },
    {
     "name": "stderr",
     "output_type": "stream",
     "text": [
      "[WDM] - Current google-chrome version is 86.0.4240\n",
      "[WDM] - Get LATEST driver version for 86.0.4240\n",
      "[WDM] - Driver [/Users/DataSci/.wdm/drivers/chromedriver/mac64/86.0.4240.22/chromedriver] found in cache\n"
     ]
    },
    {
     "name": "stdout",
     "output_type": "stream",
     "text": [
      " \n",
      "Getting https://www.walmart.com/ip/Jojo-Siwa-Girls-Exclusive-Plush-Pajama-Robe-Sizes-4-16/502965932\n",
      "Entered Reviews\n",
      "Walmart Girls Reviews shape (226, 9)\n",
      "Running next link\n"
     ]
    },
    {
     "name": "stderr",
     "output_type": "stream",
     "text": [
      "[WDM] - Current google-chrome version is 86.0.4240\n",
      "[WDM] - Get LATEST driver version for 86.0.4240\n",
      "[WDM] - Driver [/Users/DataSci/.wdm/drivers/chromedriver/mac64/86.0.4240.22/chromedriver] found in cache\n"
     ]
    },
    {
     "name": "stdout",
     "output_type": "stream",
     "text": [
      " \n",
      "Getting https://www.walmart.com/ip/Sweet-Butterfly-Girls-Long-Sleeve-Graphic-Ruffle-Hem-Top-and-Legging-2-Piece-Outfit-Set-Sizes-4-16/509553088\n",
      "Entered Reviews\n",
      "Walmart Girls Reviews shape (227, 9)\n",
      "Running next link\n"
     ]
    },
    {
     "name": "stderr",
     "output_type": "stream",
     "text": [
      "[WDM] - Current google-chrome version is 86.0.4240\n",
      "[WDM] - Get LATEST driver version for 86.0.4240\n",
      "[WDM] - Driver [/Users/DataSci/.wdm/drivers/chromedriver/mac64/86.0.4240.22/chromedriver] found in cache\n"
     ]
    },
    {
     "name": "stdout",
     "output_type": "stream",
     "text": [
      " \n",
      "Getting https://www.walmart.com/ip/3PCS-Newborn-Baby-Girls-Tops-Romper-Floral-Pants-Leggings-Headband-Outfits-Set-Clothes-0-24M/400257501\n",
      "Entered Reviews\n",
      "Walmart Girls Reviews shape (228, 9)\n",
      "Running next link\n"
     ]
    },
    {
     "name": "stderr",
     "output_type": "stream",
     "text": [
      "[WDM] - Current google-chrome version is 86.0.4240\n",
      "[WDM] - Get LATEST driver version for 86.0.4240\n",
      "[WDM] - Driver [/Users/DataSci/.wdm/drivers/chromedriver/mac64/86.0.4240.22/chromedriver] found in cache\n"
     ]
    },
    {
     "name": "stdout",
     "output_type": "stream",
     "text": [
      " \n",
      "Getting https://www.walmart.com/ip/Sleep-On-It-Girls-Fleece-Shawl-Collar-Pajama-Robe-with-Cozy-Slippers-Sizes-7-16/648595428\n",
      "Entered Reviews\n",
      "Walmart Girls Reviews shape (229, 9)\n",
      "Running next link\n"
     ]
    },
    {
     "name": "stderr",
     "output_type": "stream",
     "text": [
      "[WDM] - Current google-chrome version is 86.0.4240\n",
      "[WDM] - Get LATEST driver version for 86.0.4240\n",
      "[WDM] - Driver [/Users/DataSci/.wdm/drivers/chromedriver/mac64/86.0.4240.22/chromedriver] found in cache\n"
     ]
    },
    {
     "name": "stdout",
     "output_type": "stream",
     "text": [
      " \n",
      "Getting https://www.walmart.com/ip/Freestyle-Revolution-Girls-Glitter-Graphic-Tutu-Dress-Sizes-4-12/866759299\n",
      "Entered Reviews\n",
      "Walmart Girls Reviews shape (230, 9)\n",
      "Running next link\n"
     ]
    },
    {
     "name": "stderr",
     "output_type": "stream",
     "text": [
      "[WDM] - Current google-chrome version is 86.0.4240\n",
      "[WDM] - Get LATEST driver version for 86.0.4240\n",
      "[WDM] - Driver [/Users/DataSci/.wdm/drivers/chromedriver/mac64/86.0.4240.22/chromedriver] found in cache\n"
     ]
    },
    {
     "name": "stdout",
     "output_type": "stream",
     "text": [
      " \n",
      "Getting https://www.walmart.com/ip/Disney-Frozen-2-Girls-Short-Sleeve-Pajama-Nightgown-Sizes-4-10/139657443\n",
      "Entered Reviews\n",
      "Walmart Girls Reviews shape (231, 9)\n",
      "Running next link\n"
     ]
    },
    {
     "name": "stderr",
     "output_type": "stream",
     "text": [
      "[WDM] - Current google-chrome version is 86.0.4240\n",
      "[WDM] - Get LATEST driver version for 86.0.4240\n",
      "[WDM] - Driver [/Users/DataSci/.wdm/drivers/chromedriver/mac64/86.0.4240.22/chromedriver] found in cache\n"
     ]
    },
    {
     "name": "stdout",
     "output_type": "stream",
     "text": [
      " \n",
      "Getting https://www.walmart.com/ip/Gold-Toe-Girls-Socks-6-Pack-No-Show-Tie-Dye-Sizes-M-L/844439790\n",
      "Entered Reviews\n",
      "Walmart Girls Reviews shape (232, 9)\n",
      "Running next link\n"
     ]
    },
    {
     "name": "stderr",
     "output_type": "stream",
     "text": [
      "[WDM] - Current google-chrome version is 86.0.4240\n",
      "[WDM] - Get LATEST driver version for 86.0.4240\n",
      "[WDM] - Driver [/Users/DataSci/.wdm/drivers/chromedriver/mac64/86.0.4240.22/chromedriver] found in cache\n"
     ]
    },
    {
     "name": "stdout",
     "output_type": "stream",
     "text": [
      " \n",
      "Getting https://www.walmart.com/ip/Kids-Girls-Unicorn-Top-T-shirt-Dress-Nightwear-Nightdress-Pajamas-Nightie-Dress/964073733\n",
      "Entered Reviews\n",
      "Walmart Girls Reviews shape (233, 9)\n",
      "Running next link\n"
     ]
    },
    {
     "name": "stderr",
     "output_type": "stream",
     "text": [
      "[WDM] - Current google-chrome version is 86.0.4240\n",
      "[WDM] - Get LATEST driver version for 86.0.4240\n",
      "[WDM] - Driver [/Users/DataSci/.wdm/drivers/chromedriver/mac64/86.0.4240.22/chromedriver] found in cache\n"
     ]
    },
    {
     "name": "stdout",
     "output_type": "stream",
     "text": [
      " \n",
      "Getting https://www.walmart.com/ip/Child-of-Mine-by-Carter-s-Baby-Girls-Toddler-Girls-French-Terry-Hoodie-Sweatshirts-2-Pack-12M-5T/626633693\n",
      "Entered Reviews\n",
      "Walmart Girls Reviews shape (234, 9)\n",
      "Running next link\n"
     ]
    },
    {
     "name": "stderr",
     "output_type": "stream",
     "text": [
      "[WDM] - Current google-chrome version is 86.0.4240\n",
      "[WDM] - Get LATEST driver version for 86.0.4240\n",
      "[WDM] - Driver [/Users/DataSci/.wdm/drivers/chromedriver/mac64/86.0.4240.22/chromedriver] found in cache\n"
     ]
    },
    {
     "name": "stdout",
     "output_type": "stream",
     "text": [
      " \n",
      "Getting https://www.walmart.com/ip/Trolls-Toddler-Girl-Long-Sleeve-Top-Tutu-Skirt-Leggings-Headband-4pc-outfit-set/695188831\n",
      "Entered Reviews\n",
      "Walmart Girls Reviews shape (235, 9)\n",
      "Running next link\n"
     ]
    },
    {
     "name": "stderr",
     "output_type": "stream",
     "text": [
      "[WDM] - Current google-chrome version is 86.0.4240\n",
      "[WDM] - Get LATEST driver version for 86.0.4240\n",
      "[WDM] - Driver [/Users/DataSci/.wdm/drivers/chromedriver/mac64/86.0.4240.22/chromedriver] found in cache\n"
     ]
    },
    {
     "name": "stdout",
     "output_type": "stream",
     "text": [
      " \n",
      "Getting https://www.walmart.com/ip/L-O-L-Surprise-Girls-Exclusive-Cosplay-Tutu-Dress-Sizes-4-16/632175882\n",
      "No 'See All Reviews' button\n"
     ]
    },
    {
     "name": "stderr",
     "output_type": "stream",
     "text": [
      "[WDM] - Current google-chrome version is 86.0.4240\n",
      "[WDM] - Get LATEST driver version for 86.0.4240\n",
      "[WDM] - Driver [/Users/DataSci/.wdm/drivers/chromedriver/mac64/86.0.4240.22/chromedriver] found in cache\n"
     ]
    },
    {
     "name": "stdout",
     "output_type": "stream",
     "text": [
      " \n",
      "Getting https://www.walmart.com/ip/Pink-Angel-Girls-Bow-Neck-Cable-Knit-Sweater-Sizes-7-16/779474246\n",
      "Entered Reviews\n",
      "Walmart Girls Reviews shape (236, 9)\n",
      "Running next link\n"
     ]
    },
    {
     "name": "stderr",
     "output_type": "stream",
     "text": [
      "[WDM] - Current google-chrome version is 86.0.4240\n",
      "[WDM] - Get LATEST driver version for 86.0.4240\n",
      "[WDM] - Driver [/Users/DataSci/.wdm/drivers/chromedriver/mac64/86.0.4240.22/chromedriver] found in cache\n"
     ]
    },
    {
     "name": "stdout",
     "output_type": "stream",
     "text": [
      " \n",
      "Getting https://www.walmart.com/ip/L-O-L-Surprise-Diva-Bow-Scuff-Character-Slipper-Little-Girls-Big-Girls/476512586\n",
      "No 'See All Reviews' button\n"
     ]
    },
    {
     "name": "stderr",
     "output_type": "stream",
     "text": [
      "[WDM] - Current google-chrome version is 86.0.4240\n",
      "[WDM] - Get LATEST driver version for 86.0.4240\n",
      "[WDM] - Driver [/Users/DataSci/.wdm/drivers/chromedriver/mac64/86.0.4240.22/chromedriver] found in cache\n"
     ]
    },
    {
     "name": "stdout",
     "output_type": "stream",
     "text": [
      " \n",
      "Getting https://www.walmart.com/ip/Starbay-Girl-S-Children-s-warm-home-shoes-Multi-Color-with-Flower-hotels-bedroom-indoor-slippers/348838571\n",
      "Entered Reviews\n",
      "Walmart Girls Reviews shape (237, 9)\n",
      "Running next link\n"
     ]
    },
    {
     "name": "stderr",
     "output_type": "stream",
     "text": [
      "[WDM] - Current google-chrome version is 86.0.4240\n",
      "[WDM] - Get LATEST driver version for 86.0.4240\n",
      "[WDM] - Driver [/Users/DataSci/.wdm/drivers/chromedriver/mac64/86.0.4240.22/chromedriver] found in cache\n"
     ]
    },
    {
     "name": "stdout",
     "output_type": "stream",
     "text": [
      " \n",
      "Getting https://www.walmart.com/ip/Blues-Clues-Baby-Toddler-Boys-T-shirts-Jogger-Pants-2-Piece-Outfit-Sets-12M-5T/662442391\n",
      "No 'See All Reviews' button\n"
     ]
    },
    {
     "name": "stderr",
     "output_type": "stream",
     "text": [
      "[WDM] - Current google-chrome version is 86.0.4240\n",
      "[WDM] - Get LATEST driver version for 86.0.4240\n",
      "[WDM] - Driver [/Users/DataSci/.wdm/drivers/chromedriver/mac64/86.0.4240.22/chromedriver] found in cache\n"
     ]
    },
    {
     "name": "stdout",
     "output_type": "stream",
     "text": [
      " \n",
      "Getting https://www.walmart.com/ip/Disney-Princess-Girls-Dollie-Me-Pajama-Nightgown-Sizes-4-12/693715628\n",
      "Entered Reviews\n",
      "Walmart Girls Reviews shape (238, 9)\n",
      "Running next link\n"
     ]
    },
    {
     "name": "stderr",
     "output_type": "stream",
     "text": [
      "[WDM] - Current google-chrome version is 86.0.4240\n",
      "[WDM] - Get LATEST driver version for 86.0.4240\n",
      "[WDM] - Driver [/Users/DataSci/.wdm/drivers/chromedriver/mac64/86.0.4240.22/chromedriver] found in cache\n"
     ]
    },
    {
     "name": "stdout",
     "output_type": "stream",
     "text": [
      " \n",
      "Getting https://www.walmart.com/ip/SUNSIOM-Leg-Warmer-Women-Warm-Knee-High-Winter-Knit-Crochet-Legging-Boot-Socks-Slouch/343033660\n",
      "Entered Reviews\n",
      "Walmart Girls Reviews shape (239, 9)\n",
      "Running next link\n"
     ]
    },
    {
     "name": "stderr",
     "output_type": "stream",
     "text": [
      "[WDM] - Current google-chrome version is 86.0.4240\n",
      "[WDM] - Get LATEST driver version for 86.0.4240\n",
      "[WDM] - Driver [/Users/DataSci/.wdm/drivers/chromedriver/mac64/86.0.4240.22/chromedriver] found in cache\n"
     ]
    },
    {
     "name": "stdout",
     "output_type": "stream",
     "text": [
      " \n",
      "Getting https://www.walmart.com/ip/Frozen-2-Elsa-Toddler-Girl-Long-Sleeve-Top-Tutu-Skirt-Leggings-Headband-4pc-outfit-set/706208078\n",
      "No 'See All Reviews' button\n"
     ]
    },
    {
     "name": "stderr",
     "output_type": "stream",
     "text": [
      "[WDM] - Current google-chrome version is 86.0.4240\n",
      "[WDM] - Get LATEST driver version for 86.0.4240\n",
      "[WDM] - Driver [/Users/DataSci/.wdm/drivers/chromedriver/mac64/86.0.4240.22/chromedriver] found in cache\n"
     ]
    },
    {
     "name": "stdout",
     "output_type": "stream",
     "text": [
      " \n",
      "Getting https://www.walmart.com/ip/Wonder-Nation-Girls-Printed-and-Solid-Knit-Skort-2-Pack-Sizes-4-18-Plus/223510421\n",
      "No 'See All Reviews' button\n"
     ]
    },
    {
     "name": "stderr",
     "output_type": "stream",
     "text": [
      "[WDM] - Current google-chrome version is 86.0.4240\n",
      "[WDM] - Get LATEST driver version for 86.0.4240\n",
      "[WDM] - Driver [/Users/DataSci/.wdm/drivers/chromedriver/mac64/86.0.4240.22/chromedriver] found in cache\n"
     ]
    },
    {
     "name": "stdout",
     "output_type": "stream",
     "text": [
      " \n",
      "Getting https://www.walmart.com/ip/Canis-Kids-Girls-Cake-Culottes-Leggings-With-Ruffle-Tutu-Skirt-Pants/239609823\n",
      "Entered Reviews\n",
      "Walmart Girls Reviews shape (240, 9)\n",
      "Running next link\n"
     ]
    },
    {
     "name": "stderr",
     "output_type": "stream",
     "text": [
      "[WDM] - Current google-chrome version is 86.0.4240\n",
      "[WDM] - Get LATEST driver version for 86.0.4240\n",
      "[WDM] - Driver [/Users/DataSci/.wdm/drivers/chromedriver/mac64/86.0.4240.22/chromedriver] found in cache\n"
     ]
    },
    {
     "name": "stdout",
     "output_type": "stream",
     "text": [
      " \n",
      "Getting https://www.walmart.com/ip/Minecraft-Boys-Thermal-Long-Underwear-2-Piece-Set-Sizes-S-L/781098154\n",
      "Entered Reviews\n",
      "Walmart Girls Reviews shape (241, 9)\n",
      "Running next link\n"
     ]
    },
    {
     "name": "stderr",
     "output_type": "stream",
     "text": [
      "[WDM] - Current google-chrome version is 86.0.4240\n",
      "[WDM] - Get LATEST driver version for 86.0.4240\n",
      "[WDM] - Driver [/Users/DataSci/.wdm/drivers/chromedriver/mac64/86.0.4240.22/chromedriver] found in cache\n"
     ]
    },
    {
     "name": "stdout",
     "output_type": "stream",
     "text": [
      " \n",
      "Getting https://www.walmart.com/ip/GustaveDesign-Family-Christmas-Pajamas-Winter-Family-Matching-Sleepwear-Long-Sleeve-Cotton-Blouse-and-Striped-Bottoms-Set-Nightgown-Kid-Size-9T/643299877\n",
      "Entered Reviews\n",
      "Walmart Girls Reviews shape (242, 9)\n",
      "Running next link\n"
     ]
    },
    {
     "name": "stderr",
     "output_type": "stream",
     "text": [
      "[WDM] - Current google-chrome version is 86.0.4240\n",
      "[WDM] - Get LATEST driver version for 86.0.4240\n",
      "[WDM] - Driver [/Users/DataSci/.wdm/drivers/chromedriver/mac64/86.0.4240.22/chromedriver] found in cache\n"
     ]
    },
    {
     "name": "stdout",
     "output_type": "stream",
     "text": [
      " \n",
      "Getting https://www.walmart.com/ip/Pink-Platinum-Girls-Ruffle-Fleece-Jacket-with-Heart-Toggle-Details-Sizes-4-16/140058407\n",
      "No 'See All Reviews' button\n"
     ]
    },
    {
     "name": "stderr",
     "output_type": "stream",
     "text": [
      "[WDM] - Current google-chrome version is 86.0.4240\n",
      "[WDM] - Get LATEST driver version for 86.0.4240\n",
      "[WDM] - Driver [/Users/DataSci/.wdm/drivers/chromedriver/mac64/86.0.4240.22/chromedriver] found in cache\n"
     ]
    },
    {
     "name": "stdout",
     "output_type": "stream",
     "text": [
      " \n",
      "Getting https://www.walmart.com/ip/Disney-Junior-Toddler-Girls-Sofia-the-First-Doc-McStuffins-Minnie-Mouse-Underwear-7-Pack-Panties/43341724\n",
      "Entered Reviews\n",
      "Walmart Girls Reviews shape (243, 9)\n",
      "Running next link\n"
     ]
    },
    {
     "name": "stderr",
     "output_type": "stream",
     "text": [
      "[WDM] - Current google-chrome version is 86.0.4240\n",
      "[WDM] - Get LATEST driver version for 86.0.4240\n",
      "[WDM] - Driver [/Users/DataSci/.wdm/drivers/chromedriver/mac64/86.0.4240.22/chromedriver] found in cache\n"
     ]
    },
    {
     "name": "stdout",
     "output_type": "stream",
     "text": [
      " \n",
      "Getting https://www.walmart.com/ip/Jellifish-Kids-Girls-Printed-Fleece-Pajama-Robe-with-Pockets-Sizes-4-16/481406384\n",
      "Entered Reviews\n",
      "Walmart Girls Reviews shape (244, 9)\n",
      "Running next link\n"
     ]
    },
    {
     "name": "stderr",
     "output_type": "stream",
     "text": [
      "[WDM] - Current google-chrome version is 86.0.4240\n",
      "[WDM] - Get LATEST driver version for 86.0.4240\n",
      "[WDM] - Driver [/Users/DataSci/.wdm/drivers/chromedriver/mac64/86.0.4240.22/chromedriver] found in cache\n"
     ]
    },
    {
     "name": "stdout",
     "output_type": "stream",
     "text": [
      " \n",
      "Getting https://www.walmart.com/ip/Trolls-World-Tour-Girls-Underwear-7-Pack-Panties-Sizes-4-6/426431725\n",
      "Entered Reviews\n",
      "Walmart Girls Reviews shape (245, 9)\n",
      "Running next link\n"
     ]
    },
    {
     "name": "stderr",
     "output_type": "stream",
     "text": [
      "[WDM] - Current google-chrome version is 86.0.4240\n",
      "[WDM] - Get LATEST driver version for 86.0.4240\n",
      "[WDM] - Driver [/Users/DataSci/.wdm/drivers/chromedriver/mac64/86.0.4240.22/chromedriver] found in cache\n"
     ]
    },
    {
     "name": "stdout",
     "output_type": "stream",
     "text": [
      " \n",
      "Getting https://www.walmart.com/ip/Kids-Girl-s-Unicorn-Top-T-shirt-Dress-Nightwear-Nightdress-Pajamas-Nightie-Dress/281253364\n",
      "Entered Reviews\n",
      "Walmart Girls Reviews shape (246, 9)\n",
      "Running next link\n"
     ]
    },
    {
     "name": "stderr",
     "output_type": "stream",
     "text": [
      "[WDM] - Current google-chrome version is 86.0.4240\n",
      "[WDM] - Get LATEST driver version for 86.0.4240\n",
      "[WDM] - Driver [/Users/DataSci/.wdm/drivers/chromedriver/mac64/86.0.4240.22/chromedriver] found in cache\n"
     ]
    },
    {
     "name": "stdout",
     "output_type": "stream",
     "text": [
      " \n",
      "Getting https://www.walmart.com/ip/Multitrust-2PCS-Girls-Kids-Minnie-Outfits-Clothes-T-Shirt-Hoodies-Long-Pants-Set-Tracksuit/696995461\n",
      "Entered Reviews\n",
      "Walmart Girls Reviews shape (247, 9)\n",
      "Running next link\n"
     ]
    },
    {
     "name": "stderr",
     "output_type": "stream",
     "text": [
      "[WDM] - Current google-chrome version is 86.0.4240\n",
      "[WDM] - Get LATEST driver version for 86.0.4240\n",
      "[WDM] - Driver [/Users/DataSci/.wdm/drivers/chromedriver/mac64/86.0.4240.22/chromedriver] found in cache\n"
     ]
    },
    {
     "name": "stdout",
     "output_type": "stream",
     "text": [
      " \n",
      "Getting https://www.walmart.com/ip/Winter-Children-Kid-s-Boy-Girl-Warm-Hooded-Jacket-Coat-Cotton-padded-Jacket-Parka-Overcoat-Thick-Down-Coat-for-2-7T/176921013\n",
      "Entered Reviews\n",
      "Walmart Girls Reviews shape (248, 9)\n",
      "Running next link\n"
     ]
    },
    {
     "name": "stderr",
     "output_type": "stream",
     "text": [
      "[WDM] - Current google-chrome version is 86.0.4240\n",
      "[WDM] - Get LATEST driver version for 86.0.4240\n",
      "[WDM] - Driver [/Users/DataSci/.wdm/drivers/chromedriver/mac64/86.0.4240.22/chromedriver] found in cache\n"
     ]
    },
    {
     "name": "stdout",
     "output_type": "stream",
     "text": [
      " \n",
      "Getting https://www.walmart.com/ip/Unicorn-Toddler-Girls-Kids-Cotton-Tunic-Tops-Dress-Pants-Outfits-Set-Clothes/784311817\n",
      "Entered Reviews\n",
      "Walmart Girls Reviews shape (249, 9)\n",
      "Running next link\n"
     ]
    },
    {
     "name": "stderr",
     "output_type": "stream",
     "text": [
      "[WDM] - Current google-chrome version is 86.0.4240\n",
      "[WDM] - Get LATEST driver version for 86.0.4240\n",
      "[WDM] - Driver [/Users/DataSci/.wdm/drivers/chromedriver/mac64/86.0.4240.22/chromedriver] found in cache\n"
     ]
    },
    {
     "name": "stdout",
     "output_type": "stream",
     "text": [
      " \n",
      "Getting https://www.walmart.com/ip/DKNY-GIRLS-Paperbag-Waist-Stretch-Denim-Jeans-Sizes-7-14/144867423\n",
      "Entered Reviews\n",
      "Walmart Girls Reviews shape (250, 9)\n",
      "Running next link\n"
     ]
    },
    {
     "name": "stderr",
     "output_type": "stream",
     "text": [
      "[WDM] - Current google-chrome version is 86.0.4240\n",
      "[WDM] - Get LATEST driver version for 86.0.4240\n",
      "[WDM] - Driver [/Users/DataSci/.wdm/drivers/chromedriver/mac64/86.0.4240.22/chromedriver] found in cache\n"
     ]
    },
    {
     "name": "stdout",
     "output_type": "stream",
     "text": [
      " \n",
      "Getting https://www.walmart.com/ip/Trolls-Toddler-Girl-Microfleece-Blanket-Sleeper-Pajamas/601003690\n",
      "Entered Reviews\n",
      "Walmart Girls Reviews shape (251, 9)\n",
      "Running next link\n"
     ]
    },
    {
     "name": "stderr",
     "output_type": "stream",
     "text": [
      "[WDM] - Current google-chrome version is 86.0.4240\n",
      "[WDM] - Get LATEST driver version for 86.0.4240\n",
      "[WDM] - Driver [/Users/DataSci/.wdm/drivers/chromedriver/mac64/86.0.4240.22/chromedriver] found in cache\n"
     ]
    },
    {
     "name": "stdout",
     "output_type": "stream",
     "text": [
      " \n",
      "Getting https://www.walmart.com/ip/RBX-Girls-Tricot-Zip-Jacket-Graphic-T-Shirt-and-Performance-Leggings-3-Piece-Active-Set-Sizes-7-12/244443770\n",
      "Entered Reviews\n",
      "Walmart Girls Reviews shape (252, 9)\n",
      "Running next link\n"
     ]
    },
    {
     "name": "stderr",
     "output_type": "stream",
     "text": [
      "[WDM] - Current google-chrome version is 86.0.4240\n",
      "[WDM] - Get LATEST driver version for 86.0.4240\n",
      "[WDM] - Driver [/Users/DataSci/.wdm/drivers/chromedriver/mac64/86.0.4240.22/chromedriver] found in cache\n"
     ]
    },
    {
     "name": "stdout",
     "output_type": "stream",
     "text": [
      " \n",
      "Getting https://www.walmart.com/ip/Hanes-Baby-and-Toddler-Girls-Non-Skid-Turn-Cuff-Socks-12-Pack/682342978\n",
      "No 'See All Reviews' button\n"
     ]
    },
    {
     "name": "stderr",
     "output_type": "stream",
     "text": [
      "[WDM] - Current google-chrome version is 86.0.4240\n",
      "[WDM] - Get LATEST driver version for 86.0.4240\n",
      "[WDM] - Driver [/Users/DataSci/.wdm/drivers/chromedriver/mac64/86.0.4240.22/chromedriver] found in cache\n"
     ]
    },
    {
     "name": "stdout",
     "output_type": "stream",
     "text": [
      " \n",
      "Getting https://www.walmart.com/ip/Garanimals-Toddler-Girls-Fleece-Top-Ribbed-Top-and-French-Terry-Pants-Outfit-Set-3-Piece/721665617\n",
      "No 'See All Reviews' button\n"
     ]
    },
    {
     "name": "stderr",
     "output_type": "stream",
     "text": [
      "[WDM] - Current google-chrome version is 86.0.4240\n",
      "[WDM] - Get LATEST driver version for 86.0.4240\n",
      "[WDM] - Driver [/Users/DataSci/.wdm/drivers/chromedriver/mac64/86.0.4240.22/chromedriver] found in cache\n"
     ]
    },
    {
     "name": "stdout",
     "output_type": "stream",
     "text": [
      " \n",
      "Getting https://www.walmart.com/ip/Cheetah-Girls-Star-Print-Running-Shorts-2-Pack-Sizes-4-16-Plus/770886088\n",
      "Entered Reviews\n",
      "Walmart Girls Reviews shape (253, 9)\n",
      "Running next link\n"
     ]
    },
    {
     "name": "stderr",
     "output_type": "stream",
     "text": [
      "[WDM] - Current google-chrome version is 86.0.4240\n",
      "[WDM] - Get LATEST driver version for 86.0.4240\n",
      "[WDM] - Driver [/Users/DataSci/.wdm/drivers/chromedriver/mac64/86.0.4240.22/chromedriver] found in cache\n"
     ]
    },
    {
     "name": "stdout",
     "output_type": "stream",
     "text": [
      " \n",
      "Getting https://www.walmart.com/ip/Baby-Shark-Baby-Toddler-Boys-or-Girls-Unisex-Long-Sleeve-Snug-Fit-Cotton-Pajamas-4pc-Set/978777319\n",
      "Entered Reviews\n",
      "Walmart Girls Reviews shape (254, 9)\n",
      "Running next link\n"
     ]
    },
    {
     "name": "stderr",
     "output_type": "stream",
     "text": [
      "[WDM] - Current google-chrome version is 86.0.4240\n",
      "[WDM] - Get LATEST driver version for 86.0.4240\n"
     ]
    },
    {
     "name": "stdout",
     "output_type": "stream",
     "text": [
      " \n"
     ]
    },
    {
     "name": "stderr",
     "output_type": "stream",
     "text": [
      "[WDM] - Driver [/Users/DataSci/.wdm/drivers/chromedriver/mac64/86.0.4240.22/chromedriver] found in cache\n"
     ]
    },
    {
     "name": "stdout",
     "output_type": "stream",
     "text": [
      "Getting https://www.walmart.com/ip/Minnie-Mouse-Baby-Toddler-Girl-Zip-Hoodie-with-Faux-Fur-Sleeves/899488362\n",
      "Entered Reviews\n",
      "Walmart Girls Reviews shape (255, 9)\n",
      "Running next link\n"
     ]
    },
    {
     "name": "stderr",
     "output_type": "stream",
     "text": [
      "[WDM] - Current google-chrome version is 86.0.4240\n",
      "[WDM] - Get LATEST driver version for 86.0.4240\n"
     ]
    },
    {
     "name": "stdout",
     "output_type": "stream",
     "text": [
      " \n"
     ]
    },
    {
     "name": "stderr",
     "output_type": "stream",
     "text": [
      "[WDM] - Driver [/Users/DataSci/.wdm/drivers/chromedriver/mac64/86.0.4240.22/chromedriver] found in cache\n"
     ]
    },
    {
     "name": "stdout",
     "output_type": "stream",
     "text": [
      "Getting https://www.walmart.com/ip/Holiday-Time-Girls-Embellished-Christmas-Sweater-Sizes-4-18-Plus/511679884\n",
      "No 'See All Reviews' button\n"
     ]
    },
    {
     "name": "stderr",
     "output_type": "stream",
     "text": [
      "[WDM] - Current google-chrome version is 86.0.4240\n",
      "[WDM] - Get LATEST driver version for 86.0.4240\n",
      "[WDM] - Driver [/Users/DataSci/.wdm/drivers/chromedriver/mac64/86.0.4240.22/chromedriver] found in cache\n"
     ]
    },
    {
     "name": "stdout",
     "output_type": "stream",
     "text": [
      " \n",
      "Getting https://www.walmart.com/ip/Comfy-Toddler-Newborn-Baby-Girls-Floral-Tops-T-shirt-Pants-Leggings-Outfits-Clothes/516856377\n",
      "Entered Reviews\n",
      "Walmart Girls Reviews shape (256, 9)\n",
      "Running next link\n"
     ]
    },
    {
     "name": "stderr",
     "output_type": "stream",
     "text": [
      "[WDM] - Current google-chrome version is 86.0.4240\n",
      "[WDM] - Get LATEST driver version for 86.0.4240\n",
      "[WDM] - Driver [/Users/DataSci/.wdm/drivers/chromedriver/mac64/86.0.4240.22/chromedriver] found in cache\n"
     ]
    },
    {
     "name": "stdout",
     "output_type": "stream",
     "text": [
      " \n",
      "Getting https://www.walmart.com/ip/L-O-L-Surprise-Girls-Hoodie-Graphic-T-Shirt-and-Sweatpants-Athleisure-Outfit-Set-3-Piece-Sizes-4-16/739515177\n",
      "Entered Reviews\n",
      "Walmart Girls Reviews shape (257, 9)\n",
      "Running next link\n"
     ]
    },
    {
     "name": "stderr",
     "output_type": "stream",
     "text": [
      "[WDM] - Current google-chrome version is 86.0.4240\n",
      "[WDM] - Get LATEST driver version for 86.0.4240\n",
      "[WDM] - Driver [/Users/DataSci/.wdm/drivers/chromedriver/mac64/86.0.4240.22/chromedriver] found in cache\n"
     ]
    },
    {
     "name": "stdout",
     "output_type": "stream",
     "text": [
      " \n",
      "Getting https://www.walmart.com/ip/The-Children-s-Place-Girls-Bow-Back-Velour-Dress-Sizes-5-16/891771598\n",
      "Entered Reviews\n",
      "Walmart Girls Reviews shape (258, 9)\n",
      "Running next link\n"
     ]
    },
    {
     "name": "stderr",
     "output_type": "stream",
     "text": [
      "[WDM] - Current google-chrome version is 86.0.4240\n",
      "[WDM] - Get LATEST driver version for 86.0.4240\n",
      "[WDM] - Driver [/Users/DataSci/.wdm/drivers/chromedriver/mac64/86.0.4240.22/chromedriver] found in cache\n"
     ]
    },
    {
     "name": "stdout",
     "output_type": "stream",
     "text": [
      " \n",
      "Getting https://www.walmart.com/ip/dELiA-s-Girls-Pajama-Set-2-Piece-Sizes-4-16/172108423\n",
      "Entered Reviews\n",
      "Walmart Girls Reviews shape (259, 9)\n",
      "Running next link\n"
     ]
    },
    {
     "name": "stderr",
     "output_type": "stream",
     "text": [
      "[WDM] - Current google-chrome version is 86.0.4240\n",
      "[WDM] - Get LATEST driver version for 86.0.4240\n",
      "[WDM] - Driver [/Users/DataSci/.wdm/drivers/chromedriver/mac64/86.0.4240.22/chromedriver] found in cache\n"
     ]
    },
    {
     "name": "stdout",
     "output_type": "stream",
     "text": [
      " \n",
      "Getting https://www.walmart.com/ip/Garanimals-Printed-Short-Sleeve-T-Shirts-3-Pack-Toddler-Girls/130664281\n",
      "Entered Reviews\n",
      "Walmart Girls Reviews shape (260, 9)\n",
      "Running next link\n"
     ]
    },
    {
     "name": "stderr",
     "output_type": "stream",
     "text": [
      "[WDM] - Current google-chrome version is 86.0.4240\n",
      "[WDM] - Get LATEST driver version for 86.0.4240\n",
      "[WDM] - Driver [/Users/DataSci/.wdm/drivers/chromedriver/mac64/86.0.4240.22/chromedriver] found in cache\n"
     ]
    },
    {
     "name": "stdout",
     "output_type": "stream",
     "text": [
      " \n",
      "Getting https://www.walmart.com/ip/Garanimals-Baby-Girls-Toddler-Girls-Fleece-Lined-Leggings-3-Pack-12M-5T/837108405\n",
      "Entered Reviews\n",
      "Walmart Girls Reviews shape (261, 9)\n",
      "Running next link\n"
     ]
    },
    {
     "name": "stderr",
     "output_type": "stream",
     "text": [
      "[WDM] - Current google-chrome version is 86.0.4240\n",
      "[WDM] - Get LATEST driver version for 86.0.4240\n",
      "[WDM] - Driver [/Users/DataSci/.wdm/drivers/chromedriver/mac64/86.0.4240.22/chromedriver] found in cache\n"
     ]
    },
    {
     "name": "stdout",
     "output_type": "stream",
     "text": [
      " \n",
      "Getting https://www.walmart.com/ip/Fruit-of-the-Loom-Girls-Super-Soft-Waffle-Thermal-Pants-2-Pack/524321596\n",
      "Entered Reviews\n",
      "Walmart Girls Reviews shape (262, 9)\n",
      "Running next link\n"
     ]
    },
    {
     "name": "stderr",
     "output_type": "stream",
     "text": [
      "[WDM] - Current google-chrome version is 86.0.4240\n",
      "[WDM] - Get LATEST driver version for 86.0.4240\n",
      "[WDM] - Driver [/Users/DataSci/.wdm/drivers/chromedriver/mac64/86.0.4240.22/chromedriver] found in cache\n"
     ]
    },
    {
     "name": "stdout",
     "output_type": "stream",
     "text": [
      " \n",
      "Getting https://www.walmart.com/ip/Cozy-Jams-Girls-Fleece-Pajama-Blanket-Sleeper-Sizes-4-14/265518406\n",
      "Entered Reviews\n",
      "Walmart Girls Reviews shape (263, 9)\n",
      "Running next link\n"
     ]
    },
    {
     "name": "stderr",
     "output_type": "stream",
     "text": [
      "[WDM] - Current google-chrome version is 86.0.4240\n",
      "[WDM] - Get LATEST driver version for 86.0.4240\n",
      "[WDM] - Driver [/Users/DataSci/.wdm/drivers/chromedriver/mac64/86.0.4240.22/chromedriver] found in cache\n"
     ]
    },
    {
     "name": "stdout",
     "output_type": "stream",
     "text": [
      " \n",
      "Getting https://www.walmart.com/ip/Paw-Patrol-Toddler-Girl-Microfleece-Blanket-Sleeper-Pajamas/508623947\n",
      "Entered Reviews\n",
      "Walmart Girls Reviews shape (264, 9)\n",
      "Running next link\n"
     ]
    },
    {
     "name": "stderr",
     "output_type": "stream",
     "text": [
      "[WDM] - Current google-chrome version is 86.0.4240\n",
      "[WDM] - Get LATEST driver version for 86.0.4240\n",
      "[WDM] - Driver [/Users/DataSci/.wdm/drivers/chromedriver/mac64/86.0.4240.22/chromedriver] found in cache\n"
     ]
    },
    {
     "name": "stdout",
     "output_type": "stream",
     "text": [
      " \n",
      "Getting https://www.walmart.com/ip/Trolls-Girls-Exclusive-Long-Sleeve-2-Piece-Set-Sizes-4-12/939295842\n",
      "No 'See All Reviews' button\n"
     ]
    },
    {
     "name": "stderr",
     "output_type": "stream",
     "text": [
      "[WDM] - Current google-chrome version is 86.0.4240\n",
      "[WDM] - Get LATEST driver version for 86.0.4240\n"
     ]
    },
    {
     "name": "stdout",
     "output_type": "stream",
     "text": [
      " \n"
     ]
    },
    {
     "name": "stderr",
     "output_type": "stream",
     "text": [
      "[WDM] - Driver [/Users/DataSci/.wdm/drivers/chromedriver/mac64/86.0.4240.22/chromedriver] found in cache\n"
     ]
    },
    {
     "name": "stdout",
     "output_type": "stream",
     "text": [
      "Getting https://www.walmart.com/ip/Wonder-Nation-Casual-Bump-Toe-Sneaker-Little-Girls-Big-Girls/722951712\n",
      "Entered Reviews\n",
      "Walmart Girls Reviews shape (265, 9)\n",
      "Running next link\n"
     ]
    },
    {
     "name": "stderr",
     "output_type": "stream",
     "text": [
      "[WDM] - Current google-chrome version is 86.0.4240\n",
      "[WDM] - Get LATEST driver version for 86.0.4240\n"
     ]
    },
    {
     "name": "stdout",
     "output_type": "stream",
     "text": [
      " \n"
     ]
    },
    {
     "name": "stderr",
     "output_type": "stream",
     "text": [
      "[WDM] - Driver [/Users/DataSci/.wdm/drivers/chromedriver/mac64/86.0.4240.22/chromedriver] found in cache\n"
     ]
    },
    {
     "name": "stdout",
     "output_type": "stream",
     "text": [
      "Getting https://www.walmart.com/ip/Cutie-Pie-Baby-Toddler-Girls-Long-Sleeve-Snug-Fit-Cotton-Pajamas-Set-4-Piece/504991362\n",
      "Entered Reviews\n",
      "Walmart Girls Reviews shape (266, 9)\n",
      "Running next link\n"
     ]
    },
    {
     "name": "stderr",
     "output_type": "stream",
     "text": [
      "[WDM] - Current google-chrome version is 86.0.4240\n",
      "[WDM] - Get LATEST driver version for 86.0.4240\n",
      "[WDM] - Driver [/Users/DataSci/.wdm/drivers/chromedriver/mac64/86.0.4240.22/chromedriver] found in cache\n"
     ]
    },
    {
     "name": "stdout",
     "output_type": "stream",
     "text": [
      " \n",
      "Getting https://www.walmart.com/ip/Fruit-of-the-Loom-Toddler-Girl-Underwear-12-Pack-Cotton-Briefs/811301495\n",
      "Entered Reviews\n",
      "Walmart Girls Reviews shape (267, 9)\n",
      "Running next link\n"
     ]
    },
    {
     "name": "stderr",
     "output_type": "stream",
     "text": [
      "[WDM] - Current google-chrome version is 86.0.4240\n",
      "[WDM] - Get LATEST driver version for 86.0.4240\n",
      "[WDM] - Driver [/Users/DataSci/.wdm/drivers/chromedriver/mac64/86.0.4240.22/chromedriver] found in cache\n"
     ]
    },
    {
     "name": "stdout",
     "output_type": "stream",
     "text": [
      " \n",
      "Getting https://www.walmart.com/ip/Danskin-Now-Girls-Dance-Gymnastics-Cheer-Shorts-with-Premium-Nylon-Dance-Criss-Cross-Front-2-Pack-Sizes-XS-XL/969547916\n",
      "Entered Reviews\n",
      "Walmart Girls Reviews shape (268, 9)\n",
      "Running next link\n"
     ]
    },
    {
     "name": "stderr",
     "output_type": "stream",
     "text": [
      "[WDM] - Current google-chrome version is 86.0.4240\n",
      "[WDM] - Get LATEST driver version for 86.0.4240\n"
     ]
    },
    {
     "name": "stdout",
     "output_type": "stream",
     "text": [
      " \n"
     ]
    },
    {
     "name": "stderr",
     "output_type": "stream",
     "text": [
      "[WDM] - Driver [/Users/DataSci/.wdm/drivers/chromedriver/mac64/86.0.4240.22/chromedriver] found in cache\n"
     ]
    },
    {
     "name": "stdout",
     "output_type": "stream",
     "text": [
      "Getting https://www.walmart.com/ip/Hind-Girls-Colorblock-Raglan-T-Shirt-and-Leggings-2-Piece-Set-Sizes-4-16/321048947\n",
      "Entered Reviews\n",
      "Walmart Girls Reviews shape (269, 9)\n",
      "Running next link\n"
     ]
    },
    {
     "name": "stderr",
     "output_type": "stream",
     "text": [
      "[WDM] - Current google-chrome version is 86.0.4240\n",
      "[WDM] - Get LATEST driver version for 86.0.4240\n",
      "[WDM] - Driver [/Users/DataSci/.wdm/drivers/chromedriver/mac64/86.0.4240.22/chromedriver] found in cache\n"
     ]
    },
    {
     "name": "stdout",
     "output_type": "stream",
     "text": [
      " \n",
      "Getting https://www.walmart.com/ip/Sweet-Dreams-Girls-Hooded-Pajama-Blanket-Sleeper-Sizes-4-12/836314170\n",
      "No 'See All Reviews' button\n"
     ]
    },
    {
     "name": "stderr",
     "output_type": "stream",
     "text": [
      "[WDM] - Current google-chrome version is 86.0.4240\n",
      "[WDM] - Get LATEST driver version for 86.0.4240\n"
     ]
    },
    {
     "name": "stdout",
     "output_type": "stream",
     "text": [
      " \n"
     ]
    },
    {
     "name": "stderr",
     "output_type": "stream",
     "text": [
      "[WDM] - Driver [/Users/DataSci/.wdm/drivers/chromedriver/mac64/86.0.4240.22/chromedriver] found in cache\n"
     ]
    },
    {
     "name": "stdout",
     "output_type": "stream",
     "text": [
      "Getting https://www.walmart.com/ip/Netflix-s-Over-The-Moon-Girls-Short-Sleeve-Top-and-Tutu-Skirt-2-Piece-Outfit-Set-Sizes-4-18/613061184\n",
      "No 'See All Reviews' button\n"
     ]
    },
    {
     "name": "stderr",
     "output_type": "stream",
     "text": [
      "[WDM] - Current google-chrome version is 86.0.4240\n",
      "[WDM] - Get LATEST driver version for 86.0.4240\n",
      "[WDM] - Driver [/Users/DataSci/.wdm/drivers/chromedriver/mac64/86.0.4240.22/chromedriver] found in cache\n"
     ]
    },
    {
     "name": "stdout",
     "output_type": "stream",
     "text": [
      " \n",
      "Getting https://www.walmart.com/ip/Joggies-Family-Matching-Black-and-Deep-Red-Hoodie-Onesies-for-Boys-Girls-Men-Women-and-Pets-Adult-Small2X-Dbl-Wide-Fits-5-3-5-6/756355601\n",
      "Entered Reviews\n",
      "Walmart Girls Reviews shape (270, 9)\n",
      "Running next link\n"
     ]
    },
    {
     "name": "stderr",
     "output_type": "stream",
     "text": [
      "[WDM] - Current google-chrome version is 86.0.4240\n",
      "[WDM] - Get LATEST driver version for 86.0.4240\n",
      "[WDM] - Driver [/Users/DataSci/.wdm/drivers/chromedriver/mac64/86.0.4240.22/chromedriver] found in cache\n"
     ]
    },
    {
     "name": "stdout",
     "output_type": "stream",
     "text": [
      " \n",
      "Getting https://www.walmart.com/ip/Baby-Shark-Baby-Toddler-Girl-Short-Sleeve-T-shirt-Leggings-2pc-Outfit-Set-12M-4T/931321133\n",
      "Entered Reviews\n",
      "Walmart Girls Reviews shape (271, 9)\n",
      "Running next link\n"
     ]
    },
    {
     "name": "stderr",
     "output_type": "stream",
     "text": [
      "[WDM] - Current google-chrome version is 86.0.4240\n",
      "[WDM] - Get LATEST driver version for 86.0.4240\n",
      "[WDM] - Driver [/Users/DataSci/.wdm/drivers/chromedriver/mac64/86.0.4240.22/chromedriver] found in cache\n"
     ]
    },
    {
     "name": "stdout",
     "output_type": "stream",
     "text": [
      " \n",
      "Getting https://www.walmart.com/ip/Boutique-Toddler-Kids-Baby-Girl-Flower-Top-Dress-Pants-Legging-Outfit-Clothes/268324448\n",
      "Entered Reviews\n",
      "Walmart Girls Reviews shape (272, 9)\n",
      "Running next link\n"
     ]
    },
    {
     "name": "stderr",
     "output_type": "stream",
     "text": [
      "[WDM] - Current google-chrome version is 86.0.4240\n",
      "[WDM] - Get LATEST driver version for 86.0.4240\n",
      "[WDM] - Driver [/Users/DataSci/.wdm/drivers/chromedriver/mac64/86.0.4240.22/chromedriver] found in cache\n"
     ]
    },
    {
     "name": "stdout",
     "output_type": "stream",
     "text": [
      " \n",
      "Getting https://www.walmart.com/ip/FOCUSNORM-Boutique-Baby-Girl-Flower-Top-Dress-Pants-Legging-Outfit-Clothes/851135783\n",
      "Entered Reviews\n",
      "Walmart Girls Reviews shape (273, 9)\n",
      "Running next link\n"
     ]
    },
    {
     "name": "stderr",
     "output_type": "stream",
     "text": [
      "[WDM] - Current google-chrome version is 86.0.4240\n",
      "[WDM] - Get LATEST driver version for 86.0.4240\n",
      "[WDM] - Driver [/Users/DataSci/.wdm/drivers/chromedriver/mac64/86.0.4240.22/chromedriver] found in cache\n"
     ]
    },
    {
     "name": "stdout",
     "output_type": "stream",
     "text": [
      " \n",
      "Getting https://www.walmart.com/ip/Stretch-is-Comfort-Girl-s-Cotton-Footless-Leggings/312713201\n",
      "Entered Reviews\n",
      "Walmart Girls Reviews shape (274, 9)\n",
      "Running next link\n"
     ]
    },
    {
     "name": "stderr",
     "output_type": "stream",
     "text": [
      "[WDM] - Current google-chrome version is 86.0.4240\n",
      "[WDM] - Get LATEST driver version for 86.0.4240\n",
      "[WDM] - Driver [/Users/DataSci/.wdm/drivers/chromedriver/mac64/86.0.4240.22/chromedriver] found in cache\n"
     ]
    },
    {
     "name": "stdout",
     "output_type": "stream",
     "text": [
      " \n",
      "Getting https://www.walmart.com/ip/Wonder-Nation-Girls-Long-Sleeve-Play-Dress-Sizes-4-18-Plus-4-Pack/396486823\n",
      "No 'See All Reviews' button\n"
     ]
    },
    {
     "name": "stderr",
     "output_type": "stream",
     "text": [
      "[WDM] - Current google-chrome version is 86.0.4240\n",
      "[WDM] - Get LATEST driver version for 86.0.4240\n",
      "[WDM] - Driver [/Users/DataSci/.wdm/drivers/chromedriver/mac64/86.0.4240.22/chromedriver] found in cache\n"
     ]
    },
    {
     "name": "stdout",
     "output_type": "stream",
     "text": [
      " \n",
      "Getting https://www.walmart.com/ip/Holiday-Time-Girls-Embellished-Christmas-Peplum-Sweater-Sizes-4-18-Plus/505449707\n",
      "No 'See All Reviews' button\n"
     ]
    },
    {
     "name": "stderr",
     "output_type": "stream",
     "text": [
      "[WDM] - Current google-chrome version is 86.0.4240\n",
      "[WDM] - Get LATEST driver version for 86.0.4240\n"
     ]
    },
    {
     "name": "stdout",
     "output_type": "stream",
     "text": [
      " \n"
     ]
    },
    {
     "name": "stderr",
     "output_type": "stream",
     "text": [
      "[WDM] - Driver [/Users/DataSci/.wdm/drivers/chromedriver/mac64/86.0.4240.22/chromedriver] found in cache\n"
     ]
    },
    {
     "name": "stdout",
     "output_type": "stream",
     "text": [
      "Getting https://www.walmart.com/ip/L-O-L-Surprise-Disco-All-Over-Sequin-Bomber-Jacket-Little-Girls-Big-Girls/930067013\n",
      "No 'See All Reviews' button\n"
     ]
    },
    {
     "name": "stderr",
     "output_type": "stream",
     "text": [
      "[WDM] - Current google-chrome version is 86.0.4240\n",
      "[WDM] - Get LATEST driver version for 86.0.4240\n",
      "[WDM] - Driver [/Users/DataSci/.wdm/drivers/chromedriver/mac64/86.0.4240.22/chromedriver] found in cache\n"
     ]
    },
    {
     "name": "stdout",
     "output_type": "stream",
     "text": [
      " \n",
      "Getting https://www.walmart.com/ip/Footed-Pajamas-Family-Matching-Orange-Hoodie-Onesies-for-Boys-Girls-Men-Women-and-Pets-Kids-Medium-Fits-4-6-4-8/269107520\n",
      "Entered Reviews\n",
      "Walmart Girls Reviews shape (275, 9)\n",
      "Running next link\n"
     ]
    },
    {
     "name": "stderr",
     "output_type": "stream",
     "text": [
      "[WDM] - Current google-chrome version is 86.0.4240\n",
      "[WDM] - Get LATEST driver version for 86.0.4240\n",
      "[WDM] - Driver [/Users/DataSci/.wdm/drivers/chromedriver/mac64/86.0.4240.22/chromedriver] found in cache\n"
     ]
    },
    {
     "name": "stdout",
     "output_type": "stream",
     "text": [
      " \n",
      "Getting https://www.walmart.com/ip/Btween-Girls-Tie-Front-Flip-Sequin-Graphic-Hoodie-and-Sparkle-Leggings-Outfit-Set-2-Piece-Sizes-4-12/698975839\n",
      "Entered Reviews\n",
      "Walmart Girls Reviews shape (276, 9)\n",
      "Running next link\n"
     ]
    },
    {
     "name": "stderr",
     "output_type": "stream",
     "text": [
      "[WDM] - Current google-chrome version is 86.0.4240\n",
      "[WDM] - Get LATEST driver version for 86.0.4240\n",
      "[WDM] - Driver [/Users/DataSci/.wdm/drivers/chromedriver/mac64/86.0.4240.22/chromedriver] found in cache\n"
     ]
    },
    {
     "name": "stdout",
     "output_type": "stream",
     "text": [
      " \n",
      "Getting https://www.walmart.com/ip/Btween-Girls-Long-Sleeve-Flip-Sequin-Top-and-Tutu-Skirt-and-Free-Scrunchie-2-Piece-Outfit-Set-Sizes-4-12/447153239\n",
      "No 'See All Reviews' button\n"
     ]
    },
    {
     "name": "stderr",
     "output_type": "stream",
     "text": [
      "[WDM] - Current google-chrome version is 86.0.4240\n",
      "[WDM] - Get LATEST driver version for 86.0.4240\n",
      "[WDM] - Driver [/Users/DataSci/.wdm/drivers/chromedriver/mac64/86.0.4240.22/chromedriver] found in cache\n"
     ]
    },
    {
     "name": "stdout",
     "output_type": "stream",
     "text": [
      " \n",
      "Getting https://www.walmart.com/ip/Luvable-Friends-Baby-Girl-Tights-3-Pack/49373556\n",
      "Entered Reviews\n",
      "Walmart Girls Reviews shape (277, 9)\n",
      "Running next link\n"
     ]
    },
    {
     "name": "stderr",
     "output_type": "stream",
     "text": [
      "[WDM] - Current google-chrome version is 86.0.4240\n",
      "[WDM] - Get LATEST driver version for 86.0.4240\n",
      "[WDM] - Driver [/Users/DataSci/.wdm/drivers/chromedriver/mac64/86.0.4240.22/chromedriver] found in cache\n"
     ]
    },
    {
     "name": "stdout",
     "output_type": "stream",
     "text": [
      " \n",
      "Getting https://www.walmart.com/ip/Netflix-s-Over-The-Moon-Girls-Long-Sleeve-Graphic-T-Shirt-Sizes-4-16/378629628\n",
      "No 'See All Reviews' button\n"
     ]
    },
    {
     "name": "stderr",
     "output_type": "stream",
     "text": [
      "[WDM] - Current google-chrome version is 86.0.4240\n",
      "[WDM] - Get LATEST driver version for 86.0.4240\n"
     ]
    },
    {
     "name": "stdout",
     "output_type": "stream",
     "text": [
      " \n"
     ]
    },
    {
     "name": "stderr",
     "output_type": "stream",
     "text": [
      "[WDM] - Driver [/Users/DataSci/.wdm/drivers/chromedriver/mac64/86.0.4240.22/chromedriver] found in cache\n"
     ]
    },
    {
     "name": "stdout",
     "output_type": "stream",
     "text": [
      "Getting https://www.walmart.com/ip/Minnie-Mouse-Girls-4-16-Exclusive-Fashion-Top-and-Legging-2-Piece-Outfit-Set/579590641\n",
      "Entered Reviews\n",
      "Walmart Girls Reviews shape (278, 9)\n",
      "Running next link\n"
     ]
    },
    {
     "name": "stderr",
     "output_type": "stream",
     "text": [
      "[WDM] - Current google-chrome version is 86.0.4240\n",
      "[WDM] - Get LATEST driver version for 86.0.4240\n",
      "[WDM] - Driver [/Users/DataSci/.wdm/drivers/chromedriver/mac64/86.0.4240.22/chromedriver] found in cache\n"
     ]
    },
    {
     "name": "stdout",
     "output_type": "stream",
     "text": [
      " \n",
      "Getting https://www.walmart.com/ip/Disney-Princess-The-Little-Mermaid-Exclusive-Tutu-Cosplay-Girls-4-18-Plus-Dress/570362252\n",
      "Entered Reviews\n",
      "Walmart Girls Reviews shape (279, 9)\n",
      "Running next link\n"
     ]
    },
    {
     "name": "stderr",
     "output_type": "stream",
     "text": [
      "[WDM] - Current google-chrome version is 86.0.4240\n",
      "[WDM] - Get LATEST driver version for 86.0.4240\n",
      "[WDM] - Driver [/Users/DataSci/.wdm/drivers/chromedriver/mac64/86.0.4240.22/chromedriver] found in cache\n"
     ]
    },
    {
     "name": "stdout",
     "output_type": "stream",
     "text": [
      " \n",
      "Getting https://www.walmart.com/ip/Paw-Patrol-Toddler-Girls-Brief-Underwear-7-Pack/55138294\n",
      "Entered Reviews\n",
      "Walmart Girls Reviews shape (280, 9)\n",
      "Running next link\n"
     ]
    },
    {
     "name": "stderr",
     "output_type": "stream",
     "text": [
      "[WDM] - Current google-chrome version is 86.0.4240\n",
      "[WDM] - Get LATEST driver version for 86.0.4240\n",
      "[WDM] - Driver [/Users/DataSci/.wdm/drivers/chromedriver/mac64/86.0.4240.22/chromedriver] found in cache\n"
     ]
    },
    {
     "name": "stdout",
     "output_type": "stream",
     "text": [
      " \n",
      "Getting https://www.walmart.com/ip/Wonder-Nation-Girls-4-18-Plus-Embellished-Pullover-Hoodie/563851093\n",
      "Entered Reviews\n",
      "AttributeError - object has no attribute 'items'\n"
     ]
    },
    {
     "name": "stderr",
     "output_type": "stream",
     "text": [
      "[WDM] - Current google-chrome version is 86.0.4240\n",
      "[WDM] - Get LATEST driver version for 86.0.4240\n",
      "[WDM] - Driver [/Users/DataSci/.wdm/drivers/chromedriver/mac64/86.0.4240.22/chromedriver] found in cache\n"
     ]
    },
    {
     "name": "stdout",
     "output_type": "stream",
     "text": [
      " \n",
      "Getting https://www.walmart.com/ip/Wonder-Nation-Baby-Girl-Cotton-Inverted-Zipper-Sleep-N-Play-Pajamas-3-Pack/523169249\n",
      "Entered Reviews\n",
      "Walmart Girls Reviews shape (281, 9)\n",
      "Running next link\n"
     ]
    },
    {
     "name": "stderr",
     "output_type": "stream",
     "text": [
      "[WDM] - Current google-chrome version is 86.0.4240\n",
      "[WDM] - Get LATEST driver version for 86.0.4240\n",
      "[WDM] - Driver [/Users/DataSci/.wdm/drivers/chromedriver/mac64/86.0.4240.22/chromedriver] found in cache\n"
     ]
    },
    {
     "name": "stdout",
     "output_type": "stream",
     "text": [
      " \n",
      "Getting https://www.walmart.com/ip/NICE-CAPS-Kids-Toddler-Scroll-Print-Waterproof-Thinsulate-Ski-Snowboarder-Winter-Snow-Glove-Fits-Boys-Girls-Youth-Childrens-Child-Sizes-For-Cold-Weat/116322984\n",
      "Entered Reviews\n",
      "Walmart Girls Reviews shape (282, 9)\n",
      "Running next link\n"
     ]
    },
    {
     "name": "stderr",
     "output_type": "stream",
     "text": [
      "[WDM] - Current google-chrome version is 86.0.4240\n",
      "[WDM] - Get LATEST driver version for 86.0.4240\n",
      "[WDM] - Driver [/Users/DataSci/.wdm/drivers/chromedriver/mac64/86.0.4240.22/chromedriver] found in cache\n"
     ]
    },
    {
     "name": "stdout",
     "output_type": "stream",
     "text": [
      " \n",
      "Getting https://www.walmart.com/ip/Jojo-Siwa-Girls-Holiday-3-4-Sleeve-Play-Dress-2-Pack-Sizes-4-10/411355047\n",
      "No 'See All Reviews' button\n"
     ]
    },
    {
     "name": "stderr",
     "output_type": "stream",
     "text": [
      "[WDM] - Current google-chrome version is 86.0.4240\n",
      "[WDM] - Get LATEST driver version for 86.0.4240\n",
      "[WDM] - Driver [/Users/DataSci/.wdm/drivers/chromedriver/mac64/86.0.4240.22/chromedriver] found in cache\n"
     ]
    },
    {
     "name": "stdout",
     "output_type": "stream",
     "text": [
      " \n",
      "Getting https://www.walmart.com/ip/Marika-Girls-Graphic-Tie-Front-Long-Sleeve-T-Shirt-and-Performance-Leggings-2-Piece-Set-Sizes-7-12/247237236\n",
      "Entered Reviews\n",
      "Walmart Girls Reviews shape (283, 9)\n",
      "Running next link\n"
     ]
    },
    {
     "name": "stderr",
     "output_type": "stream",
     "text": [
      "[WDM] - Current google-chrome version is 86.0.4240\n",
      "[WDM] - Get LATEST driver version for 86.0.4240\n",
      "[WDM] - Driver [/Users/DataSci/.wdm/drivers/chromedriver/mac64/86.0.4240.22/chromedriver] found in cache\n"
     ]
    },
    {
     "name": "stdout",
     "output_type": "stream",
     "text": [
      " \n",
      "Getting https://www.walmart.com/ip/L-O-L-Surprise-Girls-Dollie-Me-Pajama-Nightgown-Sizes-4-12/705420852\n",
      "No 'See All Reviews' button\n"
     ]
    },
    {
     "name": "stderr",
     "output_type": "stream",
     "text": [
      "[WDM] - Current google-chrome version is 86.0.4240\n",
      "[WDM] - Get LATEST driver version for 86.0.4240\n",
      "[WDM] - Driver [/Users/DataSci/.wdm/drivers/chromedriver/mac64/86.0.4240.22/chromedriver] found in cache\n"
     ]
    },
    {
     "name": "stdout",
     "output_type": "stream",
     "text": [
      " \n",
      "Getting https://www.walmart.com/ip/SleepytimePJs-Matching-Family-Christmas-Pajama-Sets/968804646\n",
      "No 'See All Reviews' button\n"
     ]
    },
    {
     "name": "stderr",
     "output_type": "stream",
     "text": [
      "[WDM] - Current google-chrome version is 86.0.4240\n",
      "[WDM] - Get LATEST driver version for 86.0.4240\n",
      "[WDM] - Driver [/Users/DataSci/.wdm/drivers/chromedriver/mac64/86.0.4240.22/chromedriver] found in cache\n"
     ]
    },
    {
     "name": "stdout",
     "output_type": "stream",
     "text": [
      " \n",
      "Getting https://www.walmart.com/ip/Wonder-Nation-Baby-Toddler-Boys-or-Girls-Holiday-Christmas-Sweater/434500217\n",
      "No 'See All Reviews' button\n"
     ]
    },
    {
     "name": "stderr",
     "output_type": "stream",
     "text": [
      "[WDM] - Current google-chrome version is 86.0.4240\n",
      "[WDM] - Get LATEST driver version for 86.0.4240\n",
      "[WDM] - Driver [/Users/DataSci/.wdm/drivers/chromedriver/mac64/86.0.4240.22/chromedriver] found in cache\n"
     ]
    },
    {
     "name": "stdout",
     "output_type": "stream",
     "text": [
      " \n",
      "Getting https://www.walmart.com/ip/Boutique-Kids-Baby-Girls-Leopard-Clothes-Top-T-shirt-Dress-Legging-Pants-Outfits/535973159\n",
      "Entered Reviews\n",
      "Walmart Girls Reviews shape (284, 9)\n",
      "Running next link\n"
     ]
    },
    {
     "name": "stderr",
     "output_type": "stream",
     "text": [
      "[WDM] - Current google-chrome version is 86.0.4240\n",
      "[WDM] - Get LATEST driver version for 86.0.4240\n",
      "[WDM] - Driver [/Users/DataSci/.wdm/drivers/chromedriver/mac64/86.0.4240.22/chromedriver] found in cache\n"
     ]
    },
    {
     "name": "stdout",
     "output_type": "stream",
     "text": [
      " \n",
      "Getting https://www.walmart.com/ip/Lilo-Stitch-Girls-Costume-Hoodie-with-3D-Ears-Sizes-4-16/594218692\n",
      "Entered Reviews\n",
      "Walmart Girls Reviews shape (285, 9)\n",
      "Running next link\n"
     ]
    },
    {
     "name": "stderr",
     "output_type": "stream",
     "text": [
      "[WDM] - Current google-chrome version is 86.0.4240\n",
      "[WDM] - Get LATEST driver version for 86.0.4240\n",
      "[WDM] - Driver [/Users/DataSci/.wdm/drivers/chromedriver/mac64/86.0.4240.22/chromedriver] found in cache\n"
     ]
    },
    {
     "name": "stdout",
     "output_type": "stream",
     "text": [
      " \n",
      "Getting https://www.walmart.com/ip/RBX-Girls-Fleece-Hoodie-Graphic-T-Shirt-And-Performance-Leggings-3-Piece-Active-Set-Sizes-7-12/695953454\n",
      "Entered Reviews\n",
      "Walmart Girls Reviews shape (286, 9)\n",
      "Running next link\n"
     ]
    },
    {
     "name": "stderr",
     "output_type": "stream",
     "text": [
      "[WDM] - Current google-chrome version is 86.0.4240\n",
      "[WDM] - Get LATEST driver version for 86.0.4240\n",
      "[WDM] - Driver [/Users/DataSci/.wdm/drivers/chromedriver/mac64/86.0.4240.22/chromedriver] found in cache\n"
     ]
    },
    {
     "name": "stdout",
     "output_type": "stream",
     "text": [
      " \n",
      "Getting https://www.walmart.com/ip/Little-Star-Organic-Snug-Fit-Stretchie-Footie-Pajamas-2pk-Baby-Boys-Toddler-Boys/935111059\n",
      "Entered Reviews\n",
      "Walmart Girls Reviews shape (287, 9)\n",
      "Running next link\n"
     ]
    },
    {
     "name": "stderr",
     "output_type": "stream",
     "text": [
      "[WDM] - Current google-chrome version is 86.0.4240\n",
      "[WDM] - Get LATEST driver version for 86.0.4240\n",
      "[WDM] - Driver [/Users/DataSci/.wdm/drivers/chromedriver/mac64/86.0.4240.22/chromedriver] found in cache\n"
     ]
    },
    {
     "name": "stdout",
     "output_type": "stream",
     "text": [
      " \n",
      "Getting https://www.walmart.com/ip/Fruit-of-the-Loom-Girls-Underwear-Assorted-Cotton-Bikini-Panty-20-Pack-Sizes-4-14/733496287\n",
      "Entered Reviews\n",
      "Walmart Girls Reviews shape (288, 9)\n",
      "Running next link\n"
     ]
    },
    {
     "name": "stderr",
     "output_type": "stream",
     "text": [
      "[WDM] - Current google-chrome version is 86.0.4240\n",
      "[WDM] - Get LATEST driver version for 86.0.4240\n",
      "[WDM] - Driver [/Users/DataSci/.wdm/drivers/chromedriver/mac64/86.0.4240.22/chromedriver] found in cache\n"
     ]
    },
    {
     "name": "stdout",
     "output_type": "stream",
     "text": [
      " \n",
      "Getting https://www.walmart.com/ip/L-O-L-Surprise-Girls-All-Over-Print-Reversible-Bomber-Jacket-Sizes-4-16/546895635\n",
      "No 'See All Reviews' button\n"
     ]
    },
    {
     "name": "stderr",
     "output_type": "stream",
     "text": [
      "[WDM] - Current google-chrome version is 86.0.4240\n",
      "[WDM] - Get LATEST driver version for 86.0.4240\n",
      "[WDM] - Driver [/Users/DataSci/.wdm/drivers/chromedriver/mac64/86.0.4240.22/chromedriver] found in cache\n"
     ]
    },
    {
     "name": "stdout",
     "output_type": "stream",
     "text": [
      " \n",
      "Getting https://www.walmart.com/ip/TowelSelections-Girls-Robe-Kids-Plush-Shawl-Fleece-Bathrobe/496546553\n",
      "Entered Reviews\n",
      "Walmart Girls Reviews shape (289, 9)\n",
      "Running next link\n"
     ]
    },
    {
     "name": "stderr",
     "output_type": "stream",
     "text": [
      "[WDM] - Current google-chrome version is 86.0.4240\n",
      "[WDM] - Get LATEST driver version for 86.0.4240\n",
      "[WDM] - Driver [/Users/DataSci/.wdm/drivers/chromedriver/mac64/86.0.4240.22/chromedriver] found in cache\n"
     ]
    },
    {
     "name": "stdout",
     "output_type": "stream",
     "text": [
      " \n",
      "Getting https://www.walmart.com/ip/Sweet-Butterfly-Girls-Ribbed-Pearl-Top-and-Legging-2-Piece-Outfit-Set-Sizes-4-16/543431800\n",
      "Entered Reviews\n",
      "Walmart Girls Reviews shape (290, 9)\n",
      "Running next link\n"
     ]
    },
    {
     "name": "stderr",
     "output_type": "stream",
     "text": [
      "[WDM] - Current google-chrome version is 86.0.4240\n",
      "[WDM] - Get LATEST driver version for 86.0.4240\n",
      "[WDM] - Driver [/Users/DataSci/.wdm/drivers/chromedriver/mac64/86.0.4240.22/chromedriver] found in cache\n"
     ]
    },
    {
     "name": "stdout",
     "output_type": "stream",
     "text": [
      " \n",
      "Getting https://www.walmart.com/ip/Fruit-of-the-Loom-Girls-Spaghetti-Strap-Sports-Bra-6-Pack-Sizes-28-38/811481367\n",
      "Entered Reviews\n",
      "Walmart Girls Reviews shape (291, 9)\n",
      "Running next link\n"
     ]
    },
    {
     "name": "stderr",
     "output_type": "stream",
     "text": [
      "[WDM] - Current google-chrome version is 86.0.4240\n",
      "[WDM] - Get LATEST driver version for 86.0.4240\n",
      "[WDM] - Driver [/Users/DataSci/.wdm/drivers/chromedriver/mac64/86.0.4240.22/chromedriver] found in cache\n"
     ]
    },
    {
     "name": "stdout",
     "output_type": "stream",
     "text": [
      " \n",
      "Getting https://www.walmart.com/ip/Cozy-Jams-Girls-Pajama-Nightgown-with-Sleep-Mask-Sizes-4-14/912135595\n",
      "Entered Reviews\n",
      "Walmart Girls Reviews shape (292, 9)\n",
      "Running next link\n"
     ]
    },
    {
     "name": "stderr",
     "output_type": "stream",
     "text": [
      "[WDM] - Current google-chrome version is 86.0.4240\n",
      "[WDM] - Get LATEST driver version for 86.0.4240\n",
      "[WDM] - Driver [/Users/DataSci/.wdm/drivers/chromedriver/mac64/86.0.4240.22/chromedriver] found in cache\n"
     ]
    },
    {
     "name": "stdout",
     "output_type": "stream",
     "text": [
      " \n",
      "Getting https://www.walmart.com/ip/DKNY-GIRLS-Logo-Pullover-Fleece-Hoodie-and-Sweatpants-2-Piece-Athleisure-Set-Sizes-7-12/354512690\n",
      "Entered Reviews\n",
      "Walmart Girls Reviews shape (293, 9)\n",
      "Running next link\n"
     ]
    },
    {
     "name": "stderr",
     "output_type": "stream",
     "text": [
      "[WDM] - Current google-chrome version is 86.0.4240\n",
      "[WDM] - Get LATEST driver version for 86.0.4240\n",
      "[WDM] - Driver [/Users/DataSci/.wdm/drivers/chromedriver/mac64/86.0.4240.22/chromedriver] found in cache\n"
     ]
    },
    {
     "name": "stdout",
     "output_type": "stream",
     "text": [
      " \n",
      "Getting https://www.walmart.com/ip/Btween-Girls-7-14-Flip-Sequin-Pocket-Graphic-Pullover-Hoodie/928861191\n",
      "Entered Reviews\n",
      "Walmart Girls Reviews shape (294, 9)\n",
      "Running next link\n"
     ]
    },
    {
     "name": "stderr",
     "output_type": "stream",
     "text": [
      "[WDM] - Current google-chrome version is 86.0.4240\n",
      "[WDM] - Get LATEST driver version for 86.0.4240\n",
      "[WDM] - Driver [/Users/DataSci/.wdm/drivers/chromedriver/mac64/86.0.4240.22/chromedriver] found in cache\n"
     ]
    },
    {
     "name": "stdout",
     "output_type": "stream",
     "text": [
      " \n",
      "Getting https://www.walmart.com/ip/MarinaVida-autumn-and-winter-fashion-women-s-cat-print-long-sleeved-hoodie-pullover-cat-ears-hooded-sweatshirt-shirt/303366378\n",
      "Entered Reviews\n",
      "Walmart Girls Reviews shape (295, 9)\n",
      "Running next link\n"
     ]
    },
    {
     "name": "stderr",
     "output_type": "stream",
     "text": [
      "[WDM] - Current google-chrome version is 86.0.4240\n",
      "[WDM] - Get LATEST driver version for 86.0.4240\n",
      "[WDM] - Driver [/Users/DataSci/.wdm/drivers/chromedriver/mac64/86.0.4240.22/chromedriver] found in cache\n"
     ]
    },
    {
     "name": "stdout",
     "output_type": "stream",
     "text": [
      " \n",
      "Getting https://www.walmart.com/ip/365-Kids-from-Garanimals-Girls-Ruffle-Sleeve-Long-Sleeve-Graphic-T-Shirt-Sizes-4-10/243762659\n",
      "Entered Reviews\n",
      "Walmart Girls Reviews shape (296, 9)\n",
      "Running next link\n"
     ]
    },
    {
     "name": "stderr",
     "output_type": "stream",
     "text": [
      "[WDM] - Current google-chrome version is 86.0.4240\n",
      "[WDM] - Get LATEST driver version for 86.0.4240\n",
      "[WDM] - Driver [/Users/DataSci/.wdm/drivers/chromedriver/mac64/86.0.4240.22/chromedriver] found in cache\n"
     ]
    },
    {
     "name": "stdout",
     "output_type": "stream",
     "text": [
      " \n",
      "Getting https://www.walmart.com/ip/Forever-Me-Girls-Floral-Crochet-Cozy-With-Fringe-Trim-Graphic-Tee-and-Knit-Denim-Legging-With-Floral-Crown-3-Piece-Outfit-Set-Size-4-12/408148167\n",
      "Entered Reviews\n",
      "Walmart Girls Reviews shape (297, 9)\n",
      "Running next link\n"
     ]
    },
    {
     "name": "stderr",
     "output_type": "stream",
     "text": [
      "[WDM] - Current google-chrome version is 86.0.4240\n",
      "[WDM] - Get LATEST driver version for 86.0.4240\n",
      "[WDM] - Driver [/Users/DataSci/.wdm/drivers/chromedriver/mac64/86.0.4240.22/chromedriver] found in cache\n"
     ]
    },
    {
     "name": "stdout",
     "output_type": "stream",
     "text": [
      " \n",
      "Getting https://www.walmart.com/ip/Nickelodeon-Jojo-Siwa-Star-Swirl-Scuff-Slipper-Little-Girls/550852591\n",
      "Entered Reviews\n",
      "Walmart Girls Reviews shape (298, 9)\n",
      "Running next link\n"
     ]
    },
    {
     "name": "stderr",
     "output_type": "stream",
     "text": [
      "[WDM] - Current google-chrome version is 86.0.4240\n",
      "[WDM] - Get LATEST driver version for 86.0.4240\n",
      "[WDM] - Driver [/Users/DataSci/.wdm/drivers/chromedriver/mac64/86.0.4240.22/chromedriver] found in cache\n"
     ]
    },
    {
     "name": "stdout",
     "output_type": "stream",
     "text": [
      " \n",
      "Getting https://www.walmart.com/ip/dELiA-s-Girls-Pajama-Set-2-Piece-Sizes-7-16/509024611\n",
      "Entered Reviews\n",
      "Walmart Girls Reviews shape (299, 9)\n",
      "Running next link\n"
     ]
    },
    {
     "name": "stderr",
     "output_type": "stream",
     "text": [
      "[WDM] - Current google-chrome version is 86.0.4240\n",
      "[WDM] - Get LATEST driver version for 86.0.4240\n",
      "[WDM] - Driver [/Users/DataSci/.wdm/drivers/chromedriver/mac64/86.0.4240.22/chromedriver] found in cache\n"
     ]
    },
    {
     "name": "stdout",
     "output_type": "stream",
     "text": [
      " \n",
      "Getting https://www.walmart.com/ip/Toddler-Kids-Baby-Girls-Outfit-Floral-Top-Blouse-Leggings-Long-Pants-Set-Clothes/907166873\n",
      "Entered Reviews\n",
      "Walmart Girls Reviews shape (300, 9)\n",
      "Running next link\n"
     ]
    },
    {
     "name": "stderr",
     "output_type": "stream",
     "text": [
      "[WDM] - Current google-chrome version is 86.0.4240\n",
      "[WDM] - Get LATEST driver version for 86.0.4240\n",
      "[WDM] - Driver [/Users/DataSci/.wdm/drivers/chromedriver/mac64/86.0.4240.22/chromedriver] found in cache\n"
     ]
    },
    {
     "name": "stdout",
     "output_type": "stream",
     "text": [
      " \n",
      "Getting https://www.walmart.com/ip/Child-of-Mine-by-Carter-s-Baby-Toddler-Girls-Long-Sleeve-Ruffle-Shirt-Leggings-2-Piece-Outfit-Set-Sizes-12M-5T/103441331\n",
      "Entered Reviews\n",
      "Walmart Girls Reviews shape (301, 9)\n",
      "Running next link\n"
     ]
    },
    {
     "name": "stderr",
     "output_type": "stream",
     "text": [
      "[WDM] - Current google-chrome version is 86.0.4240\n",
      "[WDM] - Get LATEST driver version for 86.0.4240\n",
      "[WDM] - Driver [/Users/DataSci/.wdm/drivers/chromedriver/mac64/86.0.4240.22/chromedriver] found in cache\n"
     ]
    },
    {
     "name": "stdout",
     "output_type": "stream",
     "text": [
      " \n",
      "Getting https://www.walmart.com/ip/Wonder-Nation-Girls-Plush-Full-Zip-Jacket-with-Hood-Sizes-4-18-Plus/843677734\n",
      "Entered Reviews\n",
      "Walmart Girls Reviews shape (302, 9)\n",
      "Running next link\n"
     ]
    },
    {
     "name": "stderr",
     "output_type": "stream",
     "text": [
      "[WDM] - Current google-chrome version is 86.0.4240\n",
      "[WDM] - Get LATEST driver version for 86.0.4240\n",
      "[WDM] - Driver [/Users/DataSci/.wdm/drivers/chromedriver/mac64/86.0.4240.22/chromedriver] found in cache\n"
     ]
    },
    {
     "name": "stdout",
     "output_type": "stream",
     "text": [
      " \n",
      "Getting https://www.walmart.com/ip/Wonder-Nation-Girls-Long-Sleeve-Tie-Dye-Waffle-Top-Sizes-4-18-Plus/271529465\n",
      "Entered Reviews\n",
      "Walmart Girls Reviews shape (303, 9)\n",
      "Running next link\n"
     ]
    }
   ],
   "source": [
    "search()"
   ]
  },
  {
   "cell_type": "code",
   "execution_count": null,
   "metadata": {},
   "outputs": [],
   "source": []
  }
 ],
 "metadata": {
  "kernelspec": {
   "display_name": "Learn-env",
   "language": "python",
   "name": "learn-env"
  },
  "language_info": {
   "codemirror_mode": {
    "name": "ipython",
    "version": 3
   },
   "file_extension": ".py",
   "mimetype": "text/x-python",
   "name": "python",
   "nbconvert_exporter": "python",
   "pygments_lexer": "ipython3",
   "version": "3.6.9"
  }
 },
 "nbformat": 4,
 "nbformat_minor": 4
}
